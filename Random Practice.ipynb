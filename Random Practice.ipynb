{
 "cells": [
  {
   "cell_type": "code",
   "execution_count": 2,
   "id": "ab20c754",
   "metadata": {},
   "outputs": [
    {
     "data": {
      "text/plain": [
       "97"
      ]
     },
     "execution_count": 2,
     "metadata": {},
     "output_type": "execute_result"
    }
   ],
   "source": [
    "ord('a')"
   ]
  },
  {
   "cell_type": "code",
   "execution_count": 3,
   "id": "7014fe8f",
   "metadata": {},
   "outputs": [
    {
     "data": {
      "text/plain": [
       "'a'"
      ]
     },
     "execution_count": 3,
     "metadata": {},
     "output_type": "execute_result"
    }
   ],
   "source": [
    "chr(97)"
   ]
  },
  {
   "cell_type": "code",
   "execution_count": 10,
   "id": "04d28bd8",
   "metadata": {},
   "outputs": [],
   "source": [
    "class Example:\n",
    "    \n",
    "    def ex_func(hi):\n",
    "        print('Hello it works')"
   ]
  },
  {
   "cell_type": "code",
   "execution_count": 11,
   "id": "a2de9fb8",
   "metadata": {},
   "outputs": [],
   "source": [
    "obj = Example()"
   ]
  },
  {
   "cell_type": "code",
   "execution_count": 12,
   "id": "46280c5c",
   "metadata": {},
   "outputs": [
    {
     "name": "stdout",
     "output_type": "stream",
     "text": [
      "Hello it works\n"
     ]
    }
   ],
   "source": [
    "obj.ex_func()"
   ]
  },
  {
   "cell_type": "code",
   "execution_count": 99,
   "id": "69a96e86",
   "metadata": {},
   "outputs": [],
   "source": [
    "def d2b(n):\n",
    "\n",
    "    if n != 1:\n",
    "        d2b(n//2)\n",
    "    print(n%2,end =' ')"
   ]
  },
  {
   "cell_type": "code",
   "execution_count": 100,
   "id": "72ac9c0b",
   "metadata": {},
   "outputs": [
    {
     "name": "stdout",
     "output_type": "stream",
     "text": [
      "1 0 0 0 1 "
     ]
    }
   ],
   "source": [
    "d2b(17)"
   ]
  },
  {
   "cell_type": "code",
   "execution_count": 101,
   "id": "114bfa5a",
   "metadata": {},
   "outputs": [
    {
     "name": "stdout",
     "output_type": "stream",
     "text": [
      "1 1 0 0 1 "
     ]
    }
   ],
   "source": [
    "d2b(25)"
   ]
  },
  {
   "cell_type": "code",
   "execution_count": 102,
   "id": "817fc465",
   "metadata": {},
   "outputs": [
    {
     "name": "stdout",
     "output_type": "stream",
     "text": [
      "1 1 1 1 1 0 1 "
     ]
    }
   ],
   "source": [
    "d2b(125)"
   ]
  },
  {
   "cell_type": "code",
   "execution_count": 83,
   "id": "c5f0a8d9",
   "metadata": {},
   "outputs": [],
   "source": [
    "def convertToBinary(n):\n",
    "    \n",
    "    if n > 1:\n",
    "        convertToBinary(n//2)\n",
    "    print(n % 2,end = '')"
   ]
  },
  {
   "cell_type": "code",
   "execution_count": 84,
   "id": "f38e3a39",
   "metadata": {},
   "outputs": [
    {
     "name": "stdout",
     "output_type": "stream",
     "text": [
      "1111101"
     ]
    }
   ],
   "source": [
    "convertToBinary(125)"
   ]
  },
  {
   "cell_type": "code",
   "execution_count": 127,
   "id": "003c62c1",
   "metadata": {},
   "outputs": [],
   "source": [
    "# using loop\n",
    "def DecToBinary(num):\n",
    "    \n",
    "    result = []\n",
    "    \n",
    "    while num != 0:\n",
    "        result.append(num % 2)\n",
    "        num = num//2\n",
    "        \n",
    "    for r in result[::-1]:\n",
    "        print(r,end=' ')"
   ]
  },
  {
   "cell_type": "code",
   "execution_count": 128,
   "id": "aa4eb171",
   "metadata": {},
   "outputs": [
    {
     "name": "stdout",
     "output_type": "stream",
     "text": [
      "1 1 1 1 1 0 1 "
     ]
    }
   ],
   "source": [
    "DecToBinary(125)"
   ]
  },
  {
   "cell_type": "code",
   "execution_count": 121,
   "id": "a29ccb76",
   "metadata": {},
   "outputs": [],
   "source": [
    "def convertBinary(num):\n",
    "    binaryArray = []\n",
    "    while num>0:\n",
    "        binaryArray.append(num%2)\n",
    "        num = num//2\n",
    "    for j in binaryArray[::-1]:\n",
    "        print(j, end=\"\")"
   ]
  },
  {
   "cell_type": "code",
   "execution_count": 122,
   "id": "8ed4488f",
   "metadata": {},
   "outputs": [
    {
     "name": "stdout",
     "output_type": "stream",
     "text": [
      "1111101"
     ]
    }
   ],
   "source": [
    "convertBinary(125)"
   ]
  },
  {
   "cell_type": "code",
   "execution_count": 123,
   "id": "f506940e",
   "metadata": {},
   "outputs": [
    {
     "data": {
      "text/plain": [
       "0"
      ]
     },
     "execution_count": 123,
     "metadata": {},
     "output_type": "execute_result"
    }
   ],
   "source": [
    "1//2"
   ]
  },
  {
   "cell_type": "code",
   "execution_count": 124,
   "id": "7cab74ab",
   "metadata": {},
   "outputs": [
    {
     "data": {
      "text/plain": [
       "1"
      ]
     },
     "execution_count": 124,
     "metadata": {},
     "output_type": "execute_result"
    }
   ],
   "source": [
    "2//2"
   ]
  },
  {
   "cell_type": "code",
   "execution_count": 140,
   "id": "224c9222",
   "metadata": {},
   "outputs": [],
   "source": [
    "def rev_arr1(arr):\n",
    "    \n",
    "    arr.reverse()\n",
    "    return arr"
   ]
  },
  {
   "cell_type": "code",
   "execution_count": 141,
   "id": "9aeea78f",
   "metadata": {},
   "outputs": [
    {
     "data": {
      "text/plain": [
       "[5, 0, 9, 8, 6, 5, 1]"
      ]
     },
     "execution_count": 141,
     "metadata": {},
     "output_type": "execute_result"
    }
   ],
   "source": [
    "rev_arr1([1,5,6,8,9,0,5])"
   ]
  },
  {
   "cell_type": "code",
   "execution_count": 142,
   "id": "cb7e7bd6",
   "metadata": {},
   "outputs": [],
   "source": [
    "def rev_arr2(arr):\n",
    "    \n",
    "    return arr[::-1]"
   ]
  },
  {
   "cell_type": "code",
   "execution_count": 143,
   "id": "0cdb63e4",
   "metadata": {},
   "outputs": [
    {
     "data": {
      "text/plain": [
       "[5, 0, 9, 8, 6, 5, 1]"
      ]
     },
     "execution_count": 143,
     "metadata": {},
     "output_type": "execute_result"
    }
   ],
   "source": [
    "rev_arr2([1,5,6,8,9,0,5])"
   ]
  },
  {
   "cell_type": "code",
   "execution_count": 148,
   "id": "93b9fa5f",
   "metadata": {},
   "outputs": [],
   "source": [
    "import timeit"
   ]
  },
  {
   "cell_type": "code",
   "execution_count": 151,
   "id": "ed5dda44",
   "metadata": {},
   "outputs": [],
   "source": [
    "stmt1 = '''rev_arr1([1,5,6,8,9,0,5])'''"
   ]
  },
  {
   "cell_type": "code",
   "execution_count": 152,
   "id": "dde8be8c",
   "metadata": {},
   "outputs": [],
   "source": [
    "setup1 = '''\n",
    "def rev_arr1(arr):\n",
    "    \n",
    "    arr.reverse()\n",
    "    return arr\n",
    "'''"
   ]
  },
  {
   "cell_type": "code",
   "execution_count": 153,
   "id": "f9f6746b",
   "metadata": {},
   "outputs": [
    {
     "data": {
      "text/plain": [
       "1.1500000255182385e-05"
      ]
     },
     "execution_count": 153,
     "metadata": {},
     "output_type": "execute_result"
    }
   ],
   "source": [
    "timeit.timeit(stmt1,setup1,number=100)"
   ]
  },
  {
   "cell_type": "code",
   "execution_count": 154,
   "id": "54a4ca5e",
   "metadata": {},
   "outputs": [],
   "source": [
    "stmt2 = '''\n",
    "rev_arr2([1,5,6,8,9,0,5])\n",
    "'''"
   ]
  },
  {
   "cell_type": "code",
   "execution_count": 157,
   "id": "c365bff1",
   "metadata": {},
   "outputs": [],
   "source": [
    "setup2 = '''\n",
    "def rev_arr2(arr):\n",
    "    \n",
    "    return arr[::-1]\n",
    "'''"
   ]
  },
  {
   "cell_type": "code",
   "execution_count": 158,
   "id": "638caba1",
   "metadata": {},
   "outputs": [
    {
     "data": {
      "text/plain": [
       "2.3099993995856494e-05"
      ]
     },
     "execution_count": 158,
     "metadata": {},
     "output_type": "execute_result"
    }
   ],
   "source": [
    "timeit.timeit(stmt2,setup2,number=100)"
   ]
  },
  {
   "cell_type": "code",
   "execution_count": 159,
   "id": "e8f61d5a",
   "metadata": {},
   "outputs": [],
   "source": [
    "d = {}"
   ]
  },
  {
   "cell_type": "code",
   "execution_count": 160,
   "id": "c433f573",
   "metadata": {},
   "outputs": [
    {
     "data": {
      "text/plain": [
       "dict"
      ]
     },
     "execution_count": 160,
     "metadata": {},
     "output_type": "execute_result"
    }
   ],
   "source": [
    "type(d)"
   ]
  }
 ],
 "metadata": {
  "kernelspec": {
   "display_name": "Python 3 (ipykernel)",
   "language": "python",
   "name": "python3"
  },
  "language_info": {
   "codemirror_mode": {
    "name": "ipython",
    "version": 3
   },
   "file_extension": ".py",
   "mimetype": "text/x-python",
   "name": "python",
   "nbconvert_exporter": "python",
   "pygments_lexer": "ipython3",
   "version": "3.10.9"
  }
 },
 "nbformat": 4,
 "nbformat_minor": 5
}
