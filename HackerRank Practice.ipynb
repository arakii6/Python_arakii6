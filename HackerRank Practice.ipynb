{
 "cells": [
  {
   "cell_type": "markdown",
   "id": "829d6524",
   "metadata": {},
   "source": [
    "### Diagonal Difference\n",
    "\n",
    "#### Given a square matrix, calculate the absolute difference between the sums of its diagonals."
   ]
  },
  {
   "cell_type": "code",
   "execution_count": 1,
   "id": "52be8c1b",
   "metadata": {},
   "outputs": [],
   "source": [
    "def diagonalDifference(arr):\n",
    "    left_diagonal = 0\n",
    "    right_diagonal = 0\n",
    "    n = len(arr)\n",
    "    \n",
    "    for i in range(n):\n",
    "        left_diagonal += arr[i][i]\n",
    "        right_diagonal += arr[i][n-1-i]\n",
    "    \n",
    "    return abs(left_diagonal - right_diagonal)"
   ]
  },
  {
   "cell_type": "code",
   "execution_count": 2,
   "id": "2d2bdbce",
   "metadata": {},
   "outputs": [
    {
     "data": {
      "text/plain": [
       "15"
      ]
     },
     "execution_count": 2,
     "metadata": {},
     "output_type": "execute_result"
    }
   ],
   "source": [
    "diagonalDifference([[11,2,4],[4,5,6],[10,8,-12]])"
   ]
  },
  {
   "cell_type": "markdown",
   "id": "2f9fce63",
   "metadata": {},
   "source": [
    "-----------------------------------"
   ]
  },
  {
   "cell_type": "markdown",
   "id": "6642d8a6",
   "metadata": {},
   "source": [
    "### PlusMinus\n",
    "\n",
    "#### Given an array of integers, calculate the ratios of its elements that are positive, negative, and zero. Print the decimal value of each fraction on a new line"
   ]
  },
  {
   "cell_type": "code",
   "execution_count": 3,
   "id": "0d4dcee7",
   "metadata": {},
   "outputs": [],
   "source": [
    "def plusMinus(arr):\n",
    "    plus_num = 0\n",
    "    neg_num = 0\n",
    "    zero = 0\n",
    "    n = len(arr)\n",
    "    \n",
    "    for i in range(n):\n",
    "        if arr[i]>0:\n",
    "            plus_num += 1\n",
    "        elif arr[i]<0:\n",
    "            neg_num += 1\n",
    "        else:\n",
    "            zero += 1\n",
    "            \n",
    "    print(plus_num/n)\n",
    "    print(neg_num/n)\n",
    "    print(zero/n)"
   ]
  },
  {
   "cell_type": "code",
   "execution_count": 4,
   "id": "1fd17af1",
   "metadata": {
    "scrolled": true
   },
   "outputs": [
    {
     "name": "stdout",
     "output_type": "stream",
     "text": [
      "0.5\n",
      "0.3333333333333333\n",
      "0.16666666666666666\n"
     ]
    }
   ],
   "source": [
    "plusMinus([-4, 3, -9, 0, 4, 1])"
   ]
  },
  {
   "cell_type": "markdown",
   "id": "24c56cbc",
   "metadata": {},
   "source": [
    "-----------------------------------"
   ]
  },
  {
   "cell_type": "markdown",
   "id": "97c164e1",
   "metadata": {},
   "source": [
    "### Mini-Max Sum"
   ]
  },
  {
   "cell_type": "code",
   "execution_count": 5,
   "id": "4bc97817",
   "metadata": {},
   "outputs": [],
   "source": [
    "def miniMaxSum(arr):\n",
    "    maxsum = sum(arr) - min(arr)\n",
    "    minsum = sum(arr) - max(arr)\n",
    "    print(minsum,maxsum)"
   ]
  },
  {
   "cell_type": "code",
   "execution_count": 6,
   "id": "0d852c15",
   "metadata": {},
   "outputs": [
    {
     "name": "stdout",
     "output_type": "stream",
     "text": [
      "16 24\n"
     ]
    }
   ],
   "source": [
    "miniMaxSum([1,3,5,7,9])"
   ]
  },
  {
   "cell_type": "markdown",
   "id": "c9e6a44a",
   "metadata": {},
   "source": [
    "-----------------------------------"
   ]
  },
  {
   "cell_type": "markdown",
   "id": "4183b153",
   "metadata": {},
   "source": [
    "### Birthday Cake Candles"
   ]
  },
  {
   "cell_type": "code",
   "execution_count": 7,
   "id": "06521435",
   "metadata": {},
   "outputs": [],
   "source": [
    "def birthdayCakeCandles(candles):\n",
    "    return candles.count(max(candles))"
   ]
  },
  {
   "cell_type": "code",
   "execution_count": 8,
   "id": "d9f81576",
   "metadata": {
    "scrolled": true
   },
   "outputs": [
    {
     "data": {
      "text/plain": [
       "2"
      ]
     },
     "execution_count": 8,
     "metadata": {},
     "output_type": "execute_result"
    }
   ],
   "source": [
    "birthdayCakeCandles([4,4,1,3])"
   ]
  },
  {
   "cell_type": "markdown",
   "id": "bf13d07b",
   "metadata": {},
   "source": [
    "-----------------------------------"
   ]
  },
  {
   "cell_type": "markdown",
   "id": "9dddaabf",
   "metadata": {},
   "source": [
    "### Grading Students\n",
    "\n"
   ]
  },
  {
   "cell_type": "code",
   "execution_count": 9,
   "id": "c55ada18",
   "metadata": {},
   "outputs": [],
   "source": [
    "def gradingStudents(grades):\n",
    "    for i in range(len(grades)):\n",
    "        if grades[i] >= 38 and (5 - grades[i] % 5) < 3:\n",
    "            grades[i] += (5 - grades[i] % 5)\n",
    "    return(grades)"
   ]
  },
  {
   "cell_type": "code",
   "execution_count": 10,
   "id": "079993d6",
   "metadata": {
    "scrolled": true
   },
   "outputs": [
    {
     "data": {
      "text/plain": [
       "[75, 67, 40, 33]"
      ]
     },
     "execution_count": 10,
     "metadata": {},
     "output_type": "execute_result"
    }
   ],
   "source": [
    "gradingStudents([73,67,38,33])"
   ]
  },
  {
   "cell_type": "code",
   "execution_count": 11,
   "id": "0a9dd9f2",
   "metadata": {},
   "outputs": [],
   "source": [
    "# More Readable Version\n",
    "\n",
    "def gradingStudents(grades):\n",
    "    for i in range(len(grades)):\n",
    "        if grades[i] >= 38:\n",
    "            # find the difference between the value of grade[i] and imediate next multiple of 5\n",
    "            mod = grades[i] % 5\n",
    "            dif = (5 - mod)\n",
    "            if dif < 3:\n",
    "                grades[i] += dif\n",
    "    return(grades)"
   ]
  },
  {
   "cell_type": "code",
   "execution_count": 12,
   "id": "5e89ed09",
   "metadata": {},
   "outputs": [
    {
     "data": {
      "text/plain": [
       "[75, 67, 40, 33]"
      ]
     },
     "execution_count": 12,
     "metadata": {},
     "output_type": "execute_result"
    }
   ],
   "source": [
    "gradingStudents([73,67,38,33])"
   ]
  },
  {
   "cell_type": "markdown",
   "id": "6e160836",
   "metadata": {},
   "source": [
    "-----------------------------------"
   ]
  },
  {
   "cell_type": "markdown",
   "id": "f064d548",
   "metadata": {},
   "source": [
    "### Apple and Orange"
   ]
  },
  {
   "cell_type": "code",
   "execution_count": 7,
   "id": "d87146d1",
   "metadata": {},
   "outputs": [],
   "source": [
    "\"\"\"\n",
    "s = starting point\n",
    "t = ending point\n",
    "\n",
    "a = location of apple tree\n",
    "b = location of orange tree\n",
    "\"\"\"\n",
    "def countApplesAndOranges(s, t, a, b, apples, oranges):\n",
    "    \n",
    "    total_a = 0\n",
    "    total_o = 0\n",
    "    \n",
    "    for apple in apples:\n",
    "        if a + apple >= s and a + apple <= t:\n",
    "            total_a += 1\n",
    "            \n",
    "    for orange in oranges:\n",
    "        if b + orange >= s and b + orange <= t:\n",
    "            total_o += 1\n",
    "    \n",
    "    print(total_a)\n",
    "    print(total_o)"
   ]
  },
  {
   "cell_type": "code",
   "execution_count": 8,
   "id": "87f96249",
   "metadata": {
    "scrolled": false
   },
   "outputs": [
    {
     "name": "stdout",
     "output_type": "stream",
     "text": [
      "1\n",
      "1\n"
     ]
    }
   ],
   "source": [
    "countApplesAndOranges(7,11,5,15,[-2,2,1],[5,-6])"
   ]
  },
  {
   "cell_type": "markdown",
   "id": "c030300d",
   "metadata": {},
   "source": [
    "-----------------------------------"
   ]
  },
  {
   "cell_type": "markdown",
   "id": "94e8e94f",
   "metadata": {},
   "source": [
    "### Between Two Sets\n",
    "\n",
    "\n",
    "#### There will be two arrays of integers. Determine all integers that satisfy the following two conditions:\n",
    "\n",
    "1. The elements of the first array are all factors of the integer being considered\n",
    "2. The integer being considered is a factor of all elements of the second array"
   ]
  },
  {
   "cell_type": "code",
   "execution_count": 15,
   "id": "62184fc2",
   "metadata": {},
   "outputs": [],
   "source": [
    "def getTotalX(a, b):\n",
    "    \n",
    "        result = 0\n",
    "        \n",
    "        for i in range(max(a),min(b)+1):\n",
    "            \n",
    "            isFactorMultiple = True\n",
    "            \n",
    "            for ele in a:\n",
    "                if i % ele != 0:\n",
    "                    isFactorMultiple = False\n",
    "                    break\n",
    "                    \n",
    "            for ele in b:\n",
    "                if ele % i != 0:\n",
    "                    isFactorMultiple = False\n",
    "                    break\n",
    "                    \n",
    "            if isFactorMultiple == True:\n",
    "                result += 1\n",
    "                            \n",
    "        return result"
   ]
  },
  {
   "cell_type": "code",
   "execution_count": 16,
   "id": "aa33dfe2",
   "metadata": {
    "scrolled": true
   },
   "outputs": [
    {
     "data": {
      "text/plain": [
       "2"
      ]
     },
     "execution_count": 16,
     "metadata": {},
     "output_type": "execute_result"
    }
   ],
   "source": [
    "getTotalX([2,6],[24,36])"
   ]
  },
  {
   "cell_type": "markdown",
   "id": "33c4e28d",
   "metadata": {},
   "source": [
    "-----------------------------------"
   ]
  },
  {
   "cell_type": "markdown",
   "id": "77944d18",
   "metadata": {},
   "source": [
    "### Breaking The Records"
   ]
  },
  {
   "cell_type": "code",
   "execution_count": 17,
   "id": "d460ba58",
   "metadata": {},
   "outputs": [],
   "source": [
    "def breakingRecords(scores):\n",
    "    \n",
    "    minimum = scores[0]\n",
    "    maximum = scores[0]\n",
    "    \n",
    "    max_count = 0\n",
    "    min_count = 0 \n",
    "    \n",
    "    \n",
    "    for i in range(1,len(scores)):\n",
    "        \n",
    "        if maximum < scores[i]:\n",
    "            maximum = scores[i]\n",
    "            max_count += 1\n",
    "        \n",
    "        elif minimum > scores[i]:\n",
    "            minimum = scores[i]\n",
    "            min_count +=1\n",
    "            \n",
    "    return max_count,min_count\n",
    "        "
   ]
  },
  {
   "cell_type": "code",
   "execution_count": 18,
   "id": "34b29713",
   "metadata": {},
   "outputs": [
    {
     "data": {
      "text/plain": [
       "(2, 4)"
      ]
     },
     "execution_count": 18,
     "metadata": {},
     "output_type": "execute_result"
    }
   ],
   "source": [
    "breakingRecords([10,5,20,20,4,5,2,25,1])"
   ]
  },
  {
   "cell_type": "markdown",
   "id": "dcc12b4f",
   "metadata": {},
   "source": [
    "-----------------------------------"
   ]
  },
  {
   "cell_type": "markdown",
   "id": "b605637d",
   "metadata": {},
   "source": [
    "### Divisible Sum Pairs"
   ]
  },
  {
   "cell_type": "code",
   "execution_count": 19,
   "id": "b7aa0955",
   "metadata": {},
   "outputs": [],
   "source": [
    "def divisibleSumPairs(n, k, ar):\n",
    "    \n",
    "    result = 0\n",
    "    \n",
    "    for i in range(n):\n",
    "        for j in range(i+1,n):\n",
    "            if (ar[i] + ar[j]) % k == 0:\n",
    "                result += 1\n",
    "                    \n",
    "        \n",
    "    return result "
   ]
  },
  {
   "cell_type": "code",
   "execution_count": 20,
   "id": "253571a8",
   "metadata": {},
   "outputs": [
    {
     "data": {
      "text/plain": [
       "5"
      ]
     },
     "execution_count": 20,
     "metadata": {},
     "output_type": "execute_result"
    }
   ],
   "source": [
    "divisibleSumPairs(6, 3, [1, 3, 2, 6, 1, 2])"
   ]
  },
  {
   "cell_type": "markdown",
   "id": "2924f219",
   "metadata": {},
   "source": [
    "-----------------------------------"
   ]
  },
  {
   "cell_type": "markdown",
   "id": "965bc822",
   "metadata": {},
   "source": [
    "### Migratory Birds"
   ]
  },
  {
   "cell_type": "code",
   "execution_count": 17,
   "id": "55477e2b",
   "metadata": {},
   "outputs": [],
   "source": [
    "\"\"\"\n",
    "Optimized Version\n",
    "\"\"\"\n",
    "def migratoryBirds(arr):\n",
    "    \n",
    "    l = [0] * len(arr)\n",
    "    \n",
    "    for i in range(len(arr)):\n",
    "        l[arr[i]] +=1\n",
    "    \n",
    "    return l.index(max(l))"
   ]
  },
  {
   "cell_type": "code",
   "execution_count": 18,
   "id": "48871b76",
   "metadata": {},
   "outputs": [
    {
     "data": {
      "text/plain": [
       "3"
      ]
     },
     "execution_count": 18,
     "metadata": {},
     "output_type": "execute_result"
    }
   ],
   "source": [
    "migratoryBirds([1,2,3,4,5,4,3,2,1,3,4])"
   ]
  },
  {
   "cell_type": "markdown",
   "id": "6489fe27",
   "metadata": {},
   "source": [
    "-----------------------------------"
   ]
  },
  {
   "cell_type": "markdown",
   "id": "7e67c872",
   "metadata": {},
   "source": [
    "### Bon-Appetit (Bill Division)"
   ]
  },
  {
   "cell_type": "code",
   "execution_count": 25,
   "id": "abc9cb54",
   "metadata": {},
   "outputs": [],
   "source": [
    "def bonAppetit(bill, k, b):\n",
    "    \n",
    "    Anna = (sum(bill)-bill[k])/2\n",
    "    \n",
    "    if Anna == b:\n",
    "        print('Bon Appetit')\n",
    "    else:\n",
    "        print(int(b-Anna))"
   ]
  },
  {
   "cell_type": "code",
   "execution_count": 26,
   "id": "901a98f1",
   "metadata": {},
   "outputs": [
    {
     "name": "stdout",
     "output_type": "stream",
     "text": [
      "5\n"
     ]
    }
   ],
   "source": [
    "bonAppetit([3,10,2,9],1,12)"
   ]
  },
  {
   "cell_type": "code",
   "execution_count": 27,
   "id": "67638e2b",
   "metadata": {},
   "outputs": [
    {
     "name": "stdout",
     "output_type": "stream",
     "text": [
      "Bon Appetit\n"
     ]
    }
   ],
   "source": [
    "bonAppetit([3,10,2,9],1,7)"
   ]
  },
  {
   "cell_type": "markdown",
   "id": "69274147",
   "metadata": {},
   "source": [
    "-----------------------------------"
   ]
  },
  {
   "cell_type": "markdown",
   "id": "9e060c11",
   "metadata": {},
   "source": [
    "### Sock Merchant (Sales by Match)"
   ]
  },
  {
   "cell_type": "code",
   "execution_count": 28,
   "id": "43ee479a",
   "metadata": {},
   "outputs": [],
   "source": [
    "def sockMerchant(n, ar):\n",
    "    \n",
    "    finding_pairs = []\n",
    "    \n",
    "    for i in range(n):\n",
    "        if ar.count(ar[i]) >= 2:\n",
    "            finding_pairs.append(ar[i])\n",
    "    \n",
    "    print(finding_pairs)\n",
    "    \n",
    "    for i in finding_pairs:\n",
    "        if finding_pairs.count(i) % 2 != 0:\n",
    "            finding_pairs.pop(finding_pairs.index(i))\n",
    "    \n",
    "    return int(len(finding_pairs)/2)"
   ]
  },
  {
   "cell_type": "code",
   "execution_count": 29,
   "id": "bb7bc6c3",
   "metadata": {},
   "outputs": [
    {
     "name": "stdout",
     "output_type": "stream",
     "text": [
      "[10, 20, 20, 10, 10, 10, 20]\n"
     ]
    },
    {
     "data": {
      "text/plain": [
       "3"
      ]
     },
     "execution_count": 29,
     "metadata": {},
     "output_type": "execute_result"
    }
   ],
   "source": [
    "sockMerchant(9, [10, 20, 20, 10, 10, 30, 50, 10, 20])"
   ]
  },
  {
   "cell_type": "markdown",
   "id": "eac23f22",
   "metadata": {},
   "source": [
    "-----------------------------------"
   ]
  },
  {
   "cell_type": "markdown",
   "id": "dcbd244f",
   "metadata": {},
   "source": [
    "### Counting Valleys\n"
   ]
  },
  {
   "cell_type": "code",
   "execution_count": 30,
   "id": "474c2e7c",
   "metadata": {},
   "outputs": [],
   "source": [
    "def countingValleys(steps, path):\n",
    "    \n",
    "    Sea_Level = 0\n",
    "    Valley = 0\n",
    "    \n",
    "    for i in path:\n",
    "        if i == 'U':\n",
    "            Sea_Level += 1\n",
    "        elif i == 'D':\n",
    "            Sea_Level -= 1\n",
    "    \n",
    "        if Sea_Level == 0 and i == 'U':\n",
    "            Valley += 1\n",
    "        \n",
    "    return Valley"
   ]
  },
  {
   "cell_type": "code",
   "execution_count": 31,
   "id": "8ee0c808",
   "metadata": {},
   "outputs": [
    {
     "data": {
      "text/plain": [
       "1"
      ]
     },
     "execution_count": 31,
     "metadata": {},
     "output_type": "execute_result"
    }
   ],
   "source": [
    "countingValleys(14,['U','D','D','D','U','D','U','U'])"
   ]
  },
  {
   "cell_type": "code",
   "execution_count": 32,
   "id": "cfc30c55",
   "metadata": {},
   "outputs": [
    {
     "data": {
      "text/plain": [
       "2"
      ]
     },
     "execution_count": 32,
     "metadata": {},
     "output_type": "execute_result"
    }
   ],
   "source": [
    "countingValleys(14,['U','D','D','D','U','D','U','U','U','D','D','D','U','U','U'])"
   ]
  },
  {
   "cell_type": "markdown",
   "id": "db82ace4",
   "metadata": {},
   "source": [
    "-----------------------------------"
   ]
  },
  {
   "cell_type": "markdown",
   "id": "41d6a122",
   "metadata": {},
   "source": [
    "### Electronics Shop"
   ]
  },
  {
   "cell_type": "code",
   "execution_count": 33,
   "id": "caf3238d",
   "metadata": {},
   "outputs": [],
   "source": [
    "def getMoneySpent(keyboards, drives, b):\n",
    "\n",
    "    total = []\n",
    "    \n",
    "    if min(keyboards) + min(drives) > b:\n",
    "        return -1\n",
    "    \n",
    "    else:\n",
    "        for k in keyboards:\n",
    "            for d in drives:\n",
    "                if k + d <= b:\n",
    "                    total.append(k+d)\n",
    "    \n",
    "    return max(total)"
   ]
  },
  {
   "cell_type": "code",
   "execution_count": 34,
   "id": "6f6a5932",
   "metadata": {},
   "outputs": [
    {
     "data": {
      "text/plain": [
       "9"
      ]
     },
     "execution_count": 34,
     "metadata": {},
     "output_type": "execute_result"
    }
   ],
   "source": [
    "getMoneySpent([3,1],[5,2,8],10)"
   ]
  },
  {
   "cell_type": "code",
   "execution_count": 35,
   "id": "83c22b93",
   "metadata": {},
   "outputs": [],
   "source": [
    "# Shorter Code\n",
    "\n",
    "def getMoneySpent(keyboards, drives, b):\n",
    "\n",
    "    total = -1\n",
    "    \n",
    "    for k in keyboards:\n",
    "            for d in drives:\n",
    "                if k + d <= b:\n",
    "                    total = max(k+d,total)\n",
    "    \n",
    "    return total"
   ]
  },
  {
   "cell_type": "code",
   "execution_count": 36,
   "id": "6a453c04",
   "metadata": {},
   "outputs": [
    {
     "data": {
      "text/plain": [
       "9"
      ]
     },
     "execution_count": 36,
     "metadata": {},
     "output_type": "execute_result"
    }
   ],
   "source": [
    "getMoneySpent([3,1],[5,2,8],10)"
   ]
  },
  {
   "cell_type": "markdown",
   "id": "204c01c1",
   "metadata": {},
   "source": [
    "-----------------------------------"
   ]
  },
  {
   "cell_type": "markdown",
   "id": "5b6c042d",
   "metadata": {},
   "source": [
    "### Picking Numbers"
   ]
  },
  {
   "cell_type": "code",
   "execution_count": 37,
   "id": "1f843ef8",
   "metadata": {},
   "outputs": [],
   "source": [
    "from collections import Counter\n",
    "\n",
    "# Solving using Dictionary\n",
    "def pickingNumbers(a):\n",
    "    \n",
    "    output = 0\n",
    "    d = Counter(a)\n",
    "    \n",
    "    for i in range(len(a)):\n",
    "        output = max(output,d[i]+d[i+1])\n",
    "        \n",
    "    return output"
   ]
  },
  {
   "cell_type": "code",
   "execution_count": 38,
   "id": "1d8b1c81",
   "metadata": {
    "scrolled": true
   },
   "outputs": [
    {
     "data": {
      "text/plain": [
       "5"
      ]
     },
     "execution_count": 38,
     "metadata": {},
     "output_type": "execute_result"
    }
   ],
   "source": [
    "pickingNumbers([1,2,2,3,1,2])"
   ]
  },
  {
   "cell_type": "code",
   "execution_count": 39,
   "id": "1f306039",
   "metadata": {},
   "outputs": [
    {
     "data": {
      "text/plain": [
       "3"
      ]
     },
     "execution_count": 39,
     "metadata": {},
     "output_type": "execute_result"
    }
   ],
   "source": [
    "pickingNumbers([4,6,5,3,3,1])"
   ]
  },
  {
   "cell_type": "markdown",
   "id": "b4ce5385",
   "metadata": {},
   "source": [
    "-----------------------------------"
   ]
  },
  {
   "cell_type": "markdown",
   "id": "50e679c4",
   "metadata": {},
   "source": [
    "### Climbing the Leaderboard"
   ]
  },
  {
   "cell_type": "code",
   "execution_count": 40,
   "id": "514617fa",
   "metadata": {},
   "outputs": [],
   "source": [
    "\"\"\"\n",
    "The code is correct but not optimized for large arrays, \n",
    "for example when length is equal to 1000 or more.\n",
    "\n",
    "The multiple appending,sorting and removing in a loop \n",
    "is not at all time friendly.\n",
    "\"\"\"\n",
    "\n",
    "def climbingLeaderboard(ranked, player):\n",
    "    \n",
    "    record = []\n",
    "    ranked = sorted(list(set(ranked)),reverse = True)\n",
    "    \n",
    "    for i in player:\n",
    "        ranked.append(i)\n",
    "        ranked = sorted(list(set(ranked)),reverse = True)\n",
    "        record.append(ranked.index(i)+1)\n",
    "        ranked.remove(i)\n",
    "    \n",
    "    return record"
   ]
  },
  {
   "cell_type": "code",
   "execution_count": 41,
   "id": "36b8d257",
   "metadata": {},
   "outputs": [
    {
     "data": {
      "text/plain": [
       "[6, 5, 4, 2, 1]"
      ]
     },
     "execution_count": 41,
     "metadata": {},
     "output_type": "execute_result"
    }
   ],
   "source": [
    "climbingLeaderboard([100,90,90,80,75,60],[50,65,77,90,102])"
   ]
  },
  {
   "cell_type": "code",
   "execution_count": 42,
   "id": "891e41d9",
   "metadata": {},
   "outputs": [
    {
     "data": {
      "text/plain": [
       "[6, 4, 2, 1]"
      ]
     },
     "execution_count": 42,
     "metadata": {},
     "output_type": "execute_result"
    }
   ],
   "source": [
    "climbingLeaderboard([100,100,50,40,40,20,10],[5,25,50,120])"
   ]
  },
  {
   "cell_type": "code",
   "execution_count": 43,
   "id": "5f2ad4a2",
   "metadata": {},
   "outputs": [],
   "source": [
    "# Optimized Code\n",
    "def climbingLeaderboard(ranked, player):\n",
    "    \n",
    "    record = []\n",
    "    ranked = sorted(list(set(ranked)),reverse = True)\n",
    "    player.sort(reverse = True)\n",
    "    j = 0\n",
    "    \n",
    "    for i in range(len(player)):\n",
    "        while j < len(ranked) and player[i] < ranked[j]:\n",
    "            j += 1\n",
    "        record.append(j+1)\n",
    "        \n",
    "    return record[::-1]"
   ]
  },
  {
   "cell_type": "code",
   "execution_count": 44,
   "id": "f9fcf7e9",
   "metadata": {},
   "outputs": [
    {
     "data": {
      "text/plain": [
       "[6, 5, 4, 2, 1]"
      ]
     },
     "execution_count": 44,
     "metadata": {},
     "output_type": "execute_result"
    }
   ],
   "source": [
    "climbingLeaderboard([100,90,90,80,75,60],[50,65,77,90,102])"
   ]
  },
  {
   "cell_type": "code",
   "execution_count": 45,
   "id": "30ac0087",
   "metadata": {},
   "outputs": [
    {
     "data": {
      "text/plain": [
       "[6, 4, 2, 1]"
      ]
     },
     "execution_count": 45,
     "metadata": {},
     "output_type": "execute_result"
    }
   ],
   "source": [
    "climbingLeaderboard([100,100,50,40,40,20,10],[5,25,50,120])"
   ]
  },
  {
   "cell_type": "markdown",
   "id": "d53954ec",
   "metadata": {},
   "source": [
    "-----------------------------------"
   ]
  },
  {
   "cell_type": "markdown",
   "id": "6637d5d5",
   "metadata": {},
   "source": [
    "### The Hurdle Race"
   ]
  },
  {
   "cell_type": "code",
   "execution_count": 46,
   "id": "9625f05f",
   "metadata": {},
   "outputs": [],
   "source": [
    "def hurdleRace(k, height):\n",
    "    \n",
    "    if k >= max(height):\n",
    "        return 0\n",
    "    \n",
    "    else:\n",
    "        return max(height) - k"
   ]
  },
  {
   "cell_type": "code",
   "execution_count": 47,
   "id": "38186c63",
   "metadata": {},
   "outputs": [
    {
     "data": {
      "text/plain": [
       "2"
      ]
     },
     "execution_count": 47,
     "metadata": {},
     "output_type": "execute_result"
    }
   ],
   "source": [
    "hurdleRace(4,[1,6,3,5,2])"
   ]
  },
  {
   "cell_type": "code",
   "execution_count": 48,
   "id": "d207eac7",
   "metadata": {},
   "outputs": [],
   "source": [
    "def hurdleRace(k, height):\n",
    "    \n",
    "    i = max(height)\n",
    "    \n",
    "    return max(i-k,0)"
   ]
  },
  {
   "cell_type": "code",
   "execution_count": 49,
   "id": "914a393e",
   "metadata": {},
   "outputs": [
    {
     "data": {
      "text/plain": [
       "2"
      ]
     },
     "execution_count": 49,
     "metadata": {},
     "output_type": "execute_result"
    }
   ],
   "source": [
    "hurdleRace(4,[1,6,3,5,2])"
   ]
  },
  {
   "cell_type": "markdown",
   "id": "a6d3f605",
   "metadata": {},
   "source": [
    "-----------------------------------"
   ]
  },
  {
   "cell_type": "markdown",
   "id": "68262c7b",
   "metadata": {},
   "source": [
    "### Designer PDF Viewer"
   ]
  },
  {
   "cell_type": "code",
   "execution_count": 50,
   "id": "f411a5ed",
   "metadata": {},
   "outputs": [],
   "source": [
    "def designerPdfViewer(h, word):\n",
    "    \n",
    "    result = []\n",
    "    \n",
    "    for l in word:\n",
    "        result.append(h[ord(l) - ord('a')])\n",
    "    \n",
    "    return max(result) * len(result)"
   ]
  },
  {
   "cell_type": "code",
   "execution_count": 51,
   "id": "f48f55c0",
   "metadata": {},
   "outputs": [
    {
     "data": {
      "text/plain": [
       "9"
      ]
     },
     "execution_count": 51,
     "metadata": {},
     "output_type": "execute_result"
    }
   ],
   "source": [
    "designerPdfViewer([1,3,1,3,1,4,1,3,2,5,5,5,5,5,5,5,5,5,5,5,5,5,5,5,5,5],'abc')"
   ]
  },
  {
   "cell_type": "code",
   "execution_count": 52,
   "id": "e81f6151",
   "metadata": {},
   "outputs": [],
   "source": [
    "def designerPdfViewer(h, word):\n",
    "    \n",
    "    result = 0\n",
    "    \n",
    "    for l in word:\n",
    "        result = max(result, h[ord(l) - ord('a')])\n",
    "    \n",
    "    return result * len(word)"
   ]
  },
  {
   "cell_type": "code",
   "execution_count": 53,
   "id": "aac19726",
   "metadata": {},
   "outputs": [
    {
     "data": {
      "text/plain": [
       "9"
      ]
     },
     "execution_count": 53,
     "metadata": {},
     "output_type": "execute_result"
    }
   ],
   "source": [
    "designerPdfViewer([1,3,1,3,1,4,1,3,2,5,5,5,5,5,5,5,5,5,5,5,5,5,5,5,5,5],'abc')"
   ]
  },
  {
   "cell_type": "markdown",
   "id": "35ada2f3",
   "metadata": {},
   "source": [
    "-----------------------------------"
   ]
  },
  {
   "cell_type": "markdown",
   "id": "c022025e",
   "metadata": {},
   "source": [
    "### Angry Professor"
   ]
  },
  {
   "cell_type": "code",
   "execution_count": 54,
   "id": "513416c9",
   "metadata": {},
   "outputs": [],
   "source": [
    "def angryProfessor(k, a):\n",
    "    \n",
    "    threshold = 0\n",
    "    \n",
    "    for i in a:\n",
    "        if i <= 0:\n",
    "            threshold += 1\n",
    "    \n",
    "    if threshold < k:\n",
    "        result = 'YES'\n",
    "    else:\n",
    "        result = 'NO'\n",
    "        \n",
    "    return result"
   ]
  },
  {
   "cell_type": "code",
   "execution_count": 55,
   "id": "b1fc8186",
   "metadata": {},
   "outputs": [
    {
     "data": {
      "text/plain": [
       "'YES'"
      ]
     },
     "execution_count": 55,
     "metadata": {},
     "output_type": "execute_result"
    }
   ],
   "source": [
    "angryProfessor(3,[-1,-3,4,2])"
   ]
  },
  {
   "cell_type": "code",
   "execution_count": 56,
   "id": "69b9ef85",
   "metadata": {},
   "outputs": [
    {
     "data": {
      "text/plain": [
       "'NO'"
      ]
     },
     "execution_count": 56,
     "metadata": {},
     "output_type": "execute_result"
    }
   ],
   "source": [
    "angryProfessor(2,[0,-1,2,1])"
   ]
  },
  {
   "cell_type": "markdown",
   "id": "0e623c2b",
   "metadata": {},
   "source": [
    "-----------------------------------"
   ]
  },
  {
   "cell_type": "markdown",
   "id": "f02f0dad",
   "metadata": {},
   "source": [
    "### Beautiful Days at the Movies"
   ]
  },
  {
   "cell_type": "code",
   "execution_count": 57,
   "id": "94cb372a",
   "metadata": {},
   "outputs": [],
   "source": [
    "def beautifulDays(i, j, k):\n",
    "    \n",
    "    count = 0\n",
    "    \n",
    "    for num in range(i,j+1):\n",
    "        if (num - int(str(num)[::-1])) % k == 0:\n",
    "            count += 1\n",
    "    \n",
    "    return count"
   ]
  },
  {
   "cell_type": "code",
   "execution_count": 58,
   "id": "2d20e3ea",
   "metadata": {},
   "outputs": [
    {
     "data": {
      "text/plain": [
       "2"
      ]
     },
     "execution_count": 58,
     "metadata": {},
     "output_type": "execute_result"
    }
   ],
   "source": [
    "beautifulDays(20,23,6)"
   ]
  },
  {
   "cell_type": "markdown",
   "id": "615b5724",
   "metadata": {},
   "source": [
    "-----------------------------------"
   ]
  },
  {
   "cell_type": "markdown",
   "id": "695dbb8a",
   "metadata": {},
   "source": [
    "### Save the Prisoner!"
   ]
  },
  {
   "cell_type": "code",
   "execution_count": 59,
   "id": "15053d77",
   "metadata": {},
   "outputs": [],
   "source": [
    "\"\"\"\n",
    "n: the number of prisoners\n",
    "m: the number of sweets\n",
    "s: the chair number to start passing out treats at\n",
    "\"\"\"\n",
    "\n",
    "def saveThePrisoner(n, m, s):\n",
    "    \n",
    "    warn = m % n\n",
    "    \n",
    "    if (warn + (s-1)) % n == 0:\n",
    "        return n\n",
    "    else:\n",
    "        return (warn + (s-1)) % n"
   ]
  },
  {
   "cell_type": "code",
   "execution_count": 60,
   "id": "8ae0d3b5",
   "metadata": {},
   "outputs": [
    {
     "data": {
      "text/plain": [
       "2"
      ]
     },
     "execution_count": 60,
     "metadata": {},
     "output_type": "execute_result"
    }
   ],
   "source": [
    "saveThePrisoner(5,2,1)"
   ]
  },
  {
   "cell_type": "code",
   "execution_count": 61,
   "id": "073320c1",
   "metadata": {},
   "outputs": [
    {
     "data": {
      "text/plain": [
       "3"
      ]
     },
     "execution_count": 61,
     "metadata": {},
     "output_type": "execute_result"
    }
   ],
   "source": [
    "saveThePrisoner(5,2,2)"
   ]
  },
  {
   "cell_type": "markdown",
   "id": "adb480c8",
   "metadata": {},
   "source": [
    "-----------------------------------"
   ]
  },
  {
   "cell_type": "markdown",
   "id": "febad678",
   "metadata": {},
   "source": [
    "### Circular Array Rotation"
   ]
  },
  {
   "cell_type": "code",
   "execution_count": 62,
   "id": "4d18f55e",
   "metadata": {},
   "outputs": [],
   "source": [
    "def circularArrayRotation(a, k, queries):\n",
    "    \n",
    "    result = []\n",
    "    n = len(a)\n",
    "        \n",
    "    for q in queries:\n",
    "        result.append(a[(n-k+q)%n])\n",
    "    \n",
    "    return result"
   ]
  },
  {
   "cell_type": "code",
   "execution_count": 63,
   "id": "332a9b12",
   "metadata": {},
   "outputs": [
    {
     "data": {
      "text/plain": [
       "[2, 3, 1]"
      ]
     },
     "execution_count": 63,
     "metadata": {},
     "output_type": "execute_result"
    }
   ],
   "source": [
    "circularArrayRotation([1,2,3],2,[0,1,2])"
   ]
  },
  {
   "cell_type": "markdown",
   "id": "32c1df6b",
   "metadata": {},
   "source": [
    "-----------------------------------"
   ]
  },
  {
   "cell_type": "markdown",
   "id": "a47de349",
   "metadata": {},
   "source": [
    "### Cut the sticks"
   ]
  },
  {
   "cell_type": "code",
   "execution_count": 64,
   "id": "85be838d",
   "metadata": {},
   "outputs": [],
   "source": [
    "def cutTheSticks(arr):\n",
    "    \n",
    "    after_cutting_sticks = []\n",
    "    after_discarding_short_sticks = []\n",
    "    sticks_cut = []\n",
    "    sticks_remaining = True\n",
    "    \n",
    "    while sticks_remaining:\n",
    "        \n",
    "        for i in arr:\n",
    "            cut = i - min(arr)\n",
    "            after_cutting_sticks.append(cut)\n",
    "        \n",
    "        print(f'After cutting the sticks: {after_cutting_sticks}')\n",
    "        print(f'Length: {len(after_cutting_sticks)}')\n",
    "        sticks_cut.append(len(arr))\n",
    "        m = min(after_cutting_sticks)\n",
    "        \n",
    "        if len(after_cutting_sticks)!= 0:\n",
    "            for j in after_cutting_sticks:\n",
    "                if j != m:\n",
    "                    after_discarding_short_sticks.append(j)\n",
    "    \n",
    "        \n",
    "        print(f'\\nAfter discarding short sticks: {after_discarding_short_sticks}')\n",
    "        arr = after_discarding_short_sticks\n",
    "        print(f'arr is: {arr}')\n",
    "        print(f'Length of arr is: {len(arr)}')\n",
    "        \n",
    "        after_cutting_sticks = []\n",
    "        after_discarding_short_sticks = []\n",
    "        \n",
    "        if len(arr) == 0:\n",
    "            sticks_remaining = False\n",
    "            break\n",
    "    \n",
    "    return sticks_cut"
   ]
  },
  {
   "cell_type": "code",
   "execution_count": 65,
   "id": "7b48affc",
   "metadata": {},
   "outputs": [],
   "source": [
    "\"\"\"\n",
    "Without Print Statements\n",
    "\"\"\"\n",
    "def cutTheSticks(arr):\n",
    "    \n",
    "    after_cutting_sticks = []\n",
    "    after_discarding_short_sticks = []\n",
    "    sticks_cut = []\n",
    "    sticks_remaining = True\n",
    "    \n",
    "    while sticks_remaining:\n",
    "        \n",
    "        for i in arr:\n",
    "            cut = i - min(arr)\n",
    "            after_cutting_sticks.append(cut)\n",
    "        \n",
    "        sticks_cut.append(len(arr))\n",
    "        m = min(after_cutting_sticks)\n",
    "        \n",
    "        if len(after_cutting_sticks)!= 0:\n",
    "            for j in after_cutting_sticks:\n",
    "                if j != m:\n",
    "                    after_discarding_short_sticks.append(j)\n",
    "                    \n",
    "        arr = after_discarding_short_sticks\n",
    "        after_cutting_sticks = []\n",
    "        after_discarding_short_sticks = []\n",
    "        \n",
    "        if len(arr) == 0:\n",
    "            sticks_remaining = False\n",
    "            break\n",
    "    \n",
    "    return sticks_cut"
   ]
  },
  {
   "cell_type": "code",
   "execution_count": 66,
   "id": "7d57762d",
   "metadata": {},
   "outputs": [
    {
     "data": {
      "text/plain": [
       "[8, 6, 4, 1]"
      ]
     },
     "execution_count": 66,
     "metadata": {},
     "output_type": "execute_result"
    }
   ],
   "source": [
    "cutTheSticks([1,2,3,4,3,3,2,1])"
   ]
  },
  {
   "cell_type": "code",
   "execution_count": 67,
   "id": "23fe7888",
   "metadata": {},
   "outputs": [
    {
     "data": {
      "text/plain": [
       "[6, 4, 2, 1]"
      ]
     },
     "execution_count": 67,
     "metadata": {},
     "output_type": "execute_result"
    }
   ],
   "source": [
    "cutTheSticks([5,4,4,2,2,8])"
   ]
  },
  {
   "cell_type": "code",
   "execution_count": 68,
   "id": "bb89e672",
   "metadata": {},
   "outputs": [],
   "source": [
    "# Shoter Code\n",
    "\n",
    "def cutTheSticks(arr):\n",
    "    s = Counter(arr)\n",
    "    #print(s)\n",
    "    #print(sorted(s.keys()))\n",
    "    n = len(arr)\n",
    "    res = []\n",
    "    \n",
    "    for i in sorted(s.keys()):\n",
    "        res.append(n)\n",
    "        #print(res)\n",
    "        #print(s[i])\n",
    "        n -= s[i]\n",
    "        #print(n)\n",
    "    \n",
    "    return res"
   ]
  },
  {
   "cell_type": "code",
   "execution_count": 69,
   "id": "d81d6de3",
   "metadata": {},
   "outputs": [
    {
     "data": {
      "text/plain": [
       "[8, 6, 4, 1]"
      ]
     },
     "execution_count": 69,
     "metadata": {},
     "output_type": "execute_result"
    }
   ],
   "source": [
    "cutTheSticks([1,2,3,4,3,3,2,1])"
   ]
  },
  {
   "cell_type": "code",
   "execution_count": 70,
   "id": "22a007f8",
   "metadata": {},
   "outputs": [
    {
     "data": {
      "text/plain": [
       "[6, 4, 2, 1]"
      ]
     },
     "execution_count": 70,
     "metadata": {},
     "output_type": "execute_result"
    }
   ],
   "source": [
    "cutTheSticks([5,4,4,2,2,8])"
   ]
  },
  {
   "cell_type": "markdown",
   "id": "b964aa7b",
   "metadata": {},
   "source": [
    "-----------------------------------"
   ]
  },
  {
   "cell_type": "markdown",
   "id": "21bdd7ae",
   "metadata": {},
   "source": [
    "### Equalize the Array\n"
   ]
  },
  {
   "cell_type": "code",
   "execution_count": 74,
   "id": "a3a2c8a0",
   "metadata": {},
   "outputs": [],
   "source": [
    "def equalizeArray(arr):\n",
    "    \n",
    "    count = []\n",
    "    \n",
    "    for i in arr:\n",
    "        count.append(arr.count(i))\n",
    "        \n",
    "    return len(arr) - max(count)"
   ]
  },
  {
   "cell_type": "code",
   "execution_count": 75,
   "id": "cb57f8f0",
   "metadata": {},
   "outputs": [
    {
     "data": {
      "text/plain": [
       "2"
      ]
     },
     "execution_count": 75,
     "metadata": {},
     "output_type": "execute_result"
    }
   ],
   "source": [
    "equalizeArray([3,3,2,1,3])"
   ]
  },
  {
   "cell_type": "code",
   "execution_count": 76,
   "id": "e5664b72",
   "metadata": {},
   "outputs": [
    {
     "data": {
      "text/plain": [
       "4"
      ]
     },
     "execution_count": 76,
     "metadata": {},
     "output_type": "execute_result"
    }
   ],
   "source": [
    "equalizeArray([1,2,3,1,2,3,3,3])"
   ]
  },
  {
   "cell_type": "code",
   "execution_count": 77,
   "id": "3422b6ee",
   "metadata": {},
   "outputs": [],
   "source": [
    "# Using Counter\n",
    "from collections import Counter\n",
    "\n",
    "def equalizeArray(arr):\n",
    "    \n",
    "    c = Counter(arr)\n",
    "    print (c)\n",
    "        \n",
    "    return len(arr) - max(c.values())"
   ]
  },
  {
   "cell_type": "code",
   "execution_count": 78,
   "id": "c1a3d999",
   "metadata": {},
   "outputs": [
    {
     "name": "stdout",
     "output_type": "stream",
     "text": [
      "Counter({3: 3, 2: 1, 1: 1})\n"
     ]
    },
    {
     "data": {
      "text/plain": [
       "2"
      ]
     },
     "execution_count": 78,
     "metadata": {},
     "output_type": "execute_result"
    }
   ],
   "source": [
    "equalizeArray([3,3,2,1,3])"
   ]
  },
  {
   "cell_type": "code",
   "execution_count": 79,
   "id": "417e0126",
   "metadata": {},
   "outputs": [
    {
     "name": "stdout",
     "output_type": "stream",
     "text": [
      "Counter({3: 4, 1: 2, 2: 2})\n"
     ]
    },
    {
     "data": {
      "text/plain": [
       "4"
      ]
     },
     "execution_count": 79,
     "metadata": {},
     "output_type": "execute_result"
    }
   ],
   "source": [
    "equalizeArray([1,2,3,1,2,3,3,3])"
   ]
  },
  {
   "cell_type": "markdown",
   "id": "8af43ba6",
   "metadata": {},
   "source": [
    "-----------------------------------"
   ]
  },
  {
   "cell_type": "markdown",
   "id": "22234dbb",
   "metadata": {},
   "source": [
    "### Beautiful Triplets"
   ]
  },
  {
   "cell_type": "code",
   "execution_count": 107,
   "id": "995b0187",
   "metadata": {},
   "outputs": [],
   "source": [
    "def beautifulTriplets(d, arr):\n",
    "    \n",
    "    count = 0\n",
    "    \n",
    "    for num in arr:\n",
    "        if num + d in arr and num + d + d in arr:\n",
    "            count += 1\n",
    "            \n",
    "    return count"
   ]
  },
  {
   "cell_type": "code",
   "execution_count": 108,
   "id": "2a839990",
   "metadata": {},
   "outputs": [
    {
     "name": "stdout",
     "output_type": "stream",
     "text": [
      "1\n",
      "2\n",
      "4\n"
     ]
    },
    {
     "data": {
      "text/plain": [
       "3"
      ]
     },
     "execution_count": 108,
     "metadata": {},
     "output_type": "execute_result"
    }
   ],
   "source": [
    "beautifulTriplets(3,[1,2,4,5,7,8,10])"
   ]
  },
  {
   "cell_type": "code",
   "execution_count": 106,
   "id": "7357e984",
   "metadata": {},
   "outputs": [
    {
     "name": "stdout",
     "output_type": "stream",
     "text": [
      "7\n",
      "7\n"
     ]
    },
    {
     "data": {
      "text/plain": [
       "2"
      ]
     },
     "execution_count": 106,
     "metadata": {},
     "output_type": "execute_result"
    }
   ],
   "source": [
    "beautifulTriplets(3,[1,6,7,7,8,10,12,13,14,19])"
   ]
  },
  {
   "cell_type": "markdown",
   "id": "d3b54505",
   "metadata": {},
   "source": [
    "-----------------------------------"
   ]
  },
  {
   "cell_type": "markdown",
   "id": "5bc188c6",
   "metadata": {},
   "source": [
    "### Non-Divisible Subset"
   ]
  },
  {
   "cell_type": "code",
   "execution_count": 110,
   "id": "47f918a4",
   "metadata": {},
   "outputs": [],
   "source": [
    "# WRONG CODE\n",
    "\n",
    "def nonDivisibleSubset(k, s):\n",
    "    \n",
    "    result = []\n",
    "    \n",
    "    \n",
    "    for i in s:\n",
    "        for j in range(1,len(s)):\n",
    "            if s.index(i) != s.index(s[j]):\n",
    "                if (i + s[j]) % k != 0:\n",
    "                    print(i,s[j])\n",
    "                    print(i + s[j])\n",
    "                    print('\\n')\n",
    "                    \n",
    "                    if i not in result:\n",
    "                        result.append(i)\n",
    "                    if s[j] not in result:\n",
    "                        result.append(s[j])\n",
    "    print(result)\n",
    "    return len(result)"
   ]
  },
  {
   "cell_type": "markdown",
   "id": "adb3f018",
   "metadata": {},
   "source": [
    "-----------------------------------"
   ]
  },
  {
   "cell_type": "markdown",
   "id": "c54fe099",
   "metadata": {},
   "source": [
    "### Library Fine"
   ]
  },
  {
   "cell_type": "code",
   "execution_count": 29,
   "id": "1b163f34",
   "metadata": {},
   "outputs": [],
   "source": [
    "# return date = d1, m1, y1\n",
    "# due date = d2, m2, y2\n",
    "\n",
    "def libraryFine(d1, m1, y1, d2, m2, y2):\n",
    "    \n",
    "    # Condition for 0 Fine:\n",
    "    \n",
    "    if y1 < y2:\n",
    "        return 0\n",
    "    \n",
    "    elif y2 == y1 and m1 < m2:\n",
    "        return 0\n",
    "    \n",
    "    elif m2 == m1 and y2 == y1 and d1 < d2:\n",
    "        return 0\n",
    "    \n",
    "    \n",
    "    \n",
    "    # Condition for Fine:\n",
    "    \n",
    "    # Day * 15\n",
    "    if m2 == m1 and y2 == y1:\n",
    "        return abs(d2 - d1)*15\n",
    "    \n",
    "    # Month * 3\n",
    "    elif m2 != m1 and y2 == y1:\n",
    "        return abs(m2 - m1)*500\n",
    "    \n",
    "    # Year = Flat 10000 Fine\n",
    "    elif y1 > y2:\n",
    "        return 10000"
   ]
  },
  {
   "cell_type": "code",
   "execution_count": 30,
   "id": "de077ee0",
   "metadata": {},
   "outputs": [],
   "source": [
    "# Shorter Logic\n",
    "\n",
    "def libraryFine(d1, m1, y1, d2, m2, y2):\n",
    "    \n",
    "    if m2 == m1 and y2 == y1 and d1 > d2:\n",
    "        return abs(d2 - d1)*15\n",
    "    \n",
    "    elif m1 > m2 and y2 == y1:\n",
    "        return abs(m2 - m1)*500\n",
    "    \n",
    "    elif y1 > y2:\n",
    "        return 10000\n",
    "    \n",
    "    else:\n",
    "        return 0"
   ]
  },
  {
   "cell_type": "markdown",
   "id": "e71f2495",
   "metadata": {},
   "source": [
    "-----------------------------------"
   ]
  },
  {
   "cell_type": "markdown",
   "id": "0763e64d",
   "metadata": {},
   "source": [
    "### Number Line Jumps"
   ]
  },
  {
   "cell_type": "code",
   "execution_count": 30,
   "id": "f35661a9",
   "metadata": {},
   "outputs": [],
   "source": [
    "def kangaroo(x1, v1, x2, v2):\n",
    "    \n",
    "    j1 = 0\n",
    "    j2 = 0\n",
    "    count = 0\n",
    "    \n",
    "    if v2 > v1:\n",
    "        return 'NO'\n",
    "    \n",
    "    else:\n",
    "        while x1 != x2:\n",
    "            \n",
    "            count+=1\n",
    "        \n",
    "            x1+=v1\n",
    "            j1+=1\n",
    "        \n",
    "            x2+=v2\n",
    "            j2+=1\n",
    "    \n",
    "            if x1 == x2 and j1 == j2:\n",
    "                #print(j1,j2)\n",
    "                return 'YES'\n",
    "                break\n",
    "        \n",
    "            elif x1 == x2 and j1 != j2:\n",
    "                return 'NO'\n",
    "                break\n",
    "                \n",
    "            elif count == 10000:\n",
    "                return 'NO'\n",
    "                break"
   ]
  },
  {
   "cell_type": "code",
   "execution_count": 31,
   "id": "9bf8dc3b",
   "metadata": {},
   "outputs": [
    {
     "data": {
      "text/plain": [
       "'YES'"
      ]
     },
     "execution_count": 31,
     "metadata": {},
     "output_type": "execute_result"
    }
   ],
   "source": [
    "kangaroo(0,3,4,2)"
   ]
  },
  {
   "cell_type": "code",
   "execution_count": 32,
   "id": "1e6fcbc5",
   "metadata": {},
   "outputs": [
    {
     "data": {
      "text/plain": [
       "'YES'"
      ]
     },
     "execution_count": 32,
     "metadata": {},
     "output_type": "execute_result"
    }
   ],
   "source": [
    "kangaroo(14,4,98,2)"
   ]
  },
  {
   "cell_type": "code",
   "execution_count": 23,
   "id": "8f2d004b",
   "metadata": {},
   "outputs": [],
   "source": [
    "# Logic\n",
    "'''\n",
    "For both kangaroos(K1,K2) to meet at same point after same number of jumps, the following conditions must be met:\n",
    "\n",
    "1. K1 must have bigger jumps(v1) then K2, or else K1 can't catch K2, i.e (v1 > v2).\n",
    "\n",
    "2. The difference between their jumps(v1,v2) must be a factor of the difference between there starting points(x1,x2),\n",
    "i.e (x2 - x1) % (v1 - v2) == 0\n",
    "\n",
    "If both these condtion satisfies then the kangaroos(K1,K2) will meet at a same point after same number of jumps.\n",
    "\n",
    "'''\n",
    "\n",
    "# Shorter Code\n",
    "def kangaroo(x1, v1, x2, v2):\n",
    "    \n",
    "    if v2 > v1 or (x2-x1) % (v1-v2) > 0:\n",
    "        return 'NO'\n",
    "    else:\n",
    "        return 'YES'"
   ]
  },
  {
   "cell_type": "code",
   "execution_count": 24,
   "id": "28320ac6",
   "metadata": {},
   "outputs": [
    {
     "data": {
      "text/plain": [
       "'YES'"
      ]
     },
     "execution_count": 24,
     "metadata": {},
     "output_type": "execute_result"
    }
   ],
   "source": [
    "kangaroo(0,3,4,2)"
   ]
  },
  {
   "cell_type": "code",
   "execution_count": 33,
   "id": "9b0d794c",
   "metadata": {},
   "outputs": [
    {
     "data": {
      "text/plain": [
       "'YES'"
      ]
     },
     "execution_count": 33,
     "metadata": {},
     "output_type": "execute_result"
    }
   ],
   "source": [
    "kangaroo(14,4,98,2)"
   ]
  },
  {
   "cell_type": "markdown",
   "id": "16a8d74e",
   "metadata": {},
   "source": [
    "-----------------------------------"
   ]
  },
  {
   "cell_type": "markdown",
   "id": "c2c858f4",
   "metadata": {},
   "source": [
    "### Day of the Programmer"
   ]
  },
  {
   "cell_type": "code",
   "execution_count": 12,
   "id": "550a0a8b",
   "metadata": {},
   "outputs": [],
   "source": [
    "def dayOfProgrammer(year):\n",
    "    \n",
    "    # Julian Calendar\n",
    "    if year <= 1917:\n",
    "        # If Leap Year\n",
    "        if year % 4 == 0:\n",
    "            return(\"12.09\" + f\".{year}\")\n",
    "        else:\n",
    "            return(\"13.09\" + f\".{year}\")\n",
    "            \n",
    "    # Year 1918\n",
    "    if year == 1918:\n",
    "        return(\"26.09.1918\")\n",
    "    \n",
    "    # Gregorian Calendar\n",
    "    if year >= 1919:\n",
    "        # If Leap Year\n",
    "        if year % 400 == 0 or (year % 4 == 0 and year % 100 !=0):\n",
    "            return(\"12.09\" + f\".{year}\")\n",
    "        else:\n",
    "            return(\"13.09\" + f\".{year}\")"
   ]
  },
  {
   "cell_type": "code",
   "execution_count": 13,
   "id": "f670a43f",
   "metadata": {},
   "outputs": [
    {
     "data": {
      "text/plain": [
       "'12.09.2016'"
      ]
     },
     "execution_count": 13,
     "metadata": {},
     "output_type": "execute_result"
    }
   ],
   "source": [
    "dayOfProgrammer(2016)"
   ]
  },
  {
   "cell_type": "markdown",
   "id": "e4a32b2a",
   "metadata": {},
   "source": [
    "-----------------------------------"
   ]
  },
  {
   "cell_type": "markdown",
   "id": "96444b82",
   "metadata": {},
   "source": [
    "### Sequence Equation"
   ]
  },
  {
   "cell_type": "code",
   "execution_count": 8,
   "id": "f38e51d5",
   "metadata": {},
   "outputs": [],
   "source": [
    "def permutationEquation(p):\n",
    "\n",
    "    result = []\n",
    "    \n",
    "    for x in range(1,len(p)+1):\n",
    "        for i in p: # unnecessary\n",
    "            if x == i: # unnecessary\n",
    "                y = p.index(i) + 1\n",
    "                z = p.index(y) + 1\n",
    "                result.append(z)\n",
    "                \n",
    "    return result"
   ]
  },
  {
   "cell_type": "code",
   "execution_count": 9,
   "id": "3c1e5624",
   "metadata": {},
   "outputs": [
    {
     "data": {
      "text/plain": [
       "[4, 2, 5, 1, 3]"
      ]
     },
     "execution_count": 9,
     "metadata": {},
     "output_type": "execute_result"
    }
   ],
   "source": [
    "permutationEquation([5,2,1,3,4])"
   ]
  },
  {
   "cell_type": "code",
   "execution_count": 10,
   "id": "f869d4ec",
   "metadata": {},
   "outputs": [],
   "source": [
    "# Shorter Code\n",
    "\n",
    "def permutationEquation(p):\n",
    "    \n",
    "    result = []\n",
    "    \n",
    "    for x in range(1,len(p)+1):\n",
    "        y = p.index(x) + 1\n",
    "        result.append(p.index(y) + 1)\n",
    "                \n",
    "    return result"
   ]
  },
  {
   "cell_type": "code",
   "execution_count": 11,
   "id": "1e5f4401",
   "metadata": {},
   "outputs": [
    {
     "data": {
      "text/plain": [
       "[4, 2, 5, 1, 3]"
      ]
     },
     "execution_count": 11,
     "metadata": {},
     "output_type": "execute_result"
    }
   ],
   "source": [
    "permutationEquation([5,2,1,3,4])"
   ]
  },
  {
   "cell_type": "markdown",
   "id": "db1fded1",
   "metadata": {},
   "source": [
    "-----------------------------------"
   ]
  },
  {
   "cell_type": "markdown",
   "id": "786c57e8",
   "metadata": {},
   "source": [
    "### Minimum Distances\n"
   ]
  },
  {
   "cell_type": "code",
   "execution_count": 61,
   "id": "a42ba473",
   "metadata": {},
   "outputs": [],
   "source": [
    "def minimumDistances(a):\n",
    "    \n",
    "    result = []\n",
    "    \n",
    "    for i in range(len(a)):\n",
    "        if a[i] in a[i+1:]:\n",
    "            for j in range(i+1,len(a)):\n",
    "                if a[i] == a[j]:\n",
    "                    result.append(abs(i-j))\n",
    "    \n",
    "    if len(result) > 0:\n",
    "        return(min(result))\n",
    "    else:\n",
    "        return -1"
   ]
  },
  {
   "cell_type": "code",
   "execution_count": 62,
   "id": "8590a057",
   "metadata": {},
   "outputs": [
    {
     "data": {
      "text/plain": [
       "3"
      ]
     },
     "execution_count": 62,
     "metadata": {},
     "output_type": "execute_result"
    }
   ],
   "source": [
    "minimumDistances([7,1,3,4,1,7])"
   ]
  },
  {
   "cell_type": "code",
   "execution_count": 70,
   "id": "4637d86c",
   "metadata": {},
   "outputs": [],
   "source": [
    "# Shorter code:\n",
    "\n",
    "def minimumDistances(a):\n",
    "    \n",
    "    result = []\n",
    "    \n",
    "    for i in range(len(a)):\n",
    "        for j in range(len(a)):\n",
    "            if a[i] == a[j] and abs(i-j) > 0:\n",
    "                result.append(abs(i-j))\n",
    "    \n",
    "    try:\n",
    "        return(min(result))\n",
    "    except:\n",
    "        return -1"
   ]
  },
  {
   "cell_type": "code",
   "execution_count": 71,
   "id": "bdd48648",
   "metadata": {},
   "outputs": [
    {
     "data": {
      "text/plain": [
       "3"
      ]
     },
     "execution_count": 71,
     "metadata": {},
     "output_type": "execute_result"
    }
   ],
   "source": [
    "minimumDistances([7,1,3,4,1,7])"
   ]
  },
  {
   "cell_type": "markdown",
   "id": "56471e95",
   "metadata": {},
   "source": [
    "-----------------------------------"
   ]
  },
  {
   "cell_type": "markdown",
   "id": "c7ef713c",
   "metadata": {},
   "source": [
    "### Jumping on the Clouds: Revisited"
   ]
  },
  {
   "cell_type": "code",
   "execution_count": 41,
   "id": "1745d2bc",
   "metadata": {},
   "outputs": [],
   "source": [
    "def jumpingOnClouds(c, k):\n",
    "    \n",
    "    e = 100\n",
    "    n = len(c)\n",
    "    i = (0+k)%n\n",
    "    print(i,c[i])\n",
    "    print('\\n')\n",
    "            \n",
    "    if c[i] == 0:\n",
    "        e -= 1   \n",
    "    else:\n",
    "        e -= 3\n",
    "        \n",
    "        \n",
    "    while i != 0:\n",
    "        i = (i+k)%n\n",
    "        print(i,c[i])\n",
    "        \n",
    "        if c[i] == 0:\n",
    "            e -= 1   \n",
    "        else:\n",
    "            e -= 3\n",
    "            \n",
    "    return e"
   ]
  },
  {
   "cell_type": "code",
   "execution_count": 42,
   "id": "68bb8e8c",
   "metadata": {},
   "outputs": [
    {
     "name": "stdout",
     "output_type": "stream",
     "text": [
      "2 1\n",
      "\n",
      "\n",
      "4 0\n",
      "6 1\n",
      "0 0\n"
     ]
    },
    {
     "data": {
      "text/plain": [
       "92"
      ]
     },
     "execution_count": 42,
     "metadata": {},
     "output_type": "execute_result"
    }
   ],
   "source": [
    "jumpingOnClouds([0,0,1,0,0,1,1,0],2)"
   ]
  },
  {
   "cell_type": "code",
   "execution_count": 43,
   "id": "8ceba734",
   "metadata": {
    "scrolled": false
   },
   "outputs": [
    {
     "name": "stdout",
     "output_type": "stream",
     "text": [
      "3 0\n",
      "\n",
      "\n",
      "6 0\n",
      "9 0\n",
      "2 1\n",
      "5 1\n",
      "8 0\n",
      "1 1\n",
      "4 1\n",
      "7 0\n",
      "0 1\n"
     ]
    },
    {
     "data": {
      "text/plain": [
       "80"
      ]
     },
     "execution_count": 43,
     "metadata": {},
     "output_type": "execute_result"
    }
   ],
   "source": [
    "jumpingOnClouds([1,1,1,0,1,1,0,0,0,0],3)"
   ]
  },
  {
   "cell_type": "markdown",
   "id": "7d9629ad",
   "metadata": {},
   "source": [
    "-----------------------------------"
   ]
  },
  {
   "cell_type": "markdown",
   "id": "d403f130",
   "metadata": {},
   "source": [
    "### Find Digits"
   ]
  },
  {
   "cell_type": "code",
   "execution_count": 5,
   "id": "a1f195b4",
   "metadata": {},
   "outputs": [],
   "source": [
    "def findDigits(n):\n",
    "    \n",
    "    x = str(n)\n",
    "    result = 0\n",
    "    \n",
    "    for i in x:\n",
    "        if int(i) != 0 and n % int(i) == 0:\n",
    "            result += 1\n",
    "    \n",
    "    return result"
   ]
  },
  {
   "cell_type": "code",
   "execution_count": 6,
   "id": "77178c13",
   "metadata": {
    "scrolled": true
   },
   "outputs": [
    {
     "data": {
      "text/plain": [
       "3"
      ]
     },
     "execution_count": 6,
     "metadata": {},
     "output_type": "execute_result"
    }
   ],
   "source": [
    "findDigits(124)"
   ]
  },
  {
   "cell_type": "markdown",
   "id": "62072fbf",
   "metadata": {},
   "source": [
    "-----------------------------------"
   ]
  },
  {
   "cell_type": "markdown",
   "id": "4e2dcc32",
   "metadata": {},
   "source": [
    "### 2D Arrays"
   ]
  },
  {
   "cell_type": "markdown",
   "id": "ecb12442",
   "metadata": {},
   "source": [
    "##### Breakdown"
   ]
  },
  {
   "cell_type": "code",
   "execution_count": 43,
   "id": "efaecfdb",
   "metadata": {},
   "outputs": [],
   "source": [
    "# 6x6 2D array\n",
    "\n",
    "[1,1,1,0,0,0]\n",
    "[0,1,0,0,0,0]\n",
    "[1,1,1,0,0,0]\n",
    "[0,0,2,4,4,0]\n",
    "[0,0,0,2,0,0]\n",
    "[0,0,1,2,4,0]\n",
    "\n",
    "\n",
    "# Proper format\n",
    "arr = [[1,1,1,0,0,0],[0,1,0,0,0,0],[1,1,1,0,0,0],[0,0,2,4,4,0],[0,0,0,2,0,0],[0,0,1,2,4,0]]"
   ]
  },
  {
   "cell_type": "code",
   "execution_count": 44,
   "id": "86d732f2",
   "metadata": {},
   "outputs": [
    {
     "name": "stdout",
     "output_type": "stream",
     "text": [
      "[1, 1, 1]\n",
      "    1\n",
      "[1, 1, 1]\n",
      "\n",
      "sum of hourglass is: 7\n"
     ]
    }
   ],
   "source": [
    "# Top Row\n",
    "print(arr[0][0:3])\n",
    "\n",
    "# Middle Row\n",
    "print(\"   \",arr[1][1])\n",
    "\n",
    "# Bottom Row\n",
    "print(arr[2][0:3])\n",
    "\n",
    "# Hourglass\n",
    "hg_sum = sum(arr[0][0:3]) + arr[1][1] + sum(arr[2][0:3])\n",
    "print(f'\\nsum of hourglass is: {hg_sum}')"
   ]
  },
  {
   "cell_type": "markdown",
   "id": "75bad15e",
   "metadata": {},
   "source": [
    "##### CODE:"
   ]
  },
  {
   "cell_type": "code",
   "execution_count": 45,
   "id": "39b0783f",
   "metadata": {
    "scrolled": false
   },
   "outputs": [
    {
     "name": "stdout",
     "output_type": "stream",
     "text": [
      "Sum of Top Row: [3, 2, 1, 0, 1, 1, 0, 0, 3, 2, 1, 0, 2, 6, 10, 8]\n",
      "Sum of Middle Row: [1, 0, 0, 0, 1, 1, 0, 0, 0, 2, 4, 4, 0, 0, 2, 0]\n",
      "Sum of Bottom Row: [3, 2, 1, 0, 2, 6, 10, 8, 0, 2, 2, 2, 1, 3, 7, 6]\n",
      "\n",
      "Sum of all the hourglasses in the given 6*6 matrix: [7, 4, 2, 0, 4, 8, 10, 8, 3, 6, 7, 6, 3, 9, 19, 14]\n",
      "\n",
      "The maximum value of a hourglass in the matrix: 19\n"
     ]
    }
   ],
   "source": [
    "# Top Row\n",
    "tr = []\n",
    "for i in range(4):\n",
    "    for j in range(4):\n",
    "        tr.append(sum(arr[i][j:3+j]))\n",
    "        \n",
    "# Middle Row\n",
    "mr = []\n",
    "for i in range(1,5):\n",
    "    for j in range(1,5):\n",
    "        mr.append(arr[i][j])\n",
    "\n",
    "# Bottom Row\n",
    "br = []\n",
    "for i in range(2,6):\n",
    "    for j in range(4):\n",
    "        br.append(sum(arr[i][j:3+j]))\n",
    "        \n",
    "print(f'Sum of Top Row: {tr}\\nSum of Middle Row: {mr}\\nSum of Bottom Row: {br}')\n",
    "\n",
    "# Hourglass\n",
    "hg = []\n",
    "for i in range(len(tr)):\n",
    "    hg.append(tr[i]+mr[i]+br[i])\n",
    "print(f'\\nSum of all the hourglasses in the given 6*6 matrix: {hg}')\n",
    "\n",
    "print(f'\\nThe maximum value of a hourglass in the matrix: {max(hg)}')"
   ]
  },
  {
   "cell_type": "markdown",
   "id": "a0b07f0f",
   "metadata": {},
   "source": [
    "##### Function:"
   ]
  },
  {
   "cell_type": "code",
   "execution_count": 1,
   "id": "5e0ac088",
   "metadata": {},
   "outputs": [],
   "source": [
    "def hourglassSum(arr):\n",
    "    \n",
    "    # Top Row\n",
    "    tr = []\n",
    "    for i in range(4):\n",
    "        for j in range(4):\n",
    "            tr.append(sum(arr[i][j:3+j]))\n",
    "            \n",
    "    # Middle Row\n",
    "    mr = []\n",
    "    for i in range(1,5):\n",
    "        for j in range(1,5):\n",
    "            mr.append(arr[i][j])\n",
    "\n",
    "    # Bottom Row\n",
    "    br = []\n",
    "    for i in range(2,6):\n",
    "        for j in range(4):\n",
    "            br.append(sum(arr[i][j:3+j]))\n",
    "            \n",
    "    # Hourglass\n",
    "    hg = []\n",
    "    for i in range(len(tr)):\n",
    "        hg.append(tr[i]+mr[i]+br[i])\n",
    "        \n",
    "    return max(hg)"
   ]
  },
  {
   "cell_type": "code",
   "execution_count": 2,
   "id": "38b8e112",
   "metadata": {},
   "outputs": [
    {
     "data": {
      "text/plain": [
       "19"
      ]
     },
     "execution_count": 2,
     "metadata": {},
     "output_type": "execute_result"
    }
   ],
   "source": [
    "hourglassSum([[1,1,1,0,0,0],[0,1,0,0,0,0],[1,1,1,0,0,0],[0,0,2,4,4,0],[0,0,0,2,0,0],[0,0,1,2,4,0]])"
   ]
  },
  {
   "cell_type": "markdown",
   "id": "379b07e7",
   "metadata": {},
   "source": [
    "-----------------------------------"
   ]
  },
  {
   "cell_type": "markdown",
   "id": "95c673bd",
   "metadata": {},
   "source": [
    "### Sherlock and Squares"
   ]
  },
  {
   "cell_type": "code",
   "execution_count": 24,
   "id": "41c4cc65",
   "metadata": {},
   "outputs": [],
   "source": [
    "import math\n",
    "\n",
    "def squares(a, b):\n",
    "    \n",
    "    result = 0\n",
    "    \n",
    "    for i in range(a,b+1):\n",
    "        if i % math.sqrt(i) == 0:\n",
    "            result += 1\n",
    "            \n",
    "    return result"
   ]
  },
  {
   "cell_type": "code",
   "execution_count": 25,
   "id": "88fb3e2b",
   "metadata": {},
   "outputs": [
    {
     "data": {
      "text/plain": [
       "3"
      ]
     },
     "execution_count": 25,
     "metadata": {},
     "output_type": "execute_result"
    }
   ],
   "source": [
    "squares(24,49)"
   ]
  },
  {
   "cell_type": "code",
   "execution_count": 26,
   "id": "4efbbfc3",
   "metadata": {},
   "outputs": [
    {
     "data": {
      "text/plain": [
       "12"
      ]
     },
     "execution_count": 26,
     "metadata": {},
     "output_type": "execute_result"
    }
   ],
   "source": [
    "squares(24,279)"
   ]
  },
  {
   "cell_type": "code",
   "execution_count": 27,
   "id": "cefae380",
   "metadata": {},
   "outputs": [],
   "source": [
    "# shorter code\n",
    "# Good for large set of test cases and large number ranges\n",
    "\n",
    "def squares(a, b):\n",
    "    \n",
    "    a = math.ceil(math.sqrt(a))\n",
    "    b = math.floor(math.sqrt(b))\n",
    "            \n",
    "    return (b-a)+1"
   ]
  },
  {
   "cell_type": "code",
   "execution_count": 28,
   "id": "a6a3d0eb",
   "metadata": {},
   "outputs": [
    {
     "data": {
      "text/plain": [
       "3"
      ]
     },
     "execution_count": 28,
     "metadata": {},
     "output_type": "execute_result"
    }
   ],
   "source": [
    "squares(24,49)"
   ]
  },
  {
   "cell_type": "code",
   "execution_count": 29,
   "id": "3f558e5c",
   "metadata": {},
   "outputs": [
    {
     "data": {
      "text/plain": [
       "12"
      ]
     },
     "execution_count": 29,
     "metadata": {},
     "output_type": "execute_result"
    }
   ],
   "source": [
    "squares(24,279)"
   ]
  },
  {
   "cell_type": "markdown",
   "id": "874fbe05",
   "metadata": {},
   "source": [
    "-----------------------------------"
   ]
  },
  {
   "cell_type": "markdown",
   "id": "735d630d",
   "metadata": {},
   "source": [
    "### Service Lane"
   ]
  },
  {
   "cell_type": "code",
   "execution_count": 37,
   "id": "83c20438",
   "metadata": {},
   "outputs": [],
   "source": [
    "def serviceLane(n,width,cases):\n",
    "    \n",
    "    result = []\n",
    "    \n",
    "    for i in cases:\n",
    "        result.append(min(width[i[0]:i[1]+1]))\n",
    "    \n",
    "    return result"
   ]
  },
  {
   "cell_type": "code",
   "execution_count": 38,
   "id": "0aa7cc26",
   "metadata": {
    "scrolled": true
   },
   "outputs": [
    {
     "data": {
      "text/plain": [
       "[1, 2, 3, 2, 1]"
      ]
     },
     "execution_count": 38,
     "metadata": {},
     "output_type": "execute_result"
    }
   ],
   "source": [
    "serviceLane(8,[2, 3, 1, 2, 3, 2, 3, 3],[[0, 3], [4, 6], [6, 7], [3, 5], [0, 7]])"
   ]
  },
  {
   "cell_type": "markdown",
   "id": "30c783dd",
   "metadata": {},
   "source": [
    "-----------------------------------"
   ]
  },
  {
   "cell_type": "markdown",
   "id": "383f34e0",
   "metadata": {},
   "source": [
    "### Sorting"
   ]
  },
  {
   "cell_type": "code",
   "execution_count": 45,
   "id": "54c11ba6",
   "metadata": {},
   "outputs": [],
   "source": [
    "n = 3\n",
    "a = [3,2,1]"
   ]
  },
  {
   "cell_type": "code",
   "execution_count": 46,
   "id": "4ce8c4d6",
   "metadata": {},
   "outputs": [
    {
     "name": "stdout",
     "output_type": "stream",
     "text": [
      "Array is sorted in 3 swaps.\n",
      "First Element: 1\n",
      "Last Element: 3\n"
     ]
    }
   ],
   "source": [
    "count = 0\n",
    "\n",
    "for j in range(n):\n",
    "    for i in range(n-1):\n",
    "        if a[i] > a[i+1]:\n",
    "            a[i],a[i+1] = a[i+1],a[i]\n",
    "            count += 1\n",
    "    \n",
    "print(f'Array is sorted in {count} swaps.')\n",
    "print(f'First Element: {a[0]}')\n",
    "print(f'Last Element: {a[-1]}')"
   ]
  },
  {
   "cell_type": "markdown",
   "id": "4dedbdd2",
   "metadata": {},
   "source": [
    "-----------------------------------"
   ]
  },
  {
   "cell_type": "markdown",
   "id": "33c60c96",
   "metadata": {},
   "source": [
    "### Queues and Stack - Palindrome"
   ]
  },
  {
   "cell_type": "code",
   "execution_count": 1,
   "id": "1e5aecc0",
   "metadata": {},
   "outputs": [],
   "source": [
    "import sys\n",
    "\n",
    "class Solution:\n",
    "    \n",
    "    def __init__(self,s='',stack = [],queue = []):\n",
    "        self.s = s\n",
    "        self.stack = stack\n",
    "        self.queue = queue\n",
    "    \n",
    "    def pushCharacter(self,ch):\n",
    "        self.stack.append(ch)\n",
    "        \n",
    "    def enqueueCharacter(self,ch):\n",
    "        self.queue.append(ch)\n",
    "        \n",
    "    def popCharacter(self):\n",
    "        char = self.stack.pop()\n",
    "        return char\n",
    "    \n",
    "    def dequeueCharacter(self):\n",
    "        char = self.queue.pop(0)\n",
    "        return char"
   ]
  },
  {
   "cell_type": "code",
   "execution_count": 2,
   "id": "811a76d3",
   "metadata": {},
   "outputs": [
    {
     "name": "stdout",
     "output_type": "stream",
     "text": [
      "racecar\n",
      "The word, racecar, is a palindrome.\n"
     ]
    }
   ],
   "source": [
    "# read the string s\n",
    "s=input()\n",
    "#Create the Solution class object\n",
    "obj=Solution()   \n",
    "\n",
    "l=len(s)\n",
    "# push/enqueue all the characters of string s to stack\n",
    "for i in range(l):\n",
    "    obj.pushCharacter(s[i])\n",
    "    obj.enqueueCharacter(s[i])\n",
    "    \n",
    "isPalindrome=True\n",
    "'''\n",
    "pop the top character from stack\n",
    "dequeue the first character from queue\n",
    "compare both the characters\n",
    "''' \n",
    "for i in range(l // 2):\n",
    "    if obj.popCharacter()!=obj.dequeueCharacter():\n",
    "        isPalindrome=False\n",
    "        break\n",
    "#finally print whether string s is palindrome or not.\n",
    "if isPalindrome:\n",
    "    print(\"The word, \"+s+\", is a palindrome.\")\n",
    "else:\n",
    "    print(\"The word, \"+s+\", is not a palindrome.\")   "
   ]
  },
  {
   "cell_type": "markdown",
   "id": "a37b2855",
   "metadata": {},
   "source": [
    "-----------------------------------"
   ]
  },
  {
   "cell_type": "markdown",
   "id": "cf35ff39",
   "metadata": {},
   "source": [
    "### Lisa's Workbook"
   ]
  },
  {
   "cell_type": "code",
   "execution_count": 115,
   "id": "9f1c5882",
   "metadata": {},
   "outputs": [],
   "source": [
    "def workbook(n, k, arr):\n",
    "    \n",
    "    # n = total number of chapters\n",
    "    # k = total number of problems per page\n",
    "    # arr = a list of number of problems per chapter\n",
    "    \n",
    "    special_problem = 0\n",
    "    page_number = 1\n",
    "    \n",
    "    for chapter in arr:\n",
    "        # chapter = number of problems per chapter\n",
    "        for problem_number in range(1,chapter+1):\n",
    "            if problem_number == page_number:\n",
    "                special_problem += 1 \n",
    "            if problem_number == chapter:\n",
    "                break\n",
    "            if problem_number % k == 0:\n",
    "                page_number += 1\n",
    "        page_number += 1\n",
    "                        \n",
    "    return special_problem"
   ]
  },
  {
   "cell_type": "code",
   "execution_count": 116,
   "id": "0dad10dc",
   "metadata": {
    "scrolled": true
   },
   "outputs": [
    {
     "data": {
      "text/plain": [
       "4"
      ]
     },
     "execution_count": 116,
     "metadata": {},
     "output_type": "execute_result"
    }
   ],
   "source": [
    "workbook(5,3,[4, 2, 6, 1, 10])"
   ]
  },
  {
   "cell_type": "markdown",
   "id": "934e6f81",
   "metadata": {},
   "source": [
    "-----------------------------------"
   ]
  },
  {
   "cell_type": "markdown",
   "id": "fca092b5",
   "metadata": {},
   "source": [
    "### Append and Delete"
   ]
  },
  {
   "cell_type": "code",
   "execution_count": 45,
   "id": "6aa5954c",
   "metadata": {},
   "outputs": [],
   "source": [
    "def appendAndDelete(s, t, k):\n",
    "    \n",
    "    x = min(len(s),len(t))\n",
    "    \n",
    "    for i in range(len(t)+1):\n",
    "        if s[:i] != t[:i]:\n",
    "            x = i - 1\n",
    "            break\n",
    "    \n",
    "    diff = len(s) - x + len(t) - x\n",
    "    \n",
    "    if k >= diff and k % 2 == diff % 2 or k >= len(s) + len(t):\n",
    "        return 'Yes'\n",
    "    else:\n",
    "        return 'No'"
   ]
  },
  {
   "cell_type": "code",
   "execution_count": 46,
   "id": "44c11a5b",
   "metadata": {
    "scrolled": true
   },
   "outputs": [
    {
     "data": {
      "text/plain": [
       "'Yes'"
      ]
     },
     "execution_count": 46,
     "metadata": {},
     "output_type": "execute_result"
    }
   ],
   "source": [
    "appendAndDelete('hackerhappy','hackerrank',9)"
   ]
  },
  {
   "cell_type": "code",
   "execution_count": 47,
   "id": "2aad8be2",
   "metadata": {},
   "outputs": [
    {
     "data": {
      "text/plain": [
       "'Yes'"
      ]
     },
     "execution_count": 47,
     "metadata": {},
     "output_type": "execute_result"
    }
   ],
   "source": [
    "appendAndDelete('aba','aba',7)"
   ]
  },
  {
   "cell_type": "code",
   "execution_count": 48,
   "id": "596b9ea2",
   "metadata": {},
   "outputs": [
    {
     "data": {
      "text/plain": [
       "'No'"
      ]
     },
     "execution_count": 48,
     "metadata": {},
     "output_type": "execute_result"
    }
   ],
   "source": [
    "appendAndDelete('ashley','ash',2)"
   ]
  },
  {
   "cell_type": "markdown",
   "id": "07e3ed68",
   "metadata": {},
   "source": [
    "-------------"
   ]
  },
  {
   "cell_type": "markdown",
   "id": "2452e824",
   "metadata": {},
   "source": [
    "### Chocolate Feast"
   ]
  },
  {
   "cell_type": "code",
   "execution_count": 33,
   "id": "592f5909",
   "metadata": {},
   "outputs": [],
   "source": [
    "def chocolateFeast(n, c, m):\n",
    "\n",
    "    total_bars = wrappers = n//c\n",
    "    \n",
    "    # if number of wrappers is less than wrappers required for a free bar, the feast has to end.\n",
    "    while wrappers >= m:\n",
    "        new_bars = wrappers // m\n",
    "        wrappers = wrappers % m + new_bars\n",
    "        total_bars += new_bars\n",
    "        \n",
    "    return total_bars"
   ]
  },
  {
   "cell_type": "code",
   "execution_count": 34,
   "id": "e484be9f",
   "metadata": {},
   "outputs": [
    {
     "data": {
      "text/plain": [
       "6"
      ]
     },
     "execution_count": 34,
     "metadata": {},
     "output_type": "execute_result"
    }
   ],
   "source": [
    "chocolateFeast(10,2,5)"
   ]
  },
  {
   "cell_type": "code",
   "execution_count": 35,
   "id": "35357296",
   "metadata": {},
   "outputs": [
    {
     "data": {
      "text/plain": [
       "9"
      ]
     },
     "execution_count": 35,
     "metadata": {},
     "output_type": "execute_result"
    }
   ],
   "source": [
    "chocolateFeast(15,3,2)"
   ]
  },
  {
   "cell_type": "markdown",
   "id": "37d93b6a",
   "metadata": {},
   "source": [
    "---"
   ]
  },
  {
   "cell_type": "markdown",
   "id": "d20ae239",
   "metadata": {},
   "source": [
    "### The Love-Letter Mystery"
   ]
  },
  {
   "cell_type": "code",
   "execution_count": 47,
   "id": "e05dd801",
   "metadata": {},
   "outputs": [],
   "source": [
    "def theLoveLetterMystery(s):\n",
    "    \n",
    "    count = 0\n",
    "    \n",
    "    for i in range(len(s)//2):\n",
    "        count += abs(ord(s[i]) - ord(s[len(s) - 1 - i]))\n",
    "    \n",
    "    return count"
   ]
  },
  {
   "cell_type": "code",
   "execution_count": 48,
   "id": "98281170",
   "metadata": {
    "scrolled": true
   },
   "outputs": [
    {
     "data": {
      "text/plain": [
       "4"
      ]
     },
     "execution_count": 48,
     "metadata": {},
     "output_type": "execute_result"
    }
   ],
   "source": [
    "theLoveLetterMystery('abcd')"
   ]
  },
  {
   "cell_type": "markdown",
   "id": "d3266e55",
   "metadata": {},
   "source": [
    "### Decimal to Binary"
   ]
  },
  {
   "cell_type": "code",
   "execution_count": 14,
   "id": "c68e47c4",
   "metadata": {},
   "outputs": [],
   "source": [
    "def db(num):\n",
    "    \n",
    "    result = []\n",
    "    \n",
    "    while num != 0:\n",
    "        result.append(num % 2)\n",
    "        num = num//2\n",
    "        \n",
    "    for r in result[::-1]:\n",
    "        print(r,end=' ')"
   ]
  },
  {
   "cell_type": "code",
   "execution_count": 15,
   "id": "e9217e45",
   "metadata": {},
   "outputs": [
    {
     "name": "stdout",
     "output_type": "stream",
     "text": [
      "1 0 0 0 1 "
     ]
    }
   ],
   "source": [
    "db(17)"
   ]
  },
  {
   "cell_type": "code",
   "execution_count": 16,
   "id": "bc7ba644",
   "metadata": {
    "scrolled": true
   },
   "outputs": [
    {
     "name": "stdout",
     "output_type": "stream",
     "text": [
      "1 1 1 1 1 0 1 "
     ]
    }
   ],
   "source": [
    "db(125)"
   ]
  },
  {
   "cell_type": "markdown",
   "id": "95d1792a",
   "metadata": {},
   "source": [
    "------------"
   ]
  },
  {
   "cell_type": "markdown",
   "id": "ba85b497",
   "metadata": {},
   "source": [
    "### Gemstones"
   ]
  },
  {
   "cell_type": "code",
   "execution_count": 31,
   "id": "28e5d48b",
   "metadata": {},
   "outputs": [],
   "source": [
    "def gemstones(arr):\n",
    "    \n",
    "    # Using Intersection() in Sets\n",
    "    x = set(arr[0])\n",
    "\n",
    "    for i in range(1,len(arr)):\n",
    "        x = x.intersection(set(arr[i]))\n",
    "        \n",
    "    return(len(x))"
   ]
  },
  {
   "cell_type": "code",
   "execution_count": 32,
   "id": "0a8bd861",
   "metadata": {},
   "outputs": [
    {
     "data": {
      "text/plain": [
       "2"
      ]
     },
     "execution_count": 32,
     "metadata": {},
     "output_type": "execute_result"
    }
   ],
   "source": [
    "gemstones(['abcdde', 'baccd', 'eeabg'])"
   ]
  },
  {
   "cell_type": "markdown",
   "id": "0af26d5d",
   "metadata": {},
   "source": [
    "-----------"
   ]
  },
  {
   "cell_type": "markdown",
   "id": "a2fb9af0",
   "metadata": {},
   "source": [
    "### Dynamic Array"
   ]
  },
  {
   "cell_type": "code",
   "execution_count": 154,
   "id": "e99ea7e7",
   "metadata": {},
   "outputs": [],
   "source": [
    "def dynamicArray(n, queries):\n",
    "    \n",
    "    # Here we use List Comprehension instead of writing arr = [[]]*n\n",
    "    arr = [[] for i in range(n)]\n",
    "    lastAnswer = 0\n",
    "    result = []\n",
    "    \n",
    "    for q in queries:\n",
    "        if q[0] == 1:\n",
    "            index = (q[1] ^ lastAnswer) % n\n",
    "            arr[index].append(q[2])\n",
    "            \n",
    "        else:\n",
    "            index = ((q[1] ^ lastAnswer) % n)\n",
    "            index_of_internal_list = q[2] % len(arr[index % n])\n",
    "            \n",
    "            lastAnswer = arr[index][index_of_internal_list]\n",
    "            result.append(lastAnswer)\n",
    "            \n",
    "    return result"
   ]
  },
  {
   "cell_type": "code",
   "execution_count": 155,
   "id": "d287b837",
   "metadata": {},
   "outputs": [
    {
     "data": {
      "text/plain": [
       "[7, 3]"
      ]
     },
     "execution_count": 155,
     "metadata": {},
     "output_type": "execute_result"
    }
   ],
   "source": [
    "dynamicArray(2, [[1,0,5],[1,1,7],[1,0,3],[2,1,0],[2,1,1]])"
   ]
  },
  {
   "cell_type": "markdown",
   "id": "98d3f135",
   "metadata": {},
   "source": [
    "--------"
   ]
  },
  {
   "cell_type": "markdown",
   "id": "b163e9d6",
   "metadata": {},
   "source": [
    "### Left Rotation"
   ]
  },
  {
   "cell_type": "code",
   "execution_count": 11,
   "id": "c8d3dd87",
   "metadata": {},
   "outputs": [],
   "source": [
    "def rotateLeft(d, arr):\n",
    "    \n",
    "    for i in range(d):\n",
    "        c = arr.pop(0)\n",
    "        arr.append(c)\n",
    "        \n",
    "    return arr"
   ]
  },
  {
   "cell_type": "code",
   "execution_count": 12,
   "id": "f569e8fe",
   "metadata": {},
   "outputs": [
    {
     "data": {
      "text/plain": [
       "[5, 1, 2, 3, 4]"
      ]
     },
     "execution_count": 12,
     "metadata": {},
     "output_type": "execute_result"
    }
   ],
   "source": [
    "rotateLeft(4,[1,2,3,4,5])"
   ]
  },
  {
   "cell_type": "code",
   "execution_count": 10,
   "id": "49b83b4e",
   "metadata": {},
   "outputs": [],
   "source": [
    "# Better Solution\n",
    "def rotateLeft(d, arr):\n",
    "    \n",
    "    r = d % len(arr)\n",
    "    return arr[r:] + arr[:r]"
   ]
  },
  {
   "cell_type": "code",
   "execution_count": null,
   "id": "77efa26e",
   "metadata": {},
   "outputs": [],
   "source": [
    "rotateLeft(4,[1,2,3,4,5])"
   ]
  },
  {
   "cell_type": "markdown",
   "id": "56d01199",
   "metadata": {},
   "source": [
    "---"
   ]
  },
  {
   "cell_type": "markdown",
   "id": "4849410c",
   "metadata": {},
   "source": [
    "### Sparse Arrays"
   ]
  },
  {
   "cell_type": "code",
   "execution_count": 26,
   "id": "189a8efa",
   "metadata": {},
   "outputs": [],
   "source": [
    "def matchingStrings(stringList, queries):\n",
    "    \n",
    "    result = []\n",
    "    \n",
    "    for q in queries:\n",
    "        if q in stringList:\n",
    "            result.append(stringList.count(q))\n",
    "        else:\n",
    "            result.append(0)            \n",
    "        \n",
    "    return result"
   ]
  },
  {
   "cell_type": "code",
   "execution_count": 27,
   "id": "c2d35727",
   "metadata": {},
   "outputs": [
    {
     "data": {
      "text/plain": [
       "[2, 1, 0]"
      ]
     },
     "execution_count": 27,
     "metadata": {},
     "output_type": "execute_result"
    }
   ],
   "source": [
    "matchingStrings(['ab','ab','abc'],['ab','abc','bc'])"
   ]
  },
  {
   "cell_type": "markdown",
   "id": "c72e6074",
   "metadata": {},
   "source": [
    "----------"
   ]
  },
  {
   "cell_type": "markdown",
   "id": "6394f220",
   "metadata": {},
   "source": [
    "### Game of Thrones - I"
   ]
  },
  {
   "cell_type": "code",
   "execution_count": 81,
   "id": "90abd895",
   "metadata": {},
   "outputs": [],
   "source": [
    "from collections import Counter\n",
    "def gameOfThrones(s):\n",
    "    \n",
    "    s = Counter(s)\n",
    "    Odd_count = 0\n",
    "\n",
    "    for i in s.keys():\n",
    "        if s[i] % 2 != 0:\n",
    "            Odd_count += 1\n",
    "\n",
    "    if Odd_count <= 1:\n",
    "        return 'YES'\n",
    "    else:\n",
    "        return 'NO'"
   ]
  },
  {
   "cell_type": "code",
   "execution_count": 82,
   "id": "d5886764",
   "metadata": {},
   "outputs": [
    {
     "data": {
      "text/plain": [
       "'NO'"
      ]
     },
     "execution_count": 82,
     "metadata": {},
     "output_type": "execute_result"
    }
   ],
   "source": [
    "gameOfThrones('cdefghmnopqrstuvw')"
   ]
  },
  {
   "cell_type": "markdown",
   "id": "9cd75fe7",
   "metadata": {},
   "source": [
    "------------"
   ]
  },
  {
   "cell_type": "markdown",
   "id": "d93c7743",
   "metadata": {},
   "source": [
    "### Anagram"
   ]
  },
  {
   "cell_type": "code",
   "execution_count": 170,
   "id": "de16f742",
   "metadata": {},
   "outputs": [],
   "source": [
    "from collections import Counter\n",
    "def anagram(s):\n",
    "    \n",
    "    if len(s) % 2 == 1:\n",
    "        return -1\n",
    "    \n",
    "    else:\n",
    "        x = len(s)//2\n",
    "        s = Counter(s[x:]) - Counter(s[:x])\n",
    "        \n",
    "    return sum(s.values())"
   ]
  },
  {
   "cell_type": "code",
   "execution_count": 171,
   "id": "213fe484",
   "metadata": {},
   "outputs": [
    {
     "data": {
      "text/plain": [
       "10"
      ]
     },
     "execution_count": 171,
     "metadata": {},
     "output_type": "execute_result"
    }
   ],
   "source": [
    "anagram('hhpddlnnsjfoyxpciioigvjqzfbpllssuj')"
   ]
  },
  {
   "cell_type": "markdown",
   "id": "6638dbec",
   "metadata": {},
   "source": [
    "-----"
   ]
  },
  {
   "cell_type": "markdown",
   "id": "69936564",
   "metadata": {},
   "source": [
    "### Max Min"
   ]
  },
  {
   "cell_type": "code",
   "execution_count": 52,
   "id": "1f161263",
   "metadata": {},
   "outputs": [],
   "source": [
    "def maxMin(k, arr):\n",
    "    \n",
    "    arr.sort()\n",
    "    i = 0\n",
    "    j = k - 1\n",
    "    m = arr[-1]\n",
    "    \n",
    "    while j < len(arr):\n",
    "        \n",
    "        m = min(m,(arr[j]-arr[i]))\n",
    "        \n",
    "        i += 1\n",
    "        j += 1\n",
    "        \n",
    "    return m"
   ]
  },
  {
   "cell_type": "code",
   "execution_count": 53,
   "id": "cc5aaa07",
   "metadata": {},
   "outputs": [
    {
     "data": {
      "text/plain": [
       "20"
      ]
     },
     "execution_count": 53,
     "metadata": {},
     "output_type": "execute_result"
    }
   ],
   "source": [
    "maxMin(3,[10,100,300,200,1000,20,30])"
   ]
  },
  {
   "cell_type": "code",
   "execution_count": 54,
   "id": "70cd0493",
   "metadata": {},
   "outputs": [
    {
     "data": {
      "text/plain": [
       "1335"
      ]
     },
     "execution_count": 54,
     "metadata": {},
     "output_type": "execute_result"
    }
   ],
   "source": [
    "maxMin(5,[4504,1520,5857,4094,4157,3902,822,6643,2422,7288,8245,9948,2822,1784,7802,3142,9739,5629,5413,7232])"
   ]
  },
  {
   "cell_type": "code",
   "execution_count": 55,
   "id": "c1d2db40",
   "metadata": {},
   "outputs": [
    {
     "data": {
      "text/plain": [
       "2"
      ]
     },
     "execution_count": 55,
     "metadata": {},
     "output_type": "execute_result"
    }
   ],
   "source": [
    "maxMin(3,[100,200,300,350,400,401,402])"
   ]
  },
  {
   "cell_type": "markdown",
   "id": "dcd4bc1e",
   "metadata": {},
   "source": [
    "_____"
   ]
  },
  {
   "cell_type": "markdown",
   "id": "30e24d13",
   "metadata": {},
   "source": [
    "### Array Manipulation"
   ]
  },
  {
   "cell_type": "code",
   "execution_count": 45,
   "id": "a6888cc9",
   "metadata": {},
   "outputs": [],
   "source": [
    "# Gives Time-Limit Exceeded Error for larger arrays\n",
    "def arrayManipulation(n, queries):\n",
    "    \n",
    "    arr = [0 for i in range(n)]\n",
    "    \n",
    "    for a,b,k in queries:\n",
    "        for i in range(a-1,b):\n",
    "            arr[i] += k\n",
    "        # print(arr)\n",
    "    \n",
    "    return max(arr)"
   ]
  },
  {
   "cell_type": "code",
   "execution_count": 46,
   "id": "91ac0af0",
   "metadata": {},
   "outputs": [
    {
     "data": {
      "text/plain": [
       "200"
      ]
     },
     "execution_count": 46,
     "metadata": {},
     "output_type": "execute_result"
    }
   ],
   "source": [
    "arrayManipulation(5,[[1,2,100],[2,5,100],[3,4,100]])"
   ]
  },
  {
   "cell_type": "code",
   "execution_count": 34,
   "id": "9415f4a1",
   "metadata": {},
   "outputs": [],
   "source": [
    "# Working Algo - Prefix Sum Technique Array\n",
    "def arrayManipulation_1(n, queries):\n",
    "    \n",
    "    # Initialize the array\n",
    "    arr = [0 for i in range(n+1)]\n",
    "    \n",
    "    # Perform the query operations\n",
    "    for a,b,k in queries:\n",
    "        arr[a-1] += k\n",
    "        arr[b] -= k\n",
    "        # print(arr)\n",
    "    \n",
    "    # find the maximum element\n",
    "    maxnum = temp = 0\n",
    "    for val in arr:\n",
    "        temp += val\n",
    "        maxnum = max(maxnum,temp)\n",
    "    \n",
    "    return maxnum"
   ]
  },
  {
   "cell_type": "code",
   "execution_count": 35,
   "id": "e97fbaf2",
   "metadata": {},
   "outputs": [
    {
     "data": {
      "text/plain": [
       "200"
      ]
     },
     "execution_count": 35,
     "metadata": {},
     "output_type": "execute_result"
    }
   ],
   "source": [
    "arrayManipulation_1(5,[[1,2,100],[2,5,100],[3,4,100]])"
   ]
  },
  {
   "cell_type": "code",
   "execution_count": 62,
   "id": "b33fba83",
   "metadata": {},
   "outputs": [],
   "source": [
    "# Working Algo - Prefix Sum Technique Array\n",
    "def arrayManipulation_2(n, queries):\n",
    "    \n",
    "    # Initialize the array\n",
    "    arr = [0 for i in range(n+1)]\n",
    "    arr = {x:y for x,y in enumerate(arr)}\n",
    "    \n",
    "    # Perform the query operations\n",
    "    for a,b,k in queries:\n",
    "        arr[a-1] += k\n",
    "        arr[b] -= k\n",
    "        #print(arr)\n",
    "    \n",
    "    \n",
    "    # Sort the dictonary based on key pairs\n",
    "    #sorted_dictonary = sorted(arr.keys())\n",
    "    #arr = {key:arr[key] for key in sorted_dictonary}\n",
    "    #print('\\n')\n",
    "    #print(arr)\n",
    "    \n",
    "    \n",
    "    # find the maximum element\n",
    "    maxnum = temp = 0\n",
    "    for val in arr.keys():\n",
    "        temp += arr[val]\n",
    "        maxnum = max(maxnum,temp)\n",
    "    \n",
    "    return maxnum"
   ]
  },
  {
   "cell_type": "code",
   "execution_count": 63,
   "id": "ad1ea4ff",
   "metadata": {
    "scrolled": true
   },
   "outputs": [
    {
     "data": {
      "text/plain": [
       "200"
      ]
     },
     "execution_count": 63,
     "metadata": {},
     "output_type": "execute_result"
    }
   ],
   "source": [
    "arrayManipulation_2(5,[[1,2,100],[2,5,100],[3,4,100]])"
   ]
  },
  {
   "cell_type": "code",
   "execution_count": 76,
   "id": "6dd2d9a8",
   "metadata": {},
   "outputs": [],
   "source": [
    "import timeit"
   ]
  },
  {
   "cell_type": "code",
   "execution_count": 85,
   "id": "b1b0a164",
   "metadata": {},
   "outputs": [],
   "source": [
    "stmt1 = '''\n",
    "arrayManipulation_1(5,[[1,2,100],[2,5,100],[3,4,100]])\n",
    "'''"
   ]
  },
  {
   "cell_type": "code",
   "execution_count": 86,
   "id": "58325110",
   "metadata": {},
   "outputs": [],
   "source": [
    "setup1 = '''\n",
    "def arrayManipulation_1(n, queries):\n",
    "    \n",
    "    arr = [0 for i in range(n+1)]\n",
    "    \n",
    "    for a,b,k in queries:\n",
    "        arr[a-1] += k\n",
    "        arr[b] -= k\n",
    "    \n",
    "    maxnum = temp = 0\n",
    "    for val in arr:\n",
    "        temp += val\n",
    "        maxnum = max(maxnum,temp)\n",
    "    \n",
    "    return maxnum\n",
    "'''"
   ]
  },
  {
   "cell_type": "code",
   "execution_count": 87,
   "id": "6e999f70",
   "metadata": {},
   "outputs": [],
   "source": [
    "stmt2 = '''\n",
    "arrayManipulation_2(5,[[1,2,100],[2,5,100],[3,4,100]])\n",
    "'''"
   ]
  },
  {
   "cell_type": "code",
   "execution_count": 88,
   "id": "6026bf39",
   "metadata": {},
   "outputs": [],
   "source": [
    "setup2 = '''\n",
    "def arrayManipulation_2(n, queries):\n",
    "\n",
    "    arr = [0 for i in range(n+1)]\n",
    "    arr = {x:y for x,y in enumerate(arr)}\n",
    "   \n",
    "    for a,b,k in queries:\n",
    "        arr[a-1] += k\n",
    "        arr[b] -= k\n",
    "    \n",
    "    maxnum = temp = 0\n",
    "    for val in arr.keys():\n",
    "        temp += arr[val]\n",
    "        maxnum = max(maxnum,temp)\n",
    "    \n",
    "    return maxnum\n",
    "'''"
   ]
  },
  {
   "cell_type": "code",
   "execution_count": 91,
   "id": "1f2333d4",
   "metadata": {},
   "outputs": [
    {
     "data": {
      "text/plain": [
       "0.016702599998097867"
      ]
     },
     "execution_count": 91,
     "metadata": {},
     "output_type": "execute_result"
    }
   ],
   "source": [
    "timeit.timeit(stmt1,setup1,number=10000)"
   ]
  },
  {
   "cell_type": "code",
   "execution_count": 92,
   "id": "22b20098",
   "metadata": {},
   "outputs": [
    {
     "data": {
      "text/plain": [
       "0.023986599990166724"
      ]
     },
     "execution_count": 92,
     "metadata": {},
     "output_type": "execute_result"
    }
   ],
   "source": [
    "timeit.timeit(stmt2,setup2,number=10000)"
   ]
  },
  {
   "cell_type": "markdown",
   "id": "3e5a2fe5",
   "metadata": {},
   "source": [
    "----------"
   ]
  },
  {
   "cell_type": "markdown",
   "id": "aecfa8eb",
   "metadata": {},
   "source": [
    "### Halloween party"
   ]
  },
  {
   "cell_type": "code",
   "execution_count": 18,
   "id": "de431607",
   "metadata": {},
   "outputs": [],
   "source": [
    "def halloweenParty(k):\n",
    "    \n",
    "    if k % 2 == 0:\n",
    "        return k//2 * k//2\n",
    "        \n",
    "    else:\n",
    "        k = k//2\n",
    "        return (k+1) * k"
   ]
  },
  {
   "cell_type": "code",
   "execution_count": 19,
   "id": "26b63fb0",
   "metadata": {},
   "outputs": [
    {
     "data": {
      "text/plain": [
       "6"
      ]
     },
     "execution_count": 19,
     "metadata": {},
     "output_type": "execute_result"
    }
   ],
   "source": [
    "halloweenParty(5)"
   ]
  },
  {
   "cell_type": "code",
   "execution_count": 20,
   "id": "f7d23050",
   "metadata": {
    "scrolled": true
   },
   "outputs": [
    {
     "data": {
      "text/plain": [
       "9"
      ]
     },
     "execution_count": 20,
     "metadata": {},
     "output_type": "execute_result"
    }
   ],
   "source": [
    "halloweenParty(6)"
   ]
  },
  {
   "cell_type": "markdown",
   "id": "39c853bb",
   "metadata": {},
   "source": [
    "--------"
   ]
  },
  {
   "cell_type": "markdown",
   "id": "353e78b8",
   "metadata": {},
   "source": [
    "### Alternating Characters"
   ]
  },
  {
   "cell_type": "code",
   "execution_count": 10,
   "id": "99f20ec0",
   "metadata": {},
   "outputs": [],
   "source": [
    "def alternatingCharacters(s):\n",
    "    \n",
    "    count = 0\n",
    "    \n",
    "    for i in range(len(s)-1):\n",
    "        if s[i] == s[i+1]:\n",
    "            count += 1\n",
    "            \n",
    "    return count"
   ]
  },
  {
   "cell_type": "code",
   "execution_count": 11,
   "id": "9175cd95",
   "metadata": {},
   "outputs": [
    {
     "data": {
      "text/plain": [
       "2"
      ]
     },
     "execution_count": 11,
     "metadata": {},
     "output_type": "execute_result"
    }
   ],
   "source": [
    "alternatingCharacters('AABAAB')"
   ]
  },
  {
   "cell_type": "markdown",
   "id": "9c650af3",
   "metadata": {},
   "source": [
    "----------"
   ]
  },
  {
   "cell_type": "markdown",
   "id": "64cf822e",
   "metadata": {},
   "source": [
    "### Two Strings"
   ]
  },
  {
   "cell_type": "code",
   "execution_count": 10,
   "id": "d32d1a79",
   "metadata": {},
   "outputs": [],
   "source": [
    "def twoStrings(s1, s2):\n",
    "    \n",
    "    for s in s1:\n",
    "        if s in s2:\n",
    "            return 'YES'\n",
    "    return 'NO'"
   ]
  },
  {
   "cell_type": "code",
   "execution_count": 11,
   "id": "81ba9a5c",
   "metadata": {},
   "outputs": [
    {
     "data": {
      "text/plain": [
       "'YES'"
      ]
     },
     "execution_count": 11,
     "metadata": {},
     "output_type": "execute_result"
    }
   ],
   "source": [
    "twoStrings('hello','world')"
   ]
  },
  {
   "cell_type": "code",
   "execution_count": 12,
   "id": "daa31425",
   "metadata": {},
   "outputs": [
    {
     "data": {
      "text/plain": [
       "'NO'"
      ]
     },
     "execution_count": 12,
     "metadata": {},
     "output_type": "execute_result"
    }
   ],
   "source": [
    "twoStrings('hi','world')"
   ]
  },
  {
   "cell_type": "markdown",
   "id": "c5bad99d",
   "metadata": {},
   "source": [
    "----------"
   ]
  }
 ],
 "metadata": {
  "kernelspec": {
   "display_name": "Python 3 (ipykernel)",
   "language": "python",
   "name": "python3"
  },
  "language_info": {
   "codemirror_mode": {
    "name": "ipython",
    "version": 3
   },
   "file_extension": ".py",
   "mimetype": "text/x-python",
   "name": "python",
   "nbconvert_exporter": "python",
   "pygments_lexer": "ipython3",
   "version": "3.10.9"
  }
 },
 "nbformat": 4,
 "nbformat_minor": 5
}
