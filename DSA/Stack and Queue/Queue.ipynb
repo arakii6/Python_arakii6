{
 "cells": [
  {
   "cell_type": "markdown",
   "id": "d6de4212",
   "metadata": {},
   "source": [
    "### Queue Creation"
   ]
  },
  {
   "cell_type": "code",
   "execution_count": 9,
   "id": "575e706a",
   "metadata": {},
   "outputs": [],
   "source": [
    "def Queue():\n",
    "    \n",
    "    Queue = []\n",
    "\n",
    "    while True:\n",
    "\n",
    "        result = input('PUSH, POP or QUIT: ')\n",
    "        \n",
    "        if result == 'PUSH':\n",
    "            x = input('Enter Anything: ')\n",
    "            Queue.append(x)\n",
    "            print(f'Queue after PUSH: {Queue}\\n')\n",
    "\n",
    "        elif result == 'POP':\n",
    "            y = Queue.pop(0)\n",
    "            print(f'Removed element: {y}')\n",
    "            print(f'Queue after POP: {Queue}\\n')\n",
    "\n",
    "        elif result == 'QUIT':\n",
    "            print(f'Final Queue: {Queue}\\n')\n",
    "            break\n",
    "        \n",
    "        else:\n",
    "            print('\\nPlease enter PUSH, POP or QUIT\\n')"
   ]
  },
  {
   "cell_type": "code",
   "execution_count": 10,
   "id": "35ea0fcc",
   "metadata": {},
   "outputs": [
    {
     "name": "stdout",
     "output_type": "stream",
     "text": [
      "PUSH, POP or QUIT: kjl\n",
      "\n",
      "Please enter PUSH, POP or QUIT\n",
      "\n",
      "PUSH, POP or QUIT: 200\n",
      "\n",
      "Please enter PUSH, POP or QUIT\n",
      "\n",
      "PUSH, POP or QUIT: PUSH\n",
      "Enter Anything: 20\n",
      "Queue after PUSH: ['20']\n",
      "\n",
      "PUSH, POP or QUIT: PUSH\n",
      "Enter Anything: abv\n",
      "Queue after PUSH: ['20', 'abv']\n",
      "\n",
      "PUSH, POP or QUIT: PUSH\n",
      "Enter Anything: 452\n",
      "Queue after PUSH: ['20', 'abv', '452']\n",
      "\n",
      "PUSH, POP or QUIT: PUSH\n",
      "Enter Anything: last\n",
      "Queue after PUSH: ['20', 'abv', '452', 'last']\n",
      "\n",
      "PUSH, POP or QUIT: POP\n",
      "Removed element: 20\n",
      "Queue after POP: ['abv', '452', 'last']\n",
      "\n",
      "PUSH, POP or QUIT: QUIT\n",
      "Final Queue: ['abv', '452', 'last']\n",
      "\n"
     ]
    }
   ],
   "source": [
    "Queue()"
   ]
  },
  {
   "cell_type": "markdown",
   "id": "e477b69e",
   "metadata": {},
   "source": [
    "-----------"
   ]
  },
  {
   "cell_type": "markdown",
   "id": "05b8d3a8",
   "metadata": {},
   "source": [
    "### Hackerrank Problems"
   ]
  },
  {
   "cell_type": "markdown",
   "id": "8f0b9bb6",
   "metadata": {},
   "source": [
    "#### Queue using Two Stacks"
   ]
  },
  {
   "cell_type": "code",
   "execution_count": 14,
   "id": "18025307",
   "metadata": {},
   "outputs": [
    {
     "name": "stdout",
     "output_type": "stream",
     "text": [
      "10\n",
      "1 42\n",
      "2\n",
      "1 14\n",
      "3\n",
      "14\n",
      "1 28\n",
      "3\n",
      "14\n",
      "1 60\n",
      "1 78\n",
      "2\n",
      "2\n"
     ]
    }
   ],
   "source": [
    "#My Solution\n",
    "\n",
    "q = int(input())\n",
    "Queue = []\n",
    "    \n",
    "for _ in range(q):\n",
    "    Ops = list(map(int,input().split()))\n",
    "\n",
    "    if Ops[0] == 1:\n",
    "        Queue.append(Ops[1])\n",
    "\n",
    "    elif Ops[0] == 2:\n",
    "        y = Queue.pop(0)\n",
    "        \n",
    "    else:\n",
    "        print(Queue[0])"
   ]
  },
  {
   "cell_type": "code",
   "execution_count": 5,
   "id": "43fe0fd6",
   "metadata": {},
   "outputs": [
    {
     "name": "stdout",
     "output_type": "stream",
     "text": [
      "10\n",
      "1 42\n",
      "2\n",
      "1 14\n",
      "3\n",
      "14\n",
      "1 28\n",
      "3\n",
      "14\n",
      "1 60\n",
      "1 78\n",
      "2\n",
      "2\n"
     ]
    }
   ],
   "source": [
    "# Solution using two Stacks\n",
    "\n",
    "q = int(input())\n",
    "enqueue = []\n",
    "dequeue = []\n",
    "    \n",
    "for _ in range(q):\n",
    "    Ops = list(map(int,input().split()))\n",
    "    \n",
    "    # Enqueue\n",
    "    if Ops[0] == 1:\n",
    "        enqueue.append(Ops[1])\n",
    "    \n",
    "    # Dequeue    \n",
    "    elif Ops[0] == 2:\n",
    "        if not dequeue:\n",
    "            while enqueue:\n",
    "                dequeue.append(enqueue.pop())\n",
    "        dequeue.pop()\n",
    "        \n",
    "    # Print\n",
    "    else:\n",
    "        if not dequeue:\n",
    "            while enqueue:\n",
    "                dequeue.append(enqueue.pop())\n",
    "        print(dequeue[-1])"
   ]
  },
  {
   "cell_type": "markdown",
   "id": "1d0fdb83",
   "metadata": {},
   "source": [
    "------------"
   ]
  },
  {
   "cell_type": "markdown",
   "id": "fc859bd9",
   "metadata": {},
   "source": [
    "#### Truck Tour"
   ]
  },
  {
   "cell_type": "code",
   "execution_count": 4,
   "id": "27641900",
   "metadata": {},
   "outputs": [],
   "source": [
    "def truckTour(petrolpumps):\n",
    "    \n",
    "    position = fuel = 0\n",
    "    \n",
    "    for i in petrolpumps:\n",
    "        fuel += i[0] - i[1]\n",
    "        if fuel < 0:\n",
    "            position = petrolpumps.index(i) + 1\n",
    "            fuel = 0\n",
    "    \n",
    "    return position"
   ]
  }
 ],
 "metadata": {
  "kernelspec": {
   "display_name": "Python 3 (ipykernel)",
   "language": "python",
   "name": "python3"
  },
  "language_info": {
   "codemirror_mode": {
    "name": "ipython",
    "version": 3
   },
   "file_extension": ".py",
   "mimetype": "text/x-python",
   "name": "python",
   "nbconvert_exporter": "python",
   "pygments_lexer": "ipython3",
   "version": "3.10.9"
  }
 },
 "nbformat": 4,
 "nbformat_minor": 5
}
