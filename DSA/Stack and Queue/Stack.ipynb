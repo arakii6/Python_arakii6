{
 "cells": [
  {
   "cell_type": "code",
   "execution_count": 38,
   "id": "fac630cc",
   "metadata": {},
   "outputs": [],
   "source": [
    "def stack():\n",
    "    \n",
    "    new_stack = []\n",
    "    \n",
    "    def push():\n",
    "        user_input = eval(input('Input: '))\n",
    "        new_stack.append(user_input)\n",
    "        print('Stack: ',new_stack)\n",
    "    \n",
    "    def pop():\n",
    "        POP = new_stack.pop()\n",
    "        print('Removed Item: ',POP)\n",
    "        print('Stack: ',new_stack)\n",
    "    \n",
    "    while True:\n",
    "        PPQ = input('\\nPUSH, POP or QUIT: ')\n",
    "        \n",
    "        try:\n",
    "            if PPQ == 'PUSH':\n",
    "                push()\n",
    "            \n",
    "            elif PPQ == 'POP':\n",
    "                pop()\n",
    "            \n",
    "            elif PPQ == 'QUIT':\n",
    "                print('Stack: ',new_stack)\n",
    "                break\n",
    "        except:\n",
    "            print('\\nPlease input PUSH, POP or QUIT')"
   ]
  },
  {
   "cell_type": "code",
   "execution_count": 39,
   "id": "c7cfd4f6",
   "metadata": {},
   "outputs": [
    {
     "name": "stdout",
     "output_type": "stream",
     "text": [
      "\n",
      "PUSH, POP or QUIT: PUSH\n",
      "Input: 20\n",
      "Stack:  [20]\n",
      "\n",
      "PUSH, POP or QUIT: PUSH\n",
      "Input: 30\n",
      "Stack:  [20, 30]\n",
      "\n",
      "PUSH, POP or QUIT: PUSH\n",
      "Input: 1000\n",
      "Stack:  [20, 30, 1000]\n",
      "\n",
      "PUSH, POP or QUIT: PUSH\n",
      "Input: 68\n",
      "Stack:  [20, 30, 1000, 68]\n",
      "\n",
      "PUSH, POP or QUIT: POP\n",
      "Removed Item:  68\n",
      "Stack:  [20, 30, 1000]\n",
      "\n",
      "PUSH, POP or QUIT: QUIT\n",
      "Stack:  [20, 30, 1000]\n"
     ]
    }
   ],
   "source": [
    "stack()"
   ]
  },
  {
   "cell_type": "markdown",
   "id": "685ca4e9",
   "metadata": {},
   "source": [
    "-------------------------"
   ]
  },
  {
   "cell_type": "markdown",
   "id": "ff1433cf",
   "metadata": {},
   "source": [
    "### HackerRank Problems"
   ]
  },
  {
   "cell_type": "markdown",
   "id": "294bd68c",
   "metadata": {},
   "source": [
    "#### Maximum Element"
   ]
  },
  {
   "cell_type": "code",
   "execution_count": 44,
   "id": "c0ddc89f",
   "metadata": {},
   "outputs": [],
   "source": [
    "def getMax(operations):\n",
    "    \n",
    "    stack = []\n",
    "    max_element = []\n",
    "\n",
    "    \n",
    "    for i in range(len(operations)):\n",
    "\n",
    "        if operations[i][0] == '1':\n",
    "            if stack:\n",
    "                stack.append(max(stack[-1],int(operations[i][2:])))\n",
    "            else:\n",
    "                stack.append(int(operations[i][2:]))\n",
    "\n",
    "        elif operations[i][0] == '2':\n",
    "            stack.pop()\n",
    "\n",
    "        else:\n",
    "            max_element.append(stack[-1])\n",
    "    \n",
    "    \n",
    "    return max_element"
   ]
  },
  {
   "cell_type": "code",
   "execution_count": 45,
   "id": "4f009938",
   "metadata": {},
   "outputs": [
    {
     "data": {
      "text/plain": [
       "[26, 91]"
      ]
     },
     "execution_count": 45,
     "metadata": {},
     "output_type": "execute_result"
    }
   ],
   "source": [
    "getMax(['1 97','2','1 20','2','1 26','1 20','2','3','1 91','3'])"
   ]
  },
  {
   "cell_type": "markdown",
   "id": "c5d65d3c",
   "metadata": {},
   "source": [
    "-----------"
   ]
  },
  {
   "cell_type": "markdown",
   "id": "77d6dc15",
   "metadata": {},
   "source": [
    "#### Balanced Brackets"
   ]
  },
  {
   "cell_type": "code",
   "execution_count": 15,
   "id": "3646c85b",
   "metadata": {},
   "outputs": [],
   "source": [
    "def isBalanced(s):\n",
    "    \n",
    "    stack = []\n",
    "    brackets = {'{':'}','(':')','[':']'}\n",
    "    \n",
    "    for bracket in s:\n",
    "        if bracket in ['(','{','[']:\n",
    "            stack.append(bracket)\n",
    "        \n",
    "        else:\n",
    "            if stack:\n",
    "                top = stack.pop()\n",
    "                if brackets[top] != bracket:\n",
    "                    return 'NO' # This is when we don't get a closing braket for an opened one.\n",
    "                \n",
    "            else:\n",
    "                return 'NO' # This is when the string starts with a closing bracket. It's a corner case.\n",
    "        \n",
    "    \n",
    "    # According to the above logic, the stack should be emtpy if there are no unmatched brackets.\n",
    "    if stack:\n",
    "        return 'NO'\n",
    "    else:\n",
    "        return 'YES'"
   ]
  },
  {
   "cell_type": "code",
   "execution_count": 16,
   "id": "c3521e19",
   "metadata": {},
   "outputs": [
    {
     "data": {
      "text/plain": [
       "'YES'"
      ]
     },
     "execution_count": 16,
     "metadata": {},
     "output_type": "execute_result"
    }
   ],
   "source": [
    "isBalanced('{[()]}')"
   ]
  },
  {
   "cell_type": "code",
   "execution_count": 17,
   "id": "28ecd32b",
   "metadata": {},
   "outputs": [
    {
     "data": {
      "text/plain": [
       "'NO'"
      ]
     },
     "execution_count": 17,
     "metadata": {},
     "output_type": "execute_result"
    }
   ],
   "source": [
    "isBalanced('{[(])}')"
   ]
  },
  {
   "cell_type": "code",
   "execution_count": 18,
   "id": "860011d1",
   "metadata": {
    "scrolled": true
   },
   "outputs": [
    {
     "data": {
      "text/plain": [
       "'YES'"
      ]
     },
     "execution_count": 18,
     "metadata": {},
     "output_type": "execute_result"
    }
   ],
   "source": [
    "isBalanced('{{[[(())]]}}')"
   ]
  },
  {
   "cell_type": "code",
   "execution_count": 19,
   "id": "b0a8cc93",
   "metadata": {},
   "outputs": [
    {
     "data": {
      "text/plain": [
       "'YES'"
      ]
     },
     "execution_count": 19,
     "metadata": {},
     "output_type": "execute_result"
    }
   ],
   "source": [
    "isBalanced('{(([])[])[]}')"
   ]
  },
  {
   "cell_type": "code",
   "execution_count": null,
   "id": "b60d8cf6",
   "metadata": {},
   "outputs": [],
   "source": [
    "stack = ['{[(']"
   ]
  },
  {
   "cell_type": "markdown",
   "id": "4a23fefd",
   "metadata": {},
   "source": [
    "---------------"
   ]
  },
  {
   "cell_type": "markdown",
   "id": "795d3218",
   "metadata": {},
   "source": [
    "#### Equal Stacks"
   ]
  },
  {
   "cell_type": "code",
   "execution_count": 14,
   "id": "e7e67599",
   "metadata": {},
   "outputs": [],
   "source": [
    "def equalStacks(h1, h2, h3):\n",
    "    \n",
    "    s1 = sum(h1)\n",
    "    s2 = sum(h2)\n",
    "    s3 = sum(h3)\n",
    "    \n",
    "    while True:\n",
    "        min_height = min(s1,s2,s3)\n",
    "        \n",
    "        if min_height == 0:\n",
    "            return 0\n",
    "        \n",
    "        if s1 > min_height:\n",
    "            s1 -= h1.pop(0)\n",
    "            \n",
    "        if s2 > min_height:\n",
    "            s2 -= h2.pop(0)\n",
    "            \n",
    "        if s3 > min_height:\n",
    "            s3 -= h3.pop(0)\n",
    "        \n",
    "        if s1 == s2 == s3:\n",
    "            return s1\n",
    "    "
   ]
  },
  {
   "cell_type": "code",
   "execution_count": 15,
   "id": "57589c36",
   "metadata": {},
   "outputs": [
    {
     "data": {
      "text/plain": [
       "5"
      ]
     },
     "execution_count": 15,
     "metadata": {},
     "output_type": "execute_result"
    }
   ],
   "source": [
    "equalStacks([3, 2, 1, 1, 1],[4, 3, 2],[1, 1, 4, 1])"
   ]
  },
  {
   "cell_type": "markdown",
   "id": "a2f23196",
   "metadata": {},
   "source": [
    "----------"
   ]
  },
  {
   "cell_type": "markdown",
   "id": "982ee734",
   "metadata": {},
   "source": [
    "#### Game of Two Stacks"
   ]
  },
  {
   "cell_type": "code",
   "execution_count": 8,
   "id": "2e4fa987",
   "metadata": {},
   "outputs": [],
   "source": [
    "def twoStacks(maxSum, a, b):\n",
    "    \n",
    "    '''\n",
    "    Let's initilize few new varaiables:\n",
    "    1. i and j will be used as indexes for stack a & b\n",
    "    2. running_sum: sum of elements taken from stack a & b\n",
    "    3. count: the max number of selections the player can make\n",
    "    '''\n",
    "    i = j = running_sum = count = 0\n",
    "    \n",
    "    \n",
    "    '''\n",
    "    Think you've only one stack as of now,\n",
    "    so take as many elements you can from stack a\n",
    "    & add them to running_sum\n",
    "    '''\n",
    "    while i < len(a) and running_sum + a[i] <= maxSum:\n",
    "        running_sum += a[i]\n",
    "        i += 1\n",
    "        count += 1\n",
    "    \n",
    "    '''\n",
    "    Now we take elements from stack b & add it to running_sum\n",
    "    while subtracting elements of stack a from it\n",
    "    '''\n",
    "    while j < len(b) and i >= 0:\n",
    "        running_sum += b[j]\n",
    "        j += 1\n",
    "        \n",
    "        '''\n",
    "        Here we subtract the elements of stack a from running_sum\n",
    "        that were previously added from stack a \n",
    "        in the top-most while loop\n",
    "        '''\n",
    "        while i > 0 and running_sum > maxSum:\n",
    "            i -= 1\n",
    "            running_sum -= a[i]\n",
    "    \n",
    "        # Update count\n",
    "        if running_sum <= maxSum and count < (i + j):\n",
    "            count = i + j\n",
    "            \n",
    "    return count"
   ]
  },
  {
   "cell_type": "code",
   "execution_count": 9,
   "id": "07e58f67",
   "metadata": {},
   "outputs": [
    {
     "data": {
      "text/plain": [
       "4"
      ]
     },
     "execution_count": 9,
     "metadata": {},
     "output_type": "execute_result"
    }
   ],
   "source": [
    "twoStacks(10,[4,2,4,6,1],[2,1,8,5])"
   ]
  },
  {
   "cell_type": "markdown",
   "id": "02758bfc",
   "metadata": {},
   "source": [
    "----------"
   ]
  },
  {
   "cell_type": "markdown",
   "id": "136ed54a",
   "metadata": {},
   "source": [
    "#### Largest Rectangle"
   ]
  },
  {
   "cell_type": "code",
   "execution_count": null,
   "id": "3c634a65",
   "metadata": {},
   "outputs": [],
   "source": []
  }
 ],
 "metadata": {
  "kernelspec": {
   "display_name": "Python 3 (ipykernel)",
   "language": "python",
   "name": "python3"
  },
  "language_info": {
   "codemirror_mode": {
    "name": "ipython",
    "version": 3
   },
   "file_extension": ".py",
   "mimetype": "text/x-python",
   "name": "python",
   "nbconvert_exporter": "python",
   "pygments_lexer": "ipython3",
   "version": "3.10.9"
  }
 },
 "nbformat": 4,
 "nbformat_minor": 5
}
