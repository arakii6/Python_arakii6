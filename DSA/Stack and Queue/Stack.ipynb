{
 "cells": [
  {
   "cell_type": "markdown",
   "id": "4b73e65c",
   "metadata": {},
   "source": [
    "### Stack Creation"
   ]
  },
  {
   "cell_type": "code",
   "execution_count": null,
   "id": "e3da9607",
   "metadata": {},
   "outputs": [],
   "source": [
    "def stack():\n",
    "    \n",
    "    new_stack = []\n",
    "    \n",
    "    def push():\n",
    "        user_input = eval(input('Input: '))\n",
    "        new_stack.append(user_input)\n",
    "        print('Stack: ',new_stack)\n",
    "    \n",
    "    def pop():\n",
    "        POP = new_stack.pop()\n",
    "        print('Removed Item: ',POP)\n",
    "        print('Stack: ',new_stack)\n",
    "    \n",
    "    while True:\n",
    "        PPQ = input('\\nPUSH, POP or QUIT: ')\n",
    "        \n",
    "        try:\n",
    "            if PPQ == 'PUSH':\n",
    "                push()\n",
    "            \n",
    "            elif PPQ == 'POP':\n",
    "                pop()\n",
    "            \n",
    "            elif PPQ == 'QUIT':\n",
    "                print('Stack: ',new_stack)\n",
    "                break\n",
    "        except:\n",
    "            print('\\nPlease input PUSH, POP or QUIT')"
   ]
  },
  {
   "cell_type": "code",
   "execution_count": 39,
   "id": "c7cfd4f6",
   "metadata": {},
   "outputs": [
    {
     "name": "stdout",
     "output_type": "stream",
     "text": [
      "\n",
      "PUSH, POP or QUIT: PUSH\n",
      "Input: 20\n",
      "Stack:  [20]\n",
      "\n",
      "PUSH, POP or QUIT: PUSH\n",
      "Input: 30\n",
      "Stack:  [20, 30]\n",
      "\n",
      "PUSH, POP or QUIT: PUSH\n",
      "Input: 1000\n",
      "Stack:  [20, 30, 1000]\n",
      "\n",
      "PUSH, POP or QUIT: PUSH\n",
      "Input: 68\n",
      "Stack:  [20, 30, 1000, 68]\n",
      "\n",
      "PUSH, POP or QUIT: POP\n",
      "Removed Item:  68\n",
      "Stack:  [20, 30, 1000]\n",
      "\n",
      "PUSH, POP or QUIT: QUIT\n",
      "Stack:  [20, 30, 1000]\n"
     ]
    }
   ],
   "source": [
    "stack()"
   ]
  },
  {
   "cell_type": "markdown",
   "id": "685ca4e9",
   "metadata": {},
   "source": [
    "-------------------------"
   ]
  },
  {
   "cell_type": "markdown",
   "id": "ff1433cf",
   "metadata": {},
   "source": [
    "### HackerRank Problems"
   ]
  },
  {
   "cell_type": "markdown",
   "id": "294bd68c",
   "metadata": {},
   "source": [
    "#### Maximum Element"
   ]
  },
  {
   "cell_type": "code",
   "execution_count": 44,
   "id": "c0ddc89f",
   "metadata": {},
   "outputs": [],
   "source": [
    "def getMax(operations):\n",
    "    \n",
    "    stack = []\n",
    "    max_element = []\n",
    "\n",
    "    \n",
    "    for i in range(len(operations)):\n",
    "\n",
    "        if operations[i][0] == '1':\n",
    "            if stack:\n",
    "                stack.append(max(stack[-1],int(operations[i][2:])))\n",
    "            else:\n",
    "                stack.append(int(operations[i][2:]))\n",
    "\n",
    "        elif operations[i][0] == '2':\n",
    "            stack.pop()\n",
    "\n",
    "        else:\n",
    "            max_element.append(stack[-1])\n",
    "    \n",
    "    \n",
    "    return max_element"
   ]
  },
  {
   "cell_type": "code",
   "execution_count": 45,
   "id": "4f009938",
   "metadata": {},
   "outputs": [
    {
     "data": {
      "text/plain": [
       "[26, 91]"
      ]
     },
     "execution_count": 45,
     "metadata": {},
     "output_type": "execute_result"
    }
   ],
   "source": [
    "getMax(['1 97','2','1 20','2','1 26','1 20','2','3','1 91','3'])"
   ]
  },
  {
   "cell_type": "markdown",
   "id": "c5d65d3c",
   "metadata": {},
   "source": [
    "-----------"
   ]
  },
  {
   "cell_type": "markdown",
   "id": "77d6dc15",
   "metadata": {},
   "source": [
    "#### Balanced Brackets"
   ]
  },
  {
   "cell_type": "code",
   "execution_count": 15,
   "id": "3646c85b",
   "metadata": {},
   "outputs": [],
   "source": [
    "def isBalanced(s):\n",
    "    \n",
    "    stack = []\n",
    "    brackets = {'{':'}','(':')','[':']'}\n",
    "    \n",
    "    for bracket in s:\n",
    "        if bracket in ['(','{','[']:\n",
    "            stack.append(bracket)\n",
    "        \n",
    "        else:\n",
    "            if stack:\n",
    "                top = stack.pop()\n",
    "                if brackets[top] != bracket:\n",
    "                    return 'NO' # This is when we don't get a closing braket for an opened one.\n",
    "                \n",
    "            else:\n",
    "                return 'NO' # This is when the string starts with a closing bracket. It's a corner case.\n",
    "        \n",
    "    \n",
    "    # According to the above logic, the stack should be emtpy if there are no unmatched brackets.\n",
    "    if stack:\n",
    "        return 'NO'\n",
    "    else:\n",
    "        return 'YES'"
   ]
  },
  {
   "cell_type": "code",
   "execution_count": 16,
   "id": "c3521e19",
   "metadata": {},
   "outputs": [
    {
     "data": {
      "text/plain": [
       "'YES'"
      ]
     },
     "execution_count": 16,
     "metadata": {},
     "output_type": "execute_result"
    }
   ],
   "source": [
    "isBalanced('{[()]}')"
   ]
  },
  {
   "cell_type": "code",
   "execution_count": 17,
   "id": "28ecd32b",
   "metadata": {},
   "outputs": [
    {
     "data": {
      "text/plain": [
       "'NO'"
      ]
     },
     "execution_count": 17,
     "metadata": {},
     "output_type": "execute_result"
    }
   ],
   "source": [
    "isBalanced('{[(])}')"
   ]
  },
  {
   "cell_type": "code",
   "execution_count": 18,
   "id": "860011d1",
   "metadata": {
    "scrolled": true
   },
   "outputs": [
    {
     "data": {
      "text/plain": [
       "'YES'"
      ]
     },
     "execution_count": 18,
     "metadata": {},
     "output_type": "execute_result"
    }
   ],
   "source": [
    "isBalanced('{{[[(())]]}}')"
   ]
  },
  {
   "cell_type": "code",
   "execution_count": 19,
   "id": "b0a8cc93",
   "metadata": {},
   "outputs": [
    {
     "data": {
      "text/plain": [
       "'YES'"
      ]
     },
     "execution_count": 19,
     "metadata": {},
     "output_type": "execute_result"
    }
   ],
   "source": [
    "isBalanced('{(([])[])[]}')"
   ]
  },
  {
   "cell_type": "code",
   "execution_count": null,
   "id": "b60d8cf6",
   "metadata": {},
   "outputs": [],
   "source": [
    "stack = ['{[(']"
   ]
  },
  {
   "cell_type": "markdown",
   "id": "4a23fefd",
   "metadata": {},
   "source": [
    "---------------"
   ]
  },
  {
   "cell_type": "markdown",
   "id": "795d3218",
   "metadata": {},
   "source": [
    "#### Equal Stacks"
   ]
  },
  {
   "cell_type": "code",
   "execution_count": 14,
   "id": "e7e67599",
   "metadata": {},
   "outputs": [],
   "source": [
    "def equalStacks(h1, h2, h3):\n",
    "    \n",
    "    s1 = sum(h1)\n",
    "    s2 = sum(h2)\n",
    "    s3 = sum(h3)\n",
    "    \n",
    "    while True:\n",
    "        min_height = min(s1,s2,s3)\n",
    "        \n",
    "        if min_height == 0:\n",
    "            return 0\n",
    "        \n",
    "        if s1 > min_height:\n",
    "            s1 -= h1.pop(0)\n",
    "            \n",
    "        if s2 > min_height:\n",
    "            s2 -= h2.pop(0)\n",
    "            \n",
    "        if s3 > min_height:\n",
    "            s3 -= h3.pop(0)\n",
    "        \n",
    "        if s1 == s2 == s3:\n",
    "            return s1\n",
    "    "
   ]
  },
  {
   "cell_type": "code",
   "execution_count": 15,
   "id": "57589c36",
   "metadata": {},
   "outputs": [
    {
     "data": {
      "text/plain": [
       "5"
      ]
     },
     "execution_count": 15,
     "metadata": {},
     "output_type": "execute_result"
    }
   ],
   "source": [
    "equalStacks([3, 2, 1, 1, 1],[4, 3, 2],[1, 1, 4, 1])"
   ]
  },
  {
   "cell_type": "markdown",
   "id": "a2f23196",
   "metadata": {},
   "source": [
    "----------"
   ]
  },
  {
   "cell_type": "markdown",
   "id": "982ee734",
   "metadata": {},
   "source": [
    "#### Game of Two Stacks"
   ]
  },
  {
   "cell_type": "code",
   "execution_count": 8,
   "id": "2e4fa987",
   "metadata": {},
   "outputs": [],
   "source": [
    "def twoStacks(maxSum, a, b):\n",
    "    \n",
    "    '''\n",
    "    Let's initilize few new varaiables:\n",
    "    1. i and j will be used as indexes for stack a & b\n",
    "    2. running_sum: sum of elements taken from stack a & b\n",
    "    3. count: the max number of selections the player can make\n",
    "    '''\n",
    "    i = j = running_sum = count = 0\n",
    "    \n",
    "    \n",
    "    '''\n",
    "    Think you've only one stack as of now,\n",
    "    so take as many elements you can from stack a\n",
    "    & add them to running_sum\n",
    "    '''\n",
    "    while i < len(a) and running_sum + a[i] <= maxSum:\n",
    "        running_sum += a[i]\n",
    "        i += 1\n",
    "        count += 1\n",
    "    \n",
    "    '''\n",
    "    Now we take elements from stack b & add it to running_sum\n",
    "    while subtracting elements of stack a from it\n",
    "    '''\n",
    "    while j < len(b) and i >= 0:\n",
    "        running_sum += b[j]\n",
    "        j += 1\n",
    "        \n",
    "        '''\n",
    "        Here we subtract the elements of stack a from running_sum\n",
    "        that were previously added from stack a \n",
    "        in the top-most while loop\n",
    "        '''\n",
    "        while i > 0 and running_sum > maxSum:\n",
    "            i -= 1\n",
    "            running_sum -= a[i]\n",
    "    \n",
    "        # Update count\n",
    "        if running_sum <= maxSum and count < (i + j):\n",
    "            count = i + j\n",
    "            \n",
    "    return count"
   ]
  },
  {
   "cell_type": "code",
   "execution_count": 9,
   "id": "07e58f67",
   "metadata": {},
   "outputs": [
    {
     "data": {
      "text/plain": [
       "4"
      ]
     },
     "execution_count": 9,
     "metadata": {},
     "output_type": "execute_result"
    }
   ],
   "source": [
    "twoStacks(10,[4,2,4,6,1],[2,1,8,5])"
   ]
  },
  {
   "cell_type": "markdown",
   "id": "02758bfc",
   "metadata": {},
   "source": [
    "----------"
   ]
  },
  {
   "cell_type": "markdown",
   "id": "136ed54a",
   "metadata": {},
   "source": [
    "#### Largest Rectangle"
   ]
  },
  {
   "cell_type": "code",
   "execution_count": 67,
   "id": "3c634a65",
   "metadata": {},
   "outputs": [],
   "source": [
    "def largestRectangle(h): \n",
    "    \n",
    "    stack = []\n",
    "    maxArea = 0\n",
    "    n = len(h)\n",
    "    \n",
    "    for index,height in enumerate(h):\n",
    "        start = index\n",
    "        \n",
    "        while stack and stack[-1][1] > height:\n",
    "            i,h = stack.pop()\n",
    "            maxArea = max(maxArea,(h * (index - i)))\n",
    "            start = i\n",
    "            \n",
    "        stack.append((start,height))\n",
    "            \n",
    "    for index,height in stack:\n",
    "        maxArea = max(maxArea,(height * (n - index)))\n",
    "                \n",
    "    return maxArea"
   ]
  },
  {
   "cell_type": "code",
   "execution_count": 68,
   "id": "905a0263",
   "metadata": {},
   "outputs": [
    {
     "data": {
      "text/plain": [
       "9"
      ]
     },
     "execution_count": 68,
     "metadata": {},
     "output_type": "execute_result"
    }
   ],
   "source": [
    "largestRectangle([1,2,3,4,5])"
   ]
  },
  {
   "cell_type": "code",
   "execution_count": 69,
   "id": "ff970122",
   "metadata": {},
   "outputs": [
    {
     "data": {
      "text/plain": [
       "9"
      ]
     },
     "execution_count": 69,
     "metadata": {},
     "output_type": "execute_result"
    }
   ],
   "source": [
    "largestRectangle([5,4,3,2,1])"
   ]
  },
  {
   "cell_type": "code",
   "execution_count": 70,
   "id": "cdda9d0f",
   "metadata": {},
   "outputs": [
    {
     "data": {
      "text/plain": [
       "10"
      ]
     },
     "execution_count": 70,
     "metadata": {},
     "output_type": "execute_result"
    }
   ],
   "source": [
    "largestRectangle([2,1,5,6,2,3])"
   ]
  },
  {
   "cell_type": "markdown",
   "id": "e53d0553",
   "metadata": {},
   "source": [
    "-----------------"
   ]
  },
  {
   "cell_type": "markdown",
   "id": "5e7a430f",
   "metadata": {},
   "source": [
    "#### Simple Text Editor"
   ]
  },
  {
   "cell_type": "code",
   "execution_count": 13,
   "id": "1ed129ab",
   "metadata": {},
   "outputs": [
    {
     "name": "stdout",
     "output_type": "stream",
     "text": [
      "8\n",
      "1 abc\n",
      "After append, S:  abc\n",
      "prev_Ops:  ['']\n",
      "3 3\n",
      "Answer: c\n",
      "2 3\n",
      "After pop, S:  \n",
      "prev_Ops:  ['', 'abc']\n",
      "1 xy\n",
      "After append, S:  xy\n",
      "prev_Ops:  ['', 'abc', '']\n",
      "3 2\n",
      "Answer: y\n",
      "4\n",
      "After undo, S:  \n",
      "prev_Ops:  ['', 'abc']\n",
      "4\n",
      "After undo, S:  abc\n",
      "prev_Ops:  ['']\n",
      "3 1\n",
      "Answer: a\n"
     ]
    }
   ],
   "source": [
    "# Optimal Solution\n",
    "# Using String Concatenation\n",
    "S = ''\n",
    "prev_Ops = []\n",
    "\n",
    "for _ in range(int(input())):\n",
    "    Ops = input().split()\n",
    "    \n",
    "    # Append\n",
    "    if Ops[0] == '1':\n",
    "        prev_Ops.append(S)\n",
    "        S = S + Ops[1]\n",
    "        print('After append, S: ',S)\n",
    "        print('prev_Ops: ',prev_Ops)\n",
    "        \n",
    "    # Pop    \n",
    "    elif Ops[0] == '2':\n",
    "        prev_Ops.append(S)\n",
    "        S = S[:-int(Ops[1])]\n",
    "        print('After pop, S: ',S)\n",
    "        print('prev_Ops: ',prev_Ops)\n",
    "        \n",
    "    # Print\n",
    "    elif Ops[0] == '3':\n",
    "        print(f'Answer: {S[int(Ops[1])-1]}')\n",
    "        \n",
    "    # Undo\n",
    "    elif Ops[0] == '4':\n",
    "        S = prev_Ops.pop()\n",
    "        print('After undo, S: ',S)\n",
    "        print('prev_Ops: ',prev_Ops)"
   ]
  },
  {
   "cell_type": "markdown",
   "id": "2d976d94",
   "metadata": {},
   "source": [
    "-----------"
   ]
  },
  {
   "cell_type": "markdown",
   "id": "cc344bbe",
   "metadata": {},
   "source": [
    "#### Poisonous Plants"
   ]
  },
  {
   "cell_type": "code",
   "execution_count": 12,
   "id": "91e18626",
   "metadata": {},
   "outputs": [],
   "source": [
    "def poisonousPlants(p):\n",
    "    \n",
    "    stack = []\n",
    "    maxday = 0\n",
    "    \n",
    "    for plant in p:\n",
    "        day = 0\n",
    "        \n",
    "        while stack and stack[-1][0] >= plant:\n",
    "            day = max(day,stack.pop()[1])\n",
    "            print(f'Current Stack after POP: {stack}')\n",
    "            \n",
    "        if stack:\n",
    "            day += 1\n",
    "        else:\n",
    "            day = 0\n",
    "            \n",
    "        maxday = max(maxday,day)\n",
    "        stack.append((plant,day))\n",
    "        print(f'Current Stack after PUSH: {stack}')\n",
    "        \n",
    "    return maxday"
   ]
  },
  {
   "cell_type": "code",
   "execution_count": 13,
   "id": "b0de2299",
   "metadata": {
    "scrolled": true
   },
   "outputs": [
    {
     "name": "stdout",
     "output_type": "stream",
     "text": [
      "Current Stack after PUSH: [(6, 0)]\n",
      "Current Stack after POP: []\n",
      "Current Stack after PUSH: [(5, 0)]\n",
      "Current Stack after PUSH: [(5, 0), (8, 1)]\n",
      "Current Stack after POP: [(5, 0)]\n",
      "Current Stack after POP: []\n",
      "Current Stack after PUSH: [(4, 0)]\n",
      "Current Stack after PUSH: [(4, 0), (7, 1)]\n",
      "Current Stack after PUSH: [(4, 0), (7, 1), (10, 1)]\n",
      "Current Stack after POP: [(4, 0), (7, 1)]\n",
      "Current Stack after PUSH: [(4, 0), (7, 1), (9, 2)]\n"
     ]
    },
    {
     "data": {
      "text/plain": [
       "2"
      ]
     },
     "execution_count": 13,
     "metadata": {},
     "output_type": "execute_result"
    }
   ],
   "source": [
    "poisonousPlants([6,5,8,4,7,10,9])"
   ]
  },
  {
   "cell_type": "markdown",
   "id": "956e1f6f",
   "metadata": {},
   "source": [
    "-----------------"
   ]
  },
  {
   "cell_type": "markdown",
   "id": "1255020a",
   "metadata": {},
   "source": [
    "#### Waiter"
   ]
  },
  {
   "cell_type": "code",
   "execution_count": 112,
   "id": "b40a4788",
   "metadata": {},
   "outputs": [],
   "source": [
    "def waiter(number, q):\n",
    "    \n",
    "    # Create the Prime Number List\n",
    "    prime = [2]\n",
    "    num = prime[0]\n",
    "\n",
    "    while len(prime) != q:\n",
    "        num += 1\n",
    "        Prime = True\n",
    "\n",
    "        for i in range(2, num):\n",
    "            if (num % i) == 0:\n",
    "                Prime = False\n",
    "                break\n",
    "\n",
    "        if Prime:\n",
    "            prime.append(num)\n",
    "\n",
    "    \n",
    "    # Create a Stack for storing the result\n",
    "    answer = []\n",
    "    \n",
    "    \n",
    "    # Logic\n",
    "    for j in prime:\n",
    "        # Create two more stacks for storing the output of the operations\n",
    "        B = []\n",
    "        A = []\n",
    "        for _ in range(len(number)):\n",
    "            i = number.pop()\n",
    "            if i % j == 0:\n",
    "                B.append(i)\n",
    "            else:\n",
    "                A.append(i)\n",
    "        \n",
    "        while B:\n",
    "            answer.append(B.pop())\n",
    "        \n",
    "        number = A\n",
    "        \n",
    "    \n",
    "    while number:\n",
    "        answer.append(number.pop())\n",
    "    \n",
    "    return answer"
   ]
  },
  {
   "cell_type": "code",
   "execution_count": 113,
   "id": "304f9ebc",
   "metadata": {},
   "outputs": [
    {
     "data": {
      "text/plain": [
       "[2, 4, 6, 3, 5, 7]"
      ]
     },
     "execution_count": 113,
     "metadata": {},
     "output_type": "execute_result"
    }
   ],
   "source": [
    "waiter([2,3,4,5,6,7],3)"
   ]
  },
  {
   "cell_type": "code",
   "execution_count": 114,
   "id": "b4bb7d2b",
   "metadata": {},
   "outputs": [
    {
     "data": {
      "text/plain": [
       "[4, 6, 3, 7, 5]"
      ]
     },
     "execution_count": 114,
     "metadata": {},
     "output_type": "execute_result"
    }
   ],
   "source": [
    "waiter([3,4,7,6,5],1)"
   ]
  },
  {
   "cell_type": "code",
   "execution_count": 115,
   "id": "e27c3eed",
   "metadata": {},
   "outputs": [
    {
     "data": {
      "text/plain": [
       "[4, 4, 9, 3, 3]"
      ]
     },
     "execution_count": 115,
     "metadata": {},
     "output_type": "execute_result"
    }
   ],
   "source": [
    "waiter([3,3,4,4,9],2)"
   ]
  },
  {
   "cell_type": "markdown",
   "id": "e14d8dc0",
   "metadata": {},
   "source": [
    "-----------"
   ]
  },
  {
   "cell_type": "markdown",
   "id": "84350587",
   "metadata": {},
   "source": [
    "#### And Xor Or"
   ]
  },
  {
   "cell_type": "code",
   "execution_count": 6,
   "id": "ce86c115",
   "metadata": {},
   "outputs": [],
   "source": [
    "'''\n",
    "result = (((M1 and M2) ^ (M1 or M2)) and (M1 ^ M2))\n",
    "is same as\n",
    "result = M1 ^ M2\n",
    "'''\n",
    "\n",
    "\n",
    "def andXorOr(a):\n",
    "    \n",
    "    stack = []\n",
    "    maxresult = 0\n",
    "    \n",
    "    for i in range(len(a)):\n",
    "        while stack:\n",
    "            result = stack[-1] ^ a[i]\n",
    "            maxresult = max(maxresult,result)\n",
    "            \n",
    "            if stack[-1] > a[i]:\n",
    "                stack.pop()\n",
    "            else:\n",
    "                break\n",
    "            \n",
    "        stack.append(a[i])\n",
    "    \n",
    "    return maxresult"
   ]
  },
  {
   "cell_type": "code",
   "execution_count": 7,
   "id": "463e3117",
   "metadata": {},
   "outputs": [
    {
     "data": {
      "text/plain": [
       "15"
      ]
     },
     "execution_count": 7,
     "metadata": {},
     "output_type": "execute_result"
    }
   ],
   "source": [
    "andXorOr([9,6,3,5,2])"
   ]
  }
 ],
 "metadata": {
  "kernelspec": {
   "display_name": "Python 3 (ipykernel)",
   "language": "python",
   "name": "python3"
  },
  "language_info": {
   "codemirror_mode": {
    "name": "ipython",
    "version": 3
   },
   "file_extension": ".py",
   "mimetype": "text/x-python",
   "name": "python",
   "nbconvert_exporter": "python",
   "pygments_lexer": "ipython3",
   "version": "3.10.9"
  }
 },
 "nbformat": 4,
 "nbformat_minor": 5
}
