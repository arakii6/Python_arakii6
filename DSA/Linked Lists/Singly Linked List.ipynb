{
 "cells": [
  {
   "cell_type": "markdown",
   "id": "3c7af83f",
   "metadata": {},
   "source": [
    "#### Create a Node"
   ]
  },
  {
   "cell_type": "code",
   "execution_count": 1,
   "id": "0d39160b",
   "metadata": {},
   "outputs": [],
   "source": [
    "# Initialise the Node\n",
    "class SinglyLinkedListNode:\n",
    "   \n",
    "    def __init__(self, data):\n",
    "        self.data = data\n",
    "        self.next = None"
   ]
  },
  {
   "cell_type": "markdown",
   "id": "967da3d3",
   "metadata": {},
   "source": [
    "#### Create a Linked List"
   ]
  },
  {
   "cell_type": "code",
   "execution_count": 11,
   "id": "0ddfe3f8",
   "metadata": {},
   "outputs": [],
   "source": [
    "# Class for Singly Linked List\n",
    "class SinglyLinkedList:\n",
    "   \n",
    "    def __init__(self):\n",
    "        self.head = None\n",
    "       \n",
    "   \n",
    "    # Insertion at Beginning\n",
    "    def InsertAtStart(self,node_data):\n",
    "        NewNode = SinglyLinkedListNode(node_data)\n",
    "       \n",
    "        # Insertion on a Empty List\n",
    "        if self.head == None:\n",
    "            self.head = NewNode\n",
    "       \n",
    "        else:\n",
    "            NewNode.next = self.head\n",
    "            self.head = NewNode\n",
    "   \n",
    "    \n",
    "    # Insertion at End  \n",
    "    def InsertAtEnd(self,node_data):\n",
    "        NewNode = SinglyLinkedListNode(node_data)\n",
    "       \n",
    "        # Insertion on a Empty List\n",
    "        if self.head == None:\n",
    "            self.head = NewNode\n",
    "       \n",
    "        else:\n",
    "            temp = self.head\n",
    "           \n",
    "            while temp.next != None:\n",
    "                temp = temp.next\n",
    "               \n",
    "            temp.next = NewNode\n",
    "   \n",
    "   \n",
    "    # Deletion at Beginning\n",
    "    def DeleteAtStart(self):\n",
    "       \n",
    "        if self.head == None:\n",
    "            print('Linked List is already EMPTY!!!')\n",
    "           \n",
    "        else:\n",
    "            print(f'{self.head.data} has been deleted')\n",
    "            self.head = self.head.next\n",
    "            self.head.prev = None\n",
    "           \n",
    "   \n",
    "    # Deletion at End\n",
    "    def DeleteAtEnd(self):\n",
    "       \n",
    "        if self.head == None:\n",
    "            print('Linked List is already EMPTY!!!')\n",
    "           \n",
    "        else:\n",
    "            temp = self.head\n",
    "           \n",
    "            while temp.next.next != None:\n",
    "                temp = temp.next\n",
    "           \n",
    "            print(f'{temp.next.data} has been deleted')    \n",
    "            temp.next = None\n",
    "   \n",
    "   \n",
    "    # To Print all elements in a Linked List\n",
    "    def DisplayList(self):\n",
    "        \n",
    "        if self.head == None:\n",
    "            print('List is Empty')\n",
    "        else:\n",
    "            temp = self.head\n",
    "       \n",
    "            while temp != None:\n",
    "                print(temp.data)\n",
    "                temp = temp.next"
   ]
  },
  {
   "cell_type": "code",
   "execution_count": 12,
   "id": "8cc71dad",
   "metadata": {},
   "outputs": [],
   "source": [
    "obj = SinglyLinkedList()"
   ]
  },
  {
   "cell_type": "code",
   "execution_count": 13,
   "id": "07230f02",
   "metadata": {},
   "outputs": [
    {
     "name": "stdout",
     "output_type": "stream",
     "text": [
      "List is Empty\n"
     ]
    }
   ],
   "source": [
    "obj.DisplayList()"
   ]
  },
  {
   "cell_type": "code",
   "execution_count": 14,
   "id": "3d487fd8",
   "metadata": {},
   "outputs": [],
   "source": [
    "obj.InsertAtStart(10)\n",
    "obj.InsertAtEnd(20)\n",
    "obj.InsertAtStart(30)\n",
    "obj.InsertAtEnd(40)\n",
    "obj.InsertAtStart(50)\n",
    "obj.InsertAtEnd(60)"
   ]
  },
  {
   "cell_type": "code",
   "execution_count": 15,
   "id": "ad333c77",
   "metadata": {},
   "outputs": [
    {
     "name": "stdout",
     "output_type": "stream",
     "text": [
      "50\n",
      "30\n",
      "10\n",
      "20\n",
      "40\n",
      "60\n"
     ]
    }
   ],
   "source": [
    "obj.DisplayList()"
   ]
  },
  {
   "cell_type": "code",
   "execution_count": 16,
   "id": "9502dc5b",
   "metadata": {},
   "outputs": [
    {
     "name": "stdout",
     "output_type": "stream",
     "text": [
      "50 has been deleted\n"
     ]
    }
   ],
   "source": [
    "obj.DeleteAtStart()"
   ]
  },
  {
   "cell_type": "code",
   "execution_count": 17,
   "id": "ac25a57d",
   "metadata": {
    "scrolled": true
   },
   "outputs": [
    {
     "name": "stdout",
     "output_type": "stream",
     "text": [
      "30\n",
      "10\n",
      "20\n",
      "40\n",
      "60\n"
     ]
    }
   ],
   "source": [
    "obj.DisplayList()"
   ]
  },
  {
   "cell_type": "code",
   "execution_count": null,
   "id": "4b046cfb",
   "metadata": {},
   "outputs": [],
   "source": []
  }
 ],
 "metadata": {
  "kernelspec": {
   "display_name": "Python 3 (ipykernel)",
   "language": "python",
   "name": "python3"
  },
  "language_info": {
   "codemirror_mode": {
    "name": "ipython",
    "version": 3
   },
   "file_extension": ".py",
   "mimetype": "text/x-python",
   "name": "python",
   "nbconvert_exporter": "python",
   "pygments_lexer": "ipython3",
   "version": "3.10.9"
  }
 },
 "nbformat": 4,
 "nbformat_minor": 5
}
