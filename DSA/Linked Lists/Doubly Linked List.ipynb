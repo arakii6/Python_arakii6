{
 "cells": [
  {
   "cell_type": "markdown",
   "id": "9fe664e7",
   "metadata": {},
   "source": [
    "#### Create a Node"
   ]
  },
  {
   "cell_type": "code",
   "execution_count": 2,
   "id": "578855ee",
   "metadata": {},
   "outputs": [],
   "source": [
    "# Initialise the Node\n",
    "class DoublyLinkedListNode:\n",
    "   \n",
    "    def __init__(self, data):\n",
    "        self.data = data\n",
    "        self.prev = None\n",
    "        self.next = None"
   ]
  },
  {
   "cell_type": "markdown",
   "id": "98274673",
   "metadata": {},
   "source": [
    "#### Create a Linked List"
   ]
  },
  {
   "cell_type": "code",
   "execution_count": 134,
   "id": "fc1cd855",
   "metadata": {},
   "outputs": [],
   "source": [
    "# Class for Doubly Linked List\n",
    "class DoublyLinkedList:\n",
    "    \n",
    "    def __init__(self):\n",
    "        self.head = None\n",
    "        \n",
    "        \n",
    "    # Insert Element at the Beginning\n",
    "    def InsertAtStart(self, node_data):\n",
    "        NewNode = DoublyLinkedListNode(node_data)\n",
    "        \n",
    "        # Insert Element to an Empty list\n",
    "        if self.head == None:\n",
    "            self.head = NewNode\n",
    "        else:\n",
    "            NewNode.next = self.head\n",
    "            self.head.prev = NewNode\n",
    "            self.head = NewNode\n",
    "            \n",
    "    \n",
    "    # Insert element at the end\n",
    "    def InsertAtEnd(self, node_data):\n",
    "        NewNode = DoublyLinkedListNode(node_data)\n",
    "        \n",
    "        # Check if the list is empty\n",
    "        if self.head == None:\n",
    "            self.head = NewNode\n",
    "            \n",
    "        else:\n",
    "            temp = self.head\n",
    "            \n",
    "            while temp.next:\n",
    "                temp = temp.next\n",
    "                \n",
    "            temp.next = NewNode\n",
    "            NewNode.prev = temp\n",
    "        \n",
    "    \n",
    "    # Insert at any Position\n",
    "    def InsertAtPosition(self,node_data,position):\n",
    "        NewNode = DoublyLinkedListNode(node_data)\n",
    "        \n",
    "        temp = self.head\n",
    "        count = 1\n",
    "        \n",
    "        while count < position and temp:\n",
    "            temp = temp.next\n",
    "            count += 1\n",
    "            \n",
    "        NewNode.next = temp.next\n",
    "        NewNode.prev = temp\n",
    "        temp.next.prev = NewNode\n",
    "        temp.next = NewNode\n",
    "        print(f'The next pointer of the node with data {NewNode.data} is pointing to the node with data {NewNode.next.data}')\n",
    "        print(f'The previous pointer of the node with data {NewNode.data} is pointing to the node with data {NewNode.prev.data}')\n",
    "        print(f'The next pointer of the node with data {temp.data} is pointing to the node with data {temp.next.data}')\n",
    "        print(f'The previous pointer of the node with data {NewNode.next.data} is pointing to the node with data {NewNode.next.prev.data}')\n",
    "    \n",
    "    \n",
    "    # Delete at the Beginning\n",
    "    def DeleteAtStart(self):\n",
    "        \n",
    "        # Check if the list is empty\n",
    "        if self.head == None:\n",
    "            print('Unable to DELETE, List is EMPTY!!!')\n",
    "            \n",
    "        else:\n",
    "            print(f'The node with data {self.head.data} is now DELETED')\n",
    "            self.head = self.head.next\n",
    "            \n",
    "    \n",
    "    # Delete at the End       \n",
    "    def DeleteAtEnd(self):\n",
    "        \n",
    "        # Check if the list is empty\n",
    "        if self.head == None:\n",
    "            print('Unable to DELETE, List is EMPTY!!!')\n",
    "            \n",
    "            \n",
    "        else:\n",
    "            temp = self.head\n",
    "            \n",
    "            while temp.next.next:\n",
    "                temp = temp.next\n",
    "            \n",
    "            print(f'The node with data {temp.next.data} is now DELETED')\n",
    "            temp.next = None\n",
    "        \n",
    "    \n",
    "    # Delete at the Any Position        \n",
    "    def DeleteAtPosition(self,position):\n",
    "        \n",
    "        temp = self.head\n",
    "        count = 1\n",
    "        \n",
    "        while count < position and temp:\n",
    "            temp = temp.next\n",
    "            count += 1\n",
    "        \n",
    "        print(f'The node with data {temp.next.data} is now DELETED')\n",
    "        temp.next = temp.next.next\n",
    "        print(f'The next pointer of the node with data {temp.data} is pointing to the node with data {temp.next.data}')\n",
    "        temp.next.prev = temp\n",
    "        print(f'The previous pointer of the node with data {temp.next.data} is pointing to the node with data {temp.next.prev.data}')\n",
    "    \n",
    "    \n",
    "    # Display the Data in the Linked List\n",
    "    def DisplayList(self):\n",
    "        \n",
    "        if self.head == None:\n",
    "            print('List is Empty')\n",
    "        else:\n",
    "            temp = self.head\n",
    "            while temp:\n",
    "                print(temp.data, end = ' ')\n",
    "                temp = temp.next"
   ]
  },
  {
   "cell_type": "code",
   "execution_count": 135,
   "id": "d4b726c3",
   "metadata": {},
   "outputs": [],
   "source": [
    "obj = DoublyLinkedList()"
   ]
  },
  {
   "cell_type": "code",
   "execution_count": 136,
   "id": "8dff912b",
   "metadata": {},
   "outputs": [],
   "source": [
    "obj.InsertAtStart(20)\n",
    "obj.InsertAtStart(60)\n",
    "obj.InsertAtStart(90)\n",
    "obj.InsertAtStart(30)\n",
    "obj.InsertAtStart(10)"
   ]
  },
  {
   "cell_type": "code",
   "execution_count": 109,
   "id": "a1f6860f",
   "metadata": {},
   "outputs": [
    {
     "name": "stdout",
     "output_type": "stream",
     "text": [
      "10 30 90 60 20 "
     ]
    }
   ],
   "source": [
    "obj.DisplayList()"
   ]
  },
  {
   "cell_type": "code",
   "execution_count": 137,
   "id": "a36d1fcd",
   "metadata": {
    "scrolled": true
   },
   "outputs": [],
   "source": [
    "obj.InsertAtEnd(100)\n",
    "obj.InsertAtEnd(200)"
   ]
  },
  {
   "cell_type": "code",
   "execution_count": 111,
   "id": "e111b5da",
   "metadata": {},
   "outputs": [
    {
     "name": "stdout",
     "output_type": "stream",
     "text": [
      "10 30 90 60 20 100 200 "
     ]
    }
   ],
   "source": [
    "obj.DisplayList()"
   ]
  },
  {
   "cell_type": "code",
   "execution_count": 16,
   "id": "363acdf5",
   "metadata": {},
   "outputs": [
    {
     "name": "stdout",
     "output_type": "stream",
     "text": [
      "10 is now DELETED\n"
     ]
    }
   ],
   "source": [
    "obj.DeleteAtStart()"
   ]
  },
  {
   "cell_type": "code",
   "execution_count": 17,
   "id": "81ccc737",
   "metadata": {},
   "outputs": [
    {
     "name": "stdout",
     "output_type": "stream",
     "text": [
      "30 90 60 20 100 200 "
     ]
    }
   ],
   "source": [
    "obj.DisplayList()"
   ]
  },
  {
   "cell_type": "code",
   "execution_count": 18,
   "id": "ed1b3e63",
   "metadata": {},
   "outputs": [
    {
     "name": "stdout",
     "output_type": "stream",
     "text": [
      "200 is now DELETED\n"
     ]
    }
   ],
   "source": [
    "obj.DeleteAtEnd()"
   ]
  },
  {
   "cell_type": "code",
   "execution_count": 104,
   "id": "617d64b1",
   "metadata": {},
   "outputs": [
    {
     "name": "stdout",
     "output_type": "stream",
     "text": [
      "10 30 90 60 20 100 200 "
     ]
    }
   ],
   "source": [
    "obj.DisplayList()"
   ]
  },
  {
   "cell_type": "code",
   "execution_count": 105,
   "id": "b3ce35fa",
   "metadata": {},
   "outputs": [
    {
     "name": "stdout",
     "output_type": "stream",
     "text": [
      "100 is now DELETED\n",
      "The next pointer of the node with data 20 is pointing to the node with data200\n",
      "The previous pointer of the node with data 200 is pointing to the node with data 20\n"
     ]
    }
   ],
   "source": [
    "obj.DeleteAtPosition(5)"
   ]
  },
  {
   "cell_type": "code",
   "execution_count": 138,
   "id": "d6f8d6e2",
   "metadata": {},
   "outputs": [
    {
     "name": "stdout",
     "output_type": "stream",
     "text": [
      "10 30 90 60 20 100 200 "
     ]
    }
   ],
   "source": [
    "obj.DisplayList()"
   ]
  },
  {
   "cell_type": "code",
   "execution_count": 139,
   "id": "18dd839e",
   "metadata": {},
   "outputs": [
    {
     "name": "stdout",
     "output_type": "stream",
     "text": [
      "The next pointer of the node with data 99 is pointing to the node with data 100\n",
      "The previous pointer of the node with data 99 is pointing to the node with data 20\n",
      "The next pointer of the node with data 20 is pointing to the node with data 99\n",
      "The previous pointer of the node with data 100 is pointing to the node with data 99\n"
     ]
    }
   ],
   "source": [
    "obj.InsertAtPosition(99,5)"
   ]
  },
  {
   "cell_type": "code",
   "execution_count": 140,
   "id": "282c43b2",
   "metadata": {},
   "outputs": [
    {
     "name": "stdout",
     "output_type": "stream",
     "text": [
      "10 30 90 60 20 99 100 200 "
     ]
    }
   ],
   "source": [
    "obj.DisplayList()"
   ]
  }
 ],
 "metadata": {
  "kernelspec": {
   "display_name": "Python 3 (ipykernel)",
   "language": "python",
   "name": "python3"
  },
  "language_info": {
   "codemirror_mode": {
    "name": "ipython",
    "version": 3
   },
   "file_extension": ".py",
   "mimetype": "text/x-python",
   "name": "python",
   "nbconvert_exporter": "python",
   "pygments_lexer": "ipython3",
   "version": "3.10.9"
  }
 },
 "nbformat": 4,
 "nbformat_minor": 5
}
