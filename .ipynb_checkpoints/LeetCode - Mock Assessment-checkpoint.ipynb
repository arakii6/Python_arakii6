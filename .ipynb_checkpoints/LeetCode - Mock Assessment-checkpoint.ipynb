{
 "cells": [
  {
   "cell_type": "markdown",
   "id": "25363bd6",
   "metadata": {},
   "source": [
    "#### Given two strings s and goal, return true if and only if s can become goal after some number of shifts on s.\n",
    "\n",
    "A shift on s consists of moving the leftmost character of s to the rightmost position.\n",
    "\n",
    "For example, if s = \"abcde\", then it will be \"bcdea\" after one shift.\n",
    " \n",
    "\n",
    "Example 1:\n",
    "Input: s = \"abcde\", goal = \"cdeab\"\n",
    "Output: true\n",
    "\n",
    "Example 2:\n",
    "Input: s = \"abcde\", goal = \"abced\"\n",
    "Output: false"
   ]
  },
  {
   "cell_type": "code",
   "execution_count": 78,
   "id": "27db7279",
   "metadata": {},
   "outputs": [],
   "source": [
    "def rotateString(s,goal):\n",
    "\n",
    "    for i in range(len(s)):\n",
    "        if s == goal:\n",
    "            return True\n",
    "        else:\n",
    "            s = s[1::] + s[0]\n",
    "                \n",
    "    return False"
   ]
  },
  {
   "cell_type": "code",
   "execution_count": 79,
   "id": "e6d6a706",
   "metadata": {},
   "outputs": [
    {
     "data": {
      "text/plain": [
       "False"
      ]
     },
     "execution_count": 79,
     "metadata": {},
     "output_type": "execute_result"
    }
   ],
   "source": [
    "rotateString(\"abcde\",\"abced\")"
   ]
  },
  {
   "cell_type": "markdown",
   "id": "51d82a7a",
   "metadata": {},
   "source": [
    "----"
   ]
  },
  {
   "cell_type": "markdown",
   "id": "6edb1c18",
   "metadata": {},
   "source": [
    "#### Given an integer array of size n, find all elements that appear more than ⌊ n/3 ⌋ times."
   ]
  },
  {
   "cell_type": "code",
   "execution_count": 71,
   "id": "fbdda1ec",
   "metadata": {},
   "outputs": [],
   "source": [
    "from collections import Counter\n",
    "\n",
    "def majorityElement(nums):\n",
    "    \n",
    "    n = len(nums)\n",
    "    nums = Counter(nums)\n",
    "    result = []\n",
    "    \n",
    "    for i in nums.keys():\n",
    "        if nums[i] > n/3:\n",
    "            result.append(i)\n",
    "    \n",
    "    return result"
   ]
  },
  {
   "cell_type": "code",
   "execution_count": 72,
   "id": "e809fd00",
   "metadata": {},
   "outputs": [
    {
     "data": {
      "text/plain": [
       "[3]"
      ]
     },
     "execution_count": 72,
     "metadata": {},
     "output_type": "execute_result"
    }
   ],
   "source": [
    "majorityElement([3,2,3])"
   ]
  },
  {
   "cell_type": "markdown",
   "id": "de128962",
   "metadata": {},
   "source": [
    "-----------------"
   ]
  },
  {
   "cell_type": "markdown",
   "id": "b293629c",
   "metadata": {},
   "source": [
    "#### Minimize String Length\n",
    "\n",
    "Given a 0-indexed string s, repeatedly perform the following operation any number of times:\n",
    "\n",
    "Choose an index i in the string, and let c be the character in position i. Delete the closest occurrence of c to the left of i (if any) and the closest occurrence of c to the right of i (if any).\n",
    "Your task is to minimize the length of s by performing the above operation any number of times.\n",
    "\n",
    "Return an integer denoting the length of the minimized string."
   ]
  },
  {
   "cell_type": "code",
   "execution_count": 7,
   "id": "e78196e4",
   "metadata": {},
   "outputs": [],
   "source": [
    "def minimizedStringLength(s):\n",
    "    \n",
    "    return len(set(s))"
   ]
  },
  {
   "cell_type": "code",
   "execution_count": 8,
   "id": "e90ac1a5",
   "metadata": {},
   "outputs": [
    {
     "data": {
      "text/plain": [
       "2"
      ]
     },
     "execution_count": 8,
     "metadata": {},
     "output_type": "execute_result"
    }
   ],
   "source": [
    "minimizedStringLength(\"dddaaa\")"
   ]
  },
  {
   "cell_type": "markdown",
   "id": "ef883a2b",
   "metadata": {},
   "source": [
    "---------"
   ]
  },
  {
   "cell_type": "markdown",
   "id": "18be201e",
   "metadata": {},
   "source": [
    "#### Semi-Ordered Permutation\n",
    "\n",
    "You are given a 0-indexed permutation of n integers nums.\n",
    "\n",
    "A permutation is called semi-ordered if the first number equals 1 and the last number equals n. You can perform the below operation as many times as you want until you make nums a semi-ordered permutation:\n",
    "\n",
    "1. Pick two adjacent elements in nums, then swap them.\n",
    "Return the minimum number of operations to make nums a semi-ordered permutation.\n",
    "\n",
    "A permutation is a sequence of integers from 1 to n of length n containing each number exactly once."
   ]
  },
  {
   "cell_type": "code",
   "execution_count": 9,
   "id": "7156e973",
   "metadata": {},
   "outputs": [],
   "source": [
    "def semiOrderedPermutation(nums):\n",
    "    \n",
    "    n = len(nums)\n",
    "    \n",
    "    if nums[0] == 1 and nums[-1] == n:\n",
    "        return 0\n",
    "    \n",
    "    else:\n",
    "        count = 0\n",
    "        for i in range(n):\n",
    "            for j in range(1,n):\n",
    "                num[i],nums[j] = nums[j],nums[i]\n",
    "                count += 1\n",
    "                if nums[0] == 1 and nums[-1] == n:\n",
    "                    return count"
   ]
  },
  {
   "cell_type": "code",
   "execution_count": null,
   "id": "03a47faa",
   "metadata": {},
   "outputs": [],
   "source": []
  }
 ],
 "metadata": {
  "kernelspec": {
   "display_name": "Python 3 (ipykernel)",
   "language": "python",
   "name": "python3"
  },
  "language_info": {
   "codemirror_mode": {
    "name": "ipython",
    "version": 3
   },
   "file_extension": ".py",
   "mimetype": "text/x-python",
   "name": "python",
   "nbconvert_exporter": "python",
   "pygments_lexer": "ipython3",
   "version": "3.10.9"
  }
 },
 "nbformat": 4,
 "nbformat_minor": 5
}
