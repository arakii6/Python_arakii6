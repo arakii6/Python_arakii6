{
 "cells": [
  {
   "cell_type": "markdown",
   "id": "25363bd6",
   "metadata": {},
   "source": [
    "#### Given two strings s and goal, return true if and only if s can become goal after some number of shifts on s.\n",
    "\n",
    "A shift on s consists of moving the leftmost character of s to the rightmost position.\n",
    "\n",
    "For example, if s = \"abcde\", then it will be \"bcdea\" after one shift.\n",
    " \n",
    "\n",
    "Example 1:\n",
    "Input: s = \"abcde\", goal = \"cdeab\"\n",
    "Output: true\n",
    "\n",
    "Example 2:\n",
    "Input: s = \"abcde\", goal = \"abced\"\n",
    "Output: false"
   ]
  },
  {
   "cell_type": "code",
   "execution_count": 78,
   "id": "27db7279",
   "metadata": {},
   "outputs": [],
   "source": [
    "def rotateString(s,goal):\n",
    "\n",
    "    for i in range(len(s)):\n",
    "        if s == goal:\n",
    "            return True\n",
    "        else:\n",
    "            s = s[1::] + s[0]\n",
    "                \n",
    "    return False"
   ]
  },
  {
   "cell_type": "code",
   "execution_count": 79,
   "id": "e6d6a706",
   "metadata": {},
   "outputs": [
    {
     "data": {
      "text/plain": [
       "False"
      ]
     },
     "execution_count": 79,
     "metadata": {},
     "output_type": "execute_result"
    }
   ],
   "source": [
    "rotateString(\"abcde\",\"abced\")"
   ]
  },
  {
   "cell_type": "markdown",
   "id": "51d82a7a",
   "metadata": {},
   "source": [
    "----"
   ]
  },
  {
   "cell_type": "markdown",
   "id": "6edb1c18",
   "metadata": {},
   "source": [
    "#### Given an integer array of size n, find all elements that appear more than ⌊ n/3 ⌋ times."
   ]
  },
  {
   "cell_type": "code",
   "execution_count": 71,
   "id": "fbdda1ec",
   "metadata": {},
   "outputs": [],
   "source": [
    "from collections import Counter\n",
    "\n",
    "def majorityElement(nums):\n",
    "    \n",
    "    n = len(nums)\n",
    "    nums = Counter(nums)\n",
    "    result = []\n",
    "    \n",
    "    for i in nums.keys():\n",
    "        if nums[i] > n/3:\n",
    "            result.append(i)\n",
    "    \n",
    "    return result"
   ]
  },
  {
   "cell_type": "code",
   "execution_count": 72,
   "id": "e809fd00",
   "metadata": {},
   "outputs": [
    {
     "data": {
      "text/plain": [
       "[3]"
      ]
     },
     "execution_count": 72,
     "metadata": {},
     "output_type": "execute_result"
    }
   ],
   "source": [
    "majorityElement([3,2,3])"
   ]
  }
 ],
 "metadata": {
  "kernelspec": {
   "display_name": "Python 3 (ipykernel)",
   "language": "python",
   "name": "python3"
  },
  "language_info": {
   "codemirror_mode": {
    "name": "ipython",
    "version": 3
   },
   "file_extension": ".py",
   "mimetype": "text/x-python",
   "name": "python",
   "nbconvert_exporter": "python",
   "pygments_lexer": "ipython3",
   "version": "3.10.9"
  }
 },
 "nbformat": 4,
 "nbformat_minor": 5
}
