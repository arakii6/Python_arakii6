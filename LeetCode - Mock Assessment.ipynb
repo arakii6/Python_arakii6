{
 "cells": [
  {
   "cell_type": "markdown",
   "id": "25363bd6",
   "metadata": {},
   "source": [
    "#### Given two strings s and goal, return true if and only if s can become goal after some number of shifts on s.\n",
    "\n",
    "A shift on s consists of moving the leftmost character of s to the rightmost position.\n",
    "\n",
    "For example, if s = \"abcde\", then it will be \"bcdea\" after one shift.\n",
    " \n",
    "\n",
    "Example 1:\n",
    "Input: s = \"abcde\", goal = \"cdeab\"\n",
    "Output: true\n",
    "\n",
    "Example 2:\n",
    "Input: s = \"abcde\", goal = \"abced\"\n",
    "Output: false"
   ]
  },
  {
   "cell_type": "code",
   "execution_count": 78,
   "id": "27db7279",
   "metadata": {},
   "outputs": [],
   "source": [
    "def rotateString(s,goal):\n",
    "\n",
    "    for i in range(len(s)):\n",
    "        if s == goal:\n",
    "            return True\n",
    "        else:\n",
    "            s = s[1::] + s[0]\n",
    "                \n",
    "    return False"
   ]
  },
  {
   "cell_type": "code",
   "execution_count": 79,
   "id": "e6d6a706",
   "metadata": {},
   "outputs": [
    {
     "data": {
      "text/plain": [
       "False"
      ]
     },
     "execution_count": 79,
     "metadata": {},
     "output_type": "execute_result"
    }
   ],
   "source": [
    "rotateString(\"abcde\",\"abced\")"
   ]
  },
  {
   "cell_type": "markdown",
   "id": "51d82a7a",
   "metadata": {},
   "source": [
    "----"
   ]
  },
  {
   "cell_type": "markdown",
   "id": "6edb1c18",
   "metadata": {},
   "source": [
    "#### Given an integer array of size n, find all elements that appear more than ⌊ n/3 ⌋ times."
   ]
  },
  {
   "cell_type": "code",
   "execution_count": 71,
   "id": "fbdda1ec",
   "metadata": {},
   "outputs": [],
   "source": [
    "from collections import Counter\n",
    "\n",
    "def majorityElement(nums):\n",
    "    \n",
    "    n = len(nums)\n",
    "    nums = Counter(nums)\n",
    "    result = []\n",
    "    \n",
    "    for i in nums.keys():\n",
    "        if nums[i] > n/3:\n",
    "            result.append(i)\n",
    "    \n",
    "    return result"
   ]
  },
  {
   "cell_type": "code",
   "execution_count": 72,
   "id": "e809fd00",
   "metadata": {},
   "outputs": [
    {
     "data": {
      "text/plain": [
       "[3]"
      ]
     },
     "execution_count": 72,
     "metadata": {},
     "output_type": "execute_result"
    }
   ],
   "source": [
    "majorityElement([3,2,3])"
   ]
  },
  {
   "cell_type": "markdown",
   "id": "652ea5f4",
   "metadata": {},
   "source": [
    "-----------------"
   ]
  },
  {
   "cell_type": "markdown",
   "id": "c975c67e",
   "metadata": {},
   "source": [
    "#### Minimize String Length\n",
    "\n",
    "Given a 0-indexed string s, repeatedly perform the following operation any number of times:\n",
    "\n",
    "Choose an index i in the string, and let c be the character in position i. Delete the closest occurrence of c to the left of i (if any) and the closest occurrence of c to the right of i (if any).\n",
    "Your task is to minimize the length of s by performing the above operation any number of times.\n",
    "\n",
    "Return an integer denoting the length of the minimized string."
   ]
  },
  {
   "cell_type": "code",
   "execution_count": 7,
   "id": "d1e120d1",
   "metadata": {},
   "outputs": [],
   "source": [
    "def minimizedStringLength(s):\n",
    "    return len(set(s))"
   ]
  },
  {
   "cell_type": "code",
   "execution_count": 8,
   "id": "d5d80d02",
   "metadata": {},
   "outputs": [
    {
     "data": {
      "text/plain": [
       "2"
      ]
     },
     "execution_count": 8,
     "metadata": {},
     "output_type": "execute_result"
    }
   ],
   "source": [
    "minimizedStringLength(\"dddaaa\")"
   ]
  },
  {
   "cell_type": "markdown",
   "id": "645fcb9a",
   "metadata": {},
   "source": [
    "---------"
   ]
  },
  {
   "cell_type": "markdown",
   "id": "daa0ab2c",
   "metadata": {},
   "source": [
    "#### Semi-Ordered Permutation\n",
    "\n",
    "You are given a 0-indexed permutation of n integers nums.\n",
    "\n",
    "A permutation is called semi-ordered if the first number equals 1 and the last number equals n. You can perform the below operation as many times as you want until you make nums a semi-ordered permutation:\n",
    "\n",
    "1. Pick two adjacent elements in nums, then swap them.\n",
    "Return the minimum number of operations to make nums a semi-ordered permutation.\n",
    "\n",
    "A permutation is a sequence of integers from 1 to n of length n containing each number exactly once."
   ]
  },
  {
   "cell_type": "code",
   "execution_count": 73,
   "id": "e5c82e15",
   "metadata": {},
   "outputs": [],
   "source": [
    "def semiOrderedPermutation(nums):\n",
    "    \n",
    "    n = len(nums)\n",
    "    count = 0\n",
    "    \n",
    "    # We shift 1 to the left until it reaches index 0\n",
    "    x = nums.index(1)\n",
    "    \n",
    "    while nums[0] != 1 and x != -1:\n",
    "        nums[x-1],nums[x] = nums[x],nums[x-1]\n",
    "        count += 1\n",
    "        x -= 1\n",
    "    \n",
    "    \n",
    "    # We shift n to the right until it reaches index -1\n",
    "    y = nums.index(n)\n",
    "    \n",
    "    while nums[-1] != n and y != n-1:\n",
    "        nums[y],nums[y+1] = nums[y+1],nums[y]\n",
    "        count += 1\n",
    "        y += 1\n",
    "        \n",
    "    return count"
   ]
  },
  {
   "cell_type": "code",
   "execution_count": 74,
   "id": "1e8eb07c",
   "metadata": {},
   "outputs": [
    {
     "data": {
      "text/plain": [
       "3"
      ]
     },
     "execution_count": 74,
     "metadata": {},
     "output_type": "execute_result"
    }
   ],
   "source": [
    "semiOrderedPermutation([2,4,1,3])"
   ]
  },
  {
   "cell_type": "code",
   "execution_count": 75,
   "id": "0cc666d9",
   "metadata": {
    "scrolled": true
   },
   "outputs": [
    {
     "data": {
      "text/plain": [
       "2"
      ]
     },
     "execution_count": 75,
     "metadata": {},
     "output_type": "execute_result"
    }
   ],
   "source": [
    "semiOrderedPermutation([2,1,4,3])"
   ]
  },
  {
   "cell_type": "code",
   "execution_count": 76,
   "id": "884696bc",
   "metadata": {},
   "outputs": [
    {
     "data": {
      "text/plain": [
       "0"
      ]
     },
     "execution_count": 76,
     "metadata": {},
     "output_type": "execute_result"
    }
   ],
   "source": [
    "semiOrderedPermutation([1,3,4,2,5])"
   ]
  },
  {
   "cell_type": "code",
   "execution_count": 111,
   "id": "65d38b86",
   "metadata": {},
   "outputs": [],
   "source": [
    "def semiOrderedPermutation(nums):\n",
    "    \n",
    "    n = len(nums)\n",
    "    low,high = nums.index(1),nums.index(n)\n",
    "    res = low + n - 1 - high\n",
    "    \n",
    "    if low > high:\n",
    "        return res - 1\n",
    "    else:\n",
    "        return res"
   ]
  },
  {
   "cell_type": "code",
   "execution_count": 112,
   "id": "180b2a28",
   "metadata": {
    "scrolled": true
   },
   "outputs": [
    {
     "data": {
      "text/plain": [
       "3"
      ]
     },
     "execution_count": 112,
     "metadata": {},
     "output_type": "execute_result"
    }
   ],
   "source": [
    "semiOrderedPermutation([2,4,1,3])"
   ]
  },
  {
   "cell_type": "code",
   "execution_count": 113,
   "id": "637a92b6",
   "metadata": {},
   "outputs": [
    {
     "data": {
      "text/plain": [
       "2"
      ]
     },
     "execution_count": 113,
     "metadata": {},
     "output_type": "execute_result"
    }
   ],
   "source": [
    "semiOrderedPermutation([2,1,4,3])"
   ]
  },
  {
   "cell_type": "markdown",
   "id": "f1f872c9",
   "metadata": {},
   "source": [
    "----------"
   ]
  },
  {
   "cell_type": "markdown",
   "id": "5a12eeb9",
   "metadata": {},
   "source": [
    "### Count of Integers\n",
    "\n",
    "You are given two numeric strings num1 and num2 and two integers max_sum and min_sum. We denote an integer x to be good if:\n",
    "\n",
    "1. num1 <= x <= num2\n",
    "2. min_sum <= digit_sum(x) <= max_sum.\n",
    "\n",
    "Return the number of good integers. Since the answer may be large, return it modulo 10**9 + 7.\n",
    "\n",
    "Note that digit_sum(x) denotes the sum of the digits of x."
   ]
  },
  {
   "cell_type": "code",
   "execution_count": 70,
   "id": "3e9c2328",
   "metadata": {},
   "outputs": [],
   "source": [
    "'''\n",
    "Won't work due to these Constraints:\n",
    "\n",
    "1 <= num1 <= num2 <= 1022\n",
    "1 <= min_sum <= max_sum <= 400\n",
    "\n",
    "Need to use Dynamic Problem to solve it\n",
    "'''\n",
    "\n",
    "def count(num1,num2,min_sum,max_sum):\n",
    "    \n",
    "    count = 0\n",
    "    str_list = [str(i) for i in range(int(num1),int(num2)+1)]\n",
    "    mn = []\n",
    "    \n",
    "    \n",
    "    for s in str_list:\n",
    "        if len(s) == 1 :\n",
    "            if min_sum <= int(s) <= max_sum:\n",
    "                count += 1        \n",
    "        else:\n",
    "            temp = 0\n",
    "            if len(s) > 1:\n",
    "                for i in s:\n",
    "                    temp += int(i)\n",
    "                mn.append(temp)\n",
    "                \n",
    "    for m in mn:\n",
    "        if min_sum <= m <= max_sum:\n",
    "            count += 1\n",
    "    \n",
    "    return count"
   ]
  },
  {
   "cell_type": "code",
   "execution_count": 71,
   "id": "ab23042f",
   "metadata": {},
   "outputs": [
    {
     "data": {
      "text/plain": [
       "11"
      ]
     },
     "execution_count": 71,
     "metadata": {},
     "output_type": "execute_result"
    }
   ],
   "source": [
    "count(\"1\",\"12\",1,8)"
   ]
  },
  {
   "cell_type": "markdown",
   "id": "d3bb36f7",
   "metadata": {},
   "source": [
    "-----"
   ]
  },
  {
   "cell_type": "markdown",
   "id": "a4a207e8",
   "metadata": {},
   "source": [
    "### Sum of Matrix After Queries\n",
    "You are given an integer n and a 0-indexed 2D array queries where queries[i] = [typei, indexi, vali].\n",
    "\n",
    "Initially, there is a 0-indexed n x n matrix filled with 0's. For each query, you must apply one of the following changes:\n",
    "\n",
    "if typei == 0, set the values in the row with indexi to vali, overwriting any previous values.\n",
    "if typei == 1, set the values in the column with indexi to vali, overwriting any previous values.\n",
    "Return the sum of integers in the matrix after all queries are applied."
   ]
  },
  {
   "cell_type": "code",
   "execution_count": 84,
   "id": "529c5a27",
   "metadata": {},
   "outputs": [],
   "source": [
    "def matrixSumQueries(n,queries):\n",
    "    \n",
    "    arr = [[0 for i in range(n)] for i in range(n)]\n",
    "    result = 0\n",
    "    \n",
    "    for t,i,v in queries: \n",
    "        if t == 0:\n",
    "            for r in range(n):\n",
    "                arr[i][r] = v\n",
    "        else:\n",
    "            for c in range(n):\n",
    "                arr[c][i] = v\n",
    "    \n",
    "    for a in arr:\n",
    "        result += sum(a)\n",
    "    \n",
    "    return result   "
   ]
  },
  {
   "cell_type": "code",
   "execution_count": 85,
   "id": "d6733732",
   "metadata": {},
   "outputs": [
    {
     "data": {
      "text/plain": [
       "23"
      ]
     },
     "execution_count": 85,
     "metadata": {},
     "output_type": "execute_result"
    }
   ],
   "source": [
    "matrixSumQueries(3,[[0,0,1],[1,2,2],[0,2,3],[1,0,4]])"
   ]
  },
  {
   "cell_type": "code",
   "execution_count": 75,
   "id": "01d7354e",
   "metadata": {},
   "outputs": [
    {
     "data": {
      "text/plain": [
       "[[0, 0, 0], [0, 0, 0], [0, 0, 0]]"
      ]
     },
     "execution_count": 75,
     "metadata": {},
     "output_type": "execute_result"
    }
   ],
   "source": [
    "print(f\"Initial List: {arr}\")"
   ]
  }
 ],
 "metadata": {
  "kernelspec": {
   "display_name": "Python 3 (ipykernel)",
   "language": "python",
   "name": "python3"
  },
  "language_info": {
   "codemirror_mode": {
    "name": "ipython",
    "version": 3
   },
   "file_extension": ".py",
   "mimetype": "text/x-python",
   "name": "python",
   "nbconvert_exporter": "python",
   "pygments_lexer": "ipython3",
   "version": "3.10.9"
  }
 },
 "nbformat": 4,
 "nbformat_minor": 5
}
