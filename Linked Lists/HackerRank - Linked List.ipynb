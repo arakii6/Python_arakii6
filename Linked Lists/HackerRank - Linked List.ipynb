{
 "cells": [
  {
   "cell_type": "markdown",
   "id": "4a171b05",
   "metadata": {},
   "source": [
    "## Node & Linked List"
   ]
  },
  {
   "cell_type": "code",
   "execution_count": 5,
   "id": "049522c8",
   "metadata": {},
   "outputs": [],
   "source": [
    "class Node:\n",
    "    \n",
    "    def __init__(self,data):\n",
    "        self.data = data\n",
    "        self.next = None\n",
    "\n",
    "\n",
    "class LinkedList:\n",
    "    \n",
    "    def __init__(self):\n",
    "        self.head = None"
   ]
  },
  {
   "cell_type": "markdown",
   "id": "ba5b61a4",
   "metadata": {},
   "source": [
    "----"
   ]
  },
  {
   "cell_type": "markdown",
   "id": "b0566d03",
   "metadata": {},
   "source": [
    "#### Print the Elements of a Linked List"
   ]
  },
  {
   "cell_type": "code",
   "execution_count": 6,
   "id": "7b3cff64",
   "metadata": {},
   "outputs": [],
   "source": [
    "def printLinkedList(head):\n",
    "    \n",
    "    temp = head\n",
    "        \n",
    "    while temp != None:\n",
    "        print(temp.data)\n",
    "        temp = temp.next\n",
    "    \n",
    "    return head"
   ]
  },
  {
   "cell_type": "markdown",
   "id": "0bbcc8ef",
   "metadata": {},
   "source": [
    "#### Insert a Node at the Tail of a Linked List"
   ]
  },
  {
   "cell_type": "code",
   "execution_count": 8,
   "id": "36d29780",
   "metadata": {},
   "outputs": [],
   "source": [
    "def insertNodeAtTail(head, data):\n",
    "    \n",
    "    NewNode = Node(data)\n",
    "    \n",
    "    if head == None:\n",
    "        head = NewNode\n",
    "        \n",
    "    else:\n",
    "        temp = head\n",
    "        \n",
    "        while temp.next != None:\n",
    "            temp = temp.next\n",
    "            \n",
    "        temp.next = NewNode\n",
    "    \n",
    "    return head,head.data"
   ]
  },
  {
   "cell_type": "markdown",
   "id": "3894e5cc",
   "metadata": {},
   "source": [
    "#### Insert a node at the head of a linked list"
   ]
  },
  {
   "cell_type": "code",
   "execution_count": null,
   "id": "8fe668b9",
   "metadata": {},
   "outputs": [],
   "source": [
    "def insertNodeAtHead(head, data):\n",
    "    NewNode = Node(data)\n",
    "    \n",
    "    if head == None:\n",
    "        head = NewNode\n",
    "        \n",
    "    else:\n",
    "        NewNode.next = head\n",
    "        head = NewNode\n",
    "        \n",
    "    return head"
   ]
  },
  {
   "cell_type": "markdown",
   "id": "1044596d",
   "metadata": {},
   "source": [
    "----"
   ]
  },
  {
   "cell_type": "markdown",
   "id": "b75e9b6c",
   "metadata": {},
   "source": [
    "### Insert a Node\n",
    "Given the pointer to the head node of a linked list and an integer to insert at a certain position, create a new node with the given integer as its data attribute, insert this node at the desired position and return the head node.\n",
    "\n",
    "A position of 0 indicates head, a position of 1 indicates one node away from the head and so on. The head pointer given may be null meaning that the initial list is empty."
   ]
  },
  {
   "cell_type": "code",
   "execution_count": null,
   "id": "9a95b37b",
   "metadata": {},
   "outputs": [],
   "source": [
    "def insertNodeAtPosition(head, data, position):\n",
    "    \n",
    "    NewNode = Node(data)\n",
    "    \n",
    "    if head == None:\n",
    "        head = NewNode\n",
    "        \n",
    "    else:\n",
    "        temp = head\n",
    "        count = 0\n",
    "        \n",
    "        while count < position - 1 and temp != None:\n",
    "            temp = temp.next\n",
    "            count += 1\n",
    "        \n",
    "        NewNode.next = temp.next\n",
    "        temp.next = NewNode\n",
    "        \n",
    "    return head"
   ]
  },
  {
   "cell_type": "markdown",
   "id": "2139f529",
   "metadata": {},
   "source": [
    "-----"
   ]
  },
  {
   "cell_type": "markdown",
   "id": "1a363c3e",
   "metadata": {},
   "source": [
    "### Delete a Node\n",
    "\n",
    "Delete the node at a given position in a linked list and return a reference to the head node. The head is at position 0. The list may be empty after you delete the node. In that case, return a null value."
   ]
  },
  {
   "cell_type": "code",
   "execution_count": null,
   "id": "e2b77f38",
   "metadata": {},
   "outputs": [],
   "source": [
    "def deleteNode(head, position):\n",
    "    \n",
    "    # Corner Case - If Linked List is empty to begin with\n",
    "    if head == None:\n",
    "        return None\n",
    "    \n",
    "    \n",
    "    else:\n",
    "        # If we're asked to delete the first node\n",
    "        if position == 0:\n",
    "            head = head.next\n",
    "            \n",
    "        # To delete a node in any postion \n",
    "        else:\n",
    "            temp = head\n",
    "            count = 0\n",
    "            \n",
    "            while count < position - 1 and temp != None:\n",
    "                temp = temp.next\n",
    "                count += 1\n",
    "            \n",
    "            temp.next = temp.next.next\n",
    "    \n",
    "    # If the Linked List is empty after deleting the Node        \n",
    "    if head == None:\n",
    "        return None\n",
    "        \n",
    "    else:\n",
    "        return head"
   ]
  },
  {
   "cell_type": "markdown",
   "id": "2703d7c4",
   "metadata": {},
   "source": [
    "-------"
   ]
  },
  {
   "cell_type": "markdown",
   "id": "63f6dc5a",
   "metadata": {},
   "source": [
    "### Print in Reverse\n",
    "Given a pointer to the head of a singly-linked list, print each data value from the reversed list. If the given list is empty, do not print anything."
   ]
  },
  {
   "cell_type": "code",
   "execution_count": 19,
   "id": "424436db",
   "metadata": {},
   "outputs": [],
   "source": [
    "def reversePrint(head):\n",
    "    \n",
    "    if head == None:\n",
    "        return None\n",
    "            \n",
    "    else:\n",
    "        temp = head\n",
    "        rlist = []\n",
    "        \n",
    "        while temp != None:\n",
    "            rlist.append(temp.data)\n",
    "            temp = temp.next\n",
    "                  \n",
    "    rlist.reverse()\n",
    "            \n",
    "    for i in rlist:\n",
    "        print (i)"
   ]
  },
  {
   "cell_type": "code",
   "execution_count": 20,
   "id": "7299ee7e",
   "metadata": {},
   "outputs": [],
   "source": [
    "# Can also be solved by using recursion:\n",
    "\n",
    "def reversePrint(head):\n",
    "    \n",
    "    if head == None:\n",
    "        return None\n",
    "    \n",
    "    temp = head\n",
    "    reversePrint(temp.next)\n",
    "    print(temp.data)"
   ]
  },
  {
   "cell_type": "markdown",
   "id": "ac16639f",
   "metadata": {},
   "source": [
    "----------"
   ]
  },
  {
   "cell_type": "markdown",
   "id": "4f66e8fa",
   "metadata": {},
   "source": [
    "### Reverse a Linked List\n",
    "##### Works for both Singly and Doubly Linked List\n",
    "Given the pointer to the head node of a linked list, change the next pointers of the nodes so that their order is reversed. The head pointer given may be null meaning that the initial list is empty."
   ]
  },
  {
   "cell_type": "code",
   "execution_count": 1,
   "id": "ce445ab3",
   "metadata": {},
   "outputs": [],
   "source": [
    "# Using Iteration\n",
    "\n",
    "def reverse(head):\n",
    "    \n",
    "    # Initializing\n",
    "    cur = head\n",
    "    prev = None\n",
    "    \n",
    "    \n",
    "    while cur != None:\n",
    "        \n",
    "        # Securing the next node before we break the link, and saving the node in temp\n",
    "        temp = cur.next\n",
    "        \n",
    "        # Breaking the link to the next node and pointing towards the previous node\n",
    "        cur.next = prev\n",
    "        \n",
    "        # Now we move forward\n",
    "        prev = cur\n",
    "        cur = temp\n",
    "        \n",
    "        \n",
    "    # the head is now prev\n",
    "    return prev"
   ]
  },
  {
   "cell_type": "code",
   "execution_count": 2,
   "id": "973c9c22",
   "metadata": {},
   "outputs": [],
   "source": [
    "# Using Recursion\n",
    "\n",
    "def reverse(head):\n",
    "    \n",
    "    if head == None or head.next == None:\n",
    "        return head\n",
    "    \n",
    "    # This recursive method will make the last node of the list as the new head\n",
    "    new_head = reverse(head.next)\n",
    "    \n",
    "    # Once we have the last node as the new head here we can start the reverse journey as the recursion method unfolds\n",
    "    temp = head.next\n",
    "    temp.next = head\n",
    "    head.next = None\n",
    "    \n",
    "    return new_head"
   ]
  },
  {
   "cell_type": "markdown",
   "id": "8572a28d",
   "metadata": {},
   "source": [
    "-------------"
   ]
  },
  {
   "cell_type": "markdown",
   "id": "372ebe13",
   "metadata": {},
   "source": [
    "### Compare 2 Linked Lists\n",
    "You’re given the pointer to the head nodes of two linked lists. Compare the data in the nodes of the linked lists to check if they are equal. If all data attributes are equal and the lists are the same length, return 1. Otherwise, return 0."
   ]
  },
  {
   "cell_type": "code",
   "execution_count": 1,
   "id": "d5f0d816",
   "metadata": {},
   "outputs": [],
   "source": [
    "def compare_lists(head1, head2):\n",
    "    \n",
    "    while head1 != None and head2 != None and head1.data == head2.data:  \n",
    "        head1 = head1.next\n",
    "        head2 = head2.next    \n",
    "        \n",
    "    if head1 == None and head2 == None:\n",
    "        return 1\n",
    "    else:\n",
    "        return 0"
   ]
  },
  {
   "cell_type": "markdown",
   "id": "b99bef6d",
   "metadata": {},
   "source": [
    "--------"
   ]
  },
  {
   "cell_type": "markdown",
   "id": "c41ad9fc",
   "metadata": {},
   "source": [
    "### Get Node Value\n",
    "Given a pointer to the head of a linked list and a specific position, determine the data value at that position. Count backwards from the tail node. The tail is at postion 0, its parent is at 1 and so on."
   ]
  },
  {
   "cell_type": "code",
   "execution_count": 1,
   "id": "602b3b96",
   "metadata": {},
   "outputs": [],
   "source": [
    "# My Way\n",
    "\n",
    "def getNode(head, positionFromTail):\n",
    "    \n",
    "    # Reversed the Linked List using iteration as we practised earlier\n",
    "    cur = head\n",
    "    prev = None\n",
    "    \n",
    "    while cur != None:\n",
    "        temp = cur.next\n",
    "        cur.next = prev\n",
    "        \n",
    "        prev = cur\n",
    "        cur = temp\n",
    "    \n",
    "    # Now the Linked list is reversed and prev is the new head\n",
    "    # We iterate on it as per the value of positionFromTail to reach the specific node\n",
    "    # And return it's data\n",
    "    for i in range(positionFromTail):\n",
    "        prev = prev.next\n",
    "        \n",
    "    return prev.data"
   ]
  },
  {
   "cell_type": "code",
   "execution_count": 3,
   "id": "aba164d1",
   "metadata": {},
   "outputs": [],
   "source": [
    "# Without reversing the Linked List\n",
    "\n",
    "def getNode(head, positionFromTail):\n",
    "    \n",
    "    p1 = head\n",
    "    p2 = head\n",
    "    \n",
    "    for i in range(positionFromTail):\n",
    "        p1 = p1.next\n",
    "        \n",
    "    while p1.next != None:\n",
    "        p1 = p1.next\n",
    "        p2 = p2.next\n",
    "        \n",
    "    return p2.data"
   ]
  },
  {
   "cell_type": "markdown",
   "id": "fbb8d9de",
   "metadata": {},
   "source": [
    "------"
   ]
  },
  {
   "cell_type": "markdown",
   "id": "14218672",
   "metadata": {},
   "source": [
    "### Delete duplicate-value nodes from a sorted Linked List\n",
    "You are given the pointer to the head node of a sorted linked list, where the data in the nodes is in ascending order. Delete nodes and return a sorted list with each distinct value in the original list. The given head pointer may be null indicating that the list is empty."
   ]
  },
  {
   "cell_type": "code",
   "execution_count": 4,
   "id": "e73ded34",
   "metadata": {},
   "outputs": [],
   "source": [
    "def removeDuplicates(head):\n",
    "    \n",
    "    p1 = head\n",
    "    p2 = head.next\n",
    "    \n",
    "    while p2 != None:\n",
    "        if p1.data == p2.data:\n",
    "            p1.next = p2.next\n",
    "            p2 = p1.next\n",
    "                \n",
    "        else:\n",
    "            p1 = p1.next\n",
    "            p2 = p2.next\n",
    "                \n",
    "    return head"
   ]
  },
  {
   "cell_type": "code",
   "execution_count": null,
   "id": "eb68a5c1",
   "metadata": {},
   "outputs": [],
   "source": [
    "# Using Only one pointer 'temp'\n",
    "\n",
    "def removeDuplicates(head):\n",
    "    \n",
    "    temp = head\n",
    "    \n",
    "    while temp.next != None:\n",
    "        if temp.data == temp.next.data:\n",
    "            temp.next = temp.next.next\n",
    "                \n",
    "        else:\n",
    "            temp = temp.next\n",
    "                \n",
    "    return head"
   ]
  },
  {
   "cell_type": "markdown",
   "id": "bdd5579e",
   "metadata": {},
   "source": [
    "----"
   ]
  },
  {
   "cell_type": "markdown",
   "id": "4aae57ef",
   "metadata": {},
   "source": [
    "### Merge two sorted Linked Lists\n",
    "Given pointers to the heads of two sorted linked lists, merge them into a single, sorted linked list. Either head pointer may be null meaning that the corresponding list is empty."
   ]
  },
  {
   "cell_type": "code",
   "execution_count": 5,
   "id": "d90780dc",
   "metadata": {},
   "outputs": [],
   "source": [
    "def mergeLists(head1, head2):\n",
    "    \n",
    "    head3 = SinglyLinkedListNode(-1)\n",
    "    \n",
    "    temp = head3\n",
    "    \n",
    "    while head1 and head2:\n",
    "        \n",
    "        if head1.data < head2.data:\n",
    "            temp.next = head1\n",
    "            head1 = head1.next\n",
    "            \n",
    "        else:\n",
    "            temp.next = head2\n",
    "            head2 = head2.next\n",
    "            \n",
    "        temp = temp.next\n",
    "        \n",
    "    if head1:\n",
    "        temp.next = head1\n",
    "    \n",
    "    if head2:\n",
    "        temp.next = head2\n",
    "        \n",
    "    return head3.next"
   ]
  },
  {
   "cell_type": "markdown",
   "id": "a4cdce95",
   "metadata": {},
   "source": [
    "----------"
   ]
  },
  {
   "cell_type": "markdown",
   "id": "470761c2",
   "metadata": {},
   "source": [
    "### Cycle Detection\n",
    "A linked list is said to contain a cycle if any node is visited more than once while traversing the list. Given a pointer to the head of a linked list, determine if it contains a cycle. If it does, return 1. Otherwise, return 0."
   ]
  },
  {
   "cell_type": "code",
   "execution_count": 6,
   "id": "901fc937",
   "metadata": {},
   "outputs": [],
   "source": [
    "def has_cycle(head):\n",
    "    \n",
    "    p = q = head\n",
    "    \n",
    "    while q.next and q.next.next:\n",
    "        p = p.next\n",
    "        q = q.next.next\n",
    "        \n",
    "        if p == q:\n",
    "            return 1\n",
    "            \n",
    "    else:\n",
    "        return 0"
   ]
  },
  {
   "cell_type": "code",
   "execution_count": 140,
   "id": "606d28ed",
   "metadata": {},
   "outputs": [],
   "source": [
    "if not a:\n",
    "    print('a')"
   ]
  },
  {
   "cell_type": "markdown",
   "id": "61729f45",
   "metadata": {},
   "source": [
    "-----------"
   ]
  },
  {
   "cell_type": "markdown",
   "id": "f8bc4572",
   "metadata": {},
   "source": [
    "### Find Merge Point of Two Lists\n",
    "Given pointers to the head nodes of 2 linked lists that merge together at some point, find the node where the two lists merge. The merge point is where both lists point to the same node, i.e. they reference the same memory location. It is guaranteed that the two head nodes will be different, and neither will be NULL. If the lists share a common node, return that node's data value.\n",
    "\n",
    "Note: After the merge point, both lists will share the same node pointers."
   ]
  },
  {
   "cell_type": "code",
   "execution_count": 1,
   "id": "db943c0f",
   "metadata": {},
   "outputs": [],
   "source": [
    "def findMergeNode(head1, head2):\n",
    "    \n",
    "    p1 = head1\n",
    "    \n",
    "    while p1:\n",
    "        p2 = head2\n",
    "        \n",
    "        while p2:\n",
    "            if p1 == p2:\n",
    "                return p1.data\n",
    "            p2 = p2.next\n",
    "        \n",
    "        p1 = p1.next"
   ]
  },
  {
   "cell_type": "markdown",
   "id": "fac431f2",
   "metadata": {},
   "source": [
    "-----"
   ]
  },
  {
   "cell_type": "markdown",
   "id": "c5825462",
   "metadata": {},
   "source": [
    "### Inserting a Node Into a Sorted Doubly Linked List\n",
    "Given a reference to the head of a doubly-linked list and an integer,data , create a new DoublyLinkedListNode object having data value data and insert it at the proper location to maintain the sort."
   ]
  },
  {
   "cell_type": "code",
   "execution_count": 2,
   "id": "bf952708",
   "metadata": {},
   "outputs": [],
   "source": [
    "def sortedInsert(head, data):\n",
    "    \n",
    "    newnode = DoublyLinkedListNode(data)\n",
    "    \n",
    "    # If data value of the newnode is smaller than the data value of the head\n",
    "    # Insert at begining\n",
    "    if data < head.data:\n",
    "        newnode.next = head\n",
    "        head = newnode\n",
    "        \n",
    "    \n",
    "    else:\n",
    "        # A temp variable to help traverse through the list\n",
    "        temp = head\n",
    "        \n",
    "        while temp.next: # It means while temp.next != None\n",
    "            \n",
    "            if data >= temp.data and data <= temp.next.data:\n",
    "                break\n",
    "            else:\n",
    "                temp = temp.next\n",
    "        \n",
    "        # Once the while loop breaks it means we are at the node\n",
    "        # whose data value is <= the data value of the new node     \n",
    "        newnode.next = temp.next\n",
    "        temp.next = newnode\n",
    "        \n",
    "    return head"
   ]
  },
  {
   "cell_type": "code",
   "execution_count": null,
   "id": "35947378",
   "metadata": {},
   "outputs": [],
   "source": []
  }
 ],
 "metadata": {
  "kernelspec": {
   "display_name": "Python 3 (ipykernel)",
   "language": "python",
   "name": "python3"
  },
  "language_info": {
   "codemirror_mode": {
    "name": "ipython",
    "version": 3
   },
   "file_extension": ".py",
   "mimetype": "text/x-python",
   "name": "python",
   "nbconvert_exporter": "python",
   "pygments_lexer": "ipython3",
   "version": "3.10.9"
  }
 },
 "nbformat": 4,
 "nbformat_minor": 5
}
