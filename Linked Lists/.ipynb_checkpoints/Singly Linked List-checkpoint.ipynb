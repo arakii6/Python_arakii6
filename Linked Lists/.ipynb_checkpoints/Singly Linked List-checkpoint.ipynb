{
 "cells": [
  {
   "cell_type": "markdown",
   "id": "e631518f",
   "metadata": {},
   "source": [
    "### Singly Linked List"
   ]
  },
  {
   "cell_type": "markdown",
   "id": "3c7af83f",
   "metadata": {},
   "source": [
    "#### Create a Node"
   ]
  },
  {
   "cell_type": "code",
   "execution_count": 2,
   "id": "0d39160b",
   "metadata": {},
   "outputs": [],
   "source": [
    "class Node:\n",
    "   \n",
    "    def __init__(self, data):\n",
    "        self.data = data\n",
    "        self.next = None"
   ]
  },
  {
   "cell_type": "markdown",
   "id": "967da3d3",
   "metadata": {},
   "source": [
    "#### Create a Linked List"
   ]
  },
  {
   "cell_type": "code",
   "execution_count": null,
   "id": "0ddfe3f8",
   "metadata": {},
   "outputs": [],
   "source": [
    "class LinkedList:\n",
    "   \n",
    "    def __init__(self):\n",
    "        self.head = None\n",
    "       \n",
    "   \n",
    "    # Insertion at Beginning\n",
    "    def InsertNodeBeginning(self,node_data):\n",
    "        NewNode = Node(node_data)\n",
    "       \n",
    "        # Insertion on a Empty List\n",
    "        if self.head == None:\n",
    "            self.head = NewNode\n",
    "       \n",
    "        else:\n",
    "            NewNode.next = self.head\n",
    "            self.head = NewNode\n",
    "   \n",
    "    \n",
    "    # Insertion at End  \n",
    "    def InsertNodeEnd(self,node_data):\n",
    "        NewNode = Node(node_data)\n",
    "       \n",
    "        # Insertion on a Empty List\n",
    "        if self.head == None:\n",
    "            self.head = NewNode\n",
    "       \n",
    "        else:\n",
    "            temp = self.head\n",
    "           \n",
    "            while temp.next != None:\n",
    "                temp = temp.next\n",
    "               \n",
    "            temp.next = NewNode\n",
    "   \n",
    "   \n",
    "    # Deletion at Beginning\n",
    "    def DeleteNodeBeginning(self):\n",
    "       \n",
    "        if self.head == None:\n",
    "            print('Linked List is already EMPTY!!!')\n",
    "           \n",
    "        else:\n",
    "            print(f'{self.head.data} has been deleted')\n",
    "            self.head = self.head.next\n",
    "           \n",
    "   \n",
    "    # Deletion at End\n",
    "    def DeleteNodeEnd(self):\n",
    "       \n",
    "        if self.head == None:\n",
    "            print('Linked List is already EMPTY!!!')\n",
    "           \n",
    "        else:\n",
    "            temp = self.head\n",
    "           \n",
    "            while temp.next.next != None:\n",
    "                temp = temp.next\n",
    "           \n",
    "            print(f'{temp.next.data} has been deleted')    \n",
    "            temp.next = None\n",
    "   \n",
    "   \n",
    "    # To Print all elements in a Linked List\n",
    "    def ViewNode(self):\n",
    "        temp = self.head\n",
    "       \n",
    "        while temp != None:\n",
    "            print(temp.data)\n",
    "            temp = temp.next"
   ]
  },
  {
   "cell_type": "code",
   "execution_count": null,
   "id": "8cc71dad",
   "metadata": {},
   "outputs": [],
   "source": [
    "obj = LinkedList()"
   ]
  },
  {
   "cell_type": "code",
   "execution_count": null,
   "id": "07230f02",
   "metadata": {},
   "outputs": [],
   "source": [
    "obj.View()"
   ]
  },
  {
   "cell_type": "code",
   "execution_count": null,
   "id": "3d487fd8",
   "metadata": {},
   "outputs": [],
   "source": [
    "obj.InsertLast(10)\n",
    "obj.InsertLast(20)\n",
    "obj.InsertLast(30)\n",
    "obj.InsertLast(40)\n",
    "obj.InsertLast(50)\n",
    "obj.InsertLast(60)"
   ]
  },
  {
   "cell_type": "code",
   "execution_count": null,
   "id": "ad333c77",
   "metadata": {},
   "outputs": [],
   "source": [
    "obj.View()"
   ]
  },
  {
   "cell_type": "code",
   "execution_count": null,
   "id": "9502dc5b",
   "metadata": {},
   "outputs": [],
   "source": [
    "obj.DeleteFirst()"
   ]
  },
  {
   "cell_type": "code",
   "execution_count": null,
   "id": "ac25a57d",
   "metadata": {},
   "outputs": [],
   "source": [
    "obj.View()"
   ]
  },
  {
   "cell_type": "markdown",
   "id": "dcce7928",
   "metadata": {},
   "source": [
    "------"
   ]
  },
  {
   "cell_type": "markdown",
   "id": "5fc59b71",
   "metadata": {},
   "source": [
    "--------"
   ]
  },
  {
   "cell_type": "markdown",
   "id": "d1bda786",
   "metadata": {},
   "source": [
    "### Doubly Linked List"
   ]
  },
  {
   "cell_type": "markdown",
   "id": "e1a7a095",
   "metadata": {},
   "source": [
    "#### Create a Node"
   ]
  },
  {
   "cell_type": "code",
   "execution_count": null,
   "id": "ea9480b3",
   "metadata": {},
   "outputs": [],
   "source": [
    "class Node:\n",
    "   \n",
    "    def __init__(self, data):\n",
    "        self.data = data\n",
    "        self.prev = None\n",
    "        self.next = None"
   ]
  },
  {
   "cell_type": "markdown",
   "id": "b30adfcd",
   "metadata": {},
   "source": [
    "#### Create a Linked List"
   ]
  },
  {
   "cell_type": "code",
   "execution_count": null,
   "id": "bfdd1045",
   "metadata": {},
   "outputs": [],
   "source": []
  },
  {
   "cell_type": "code",
   "execution_count": null,
   "id": "c4e87cf9",
   "metadata": {},
   "outputs": [],
   "source": []
  }
 ],
 "metadata": {
  "kernelspec": {
   "display_name": "Python 3 (ipykernel)",
   "language": "python",
   "name": "python3"
  },
  "language_info": {
   "codemirror_mode": {
    "name": "ipython",
    "version": 3
   },
   "file_extension": ".py",
   "mimetype": "text/x-python",
   "name": "python",
   "nbconvert_exporter": "python",
   "pygments_lexer": "ipython3",
   "version": "3.10.9"
  }
 },
 "nbformat": 4,
 "nbformat_minor": 5
}
