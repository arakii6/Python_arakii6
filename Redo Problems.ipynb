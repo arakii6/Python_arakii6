{
 "cells": [
  {
   "cell_type": "markdown",
   "id": "db54b1bc",
   "metadata": {},
   "source": [
    "### Between Two Sets\n",
    "#### There will be two arrays of integers. Determine all integers that satisfy the following two conditions:\n",
    "1. The elements of the first array are all factors of the integer being considered\n",
    "2. The integer being considered is a factor of all elements of the second array"
   ]
  },
  {
   "cell_type": "markdown",
   "id": "8f9afdfb",
   "metadata": {},
   "source": [
    "### Divisible Sum Pairs "
   ]
  },
  {
   "cell_type": "markdown",
   "id": "8322449c",
   "metadata": {},
   "source": [
    "### Migratory Birds"
   ]
  },
  {
   "cell_type": "markdown",
   "id": "e5c4577b",
   "metadata": {},
   "source": [
    "### Counting Valleys"
   ]
  },
  {
   "cell_type": "markdown",
   "id": "073ab84e",
   "metadata": {},
   "source": [
    "### Picking Numbers"
   ]
  },
  {
   "cell_type": "markdown",
   "id": "0e7247cf",
   "metadata": {},
   "source": [
    "### Climbing the Leaderboard"
   ]
  },
  {
   "cell_type": "markdown",
   "id": "d2f9bbba",
   "metadata": {},
   "source": [
    "### Save the Prisoner!"
   ]
  },
  {
   "cell_type": "markdown",
   "id": "960f5be7",
   "metadata": {},
   "source": [
    "### Circular Array Rotation"
   ]
  },
  {
   "cell_type": "markdown",
   "id": "c2c03732",
   "metadata": {},
   "source": [
    "### Non-Divisible Subset"
   ]
  }
 ],
 "metadata": {
  "kernelspec": {
   "display_name": "Python 3 (ipykernel)",
   "language": "python",
   "name": "python3"
  },
  "language_info": {
   "codemirror_mode": {
    "name": "ipython",
    "version": 3
   },
   "file_extension": ".py",
   "mimetype": "text/x-python",
   "name": "python",
   "nbconvert_exporter": "python",
   "pygments_lexer": "ipython3",
   "version": "3.9.13"
  }
 },
 "nbformat": 4,
 "nbformat_minor": 5
}
