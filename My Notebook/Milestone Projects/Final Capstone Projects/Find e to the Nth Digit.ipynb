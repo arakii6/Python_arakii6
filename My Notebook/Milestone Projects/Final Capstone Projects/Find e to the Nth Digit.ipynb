{
 "cells": [
  {
   "cell_type": "markdown",
   "id": "80777ce8",
   "metadata": {},
   "source": [
    "#### Just like the previous problem, but with e instead of π (pi). Enter a number and have the program generate e up to that many decimal places. Keep a limit to how far the program will go."
   ]
  },
  {
   "cell_type": "code",
   "execution_count": 28,
   "id": "d918fbc1",
   "metadata": {},
   "outputs": [],
   "source": [
    "import math\n",
    "import random\n",
    "\n",
    "def nth_pi(): \n",
    "    \n",
    "    n = 0\n",
    "    e = random.randint(1,99)\n",
    "    while n not in range(1,16):\n",
    "        n = int(input('\\nEnter a number between 1 and 15: '))\n",
    "        \n",
    "        if n < 1 or n > 15:\n",
    "            print('\\nPlease provide a value between 1 and 15 ')\n",
    "        \n",
    "    else:\n",
    "        return round(math.e,n)"
   ]
  },
  {
   "cell_type": "code",
   "execution_count": 29,
   "id": "0ece2f7f",
   "metadata": {},
   "outputs": [
    {
     "name": "stdout",
     "output_type": "stream",
     "text": [
      "\n",
      "Enter a number between 1 and 15: 15\n"
     ]
    },
    {
     "data": {
      "text/plain": [
       "2.718281828459045"
      ]
     },
     "execution_count": 29,
     "metadata": {},
     "output_type": "execute_result"
    }
   ],
   "source": [
    "nth_pi()"
   ]
  },
  {
   "cell_type": "code",
   "execution_count": null,
   "id": "dae2eaf3",
   "metadata": {},
   "outputs": [],
   "source": []
  }
 ],
 "metadata": {
  "kernelspec": {
   "display_name": "Python 3 (ipykernel)",
   "language": "python",
   "name": "python3"
  },
  "language_info": {
   "codemirror_mode": {
    "name": "ipython",
    "version": 3
   },
   "file_extension": ".py",
   "mimetype": "text/x-python",
   "name": "python",
   "nbconvert_exporter": "python",
   "pygments_lexer": "ipython3",
   "version": "3.9.13"
  }
 },
 "nbformat": 4,
 "nbformat_minor": 5
}
