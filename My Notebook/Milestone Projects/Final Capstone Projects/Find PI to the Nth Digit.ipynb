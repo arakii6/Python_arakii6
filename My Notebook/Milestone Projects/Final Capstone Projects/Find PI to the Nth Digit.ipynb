{
 "cells": [
  {
   "cell_type": "markdown",
   "id": "7f90f773",
   "metadata": {},
   "source": [
    "#### Enter a number and have the program generate π (pi) up to that many decimal places. Keep a limit to how far the program will go"
   ]
  },
  {
   "cell_type": "code",
   "execution_count": null,
   "id": "a9e88573",
   "metadata": {},
   "outputs": [],
   "source": [
    "import math\n",
    "\n",
    "def n_pi(n):\n",
    "    if n in range(1,11):\n",
    "        return round(math.pi,n)\n",
    "    else:\n",
    "        print('Provide a value between 1 and 10')"
   ]
  },
  {
   "cell_type": "code",
   "execution_count": null,
   "id": "fa64d1a6",
   "metadata": {},
   "outputs": [],
   "source": [
    "n_pi(0)"
   ]
  },
  {
   "cell_type": "code",
   "execution_count": null,
   "id": "952b7790",
   "metadata": {},
   "outputs": [],
   "source": [
    "def nth_pi(): \n",
    "    \n",
    "    n = 0\n",
    "    \n",
    "    while n not in range(1,1000):\n",
    "        n = int(input('\\nEnter a number between 1 and 10: '))\n",
    "        \n",
    "        if n < 1 or n > 1000:\n",
    "            print('\\nPlease provide a value between 1 and 10 ')\n",
    "        \n",
    "    else:\n",
    "        return round(math.pi,n)"
   ]
  },
  {
   "cell_type": "code",
   "execution_count": null,
   "id": "f1eef201",
   "metadata": {},
   "outputs": [],
   "source": [
    "nth_pi()"
   ]
  },
  {
   "cell_type": "code",
   "execution_count": 5,
   "id": "5f0efc98",
   "metadata": {},
   "outputs": [
    {
     "data": {
      "text/plain": [
       "120"
      ]
     },
     "execution_count": 5,
     "metadata": {},
     "output_type": "execute_result"
    }
   ],
   "source": [
    "factorial(5)"
   ]
  },
  {
   "cell_type": "code",
   "execution_count": null,
   "id": "7771af02",
   "metadata": {},
   "outputs": [],
   "source": []
  }
 ],
 "metadata": {
  "kernelspec": {
   "display_name": "Python 3 (ipykernel)",
   "language": "python",
   "name": "python3"
  },
  "language_info": {
   "codemirror_mode": {
    "name": "ipython",
    "version": 3
   },
   "file_extension": ".py",
   "mimetype": "text/x-python",
   "name": "python",
   "nbconvert_exporter": "python",
   "pygments_lexer": "ipython3",
   "version": "3.9.13"
  }
 },
 "nbformat": 4,
 "nbformat_minor": 5
}
