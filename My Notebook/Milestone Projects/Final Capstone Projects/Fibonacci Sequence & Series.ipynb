{
 "cells": [
  {
   "cell_type": "markdown",
   "id": "13ed770e",
   "metadata": {},
   "source": [
    "#### Enter a number and have the program generate the Fibonacci sequence to that number or to the Nth number"
   ]
  },
  {
   "cell_type": "code",
   "execution_count": 1,
   "id": "cc081f20",
   "metadata": {},
   "outputs": [],
   "source": [
    "import math"
   ]
  },
  {
   "cell_type": "markdown",
   "id": "c005ffea",
   "metadata": {},
   "source": [
    "#### Fibonacci Sequence"
   ]
  },
  {
   "cell_type": "code",
   "execution_count": 2,
   "id": "6a903987",
   "metadata": {},
   "outputs": [],
   "source": [
    "def Fibonacci(n):\n",
    "   \n",
    "    # Check if input is 0 then it will\n",
    "    # print incorrect input\n",
    "    if n < 0:\n",
    "        print(\"Incorrect input\")\n",
    " \n",
    "    # Check if n is 0\n",
    "    # then it will return 0\n",
    "    elif n == 0:\n",
    "        return 0\n",
    " \n",
    "    # Check if n is 1,2\n",
    "    # it will return 1\n",
    "    elif n == 1 or n == 2:\n",
    "        return 1\n",
    " \n",
    "    else:\n",
    "        return Fibonacci(n-1) + Fibonacci(n-2)"
   ]
  },
  {
   "cell_type": "code",
   "execution_count": 3,
   "id": "672531ee",
   "metadata": {},
   "outputs": [
    {
     "data": {
      "text/plain": [
       "89"
      ]
     },
     "execution_count": 3,
     "metadata": {},
     "output_type": "execute_result"
    }
   ],
   "source": [
    "Fibonacci(11)"
   ]
  },
  {
   "cell_type": "markdown",
   "id": "3102418e",
   "metadata": {},
   "source": [
    "#### Fibonacci Series"
   ]
  },
  {
   "cell_type": "code",
   "execution_count": 4,
   "id": "722b75f4",
   "metadata": {},
   "outputs": [],
   "source": [
    "def Fibonacci():\n",
    "    \n",
    "    def fib():\n",
    "        a, b = 1, 1\n",
    "        \n",
    "        while True:\n",
    "            yield a\n",
    "            a, b = b, a + b\n",
    "    \n",
    "    \n",
    "    while True:\n",
    "        try:\n",
    "            n = int(input('\\nHow many numbers do you need in the Fib Series: '))\n",
    "        \n",
    "        except:\n",
    "            print('\\nWHOOPS! Not a number\\nI am going to ask you again')\n",
    "            continue\n",
    "            \n",
    "        else:\n",
    "            for index, x in enumerate(fib()):\n",
    "                if index == n:\n",
    "                    break\n",
    "                print(f'{x}', end=\" \")\n",
    "            break"
   ]
  },
  {
   "cell_type": "code",
   "execution_count": 5,
   "id": "c4f5d10c",
   "metadata": {},
   "outputs": [
    {
     "name": "stdout",
     "output_type": "stream",
     "text": [
      "\n",
      "How many numbers do you need in the Fib Series: a\n",
      "\n",
      "WHOOPS! Not a number\n",
      "I am going to ask you again\n",
      "\n",
      "How many numbers do you need in the Fib Series: 10\n",
      "1 1 2 3 5 8 13 21 34 55 "
     ]
    }
   ],
   "source": [
    "Fibonacci()"
   ]
  },
  {
   "cell_type": "code",
   "execution_count": null,
   "id": "7752a285",
   "metadata": {},
   "outputs": [],
   "source": []
  }
 ],
 "metadata": {
  "kernelspec": {
   "display_name": "Python 3 (ipykernel)",
   "language": "python",
   "name": "python3"
  },
  "language_info": {
   "codemirror_mode": {
    "name": "ipython",
    "version": 3
   },
   "file_extension": ".py",
   "mimetype": "text/x-python",
   "name": "python",
   "nbconvert_exporter": "python",
   "pygments_lexer": "ipython3",
   "version": "3.9.13"
  }
 },
 "nbformat": 4,
 "nbformat_minor": 5
}
