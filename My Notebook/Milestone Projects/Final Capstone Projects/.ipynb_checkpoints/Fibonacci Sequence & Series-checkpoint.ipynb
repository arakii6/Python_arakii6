{
 "cells": [
  {
   "cell_type": "markdown",
   "id": "13ed770e",
   "metadata": {},
   "source": [
    "#### Enter a number and have the program generate the Fibonacci sequence to that number or to the Nth number"
   ]
  },
  {
   "cell_type": "code",
   "execution_count": 8,
   "id": "cc081f20",
   "metadata": {},
   "outputs": [],
   "source": [
    "import math"
   ]
  },
  {
   "cell_type": "code",
   "execution_count": 11,
   "id": "d59b2310",
   "metadata": {},
   "outputs": [
    {
     "data": {
      "text/plain": [
       "481"
      ]
     },
     "execution_count": 11,
     "metadata": {},
     "output_type": "execute_result"
    }
   ],
   "source": [
    "fib_n(10)"
   ]
  },
  {
   "cell_type": "code",
   "execution_count": null,
   "id": "2345779e",
   "metadata": {},
   "outputs": [],
   "source": [
    "Fn = ( (1 + √5)^n - (1 - √5)^n ) / (2^n × √5)"
   ]
  },
  {
   "cell_type": "code",
   "execution_count": null,
   "id": "ec45b423",
   "metadata": {},
   "outputs": [],
   "source": [
    "math.sqrt(10)"
   ]
  },
  {
   "cell_type": "code",
   "execution_count": null,
   "id": "2d5c6d39",
   "metadata": {},
   "outputs": [],
   "source": [
    "F = ( (1 + math.sqrt(10))**n - (1 - math.sqrt(10)**n ) / (2**n × math.sqrt(10))"
   ]
  },
  {
   "cell_type": "code",
   "execution_count": 3,
   "id": "f65ec35c",
   "metadata": {},
   "outputs": [],
   "source": [
    "def add_n(n):\n",
    "    \n",
    "    result = n+5\n",
    "    return result"
   ]
  },
  {
   "cell_type": "code",
   "execution_count": 4,
   "id": "c29bd72b",
   "metadata": {},
   "outputs": [
    {
     "data": {
      "text/plain": [
       "10"
      ]
     },
     "execution_count": 4,
     "metadata": {},
     "output_type": "execute_result"
    }
   ],
   "source": [
    "add_n(5)"
   ]
  },
  {
   "cell_type": "code",
   "execution_count": 17,
   "id": "d260023e",
   "metadata": {},
   "outputs": [
    {
     "name": "stdout",
     "output_type": "stream",
     "text": [
      "2\n"
     ]
    }
   ],
   "source": [
    "n1 = 1\n",
    "n2 = 1\n",
    "n3 = n2 + n1\n",
    "print(n3)"
   ]
  },
  {
   "cell_type": "code",
   "execution_count": null,
   "id": "ea2be107",
   "metadata": {},
   "outputs": [],
   "source": [
    "result = []\n",
    "\n",
    "for n in range(1,10):\n",
    "    n = n - 1 + n - 2"
   ]
  },
  {
   "cell_type": "code",
   "execution_count": 18,
   "id": "9aa75f18",
   "metadata": {},
   "outputs": [
    {
     "ename": "NameError",
     "evalue": "name 'Fibonacci' is not defined",
     "output_type": "error",
     "traceback": [
      "\u001b[1;31m---------------------------------------------------------------------------\u001b[0m",
      "\u001b[1;31mNameError\u001b[0m                                 Traceback (most recent call last)",
      "\u001b[1;32m~\\AppData\\Local\\Temp\\ipykernel_10396\\3635180360.py\u001b[0m in \u001b[0;36m<module>\u001b[1;34m\u001b[0m\n\u001b[1;32m----> 1\u001b[1;33m \u001b[0mFibonacci\u001b[0m\u001b[1;33m(\u001b[0m\u001b[1;36m8\u001b[0m\u001b[1;33m)\u001b[0m\u001b[1;33m\u001b[0m\u001b[1;33m\u001b[0m\u001b[0m\n\u001b[0m",
      "\u001b[1;31mNameError\u001b[0m: name 'Fibonacci' is not defined"
     ]
    }
   ],
   "source": [
    "Fibonacci(8)"
   ]
  },
  {
   "cell_type": "code",
   "execution_count": 19,
   "id": "6a903987",
   "metadata": {},
   "outputs": [],
   "source": [
    "def Fibonacci(n):\n",
    "   \n",
    "    # Check if input is 0 then it will\n",
    "    # print incorrect input\n",
    "    if n < 0:\n",
    "        print(\"Incorrect input\")\n",
    " \n",
    "    # Check if n is 0\n",
    "    # then it will return 0\n",
    "    elif n == 0:\n",
    "        return 0\n",
    " \n",
    "    # Check if n is 1,2\n",
    "    # it will return 1\n",
    "    elif n == 1 or n == 2:\n",
    "        return 1\n",
    " \n",
    "    else:\n",
    "        return Fibonacci(n-1) + Fibonacci(n-2)"
   ]
  },
  {
   "cell_type": "code",
   "execution_count": 20,
   "id": "672531ee",
   "metadata": {},
   "outputs": [
    {
     "data": {
      "text/plain": [
       "89"
      ]
     },
     "execution_count": 20,
     "metadata": {},
     "output_type": "execute_result"
    }
   ],
   "source": [
    "Fibonacci(11)"
   ]
  },
  {
   "cell_type": "code",
   "execution_count": 28,
   "id": "722b75f4",
   "metadata": {},
   "outputs": [],
   "source": [
    "def fib():\n",
    "    a, b = 1, 1\n",
    "    while True:\n",
    "        yield a\n",
    "        a, b = b, a + b\n",
    "\n",
    "\n",
    "\n",
    "def Fibonacci():\n",
    "    \n",
    "    n = int(input('\\nHow many numbers do you need in the Fib Series: '))\n",
    "    \n",
    "    for index, x in enumerate(fib()):\n",
    "        if index == n:\n",
    "            break\n",
    "        print(f'{x}', end=\" \")"
   ]
  },
  {
   "cell_type": "code",
   "execution_count": 30,
   "id": "d0e0b959",
   "metadata": {},
   "outputs": [
    {
     "name": "stdout",
     "output_type": "stream",
     "text": [
      "\n",
      "How many numbers do you need in the Fib Series: 20\n",
      "1 1 2 3 5 8 13 21 34 55 89 144 233 377 610 987 1597 2584 4181 6765 "
     ]
    }
   ],
   "source": [
    "Fibonacci()"
   ]
  },
  {
   "cell_type": "code",
   "execution_count": null,
   "id": "29741ded",
   "metadata": {},
   "outputs": [],
   "source": []
  }
 ],
 "metadata": {
  "kernelspec": {
   "display_name": "Python 3 (ipykernel)",
   "language": "python",
   "name": "python3"
  },
  "language_info": {
   "codemirror_mode": {
    "name": "ipython",
    "version": 3
   },
   "file_extension": ".py",
   "mimetype": "text/x-python",
   "name": "python",
   "nbconvert_exporter": "python",
   "pygments_lexer": "ipython3",
   "version": "3.9.13"
  }
 },
 "nbformat": 4,
 "nbformat_minor": 5
}
