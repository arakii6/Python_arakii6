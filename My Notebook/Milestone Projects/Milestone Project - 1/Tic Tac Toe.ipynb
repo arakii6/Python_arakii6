{
 "cells": [
  {
   "cell_type": "markdown",
   "id": "4978b28f",
   "metadata": {},
   "source": [
    "## Tic Tac Toe Game - Step by Step Architecture"
   ]
  },
  {
   "cell_type": "markdown",
   "id": "3c8371c1",
   "metadata": {},
   "source": [
    "**Step 1: Write a function that can print out a board. Set up your board as a list, where each index 1-9 corresponds with a number on a number pad, so you get a 3 by 3 board representation.**"
   ]
  },
  {
   "cell_type": "code",
   "execution_count": 21,
   "id": "5b99f5fa",
   "metadata": {},
   "outputs": [],
   "source": [
    "\"\"\"\n",
    "We are going to write a function that's going to display \n",
    "an empty Tic Toc Board.\n",
    "\"\"\"\n",
    "from IPython.display import clear_output\n",
    "\n",
    "def display_board(board):\n",
    "    \n",
    "    clear_output()  # Remember, this only works in jupyter!\n",
    "    \n",
    "    print('  |'+'   |')\n",
    "    print(board[7]+' | '+board[8]+' | '+board[9])\n",
    "    print('  |'+'   |')\n",
    "    print('---------')\n",
    "    print('  |'+'   |')\n",
    "    print(board[4]+' | '+board[5]+' | '+board[6])\n",
    "    print('  |'+'   |')\n",
    "    print('---------')\n",
    "    print('  |'+'   |')\n",
    "    print(board[1]+' | '+board[2]+' | '+board[3])\n",
    "    print('  |'+'   |')"
   ]
  },
  {
   "cell_type": "code",
   "execution_count": 2,
   "id": "30c50b38",
   "metadata": {},
   "outputs": [],
   "source": [
    "#test_board = ['O']*10\n",
    "#display_board(test_board)"
   ]
  },
  {
   "cell_type": "markdown",
   "id": "b37bd34f",
   "metadata": {},
   "source": [
    "**Step 2: Write a function that can take in a player input and assign their marker as 'X' or 'O'. Think about using while loops to continually ask until you get a correct answer.**"
   ]
  },
  {
   "cell_type": "code",
   "execution_count": 22,
   "id": "0f27cc67",
   "metadata": {},
   "outputs": [],
   "source": [
    "\"\"\"\n",
    "We are going to write a function that's going to \n",
    "take X or O as an input. We will need the output as a Tuple.\n",
    "So, we can use Tuple unpacking to assign X and O to player 1\n",
    "and player 2.\n",
    "\"\"\"\n",
    "\n",
    "def player_input():\n",
    "    \n",
    "    marker = ''\n",
    "    \n",
    "    while marker not in ['X','O']:\n",
    "        marker = input('Playe 1: Choose X or O\\n')\n",
    "    \n",
    "    if marker == 'X':\n",
    "        return ('X','O')\n",
    "    else:\n",
    "        return ('O','X')"
   ]
  },
  {
   "cell_type": "code",
   "execution_count": 4,
   "id": "68947345",
   "metadata": {},
   "outputs": [],
   "source": [
    "#player_input()"
   ]
  },
  {
   "cell_type": "markdown",
   "id": "781ca9d3",
   "metadata": {},
   "source": [
    "**Step 3: Write a function that takes in the board list object, a marker ('X' or 'O'), and a desired position (number 1-9) and assigns it to the board.**"
   ]
  },
  {
   "cell_type": "code",
   "execution_count": 23,
   "id": "85e1e060",
   "metadata": {},
   "outputs": [],
   "source": [
    "\"\"\"\n",
    "We are going to write a function that's take the marker X or O\n",
    "and puts it on the position on the board.\n",
    "\"\"\"\n",
    "\n",
    "def place_marker(board, marker, position):\n",
    "    board[position] = marker"
   ]
  },
  {
   "cell_type": "code",
   "execution_count": 6,
   "id": "2a59ba93",
   "metadata": {},
   "outputs": [],
   "source": [
    "#place_marker(test_board, 'X', 2)\n",
    "#display_board(test_board)"
   ]
  },
  {
   "cell_type": "markdown",
   "id": "8a8d2f42",
   "metadata": {},
   "source": [
    "**Step 4: Write a function that takes in a board and a mark (X or O) and then checks to see if that mark has won.**"
   ]
  },
  {
   "cell_type": "code",
   "execution_count": 24,
   "id": "21aae610",
   "metadata": {},
   "outputs": [],
   "source": [
    "\"\"\"\n",
    "We are going to write a function to check if a player has won.\n",
    "\"\"\"\n",
    "\n",
    "def win_check(board,mark):\n",
    "    \n",
    "    return ((board[7] == board[8] == board[9] == mark) or \n",
    "            (board[4] == board[5] == board[6] == mark) or \n",
    "            (board[1] == board[2] == board[3] == mark) or \n",
    "            (board[7] == board[4] == board[1] == mark) or \n",
    "            (board[8] == board[5] == board[2] == mark) or \n",
    "            (board[9] == board[6] == board[3] == mark) or \n",
    "            (board[7] == board[5] == board[3] == mark) or \n",
    "            (board[9] == board[5] == board[1] == mark))"
   ]
  },
  {
   "cell_type": "markdown",
   "id": "ded91613",
   "metadata": {},
   "source": [
    "**Step 5: Write a function that uses the random module to randomly decide which player goes first. You may want to lookup random.randint() Return a string of which player went first. Can be avoided!!**"
   ]
  },
  {
   "cell_type": "code",
   "execution_count": 25,
   "id": "0f9ac61f",
   "metadata": {},
   "outputs": [],
   "source": [
    "import random\n",
    "\n",
    "def choose_first():\n",
    "    \n",
    "    if random.randint(0,1) == 1:\n",
    "        return ('Player 1')\n",
    "        \n",
    "    else:\n",
    "        return ('Player 2')"
   ]
  },
  {
   "cell_type": "code",
   "execution_count": 9,
   "id": "1ed60870",
   "metadata": {},
   "outputs": [],
   "source": [
    "#choose_first()"
   ]
  },
  {
   "cell_type": "markdown",
   "id": "6764c6c3",
   "metadata": {},
   "source": [
    "**Step 6: Write a function that returns a boolean indicating whether a space on the board is freely available. Can be avoided!!**"
   ]
  },
  {
   "cell_type": "code",
   "execution_count": 26,
   "id": "213af793",
   "metadata": {},
   "outputs": [],
   "source": [
    "def space_in_board(board,position):\n",
    "    \n",
    "    return board[position] == ' '"
   ]
  },
  {
   "cell_type": "code",
   "execution_count": 11,
   "id": "5ab5dd1a",
   "metadata": {},
   "outputs": [],
   "source": [
    "#space_in_board(test_board,8)"
   ]
  },
  {
   "cell_type": "markdown",
   "id": "2fbea537",
   "metadata": {},
   "source": [
    "**Step 7: Write a function that checks if the board is full and returns a boolean value. True if full, False otherwise.**"
   ]
  },
  {
   "cell_type": "code",
   "execution_count": 27,
   "id": "c6547a7e",
   "metadata": {},
   "outputs": [],
   "source": [
    "\"\"\"\n",
    "We are going to write a function to check if the board is full\n",
    "to see if a game has ended in a tie.\n",
    "\"\"\"\n",
    "\n",
    "def full_board(board):\n",
    "    \n",
    "    for i in range(1,10):\n",
    "        \n",
    "        if board[i] == ' ':\n",
    "            return False\n",
    "    \n",
    "    return True"
   ]
  },
  {
   "cell_type": "code",
   "execution_count": 13,
   "id": "15d12f68",
   "metadata": {},
   "outputs": [],
   "source": [
    "#display_board(test_board)\n",
    "#full_board(test_board)"
   ]
  },
  {
   "cell_type": "markdown",
   "id": "8137d7ec",
   "metadata": {},
   "source": [
    "**Step 8: Write a function that asks for a player's next position (as a number 1-9) and then uses the function from step 6 to check if it's a free position. If it is, then return the position for later use.**"
   ]
  },
  {
   "cell_type": "code",
   "execution_count": 28,
   "id": "88cbfb5a",
   "metadata": {},
   "outputs": [],
   "source": [
    "\"\"\"\n",
    "We are going to write a function to ask the player to choose\n",
    "the position where X and O will be put.\n",
    "\"\"\"\n",
    "\n",
    "def position_input(board):\n",
    "    \n",
    "    position = 0\n",
    "    \n",
    "    while position not in range(1,10) or board[position] != ' ':\n",
    "        position = int(input('Choose next position: (1-9)\\n'))\n",
    "        \n",
    "    return position"
   ]
  },
  {
   "cell_type": "code",
   "execution_count": 15,
   "id": "02f70e49",
   "metadata": {},
   "outputs": [],
   "source": [
    "#new_board = ['#','X','O','X','O','X','O','X',' ','X']\n",
    "#position_input(new_board)"
   ]
  },
  {
   "cell_type": "markdown",
   "id": "26ac0515",
   "metadata": {},
   "source": [
    "**Step 9: Write a function that asks the player if they want to play again and returns a boolean True if they do want to play again.**"
   ]
  },
  {
   "cell_type": "code",
   "execution_count": 29,
   "id": "2a302120",
   "metadata": {},
   "outputs": [],
   "source": [
    "def replay():\n",
    "    \n",
    "    replay = ''\n",
    "    \n",
    "    while replay not in ['Y','N']:\n",
    "        replay = input('Do you want to play again? Enter Y/N\\n').upper()\n",
    "        \n",
    "    if replay == 'Y':\n",
    "        return True\n",
    "    else:\n",
    "        return False"
   ]
  },
  {
   "cell_type": "code",
   "execution_count": 17,
   "id": "88fa5a5b",
   "metadata": {},
   "outputs": [],
   "source": [
    "#replay()"
   ]
  },
  {
   "cell_type": "markdown",
   "id": "3023449f",
   "metadata": {},
   "source": [
    "**Step 10: Setup Game - Player 1 Turn - Player 2 Turn - Replay**"
   ]
  },
  {
   "cell_type": "code",
   "execution_count": 30,
   "id": "830ed266",
   "metadata": {},
   "outputs": [
    {
     "name": "stdout",
     "output_type": "stream",
     "text": [
      "  |   |\n",
      "X | X | O\n",
      "  |   |\n",
      "---------\n",
      "  |   |\n",
      "X | O | O\n",
      "  |   |\n",
      "---------\n",
      "  |   |\n",
      "X | O | X\n",
      "  |   |\n",
      "Congratulations! Player 1 has WON!\n",
      "Do you want to play again? Enter Y/N\n",
      "N\n"
     ]
    }
   ],
   "source": [
    "print('Welcome to Tic Tac Toe')\n",
    "\n",
    "\n",
    "#Setup Game\n",
    "while True:\n",
    "    \n",
    "    game_board = [' '] * 10\n",
    "    player1_marker, player2_marker = player_input()\n",
    "    turn = choose_first()\n",
    "    print(turn + ' will go first.')\n",
    "    \n",
    "    play_game = input('Are you ready to play? Enter Y/N\\n')\n",
    "    \n",
    "    if play_game == 'Y':\n",
    "        game_on = True\n",
    "    else:\n",
    "        game_on = False\n",
    "    \n",
    "    \n",
    "    \n",
    "    while game_on:\n",
    "        \n",
    "        #Player 1 Turn\n",
    "        if turn == 'Player 1':\n",
    "            display_board(game_board)\n",
    "            pos = position_input(game_board)\n",
    "            place_marker(game_board, player1_marker, pos)\n",
    "        \n",
    "        \n",
    "            if win_check(game_board,player1_marker):\n",
    "                display_board(game_board)\n",
    "                print('Congratulations! Player 1 has WON!')\n",
    "                break\n",
    "            \n",
    "            elif full_board(game_board):\n",
    "                display_board(game_board)\n",
    "                print('The Game is a Tie :(')\n",
    "                break\n",
    "            \n",
    "            else:\n",
    "                turn = 'Player 2'\n",
    "        \n",
    "        #Player 2 Turn\n",
    "        else:\n",
    "            display_board(game_board)\n",
    "            pos = position_input(game_board)\n",
    "            place_marker(game_board, player2_marker, pos)\n",
    "        \n",
    "        \n",
    "            if win_check(game_board,player2_marker):\n",
    "                display_board(game_board)\n",
    "                print('Congratulations! Player 2 has WON!')\n",
    "                break\n",
    "            \n",
    "            elif full_board(game_board):\n",
    "                display_board(game_board)\n",
    "                print('The Game is a Tie :(')\n",
    "                break\n",
    "            \n",
    "            else:\n",
    "                turn = 'Player 1'\n",
    "    \n",
    "    \n",
    "    \n",
    "    \n",
    "    \n",
    "    \n",
    "    #Check if user want to play\n",
    "    if not replay():\n",
    "        break"
   ]
  },
  {
   "cell_type": "code",
   "execution_count": null,
   "id": "6d6b285e",
   "metadata": {},
   "outputs": [],
   "source": []
  }
 ],
 "metadata": {
  "kernelspec": {
   "display_name": "Python 3 (ipykernel)",
   "language": "python",
   "name": "python3"
  },
  "language_info": {
   "codemirror_mode": {
    "name": "ipython",
    "version": 3
   },
   "file_extension": ".py",
   "mimetype": "text/x-python",
   "name": "python",
   "nbconvert_exporter": "python",
   "pygments_lexer": "ipython3",
   "version": "3.9.13"
  }
 },
 "nbformat": 4,
 "nbformat_minor": 5
}
