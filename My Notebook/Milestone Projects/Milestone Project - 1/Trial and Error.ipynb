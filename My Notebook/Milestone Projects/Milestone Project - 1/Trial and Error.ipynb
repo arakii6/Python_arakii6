{
 "cells": [
  {
   "cell_type": "markdown",
   "id": "e9c994a7",
   "metadata": {},
   "source": [
    "#### Step 1: Write a function that can print out a board. Set up your board as a list, where each index 1-9 corresponds with a number on a number pad, so you get a 3 by 3 board representation."
   ]
  },
  {
   "cell_type": "code",
   "execution_count": 1,
   "id": "284768de",
   "metadata": {},
   "outputs": [],
   "source": [
    "from IPython.display import clear_output\n",
    "\n",
    "def display_board(board):\n",
    "    \n",
    "    clear_output()\n",
    "    \n",
    "    \n",
    "    #Empty Tic Tac Toe Board\n",
    "    print('   |   | ')\n",
    "    print(' '+board[7]+' '+'|'+' '+board[8]+' '+'|'+' '+board[9])\n",
    "    print('   |   | ')\n",
    "    print('-----------')\n",
    "    print('   |   | ')\n",
    "    print(' '+board[4]+' '+'|'+' '+board[5]+' '+'|'+' '+board[6])\n",
    "    print('   |   | ')\n",
    "    print('-----------')\n",
    "    print('   |   | ')\n",
    "    print(' '+board[1]+' '+'|'+' '+board[2]+' '+'|'+' '+board[3])\n",
    "    print('   |   | ')"
   ]
  },
  {
   "cell_type": "code",
   "execution_count": 2,
   "id": "2f8061f3",
   "metadata": {},
   "outputs": [],
   "source": [
    "#test_board = ['#','X','O','X','O','X','O','X','O','X']\n",
    "#display_board(test_board)"
   ]
  },
  {
   "cell_type": "markdown",
   "id": "f7f09e48",
   "metadata": {},
   "source": [
    "#### Step 2: Write a function that can take in a player input and assign their marker as 'X' or 'O'. Think about using while loops to continually ask until you get a correct answer."
   ]
  },
  {
   "cell_type": "code",
   "execution_count": 3,
   "id": "3b81d80b",
   "metadata": {},
   "outputs": [],
   "source": [
    "def player_input():\n",
    "    \n",
    "    marker = ''\n",
    "    \n",
    "    while marker not in ['X','O']:\n",
    "        marker = input('Player 1: Do you want to be X or O?\\n').upper()\n",
    "        \n",
    "    if marker == 'X':\n",
    "        return ('X','O')\n",
    "    \n",
    "    else:\n",
    "        return ('O','X') "
   ]
  },
  {
   "cell_type": "code",
   "execution_count": 4,
   "id": "d8e8f7bd",
   "metadata": {},
   "outputs": [],
   "source": [
    "#player_input()"
   ]
  },
  {
   "cell_type": "markdown",
   "id": "0a06ebdb",
   "metadata": {},
   "source": [
    "#### Step 3: Write a function that takes in the board list object, a marker ('X' or 'O'), and a desired position (number 1-9) and assigns it to the board"
   ]
  },
  {
   "cell_type": "code",
   "execution_count": 5,
   "id": "0a33fade",
   "metadata": {},
   "outputs": [],
   "source": [
    "def place_marker(board, marker, position):\n",
    "    board[position] = marker"
   ]
  },
  {
   "cell_type": "code",
   "execution_count": 6,
   "id": "2bdc8b89",
   "metadata": {},
   "outputs": [],
   "source": [
    "#place_marker(test_board,'$',8)\n",
    "#display_board(test_board)"
   ]
  },
  {
   "cell_type": "markdown",
   "id": "75112d36",
   "metadata": {},
   "source": [
    "#### Step 4: Write a function that takes in a board and a mark (X or O) and then checks to see if that mark has won."
   ]
  },
  {
   "cell_type": "code",
   "execution_count": 7,
   "id": "a8b40deb",
   "metadata": {},
   "outputs": [],
   "source": [
    "def win_check(board, mark):\n",
    "\n",
    "    return ((board[8] == board[5] == board[2] == mark) or \n",
    "    (board[7] == board[4] == board[1] == mark) or \n",
    "    (board[9] == board[6] == board[3] == mark) or\n",
    "    (board[7] == board[8] == board[9] == mark) or\n",
    "    (board[4] == board[5] == board[6] == mark) or\n",
    "    (board[1] == board[2] == board[3] == mark) or\n",
    "    (board[7] == board[5] == board[3] == mark) or\n",
    "    (board[9] == board[5] == board[1] == mark))"
   ]
  },
  {
   "cell_type": "code",
   "execution_count": 8,
   "id": "ead3985b",
   "metadata": {},
   "outputs": [],
   "source": [
    "#win_check(test_board,'X')"
   ]
  },
  {
   "cell_type": "markdown",
   "id": "117e78b1",
   "metadata": {},
   "source": [
    "#### Step 5: Write a function that uses the random module to randomly decide which player goes first. You may want to lookup random.randint() Return a string of which player went first."
   ]
  },
  {
   "cell_type": "code",
   "execution_count": 9,
   "id": "3689d5ad",
   "metadata": {},
   "outputs": [],
   "source": [
    "import random\n",
    "\n",
    "def choose_first():\n",
    "    \n",
    "    player_1 = 1\n",
    "    player_2 = 2\n",
    "    \n",
    "    \n",
    "    if random.randint(player_1,player_2) == 1:\n",
    "        print('Player 1 will go first')\n",
    "        \n",
    "    else:\n",
    "        print('Player 2 will go first')"
   ]
  },
  {
   "cell_type": "code",
   "execution_count": 10,
   "id": "afe3cb19",
   "metadata": {},
   "outputs": [],
   "source": [
    "#choose_first()"
   ]
  },
  {
   "cell_type": "markdown",
   "id": "b7f6125b",
   "metadata": {},
   "source": [
    "#### Step 6: Write a function that returns a boolean indicating whether a space on the board is freely available."
   ]
  },
  {
   "cell_type": "code",
   "execution_count": 11,
   "id": "738365ec",
   "metadata": {},
   "outputs": [],
   "source": [
    "def space_check(board, position):\n",
    "    \n",
    "    return board[position] == ' '"
   ]
  },
  {
   "cell_type": "code",
   "execution_count": 12,
   "id": "1e1c38b6",
   "metadata": {},
   "outputs": [],
   "source": [
    "#display_board(test_board)\n",
    "#space_check(test_board, 2)"
   ]
  },
  {
   "cell_type": "markdown",
   "id": "08ce983d",
   "metadata": {},
   "source": [
    "#### Step 7: Write a function that checks if the board is full and returns a boolean value. True if full, False otherwise."
   ]
  },
  {
   "cell_type": "code",
   "execution_count": 13,
   "id": "fb0a9a83",
   "metadata": {},
   "outputs": [],
   "source": [
    "def full_board_check(board):\n",
    "    \n",
    "    for i in range(1,10):\n",
    "        \n",
    "        if board[i] == ' ':\n",
    "            return False\n",
    "    \n",
    "    return True"
   ]
  },
  {
   "cell_type": "code",
   "execution_count": 14,
   "id": "e408dd91",
   "metadata": {},
   "outputs": [],
   "source": [
    "#test_board = ['#','X','O','X','O','X','O','X','X','X']\n",
    "#full_board_check(test_board)"
   ]
  },
  {
   "cell_type": "markdown",
   "id": "38e1715d",
   "metadata": {},
   "source": [
    "#### Step 8: Write a function that asks for a player's next position (as a number 1-9) and then uses the function from step 6 to check if it's a free position. If it is, then return the position for later use."
   ]
  },
  {
   "cell_type": "code",
   "execution_count": 15,
   "id": "2688e2c6",
   "metadata": {},
   "outputs": [],
   "source": [
    "def player_choice(board):\n",
    "    \n",
    "    position = 0\n",
    "    \n",
    "    while position not in [1,2,3,4,5,6,7,8,9] or not space_check(board, position):\n",
    "        position = int((input('Choose your next position: (1-9)\\n')))\n",
    "        \n",
    "    return position"
   ]
  },
  {
   "cell_type": "code",
   "execution_count": 16,
   "id": "44056016",
   "metadata": {},
   "outputs": [],
   "source": [
    "#test_board = ['#','X','O','X','O','X','O','X',' ','X']\n",
    "#player_choice(test_board)"
   ]
  },
  {
   "cell_type": "markdown",
   "id": "7702828e",
   "metadata": {},
   "source": [
    "#### Step 9: Write a function that asks the player if they want to play again and returns a boolean True if they do want to play again."
   ]
  },
  {
   "cell_type": "code",
   "execution_count": 17,
   "id": "cf3301e2",
   "metadata": {},
   "outputs": [],
   "source": [
    "def replay():\n",
    "    \n",
    "    replay = ''\n",
    "    \n",
    "    while replay not in ['Yes','No']:\n",
    "        replay = input('Do you want to play again? Enter Yes or No:\\n')\n",
    "        \n",
    "    return replay == 'Yes'"
   ]
  },
  {
   "cell_type": "code",
   "execution_count": 18,
   "id": "c4b0ec68",
   "metadata": {},
   "outputs": [],
   "source": [
    "#replay()"
   ]
  },
  {
   "cell_type": "markdown",
   "id": "12aadc85",
   "metadata": {},
   "source": [
    "## Step 10: Use while loops and the functions you've made to run the game!"
   ]
  },
  {
   "cell_type": "code",
   "execution_count": 19,
   "id": "ff3b83a3",
   "metadata": {},
   "outputs": [
    {
     "name": "stdout",
     "output_type": "stream",
     "text": [
      "   |   | \n",
      " O | X | O\n",
      "   |   | \n",
      "-----------\n",
      "   |   | \n",
      " X | O | X\n",
      "   |   | \n",
      "-----------\n",
      "   |   | \n",
      " X | O | O\n",
      "   |   | \n",
      "\n",
      "Congratulations Player 2! You have WON!\n",
      "\n",
      "Do you want to play again? Enter Yes or No:\n",
      "No\n"
     ]
    }
   ],
   "source": [
    "print('Welcome to Tic Tac Toe!')\n",
    "\n",
    "while True:\n",
    "    \n",
    "    #Setting the game up here\n",
    "    game_board = [' '] * 10\n",
    "    player1_marker,player2_marker = player_input()\n",
    "    turn = choose_first()\n",
    "    \n",
    "    \n",
    "    play_game = input('Are you ready to play? Enter Yes or No\\n')\n",
    "    \n",
    "    if play_game == 'Yes':\n",
    "        game_on = True   \n",
    "    else:\n",
    "        game_on = False\n",
    "    \n",
    "    \n",
    "    while game_on:\n",
    "        \n",
    "        #Player 1 Turn\n",
    "        if turn == 'Player 1 will go first':\n",
    "            \n",
    "            #Show Board with player_1's marker in the selected position\n",
    "            display_board(game_board)\n",
    "            position = player_choice(game_board)\n",
    "            place_marker(game_board, player1_marker, position)\n",
    "            \n",
    "            #Check for win\n",
    "            if win_check(game_board, player1_marker):\n",
    "                display_board(game_board)\n",
    "                print('\\nCongratulations Player 1! You have WON!\\n')\n",
    "                game_on = False\n",
    "                \n",
    "            #Check for tie\n",
    "            elif full_board_check(game_board):\n",
    "                display_board(game_board)\n",
    "                print('\\nIt is a tie :(\\n')\n",
    "                game_on = False\n",
    "                \n",
    "                \n",
    "            else:\n",
    "                turn = 'Player 2 will go first'\n",
    "        \n",
    "        \n",
    "        \n",
    "        #Player2's turn.\n",
    "        else:    \n",
    "            \n",
    "            #Show Board with player_2's marker in the selected position\n",
    "            display_board(game_board)\n",
    "            position = player_choice(game_board)\n",
    "            place_marker(game_board, player2_marker, position)\n",
    "            \n",
    "            #Check for win\n",
    "            if win_check(game_board, player2_marker):\n",
    "                display_board(game_board)\n",
    "                print('\\nCongratulations Player 2! You have WON!\\n')\n",
    "                game_on = False\n",
    "                \n",
    "            #Check for tie\n",
    "            elif full_board_check(game_board):\n",
    "                display_board(game_board)\n",
    "                print('\\nIt is a tie :(\\n')\n",
    "                game_on = False\n",
    "                \n",
    "                \n",
    "            else:\n",
    "                turn = 'Player 1 will go first'\n",
    "\n",
    "    \n",
    "    \n",
    "    \n",
    "    #Don't want to play again\n",
    "    if not replay():\n",
    "        break"
   ]
  },
  {
   "cell_type": "code",
   "execution_count": null,
   "id": "6e7debc2",
   "metadata": {},
   "outputs": [],
   "source": []
  }
 ],
 "metadata": {
  "kernelspec": {
   "display_name": "Python 3 (ipykernel)",
   "language": "python",
   "name": "python3"
  },
  "language_info": {
   "codemirror_mode": {
    "name": "ipython",
    "version": 3
   },
   "file_extension": ".py",
   "mimetype": "text/x-python",
   "name": "python",
   "nbconvert_exporter": "python",
   "pygments_lexer": "ipython3",
   "version": "3.9.13"
  }
 },
 "nbformat": 4,
 "nbformat_minor": 5
}
