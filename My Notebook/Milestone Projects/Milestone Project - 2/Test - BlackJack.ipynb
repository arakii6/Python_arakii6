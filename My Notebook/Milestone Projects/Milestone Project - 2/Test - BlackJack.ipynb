{
 "cells": [
  {
   "cell_type": "markdown",
   "id": "bd900f2b",
   "metadata": {},
   "source": [
    "## Card Game 'BlackJack'"
   ]
  },
  {
   "cell_type": "markdown",
   "id": "4bed4592",
   "metadata": {},
   "source": [
    "-------------\n",
    "#### # Global Variables - Suits,Ranks,Values"
   ]
  },
  {
   "cell_type": "code",
   "execution_count": null,
   "id": "cbaeb8f3",
   "metadata": {},
   "outputs": [],
   "source": [
    "from random import shuffle # To use the shuffle method in the Deck Class\n",
    "\n",
    "suits = ('Hearts', 'Diamonds', 'Spades', 'Clubs')\n",
    "\n",
    "ranks = ('Two', 'Three', 'Four', 'Five', 'Six', 'Seven', 'Eight', 'Nine', 'Ten', 'Jack', 'Queen', 'King', 'Ace')\n",
    "\n",
    "values = {'Two':2, 'Three':3, 'Four':4, 'Five':5, 'Six':6, 'Seven':7, 'Eight':8, \n",
    "            'Nine':9, 'Ten':10, 'Jack':10, 'Queen':10, 'King':10, 'Ace':11}\n",
    "\n",
    "playing = True"
   ]
  },
  {
   "cell_type": "markdown",
   "id": "76b765e9",
   "metadata": {},
   "source": [
    " -------------\n",
    "#### Card Class"
   ]
  },
  {
   "cell_type": "code",
   "execution_count": null,
   "id": "61681c2c",
   "metadata": {},
   "outputs": [],
   "source": [
    "class Card:\n",
    "    \n",
    "    def __init__(self, suit, rank):\n",
    "        self.suit = suit\n",
    "        self.rank = rank\n",
    "    \n",
    "    def __str__(self):\n",
    "        return f'{self.rank} of {self.suit}'"
   ]
  },
  {
   "cell_type": "code",
   "execution_count": null,
   "id": "a091d5b0",
   "metadata": {},
   "outputs": [],
   "source": [
    "new_card = Card('Hearts','Three')"
   ]
  },
  {
   "cell_type": "code",
   "execution_count": null,
   "id": "3e40a332",
   "metadata": {},
   "outputs": [],
   "source": [
    "print(new_card)"
   ]
  },
  {
   "cell_type": "markdown",
   "id": "420b2515",
   "metadata": {},
   "source": [
    "-------------\n",
    "#### Deck Class"
   ]
  },
  {
   "cell_type": "code",
   "execution_count": null,
   "id": "eab45e9a",
   "metadata": {},
   "outputs": [],
   "source": [
    "class Deck:\n",
    "    \n",
    "    def __init__(self):\n",
    "        self.deck = []  # start with an empty list\n",
    "        for suit in suits:\n",
    "            for rank in ranks:\n",
    "                created_card = Card(suit,rank)\n",
    "                self.deck.append(created_card)\n",
    "    \n",
    "    def __str__(self):\n",
    "        deck_comp = ''\n",
    "        for card in self.deck:\n",
    "            deck_comp = deck_comp + '\\n' + card.__str__()\n",
    "        \n",
    "        return f'The Deck:\\n{deck_comp}'\n",
    "        \n",
    "\n",
    "    def shuffle(self):\n",
    "        shuffle(self.deck)\n",
    "        \n",
    "    def deal(self):\n",
    "        return self.deck.pop()"
   ]
  },
  {
   "cell_type": "code",
   "execution_count": null,
   "id": "96b7e96f",
   "metadata": {},
   "outputs": [],
   "source": [
    "test_deck = Deck()\n",
    "print(test_deck)"
   ]
  },
  {
   "cell_type": "markdown",
   "id": "38b5bb3b",
   "metadata": {},
   "source": [
    "-------------\n",
    "#### Hand Class"
   ]
  },
  {
   "cell_type": "code",
   "execution_count": null,
   "id": "9a242c22",
   "metadata": {},
   "outputs": [],
   "source": [
    "class Hand:\n",
    "    def __init__(self):\n",
    "        self.cards = []  # start with an empty list as we did in the Deck class\n",
    "        self.value = 0   # start with zero value\n",
    "        self.aces = 0    # add an attribute to keep track of aces\n",
    "    \n",
    "    def add_card(self,card):\n",
    "        self.cards.append(card)\n",
    "        self.value += values[card.rank]\n",
    "        \n",
    "        if card.rank == 'Ace':\n",
    "            self.aces += 1\n",
    "    \n",
    "    def adjust_for_ace(self):\n",
    "        while self.value > 21 and self.aces > 0:\n",
    "            self.value -= 10\n",
    "            self.aces -= 1"
   ]
  },
  {
   "cell_type": "markdown",
   "id": "96ca59b6",
   "metadata": {},
   "source": [
    "-------------\n",
    "#### Chip Class"
   ]
  },
  {
   "cell_type": "code",
   "execution_count": null,
   "id": "37bd731c",
   "metadata": {},
   "outputs": [],
   "source": [
    "class Chips:\n",
    "    \n",
    "    def __init__(self):\n",
    "        self.total = 100  # This can be set to a default value or supplied by a user input\n",
    "        self.bet = 0\n",
    "        \n",
    "    def win_bet(self):\n",
    "        self.total += self.bet\n",
    "    \n",
    "    def lose_bet(self):\n",
    "        self.total -= self.bet"
   ]
  },
  {
   "cell_type": "markdown",
   "id": "9e5d3322",
   "metadata": {},
   "source": [
    "-------------\n",
    "### Functions"
   ]
  },
  {
   "cell_type": "markdown",
   "id": "03c3a523",
   "metadata": {},
   "source": [
    "#### a function for taking bets"
   ]
  },
  {
   "cell_type": "code",
   "execution_count": null,
   "id": "d492c210",
   "metadata": {},
   "outputs": [],
   "source": [
    "def take_bet(chips):\n",
    "    \n",
    "    while True:\n",
    "        \n",
    "        try:\n",
    "            chips.bet = int(input('\\nHow many chips would you like to bet: '))\n",
    "        \n",
    "        except:\n",
    "            print('\\nWHOOPS! Please provide a valid number')\n",
    "            \n",
    "        else:\n",
    "            if chips.bet > chips.total:\n",
    "                print(f\"\\nSorry, you don't have enough chips! Current balance:{chips.total}\")\n",
    "            else:\n",
    "                break"
   ]
  },
  {
   "cell_type": "markdown",
   "id": "1648009c",
   "metadata": {},
   "source": [
    "#### a function for taking hits"
   ]
  },
  {
   "cell_type": "code",
   "execution_count": null,
   "id": "2d66abdf",
   "metadata": {},
   "outputs": [],
   "source": [
    "def hit(deck,hand):\n",
    "    \n",
    "    single_card = deck.deal()\n",
    "    hand.add_card(single_card)\n",
    "    hand.adjust_for_ace()"
   ]
  },
  {
   "cell_type": "markdown",
   "id": "ab6d84db",
   "metadata": {},
   "source": [
    "#### a function prompting the Player to Hit or Stand"
   ]
  },
  {
   "cell_type": "code",
   "execution_count": null,
   "id": "247cacb4",
   "metadata": {},
   "outputs": [],
   "source": [
    "def hit_or_stand(deck,hand):\n",
    "    global playing  # to control an upcoming while loop\n",
    "    \n",
    "    while True:\n",
    "        x = input('\\nHit or Stand?')\n",
    "        \n",
    "        if x == 'Hit':\n",
    "            hit(deck,hand)\n",
    "        elif x == 'Stand':\n",
    "            print(\"Dealer's Turn\")\n",
    "            playing = False\n",
    "        else:\n",
    "            print('Wrong Input! Please enter Hit or Stand')\n",
    "            continue\n",
    "            \n",
    "        break"
   ]
  },
  {
   "cell_type": "markdown",
   "id": "9b1355fe",
   "metadata": {},
   "source": [
    "#### functions to display cards"
   ]
  },
  {
   "cell_type": "code",
   "execution_count": null,
   "id": "c2de0eb9",
   "metadata": {},
   "outputs": [],
   "source": [
    "def show_some(player,dealer):\n",
    "    \n",
    "    print(\"\\nDealer's Hand\")\n",
    "    print(\" <Card Hidden>\")\n",
    "    print('',dealer.cards[1])  \n",
    "    print(\"\\nPlayer's Hand:\", *player.cards, sep='\\n ')\n",
    "    \n",
    "\n",
    "def show_all(player,dealer):\n",
    "    \n",
    "    print(\"\\nDealer's Hand:\", *dealer.cards, sep=\"\\n\")\n",
    "    print(f\"\\nValue of Dealer's Hand: {dealer.value}\")\n",
    "    print(\"\\nPlayer's Hand:\", *player.cards, sep=\"\\n\")\n",
    "    print(f\"\\nValue of Player's Hand: {player.value}\")"
   ]
  },
  {
   "cell_type": "markdown",
   "id": "c7082d02",
   "metadata": {},
   "source": [
    "#### functions to handle end of game scenarios"
   ]
  },
  {
   "cell_type": "code",
   "execution_count": null,
   "id": "0629c42d",
   "metadata": {},
   "outputs": [],
   "source": [
    "def player_busts(player,dealer,chips):\n",
    "    print(\"Player busts!\")\n",
    "    chips.lose_bet()\n",
    "\n",
    "def player_wins(player,dealer,chips):\n",
    "    print(\"Player wins!\")\n",
    "    chips.win_bet()\n",
    "\n",
    "def dealer_busts(player,dealer,chips):\n",
    "    print(\"Dealer busts!\")\n",
    "    chips.win_bet()\n",
    "    \n",
    "def dealer_wins(player,dealer,chips):\n",
    "    print(\"Dealer wins!\")\n",
    "    chips.lose_bet()\n",
    "    \n",
    "def push(player,dealer):\n",
    "    print(\"Dealer and Player tie! It's a push.\")"
   ]
  },
  {
   "cell_type": "markdown",
   "id": "bcb1f900",
   "metadata": {},
   "source": [
    "---------------------------------\n",
    "### And now on to the game!!"
   ]
  },
  {
   "cell_type": "code",
   "execution_count": null,
   "id": "c5addf38",
   "metadata": {},
   "outputs": [],
   "source": [
    "while True:\n",
    "    \n",
    "    # Print an opening statement\n",
    "    print(\"Welcome To BLACKJACK!\")\n",
    "    \n",
    "    # Create & shuffle the deck, deal two cards to each player\n",
    "    deck = Deck()\n",
    "    deck.shuffle()\n",
    "    \n",
    "    player_hand = Hand()\n",
    "    player_hand.add_card(deck.deal())\n",
    "    player_hand.add_card(deck.deal())\n",
    "    \n",
    "    dealer_hand = Hand()\n",
    "    dealer_hand.add_card(deck.deal())\n",
    "    dealer_hand.add_card(deck.deal())\n",
    "        \n",
    "    # Set up the Player's chips\n",
    "    player_chips = Chips()\n",
    "    \n",
    "    # Prompt the Player for their bet\n",
    "    take_bet(player_chips)\n",
    "    \n",
    "    # Show cards (but keep one dealer card hidden)\n",
    "    show_some(player_hand,dealer_hand)\n",
    "    \n",
    "    while playing:  # recall this variable from our hit_or_stand function\n",
    "        \n",
    "        # Prompt for Player to Hit or Stand\n",
    "        hit_or_stand(deck,player_hand)\n",
    "        \n",
    "        # Show cards (but keep one dealer card hidden)\n",
    "        show_some(player_hand,dealer_hand)\n",
    "        \n",
    "        # If player's hand exceeds 21, run player_busts() and break out of loop\n",
    "        if player_hand.value > 21:\n",
    "            player_busts(player_hand,dealer_hand,player_chips)\n",
    "            break\n",
    "\n",
    "    # If Player hasn't busted, play Dealer's hand until Dealer reaches 17\n",
    "    if player_hand.value <= 21:\n",
    "        \n",
    "        while dealer_hand.value < 17:\n",
    "            hit(deck,dealer_hand)\n",
    "    \n",
    "        # Show all cards\n",
    "        show_all(player_hand,dealer_hand)\n",
    "        \n",
    "        # Run different winning scenarios\n",
    "        if dealer_hand.value > 21:\n",
    "            dealer_busts(player_hand,dealer_hand,player_chips)\n",
    "        \n",
    "        elif dealer_hand.value > player_hand.value:\n",
    "            dealer_wins(player_hand,dealer_hand,player_chips)\n",
    "        \n",
    "        elif dealer_hand.value < player_hand.value:\n",
    "            player_wins(player_hand,dealer_hand,player_chips)\n",
    "            \n",
    "        else:\n",
    "            push(player_hand,dealer_hand)\n",
    "    \n",
    "    # Inform Player of their chips total \n",
    "    print(f\"\\nPlayer total chips are at {player_chips.total}\")\n",
    "    \n",
    "    # Ask to play again\n",
    "    new_game = input(\"\\nPlay Again? y/n: \")\n",
    "    \n",
    "    if new_game[0].lower() == 'y':\n",
    "        playing = True\n",
    "        continue\n",
    "    else:\n",
    "        print(\"\\nThank You for playing :)\")\n",
    "        break"
   ]
  },
  {
   "cell_type": "code",
   "execution_count": null,
   "id": "d471df50",
   "metadata": {},
   "outputs": [],
   "source": []
  }
 ],
 "metadata": {
  "kernelspec": {
   "display_name": "Python 3 (ipykernel)",
   "language": "python",
   "name": "python3"
  },
  "language_info": {
   "codemirror_mode": {
    "name": "ipython",
    "version": 3
   },
   "file_extension": ".py",
   "mimetype": "text/x-python",
   "name": "python",
   "nbconvert_exporter": "python",
   "pygments_lexer": "ipython3",
   "version": "3.9.13"
  }
 },
 "nbformat": 4,
 "nbformat_minor": 5
}
