{
 "cells": [
  {
   "cell_type": "markdown",
   "id": "523c240f",
   "metadata": {},
   "source": [
    "# Milestone Project 2 - BlackJack\n",
    "Below is a set of steps for you to follow to try to create the Blackjack Milestone Project game!"
   ]
  },
  {
   "cell_type": "markdown",
   "id": "6269ff14",
   "metadata": {},
   "source": [
    "## Game Play\n",
    "To play a hand of Blackjack the following steps must be followed:\n",
    "1. Create a deck of 52 cards\n",
    "2. Shuffle the deck\n",
    "3. Ask the Player for their bet\n",
    "4. Make sure that the Player's bet does not exceed their available chips\n",
    "5. Deal two cards to the Dealer and two cards to the Player\n",
    "6. Show only one of the Dealer's cards, the other remains hidden\n",
    "7. Show both of the Player's cards\n",
    "8. Ask the Player if they wish to Hit, and take another card\n",
    "9. If the Player's hand doesn't Bust (go over 21), ask if they'd like to Hit again.\n",
    "10. If a Player Stands, play the Dealer's hand. The dealer will always Hit until the Dealer's value meets or exceeds 17\n",
    "11. Determine the winner and adjust the Player's chips accordingly\n",
    "12. Ask the Player if they'd like to play again"
   ]
  },
  {
   "cell_type": "markdown",
   "id": "3ae5471e",
   "metadata": {},
   "source": [
    "## Playing Cards\n",
    "A standard deck of playing cards has four suits (Hearts, Diamonds, Spades and Clubs) and thirteen ranks (2 through 10, then the face cards Jack, Queen, King and Ace) for a total of 52 cards per deck. Jacks, Queens and Kings all have a rank of 10. Aces have a rank of either 11 or 1 as needed to reach 21 without busting. As a starting point in your program, you may want to assign variables to store a list of suits, ranks, and then use a dictionary to map ranks to values."
   ]
  },
  {
   "cell_type": "markdown",
   "id": "17dac3e1",
   "metadata": {},
   "source": [
    "## The Game\n",
    "### Imports and Global Variables\n",
    "** Step 1: Import the random module. This will be used to shuffle the deck prior to dealing. Then, declare variables to store suits, ranks and values. You can develop your own system, or copy ours below. Finally, declare a Boolean value to be used to control <code>while</code> loops. This is a common practice used to control the flow of the game.**\n",
    "\n",
    "    suits = ('Hearts', 'Diamonds', 'Spades', 'Clubs')\n",
    "    ranks = ('Two', 'Three', 'Four', 'Five', 'Six', 'Seven', 'Eight', 'Nine', 'Ten', 'Jack', 'Queen', 'King', 'Ace')\n",
    "    values = {'Two':2, 'Three':3, 'Four':4, 'Five':5, 'Six':6, 'Seven':7, 'Eight':8, 'Nine':9, 'Ten':10, 'Jack':10,\n",
    "             'Queen':10, 'King':10, 'Ace':11}"
   ]
  },
  {
   "cell_type": "code",
   "execution_count": 1,
   "id": "d6689722",
   "metadata": {},
   "outputs": [],
   "source": [
    "from random import shuffle # To use the shuffle method in the Deck Class\n",
    "\n",
    "suits = ('Hearts', 'Diamonds', 'Spades', 'Clubs')\n",
    "\n",
    "ranks = ('Two', 'Three', 'Four', 'Five', 'Six', 'Seven', 'Eight', 'Nine', 'Ten', 'Jack', 'Queen', 'King', 'Ace')\n",
    "\n",
    "values = {'Two':2, 'Three':3, 'Four':4, 'Five':5, 'Six':6, 'Seven':7, 'Eight':8, \n",
    "            'Nine':9, 'Ten':10, 'Jack':10, 'Queen':10, 'King':10, 'Ace':11}\n",
    "\n",
    "playing = True"
   ]
  },
  {
   "cell_type": "markdown",
   "id": "50b1b8e2",
   "metadata": {},
   "source": [
    "### Class Definitions\n",
    "Consider making a Card class where each Card object has a suit and a rank, then a Deck class to hold all 52 Card objects, and can be shuffled, and finally a Hand class that holds those Cards that have been dealt to each player from the Deck."
   ]
  },
  {
   "cell_type": "markdown",
   "id": "84557e34",
   "metadata": {},
   "source": [
    "**Step 2: Create a Card Class**<br>\n",
    "A Card object really only needs two attributes: suit and rank. You might add an attribute for \"value\" - we chose to handle value later when developing our Hand class.<br>In addition to the Card's \\_\\_init\\_\\_ method, consider adding a \\_\\_str\\_\\_ method that, when asked to print a Card, returns a string in the form \"Two of Hearts\""
   ]
  },
  {
   "cell_type": "code",
   "execution_count": 2,
   "id": "61ce677b",
   "metadata": {},
   "outputs": [],
   "source": [
    "class Card:\n",
    "    \n",
    "    def __init__(self,rank,suit):\n",
    "        self.suit = suit\n",
    "        self.rank = rank\n",
    "    \n",
    "    def __str__(self):\n",
    "        return f'{self.rank} of {self.suit}'"
   ]
  },
  {
   "cell_type": "code",
   "execution_count": 3,
   "id": "0f47270b",
   "metadata": {},
   "outputs": [],
   "source": [
    "test_card = Card('Two','Clubs')"
   ]
  },
  {
   "cell_type": "code",
   "execution_count": 4,
   "id": "3d91bbff",
   "metadata": {},
   "outputs": [
    {
     "name": "stdout",
     "output_type": "stream",
     "text": [
      "Two of Clubs\n"
     ]
    }
   ],
   "source": [
    "print(test_card)"
   ]
  },
  {
   "cell_type": "markdown",
   "id": "fdf95bee",
   "metadata": {},
   "source": [
    "**Step 3: Create a Deck Class**<br>\n",
    "Here we might store 52 card objects in a list that can later be shuffled. First, though, we need to *instantiate* all 52 unique card objects and add them to our list. So long as the Card class definition appears in our code, we can build Card objects inside our Deck \\_\\_init\\_\\_ method. Consider iterating over sequences of suits and ranks to build out each card. This might appear inside a Deck class \\_\\_init\\_\\_ method:\n",
    "\n",
    "    for suit in suits:\n",
    "        for rank in ranks:\n",
    "\n",
    "In addition to an \\_\\_init\\_\\_ method we'll want to add methods to shuffle our deck, and to deal out cards during gameplay.<br><br>\n",
    "OPTIONAL: We may never need to print the contents of the deck during gameplay, but having the ability to see the cards inside it may help troubleshoot any problems that occur during development. With this in mind, consider adding a \\_\\_str\\_\\_ method to the class definition."
   ]
  },
  {
   "cell_type": "code",
   "execution_count": 5,
   "id": "79070aa4",
   "metadata": {},
   "outputs": [],
   "source": [
    "class Deck:\n",
    "    \n",
    "    def __init__(self):\n",
    "        self.deck = []  # start with an empty list\n",
    "        for suit in suits:\n",
    "            for rank in ranks:\n",
    "                self.deck.append(Card(rank,suit))\n",
    "    \n",
    "    def __str__(self):\n",
    "        deck_comp = ''\n",
    "        for card in self.deck:\n",
    "            deck_comp = deck_comp + '\\n' + card.__str__()\n",
    "        return f'The Deck:\\n{deck_comp}'\n",
    "\n",
    "    def shuffle(self):\n",
    "        shuffle(self.deck)\n",
    "        \n",
    "    def deal(self):\n",
    "        return self.deck.pop()"
   ]
  },
  {
   "cell_type": "markdown",
   "id": "e0da482b",
   "metadata": {},
   "source": [
    "TESTING: Just to see that everything works so far, let's see what our Deck looks like!"
   ]
  },
  {
   "cell_type": "code",
   "execution_count": 6,
   "id": "9c2a5768",
   "metadata": {},
   "outputs": [
    {
     "name": "stdout",
     "output_type": "stream",
     "text": [
      "The Deck:\n",
      "\n",
      "Two of Hearts\n",
      "Three of Hearts\n",
      "Four of Hearts\n",
      "Five of Hearts\n",
      "Six of Hearts\n",
      "Seven of Hearts\n",
      "Eight of Hearts\n",
      "Nine of Hearts\n",
      "Ten of Hearts\n",
      "Jack of Hearts\n",
      "Queen of Hearts\n",
      "King of Hearts\n",
      "Ace of Hearts\n",
      "Two of Diamonds\n",
      "Three of Diamonds\n",
      "Four of Diamonds\n",
      "Five of Diamonds\n",
      "Six of Diamonds\n",
      "Seven of Diamonds\n",
      "Eight of Diamonds\n",
      "Nine of Diamonds\n",
      "Ten of Diamonds\n",
      "Jack of Diamonds\n",
      "Queen of Diamonds\n",
      "King of Diamonds\n",
      "Ace of Diamonds\n",
      "Two of Spades\n",
      "Three of Spades\n",
      "Four of Spades\n",
      "Five of Spades\n",
      "Six of Spades\n",
      "Seven of Spades\n",
      "Eight of Spades\n",
      "Nine of Spades\n",
      "Ten of Spades\n",
      "Jack of Spades\n",
      "Queen of Spades\n",
      "King of Spades\n",
      "Ace of Spades\n",
      "Two of Clubs\n",
      "Three of Clubs\n",
      "Four of Clubs\n",
      "Five of Clubs\n",
      "Six of Clubs\n",
      "Seven of Clubs\n",
      "Eight of Clubs\n",
      "Nine of Clubs\n",
      "Ten of Clubs\n",
      "Jack of Clubs\n",
      "Queen of Clubs\n",
      "King of Clubs\n",
      "Ace of Clubs\n"
     ]
    }
   ],
   "source": [
    "test_deck = Deck()\n",
    "print(test_deck)"
   ]
  },
  {
   "cell_type": "markdown",
   "id": "dcd556b6",
   "metadata": {},
   "source": [
    "Great! Now let's move on to our Hand class."
   ]
  },
  {
   "cell_type": "markdown",
   "id": "7c2cb122",
   "metadata": {},
   "source": [
    "**Step 4: Create a Hand Class**<br>\n",
    "In addition to holding Card objects dealt from the Deck, the Hand class may be used to calculate the value of those cards using the values dictionary defined above. It may also need to adjust for the value of Aces when appropriate."
   ]
  },
  {
   "cell_type": "code",
   "execution_count": 7,
   "id": "d8150f4a",
   "metadata": {},
   "outputs": [],
   "source": [
    "class Hand:\n",
    "    def __init__(self):\n",
    "        self.cards = []  # start with an empty list as we did in the Deck class\n",
    "        self.value = 0   # start with zero value\n",
    "        self.aces = 0    # add an attribute to keep track of aces\n",
    "    \n",
    "    def add_card(self,card):\n",
    "        self.cards.append(card)\n",
    "        self.value += values[card.rank]\n",
    "        \n",
    "        if card.rank == 'Ace':\n",
    "            self.aces += 1\n",
    "    \n",
    "    def adjust_for_ace(self):\n",
    "        while self.value > 21 and self.aces > 0:\n",
    "            self.value -= 10\n",
    "            self.aces -= 1"
   ]
  },
  {
   "cell_type": "markdown",
   "id": "c07e9f7d",
   "metadata": {},
   "source": [
    "TESTING: Before we tackle the issue of changing Aces, let's make sure we can add two cards to a player's hand and obtain their value:"
   ]
  },
  {
   "cell_type": "code",
   "execution_count": 8,
   "id": "9710f2d9",
   "metadata": {},
   "outputs": [
    {
     "data": {
      "text/plain": [
       "17"
      ]
     },
     "execution_count": 8,
     "metadata": {},
     "output_type": "execute_result"
    }
   ],
   "source": [
    "test_deck = Deck()\n",
    "test_deck.shuffle()\n",
    "test_player = Hand()\n",
    "test_player.add_card(test_deck.deal())\n",
    "test_player.add_card(test_deck.deal())\n",
    "test_player.add_card(test_deck.deal())\n",
    "test_player.value"
   ]
  },
  {
   "cell_type": "markdown",
   "id": "3b20cf8b",
   "metadata": {},
   "source": [
    "Let's see what these three cards are:"
   ]
  },
  {
   "cell_type": "code",
   "execution_count": 9,
   "id": "cde9dd40",
   "metadata": {},
   "outputs": [
    {
     "name": "stdout",
     "output_type": "stream",
     "text": [
      "Three of Spades\n",
      "Three of Hearts\n",
      "Ace of Spades\n"
     ]
    }
   ],
   "source": [
    "for card in test_player.cards:\n",
    "    print(card)"
   ]
  },
  {
   "cell_type": "markdown",
   "id": "c1f5e900",
   "metadata": {},
   "source": [
    "**Step 5: Create a Chips Class**<br>\n",
    "In addition to decks of cards and hands, we need to keep track of a Player's starting chips, bets, and ongoing winnings. This could be done using global variables, but in the spirit of object oriented programming, let's make a Chips class instead!"
   ]
  },
  {
   "cell_type": "code",
   "execution_count": 10,
   "id": "b2b500e9",
   "metadata": {},
   "outputs": [],
   "source": [
    "class Chips:\n",
    "    \n",
    "    def __init__(self):\n",
    "        self.total = 100  # This can be set to a default value or supplied by a user input\n",
    "        self.bet = 0\n",
    "        \n",
    "    def win_bet(self):\n",
    "        self.total += self.bet\n",
    "    \n",
    "    def lose_bet(self):\n",
    "        self.total -= self.bet"
   ]
  },
  {
   "cell_type": "markdown",
   "id": "ac7e4520",
   "metadata": {},
   "source": [
    "### Function Defintions\n",
    "A lot of steps are going to be repetitive. That's where functions come in! The following steps are guidelines - add or remove functions as needed in your own program."
   ]
  },
  {
   "cell_type": "markdown",
   "id": "eb9fe78d",
   "metadata": {},
   "source": [
    "**Step 6: Write a function for taking bets**<br>\n",
    "Since we're asking the user for an integer value, this would be a good place to use <code>try</code>/<code>except</code>. Remember to check that a Player's bet can be covered by their available chips. "
   ]
  },
  {
   "cell_type": "code",
   "execution_count": 11,
   "id": "a9398b01",
   "metadata": {},
   "outputs": [],
   "source": [
    "def take_bet(x):\n",
    "    \n",
    "    while True:\n",
    "        try:\n",
    "            x.bet = int(input('\\nEnter your bet: '))\n",
    "        except:\n",
    "            print('\\nWhoops! Enter a valid number')\n",
    "        else:\n",
    "            if x.bet > x.total:\n",
    "                print(f'Not Enough Chips! Available Chips: {x.total}')\n",
    "            else:\n",
    "                break"
   ]
  },
  {
   "cell_type": "code",
   "execution_count": 12,
   "id": "7b5902d5",
   "metadata": {},
   "outputs": [],
   "source": [
    "#player_chips = Chips()\n",
    "#take_bet(player_chips)"
   ]
  },
  {
   "cell_type": "markdown",
   "id": "c38097ed",
   "metadata": {},
   "source": [
    "**Step 7: Write a function for taking hits**<br>\n",
    "Either player can take hits until they bust. This function will be called during gameplay anytime a Player requests a hit, or a Dealer's hand is less than 17. It should take in Deck and Hand objects as arguments, and deal one card off the deck and add it to the Hand. You may want it to check for aces in the event that a player's hand exceeds 21."
   ]
  },
  {
   "cell_type": "code",
   "execution_count": 13,
   "id": "6c3d6e10",
   "metadata": {},
   "outputs": [],
   "source": [
    "def hit(deck,hand):\n",
    "    \n",
    "    hand.add_card(deck.deal())\n",
    "    hand.adjust_for_ace()\n",
    "    "
   ]
  },
  {
   "cell_type": "markdown",
   "id": "047f2438",
   "metadata": {},
   "source": [
    "**Step 8: Write a function prompting the Player to Hit or Stand**<br>\n",
    "This function should accept the deck and the player's hand as arguments, and assign playing as a global variable.<br>\n",
    "If the Player Hits, employ the hit() function above. If the Player Stands, set the playing variable to False - this will control the behavior of a <code>while</code> loop later on in our code."
   ]
  },
  {
   "cell_type": "code",
   "execution_count": 14,
   "id": "be170fb3",
   "metadata": {},
   "outputs": [],
   "source": [
    "def hit_or_stand(deck,hand):\n",
    "    \n",
    "    global playing\n",
    "    \n",
    "    while True:\n",
    "    \n",
    "        x = input(\"\\nWould you like to Hit or Stand? Reply H or S: \")\n",
    "    \n",
    "        if x[0].lower() == 'h':\n",
    "            hit(deck,hand)\n",
    "    \n",
    "        elif x[0].lower() == 's':\n",
    "            print(\"Player Stands, Dealer's Turn\")\n",
    "            playing = False\n",
    "  \n",
    "        else:\n",
    "            print('Sorry Wrong Input')\n",
    "            continue\n",
    "    \n",
    "        break"
   ]
  },
  {
   "cell_type": "code",
   "execution_count": 15,
   "id": "e491d38e",
   "metadata": {
    "scrolled": true
   },
   "outputs": [],
   "source": [
    "#test_deck = Deck()\n",
    "#player_hand = Hand()\n",
    "#hit_or_stand(test_deck,player_hand)"
   ]
  },
  {
   "cell_type": "markdown",
   "id": "d2f58ef8",
   "metadata": {},
   "source": [
    "**Step 9: Write functions to display cards**<br>\n",
    "When the game starts, and after each time Player takes a card, the dealer's first card is hidden and all of Player's cards are visible. At the end of the hand all cards are shown, and you may want to show each hand's total value. Write a function for each of these scenarios."
   ]
  },
  {
   "cell_type": "code",
   "execution_count": 16,
   "id": "2998e180",
   "metadata": {},
   "outputs": [],
   "source": [
    "def show_some(player,dealer):\n",
    "    print('\\nDelaer Cards')\n",
    "    print('<Card Hidden>')\n",
    "    print(dealer.cards[1])\n",
    "    \n",
    "    print('\\nPlayer Cards', *player.cards,sep='\\n')\n",
    "    \n",
    "    \n",
    "def show_all(player,dealer):\n",
    "    \n",
    "    print('\\nDelaer Cards', *dealer.cards,sep='\\n')\n",
    "    print(f\"Total value of Dealer's Hand: {dealer.value}\")\n",
    "    \n",
    "    print('\\nPlayer Cards', *player.cards,sep='\\n')\n",
    "    print(f\"Total value of Player's Hand: {player.value}\")"
   ]
  },
  {
   "cell_type": "markdown",
   "id": "2f9395d7",
   "metadata": {},
   "source": [
    "**Step 10: Write functions to handle end of game scenarios**<br>\n",
    "Remember to pass player's hand, dealer's hand and chips as needed."
   ]
  },
  {
   "cell_type": "code",
   "execution_count": 17,
   "id": "65ba9de1",
   "metadata": {},
   "outputs": [],
   "source": [
    "def player_busts(player,dealer,chips):\n",
    "    print('\\nPlayer Busts!')\n",
    "    chips.lose_bet()\n",
    "\n",
    "def player_wins(player,dealer,chips):\n",
    "    print('\\nPlayer Wins!')\n",
    "    chips.win_bet()\n",
    "\n",
    "def dealer_busts(player,dealer,chips):\n",
    "    print('\\nDealer Busts!')\n",
    "    chips.win_bet()\n",
    "    \n",
    "def dealer_wins(player,dealer,chips):\n",
    "    print('\\nDealer Wins!')\n",
    "    chips.lose_bet()\n",
    "    \n",
    "def push(player,dealer):\n",
    "    print(\"\\nDealer and Player tie! It's a push.\")"
   ]
  },
  {
   "cell_type": "markdown",
   "id": "8ee57a32",
   "metadata": {},
   "source": [
    "---------------------------------\n",
    "### And now on to the game!!"
   ]
  },
  {
   "cell_type": "code",
   "execution_count": 18,
   "id": "5e91f778",
   "metadata": {},
   "outputs": [
    {
     "name": "stdout",
     "output_type": "stream",
     "text": [
      "!!__BlackJack__!!\n",
      "\n",
      "Enter your bet: 50\n",
      "\n",
      "Delaer Cards\n",
      "<Card Hidden>\n",
      "Ace of Spades\n",
      "\n",
      "Player Cards\n",
      "Ten of Clubs\n",
      "Nine of Diamonds\n",
      "\n",
      "Would you like to Hit or Stand? Reply H or S: s\n",
      "Player Stands, Dealer's Turn\n",
      "\n",
      "Delaer Cards\n",
      "<Card Hidden>\n",
      "Ace of Spades\n",
      "\n",
      "Player Cards\n",
      "Ten of Clubs\n",
      "Nine of Diamonds\n",
      "\n",
      "Delaer Cards\n",
      "Three of Clubs\n",
      "Ace of Spades\n",
      "King of Clubs\n",
      "Jack of Clubs\n",
      "Total value of Dealer's Hand: 24\n",
      "\n",
      "Player Cards\n",
      "Ten of Clubs\n",
      "Nine of Diamonds\n",
      "Total value of Player's Hand: 19\n",
      "\n",
      "Dealer Busts!\n",
      "\n",
      "Your Total Chips are: 150\n",
      "\n",
      "Play Again? y/n: y\n",
      "!!__BlackJack__!!\n",
      "\n",
      "Enter your bet: 50\n",
      "\n",
      "Delaer Cards\n",
      "<Card Hidden>\n",
      "King of Spades\n",
      "\n",
      "Player Cards\n",
      "Ten of Hearts\n",
      "Jack of Diamonds\n",
      "\n",
      "Would you like to Hit or Stand? Reply H or S: s\n",
      "Player Stands, Dealer's Turn\n",
      "\n",
      "Delaer Cards\n",
      "<Card Hidden>\n",
      "King of Spades\n",
      "\n",
      "Player Cards\n",
      "Ten of Hearts\n",
      "Jack of Diamonds\n",
      "\n",
      "Delaer Cards\n",
      "Jack of Hearts\n",
      "King of Spades\n",
      "Total value of Dealer's Hand: 20\n",
      "\n",
      "Player Cards\n",
      "Ten of Hearts\n",
      "Jack of Diamonds\n",
      "Total value of Player's Hand: 20\n",
      "\n",
      "Dealer and Player tie! It's a push.\n",
      "\n",
      "Your Total Chips are: 100\n",
      "\n",
      "Play Again? y/n: y\n",
      "!!__BlackJack__!!\n",
      "\n",
      "Enter your bet: 50\n",
      "\n",
      "Delaer Cards\n",
      "<Card Hidden>\n",
      "King of Diamonds\n",
      "\n",
      "Player Cards\n",
      "Jack of Diamonds\n",
      "Seven of Diamonds\n",
      "\n",
      "Would you like to Hit or Stand? Reply H or S: s\n",
      "Player Stands, Dealer's Turn\n",
      "\n",
      "Delaer Cards\n",
      "<Card Hidden>\n",
      "King of Diamonds\n",
      "\n",
      "Player Cards\n",
      "Jack of Diamonds\n",
      "Seven of Diamonds\n",
      "\n",
      "Delaer Cards\n",
      "Four of Diamonds\n",
      "King of Diamonds\n",
      "Ten of Clubs\n",
      "Total value of Dealer's Hand: 24\n",
      "\n",
      "Player Cards\n",
      "Jack of Diamonds\n",
      "Seven of Diamonds\n",
      "Total value of Player's Hand: 17\n",
      "\n",
      "Dealer Busts!\n",
      "\n",
      "Your Total Chips are: 150\n",
      "\n",
      "Play Again? y/n: n\n",
      "\n",
      "Thank You for playing :)\n"
     ]
    }
   ],
   "source": [
    "while True:\n",
    "    \n",
    "    # Print an opening statement\n",
    "    print('!!__BlackJack__!!')\n",
    "    \n",
    "    # Create & shuffle the deck, deal two cards to each player\n",
    "    new_deck = Deck()\n",
    "    \n",
    "    new_deck.shuffle()\n",
    "    \n",
    "    player_hand = Hand()\n",
    "    player_hand.add_card(new_deck.deal())\n",
    "    player_hand.add_card(new_deck.deal())\n",
    "    \n",
    "    dealer_hand = Hand()\n",
    "    dealer_hand.add_card(new_deck.deal())\n",
    "    dealer_hand.add_card(new_deck.deal())\n",
    "        \n",
    "    # Set up the Player's chips\n",
    "    player_chips = Chips()\n",
    "    \n",
    "    # Prompt the Player for their bet\n",
    "    take_bet(player_chips)\n",
    "    \n",
    "    # Show cards (but keep one dealer card hidden)\n",
    "    show_some(player_hand,dealer_hand)\n",
    "    \n",
    "    while playing:  # recall this variable from our hit_or_stand function\n",
    "        \n",
    "        # Prompt for Player to Hit or Stand\n",
    "        hit_or_stand(new_deck,player_hand)\n",
    "        \n",
    "        # Show cards (but keep one dealer card hidden)\n",
    "        show_some(player_hand,dealer_hand)\n",
    "        \n",
    "        # If player's hand exceeds 21, run player_busts() and break out of loop\n",
    "        if player_hand.value > 21:\n",
    "            player_busts(player_hand,dealer_hand,player_chips)\n",
    "            break\n",
    "\n",
    "    # If Player hasn't busted, play Dealer's hand until Dealer reaches 17\n",
    "    if player_hand.value <= 21:\n",
    "        \n",
    "        while dealer_hand.value < 17:\n",
    "            hit(new_deck,dealer_hand)\n",
    "    \n",
    "        # Show all cards\n",
    "        show_all(player_hand,dealer_hand)\n",
    "        \n",
    "        # Run different winning scenarios\n",
    "        if dealer_hand.value > 21:\n",
    "            dealer_busts(player_hand,dealer_hand,player_chips)\n",
    "        \n",
    "        elif dealer_hand.value > player_hand.value:\n",
    "            dealer_wins(player_hand,dealer_hand,player_chips)\n",
    "        \n",
    "        elif dealer_hand.value < player_hand.value:\n",
    "            player_wins(player_hand,dealer_hand,player_chips)\n",
    "            \n",
    "        else:\n",
    "            push(player_hand,dealer_hand)\n",
    "    \n",
    "    # Inform Player of their chips total \n",
    "    print(f'\\nYour Total Chips are: {player_chips.total}')\n",
    "    \n",
    "    # Ask to play again\n",
    "    new_game = input(\"\\nPlay Again? y/n: \")\n",
    "    \n",
    "    if new_game[0].lower() == 'y':\n",
    "        playing = True\n",
    "        continue\n",
    "    else:\n",
    "        print(\"\\nThank You for playing :)\")\n",
    "        break"
   ]
  },
  {
   "cell_type": "code",
   "execution_count": null,
   "id": "403cbe25",
   "metadata": {},
   "outputs": [],
   "source": []
  }
 ],
 "metadata": {
  "kernelspec": {
   "display_name": "Python 3 (ipykernel)",
   "language": "python",
   "name": "python3"
  },
  "language_info": {
   "codemirror_mode": {
    "name": "ipython",
    "version": 3
   },
   "file_extension": ".py",
   "mimetype": "text/x-python",
   "name": "python",
   "nbconvert_exporter": "python",
   "pygments_lexer": "ipython3",
   "version": "3.9.13"
  }
 },
 "nbformat": 4,
 "nbformat_minor": 5
}
