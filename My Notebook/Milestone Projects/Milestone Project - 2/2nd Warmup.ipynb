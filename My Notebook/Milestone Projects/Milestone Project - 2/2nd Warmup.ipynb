{
 "cells": [
  {
   "cell_type": "markdown",
   "id": "20de7d65",
   "metadata": {},
   "source": [
    "## Card Game 'War'"
   ]
  },
  {
   "cell_type": "markdown",
   "id": "d778bc32",
   "metadata": {},
   "source": [
    "-------------\n",
    "#### # Global Variables - Suits,Ranks,Values"
   ]
  },
  {
   "cell_type": "code",
   "execution_count": 4,
   "id": "a8d2addf",
   "metadata": {},
   "outputs": [],
   "source": [
    "import random # To use the shuffle method in the Deck Class\n",
    "\n",
    "suits = ('Hearts', 'Diamonds', 'Spades', 'Clubs')\n",
    "\n",
    "ranks = ('Two', 'Three', 'Four', 'Five', 'Six', 'Seven', 'Eight', 'Nine', 'Ten', 'Jack', 'Queen', 'King', 'Ace')\n",
    "\n",
    "values = {'Two':2, 'Three':3, 'Four':4, 'Five':5, 'Six':6, 'Seven':7, 'Eight':8, \n",
    "            'Nine':9, 'Ten':10, 'Jack':11, 'Queen':12, 'King':13, 'Ace':14}"
   ]
  },
  {
   "cell_type": "markdown",
   "id": "9a7cd9b0",
   "metadata": {},
   "source": [
    "-------------\n",
    "#### Card Class"
   ]
  },
  {
   "cell_type": "code",
   "execution_count": 5,
   "id": "4f4aad04",
   "metadata": {},
   "outputs": [],
   "source": [
    "class Card:\n",
    "    \n",
    "    def __init__(self,suit,rank):\n",
    "        self.suit = suit\n",
    "        self.rank = rank\n",
    "        self.value = values[rank]\n",
    "    \n",
    "    def __str__(self):\n",
    "        return self.rank + \" of \" + self.suit"
   ]
  },
  {
   "cell_type": "code",
   "execution_count": 6,
   "id": "0f5a8b8f",
   "metadata": {},
   "outputs": [],
   "source": [
    "new_card = Card('Hearts','Two')"
   ]
  },
  {
   "cell_type": "code",
   "execution_count": 7,
   "id": "efc9dfa7",
   "metadata": {},
   "outputs": [
    {
     "data": {
      "text/plain": [
       "'Two'"
      ]
     },
     "execution_count": 7,
     "metadata": {},
     "output_type": "execute_result"
    }
   ],
   "source": [
    "new_card.rank"
   ]
  },
  {
   "cell_type": "code",
   "execution_count": 8,
   "id": "aba90033",
   "metadata": {},
   "outputs": [
    {
     "data": {
      "text/plain": [
       "'Hearts'"
      ]
     },
     "execution_count": 8,
     "metadata": {},
     "output_type": "execute_result"
    }
   ],
   "source": [
    "new_card.suit"
   ]
  },
  {
   "cell_type": "code",
   "execution_count": 9,
   "id": "a0820122",
   "metadata": {},
   "outputs": [
    {
     "name": "stdout",
     "output_type": "stream",
     "text": [
      "Two of Hearts\n"
     ]
    }
   ],
   "source": [
    "print(new_card)"
   ]
  },
  {
   "cell_type": "markdown",
   "id": "0ffcf6d9",
   "metadata": {},
   "source": [
    "-------------\n",
    "#### Deck Class "
   ]
  },
  {
   "cell_type": "code",
   "execution_count": 28,
   "id": "026ca4b8",
   "metadata": {},
   "outputs": [],
   "source": [
    "class Deck:\n",
    "    \n",
    "    def __init__(self):\n",
    "        self.all_cards = []\n",
    "        \n",
    "        # Create the Deck\n",
    "        for suit in suits:\n",
    "            for rank in ranks:\n",
    "                # Create the Card Object\n",
    "                created_card = Card(suit,rank) # created_card = it's the same as new_card with Card Class\n",
    "                self.all_cards.append(created_card)\n",
    "    \n",
    "    # Shuffle the Deck            \n",
    "    def shuffle_deck(self):\n",
    "        random.shuffle(self.all_cards)\n",
    "        \n",
    "    # Deal the Cards\n",
    "    def deal_card(self):\n",
    "        return self.all_cards.pop()"
   ]
  },
  {
   "cell_type": "code",
   "execution_count": 21,
   "id": "9829ec66",
   "metadata": {},
   "outputs": [],
   "source": [
    "new_deck = Deck()"
   ]
  },
  {
   "cell_type": "code",
   "execution_count": 61,
   "id": "4c149ed0",
   "metadata": {},
   "outputs": [
    {
     "name": "stdout",
     "output_type": "stream",
     "text": [
      "Three of Hearts\n"
     ]
    }
   ],
   "source": [
    "print(new_deck.all_cards[1])"
   ]
  },
  {
   "cell_type": "code",
   "execution_count": 62,
   "id": "8169aabe",
   "metadata": {},
   "outputs": [],
   "source": [
    "new_deck.shuffle_deck()"
   ]
  },
  {
   "cell_type": "code",
   "execution_count": 63,
   "id": "3f6aebaa",
   "metadata": {},
   "outputs": [
    {
     "name": "stdout",
     "output_type": "stream",
     "text": [
      "King of Spades\n"
     ]
    }
   ],
   "source": [
    "print(new_deck.all_cards[1])"
   ]
  },
  {
   "cell_type": "code",
   "execution_count": 64,
   "id": "580204ac",
   "metadata": {},
   "outputs": [
    {
     "data": {
      "text/plain": [
       "52"
      ]
     },
     "execution_count": 64,
     "metadata": {},
     "output_type": "execute_result"
    }
   ],
   "source": [
    "# Number of Crads in the Deck\n",
    "len(new_deck.all_cards)"
   ]
  },
  {
   "cell_type": "code",
   "execution_count": 65,
   "id": "6c1c011e",
   "metadata": {},
   "outputs": [],
   "source": [
    "# Deal one card from the Deck\n",
    "my_card = new_deck.deal_card()"
   ]
  },
  {
   "cell_type": "code",
   "execution_count": 66,
   "id": "5e321f7f",
   "metadata": {},
   "outputs": [
    {
     "name": "stdout",
     "output_type": "stream",
     "text": [
      "Seven of Clubs\n"
     ]
    }
   ],
   "source": [
    "print(my_card)"
   ]
  },
  {
   "cell_type": "code",
   "execution_count": 67,
   "id": "a807a96c",
   "metadata": {},
   "outputs": [
    {
     "data": {
      "text/plain": [
       "51"
      ]
     },
     "execution_count": 67,
     "metadata": {},
     "output_type": "execute_result"
    }
   ],
   "source": [
    "# Number of Crads in the Deck\n",
    "len(new_deck.all_cards)"
   ]
  },
  {
   "cell_type": "markdown",
   "id": "289b330d",
   "metadata": {},
   "source": [
    "-------------\n",
    "#### Player Class "
   ]
  },
  {
   "cell_type": "code",
   "execution_count": 85,
   "id": "0e9fbcff",
   "metadata": {},
   "outputs": [],
   "source": [
    "class Player:\n",
    "    \n",
    "    # Create Player and an Empty Hand/List\n",
    "    def __init__(self,name):\n",
    "        self.name = name\n",
    "        self.all_cards = []\n",
    "        \n",
    "    \n",
    "    # Modify Player Hand\n",
    "    # Remove one card\n",
    "    def remove_one(self):\n",
    "        return self.all_cards.pop(0)\n",
    "    \n",
    "    # Add cards\n",
    "    def add_cards(self,new_cards):\n",
    "        if type(new_cards) == type([]):\n",
    "            # List of multiple Card objects\n",
    "            self.all_cards.extend(new_cards)\n",
    "        else:\n",
    "            # For a single Card object\n",
    "            self.all_cards.append(new_cards)\n",
    "    \n",
    "    def __str__(self):\n",
    "        return f'Player {self.name} has {len(self.all_cards)} cards.'"
   ]
  },
  {
   "cell_type": "code",
   "execution_count": 86,
   "id": "c8a49977",
   "metadata": {},
   "outputs": [],
   "source": [
    "new_player = Player(\"Akash\")"
   ]
  },
  {
   "cell_type": "code",
   "execution_count": 87,
   "id": "8a348933",
   "metadata": {},
   "outputs": [
    {
     "name": "stdout",
     "output_type": "stream",
     "text": [
      "Player Akash has 0 cards.\n"
     ]
    }
   ],
   "source": [
    "print(new_player)"
   ]
  },
  {
   "cell_type": "code",
   "execution_count": 88,
   "id": "57629f0b",
   "metadata": {},
   "outputs": [],
   "source": [
    "new_player.add_cards(my_card)"
   ]
  },
  {
   "cell_type": "code",
   "execution_count": 89,
   "id": "57d07a6a",
   "metadata": {},
   "outputs": [
    {
     "name": "stdout",
     "output_type": "stream",
     "text": [
      "Player Akash has 1 cards.\n"
     ]
    }
   ],
   "source": [
    "print(new_player)"
   ]
  },
  {
   "cell_type": "code",
   "execution_count": 90,
   "id": "b5af7871",
   "metadata": {},
   "outputs": [
    {
     "name": "stdout",
     "output_type": "stream",
     "text": [
      "Seven of Clubs\n"
     ]
    }
   ],
   "source": [
    "print(new_player.all_cards[0])"
   ]
  },
  {
   "cell_type": "code",
   "execution_count": 91,
   "id": "19ef989e",
   "metadata": {},
   "outputs": [],
   "source": [
    "new_player.add_cards([my_card,my_card,my_card])"
   ]
  },
  {
   "cell_type": "code",
   "execution_count": 92,
   "id": "24da3921",
   "metadata": {},
   "outputs": [
    {
     "name": "stdout",
     "output_type": "stream",
     "text": [
      "Player Akash has 4 cards.\n"
     ]
    }
   ],
   "source": [
    "print(new_player)"
   ]
  },
  {
   "cell_type": "code",
   "execution_count": 93,
   "id": "75f4d698",
   "metadata": {},
   "outputs": [
    {
     "data": {
      "text/plain": [
       "<__main__.Card at 0x27ada7b4a30>"
      ]
     },
     "execution_count": 93,
     "metadata": {},
     "output_type": "execute_result"
    }
   ],
   "source": [
    "new_player.remove_one()"
   ]
  },
  {
   "cell_type": "code",
   "execution_count": 94,
   "id": "b58c702c",
   "metadata": {},
   "outputs": [
    {
     "name": "stdout",
     "output_type": "stream",
     "text": [
      "Player Akash has 3 cards.\n"
     ]
    }
   ],
   "source": [
    "print(new_player)"
   ]
  },
  {
   "cell_type": "markdown",
   "id": "4a48a0a7",
   "metadata": {},
   "source": [
    "-------------\n",
    "### Game Logic"
   ]
  },
  {
   "cell_type": "code",
   "execution_count": 109,
   "id": "799ab53d",
   "metadata": {
    "scrolled": false
   },
   "outputs": [
    {
     "name": "stdout",
     "output_type": "stream",
     "text": [
      "Round 1\n",
      "Round 2\n",
      "Round 3\n",
      "Round 4\n",
      "Round 5\n",
      "Round 6\n",
      "Round 7\n",
      "Round 8\n",
      "WAR !!\n",
      "Round 9\n",
      "Round 10\n",
      "Round 11\n",
      "Round 12\n",
      "Round 13\n",
      "WAR !!\n",
      "Round 14\n",
      "WAR !!\n",
      "Round 15\n",
      "WAR !!\n",
      "Round 16\n",
      "Round 17\n",
      "Round 18\n",
      "Round 19\n",
      "Round 20\n",
      "Round 21\n",
      "Round 22\n",
      "Round 23\n",
      "Round 24\n",
      "Round 25\n",
      "Round 26\n",
      "Round 27\n",
      "Round 28\n",
      "Round 29\n",
      "Round 30\n",
      "Round 31\n",
      "Round 32\n",
      "Round 33\n",
      "Round 34\n",
      "Round 35\n",
      "Round 36\n",
      "Round 37\n",
      "Round 38\n",
      "WAR !!\n",
      "Round 39\n",
      "Round 40\n",
      "Round 41\n",
      "Round 42\n",
      "Round 43\n",
      "Round 44\n",
      "Round 45\n",
      "Round 46\n",
      "Player Two is out of cards! Player One wins\n"
     ]
    }
   ],
   "source": [
    "# Game Setup\n",
    "\n",
    "# Create Players\n",
    "player_one = Player('One')\n",
    "player_two = Player('Two')\n",
    "\n",
    "# Create the Deck and Shuffle it\n",
    "new_deck = Deck()\n",
    "new_deck.shuffle_deck()\n",
    "\n",
    "# Split the Deck\n",
    "for x in range(26):\n",
    "    player_one.add_cards(new_deck.deal_card())\n",
    "    player_two.add_cards(new_deck.deal_card())\n",
    "    \n",
    "    \n",
    "# Play the Game\n",
    "game_on = True\n",
    "round_num = 0\n",
    "\n",
    "while game_on:\n",
    "    \n",
    "    # To check how many rounds it takes for one player to win\n",
    "    round_num += 1\n",
    "    print(f'Round {round_num}')\n",
    "    \n",
    "    # To check if either of the players have run out of cards\n",
    "    if len(player_one.all_cards) == 0:\n",
    "        print('Player One is out of cards! Player Two wins')\n",
    "        game_on = False\n",
    "        break\n",
    "    \n",
    "    elif len(player_two.all_cards) == 0:\n",
    "        print('Player Two is out of cards! Player One wins')\n",
    "        game_on = False\n",
    "        break\n",
    "\n",
    "    \n",
    "    # Start A New Round\n",
    "    player_one_cards = [] # This are the cards on the table and not in the players' hand i.e player_one.all_cards \n",
    "    player_one_cards.append(player_one.remove_one())\n",
    "    \n",
    "    player_two_cards = []\n",
    "    player_two_cards.append(player_two.remove_one())\n",
    "\n",
    "    \n",
    "    \n",
    "    # Compare Cards\n",
    "    at_war = True\n",
    "    \n",
    "    while at_war:\n",
    "        \n",
    "        if player_one_cards[-1].value > player_two_cards[-1].value:\n",
    "            player_one.add_cards(player_one_cards)\n",
    "            player_one.add_cards(player_two_cards)\n",
    "            at_war = False\n",
    "            \n",
    "        elif player_one_cards[-1].value < player_two_cards[-1].value:\n",
    "            player_two.add_cards(player_one_cards)\n",
    "            player_two.add_cards(player_two_cards)\n",
    "            at_war = False\n",
    "            \n",
    "        else:\n",
    "            print('WAR !!')\n",
    "            \n",
    "            if len(player_one.all_cards) < 5:\n",
    "                print('Player One has less than 5 cards! Player Two wins')\n",
    "                game_on = False\n",
    "                break\n",
    "            \n",
    "            elif len(player_two.all_cards) < 5:\n",
    "                print('Player Two has less than 5 cards! Player One wins')\n",
    "                game_on = False\n",
    "                break\n",
    "            \n",
    "            else:\n",
    "                for num in range(5):\n",
    "                    player_one_cards.append(player_one.remove_one())\n",
    "                    player_two_cards.append(player_two.remove_one())\n",
    "                \n",
    "                \n",
    "            "
   ]
  }
 ],
 "metadata": {
  "kernelspec": {
   "display_name": "Python 3 (ipykernel)",
   "language": "python",
   "name": "python3"
  },
  "language_info": {
   "codemirror_mode": {
    "name": "ipython",
    "version": 3
   },
   "file_extension": ".py",
   "mimetype": "text/x-python",
   "name": "python",
   "nbconvert_exporter": "python",
   "pygments_lexer": "ipython3",
   "version": "3.9.13"
  }
 },
 "nbformat": 4,
 "nbformat_minor": 5
}
