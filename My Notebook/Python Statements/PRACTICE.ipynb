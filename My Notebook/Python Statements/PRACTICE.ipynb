{
 "cells": [
  {
   "cell_type": "code",
   "execution_count": 12,
   "id": "999ec71f",
   "metadata": {},
   "outputs": [
    {
     "name": "stdout",
     "output_type": "stream",
     "text": [
      "['start', 's', 'sentence']\n"
     ]
    }
   ],
   "source": [
    "sta = 'Print only the words that start with s in this sentence'\n",
    "Ans = []\n",
    "for word in sta.split():\n",
    "    if word[0] == 's':\n",
    "        Ans.append(word)\n",
    "print(Ans)"
   ]
  },
  {
   "cell_type": "code",
   "execution_count": 2,
   "id": "9816f971",
   "metadata": {},
   "outputs": [
    {
     "name": "stdout",
     "output_type": "stream",
     "text": [
      "['start', 's', 'sentence']\n"
     ]
    }
   ],
   "source": [
    "st = 'Print only the words that start with s in this sentence'\n",
    "Answer = [word for word in st.split() if word[0] == 's']\n",
    "print(Answer)"
   ]
  },
  {
   "cell_type": "code",
   "execution_count": 3,
   "id": "e52fea7f",
   "metadata": {},
   "outputs": [
    {
     "name": "stdout",
     "output_type": "stream",
     "text": [
      "start\n",
      "s\n",
      "sentence\n"
     ]
    }
   ],
   "source": [
    "statement = 'Print only the words that start with s in this sentence'\n",
    "\n",
    "for word in statement.split():\n",
    "    if word[0] == 's':\n",
    "        print(word)"
   ]
  },
  {
   "cell_type": "code",
   "execution_count": 17,
   "id": "b087fb9f",
   "metadata": {},
   "outputs": [
    {
     "name": "stdout",
     "output_type": "stream",
     "text": [
      "All the even numbers from 0 to 10 are:[0, 2, 4, 6, 8, 10]\n"
     ]
    }
   ],
   "source": [
    "e_num = []\n",
    "for num in range(0,11):\n",
    "    if num % 2 == 0:\n",
    "        e_num.append(num)\n",
    "print(f'All the even numbers from 0 to 10 are:{e_num}')"
   ]
  },
  {
   "cell_type": "code",
   "execution_count": 18,
   "id": "7ce8da68",
   "metadata": {},
   "outputs": [
    {
     "name": "stdout",
     "output_type": "stream",
     "text": [
      "All the even numbers from 0 to 10 are:\n",
      "0\n",
      "2\n",
      "4\n",
      "6\n",
      "8\n",
      "10\n"
     ]
    }
   ],
   "source": [
    "print('All the even numbers from 0 to 10 are:')\n",
    "for num in range(0,11):\n",
    "    if num % 2 == 0:\n",
    "        print(num)"
   ]
  },
  {
   "cell_type": "code",
   "execution_count": 88,
   "id": "f91a1a45",
   "metadata": {},
   "outputs": [
    {
     "name": "stdout",
     "output_type": "stream",
     "text": [
      "even\n",
      "even\n",
      "even\n",
      "even\n",
      "even\n",
      "even\n",
      "even\n",
      "even\n",
      "even\n"
     ]
    }
   ],
   "source": [
    "st = 'Print every word in this sentence that has an even number of letters'\n",
    "\n",
    "for letter in st.split():\n",
    "    if len(letter) % 2 == 0:\n",
    "        print('even')"
   ]
  },
  {
   "cell_type": "markdown",
   "id": "c8d6805b",
   "metadata": {},
   "source": [
    "Write a program that prints the integers from 1 to 100. But for multiples of three print \"Fizz\" instead of the number, and for the multiples of five print \"Buzz\". For numbers which are multiples of both three and five print \"FizzBuzz\"."
   ]
  },
  {
   "cell_type": "code",
   "execution_count": 36,
   "id": "2308e166",
   "metadata": {},
   "outputs": [
    {
     "name": "stdout",
     "output_type": "stream",
     "text": [
      "Fizz:3\n",
      "Buzz:5\n",
      "Fizz:6\n",
      "Fizz:9\n",
      "Buzz:10\n",
      "Fizz:12\n",
      "FizzBuzz:15\n",
      "Fizz:18\n",
      "Buzz:20\n",
      "Fizz:21\n",
      "Fizz:24\n",
      "Buzz:25\n",
      "Fizz:27\n",
      "FizzBuzz:30\n",
      "Fizz:33\n",
      "Buzz:35\n",
      "Fizz:36\n",
      "Fizz:39\n",
      "Buzz:40\n",
      "Fizz:42\n",
      "FizzBuzz:45\n",
      "Fizz:48\n",
      "Buzz:50\n",
      "Fizz:51\n",
      "Fizz:54\n",
      "Buzz:55\n",
      "Fizz:57\n",
      "FizzBuzz:60\n",
      "Fizz:63\n",
      "Buzz:65\n",
      "Fizz:66\n",
      "Fizz:69\n",
      "Buzz:70\n",
      "Fizz:72\n",
      "FizzBuzz:75\n",
      "Fizz:78\n",
      "Buzz:80\n",
      "Fizz:81\n",
      "Fizz:84\n",
      "Buzz:85\n",
      "Fizz:87\n",
      "FizzBuzz:90\n",
      "Fizz:93\n",
      "Buzz:95\n",
      "Fizz:96\n",
      "Fizz:99\n",
      "Buzz:100\n"
     ]
    }
   ],
   "source": [
    "for num in range(1,101):\n",
    "    \n",
    "    if num % 3 == 0 and num % 5 != 0:\n",
    "        print(f'Fizz:{num}')\n",
    "    \n",
    "    elif num % 5 == 0 and num % 3!=0:\n",
    "        print(f'Buzz:{num}')\n",
    "        \n",
    "    elif num % 3 == 0 and num % 5 == 0:\n",
    "        print(f'FizzBuzz:{num}')"
   ]
  },
  {
   "cell_type": "code",
   "execution_count": 89,
   "id": "ac7275a5",
   "metadata": {},
   "outputs": [
    {
     "name": "stdout",
     "output_type": "stream",
     "text": [
      "1\n",
      "2\n",
      "Fizz\n",
      "4\n",
      "Buzz\n",
      "Fizz\n",
      "7\n",
      "8\n",
      "Fizz\n",
      "Buzz\n",
      "11\n",
      "Fizz\n",
      "13\n",
      "14\n",
      "FizzBuzz\n",
      "16\n",
      "17\n",
      "Fizz\n",
      "19\n",
      "Buzz\n",
      "Fizz\n",
      "22\n",
      "23\n",
      "Fizz\n",
      "Buzz\n",
      "26\n",
      "Fizz\n",
      "28\n",
      "29\n",
      "FizzBuzz\n",
      "31\n",
      "32\n",
      "Fizz\n",
      "34\n",
      "Buzz\n",
      "Fizz\n",
      "37\n",
      "38\n",
      "Fizz\n",
      "Buzz\n",
      "41\n",
      "Fizz\n",
      "43\n",
      "44\n",
      "FizzBuzz\n",
      "46\n",
      "47\n",
      "Fizz\n",
      "49\n",
      "Buzz\n",
      "Fizz\n",
      "52\n",
      "53\n",
      "Fizz\n",
      "Buzz\n",
      "56\n",
      "Fizz\n",
      "58\n",
      "59\n",
      "FizzBuzz\n",
      "61\n",
      "62\n",
      "Fizz\n",
      "64\n",
      "Buzz\n",
      "Fizz\n",
      "67\n",
      "68\n",
      "Fizz\n",
      "Buzz\n",
      "71\n",
      "Fizz\n",
      "73\n",
      "74\n",
      "FizzBuzz\n",
      "76\n",
      "77\n",
      "Fizz\n",
      "79\n",
      "Buzz\n",
      "Fizz\n",
      "82\n",
      "83\n",
      "Fizz\n",
      "Buzz\n",
      "86\n",
      "Fizz\n",
      "88\n",
      "89\n",
      "FizzBuzz\n",
      "91\n",
      "92\n",
      "Fizz\n",
      "94\n",
      "Buzz\n",
      "Fizz\n",
      "97\n",
      "98\n",
      "Fizz\n",
      "Buzz\n"
     ]
    }
   ],
   "source": [
    "#More optimal way \n",
    "\n",
    "for num in range(1,101):\n",
    "    \n",
    "    if num % 3 == 0 and num % 5 == 0: #Checking for the FizzBuzz condition in the first if statement helps us to avoid using additional comparison operators while printing Fizz and Buzz\n",
    "        print('FizzBuzz')\n",
    "        \n",
    "    elif num % 3 == 0:\n",
    "        print('Fizz')\n",
    "        \n",
    "    elif num % 5 == 0:\n",
    "        print('Buzz')\n",
    "    \n",
    "    else:\n",
    "        print(num)"
   ]
  },
  {
   "cell_type": "code",
   "execution_count": 61,
   "id": "9830bc1a",
   "metadata": {},
   "outputs": [
    {
     "name": "stdout",
     "output_type": "stream",
     "text": [
      "['C', 'a', 'l', 'o', 't', 'f', 'l', 'o', 'e', 'w', 'i', 't', 's']\n"
     ]
    }
   ],
   "source": [
    "st = 'Create a list of the first letters of every word in this string'\n",
    "\n",
    "ans = [letter[0] for letter in st.split()]\n",
    "print(ans)"
   ]
  },
  {
   "cell_type": "code",
   "execution_count": 57,
   "id": "250b19f1",
   "metadata": {},
   "outputs": [
    {
     "name": "stdout",
     "output_type": "stream",
     "text": [
      "['C', 'a', 'l', 'o', 't', 'f', 'l', 'o', 'e', 'w', 'i', 't', 's']\n"
     ]
    }
   ],
   "source": [
    "sta = 'Create a list of the first letters of every word in this string'\n",
    "x = []\n",
    "for letter in st.split():\n",
    "    x.append(letter[0])\n",
    "print(x)"
   ]
  },
  {
   "cell_type": "code",
   "execution_count": 76,
   "id": "d214e07c",
   "metadata": {},
   "outputs": [
    {
     "name": "stdout",
     "output_type": "stream",
     "text": [
      "[0, 'ODD', 2, 'ODD', 4, 'ODD', 6, 'ODD', 8, 'ODD', 10]\n"
     ]
    }
   ],
   "source": [
    "mylist = [num if num % 2 == 0 else 'ODD' for num in range(0,11)]\n",
    "print(mylist)"
   ]
  },
  {
   "cell_type": "code",
   "execution_count": 83,
   "id": "459c1b5f",
   "metadata": {},
   "outputs": [
    {
     "name": "stdout",
     "output_type": "stream",
     "text": [
      "[6, 12, 18, 24, 30, 36, 42, 48]\n"
     ]
    }
   ],
   "source": [
    "#Code in this cell\n",
    "ans = [num for num in range(1,51) if num % 3 == 0 and num % 2 == 0]\n",
    "print(ans)"
   ]
  },
  {
   "cell_type": "code",
   "execution_count": null,
   "id": "0f51be6b",
   "metadata": {},
   "outputs": [],
   "source": []
  }
 ],
 "metadata": {
  "kernelspec": {
   "display_name": "Python 3 (ipykernel)",
   "language": "python",
   "name": "python3"
  },
  "language_info": {
   "codemirror_mode": {
    "name": "ipython",
    "version": 3
   },
   "file_extension": ".py",
   "mimetype": "text/x-python",
   "name": "python",
   "nbconvert_exporter": "python",
   "pygments_lexer": "ipython3",
   "version": "3.9.13"
  }
 },
 "nbformat": 4,
 "nbformat_minor": 5
}
