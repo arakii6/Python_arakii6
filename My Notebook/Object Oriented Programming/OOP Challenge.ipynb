{
 "cells": [
  {
   "cell_type": "markdown",
   "id": "7fccc209",
   "metadata": {},
   "source": [
    "#### For this challenge, create a bank account class that has two attributes:\n",
    "\n",
    "* owner\n",
    "* balance\n",
    "\n",
    "#### and two methods:\n",
    "\n",
    "* deposit\n",
    "* withdraw\n",
    "\n",
    "As an added requirement, withdrawals may not exceed the available balance.\n",
    "\n",
    "Instantiate your class, make several deposits and withdrawals, and test to make sure the account can't be overdrawn."
   ]
  },
  {
   "cell_type": "code",
   "execution_count": 52,
   "id": "c6fc5070",
   "metadata": {},
   "outputs": [],
   "source": [
    "class Account():\n",
    "    \n",
    "    def __init__(self,owner,balance):\n",
    "        self.owner = owner\n",
    "        self.balance = balance\n",
    "        \n",
    "    def __str__(self):\n",
    "        return (f'Account Owner: {self.owner}\\nAcoount Balance: {self.balance}')\n",
    "        \n",
    "        \n",
    "    def deposit(self,amount):\n",
    "        self.balance = self.balance + amount\n",
    "        print (f\"{amount} is deposited and updated balance is {self.balance}\")\n",
    "        \n",
    "        \n",
    "    def withdraw(self,amount):\n",
    "        \n",
    "        if amount <= self.balance:\n",
    "            self.balance = self.balance - amount \n",
    "            print(f'Withdrawal Accepted and the updated balance is {self.balance}')\n",
    "            \n",
    "        else:\n",
    "            print(\"Funds Unavailable!\")"
   ]
  },
  {
   "cell_type": "code",
   "execution_count": 53,
   "id": "5fa38583",
   "metadata": {},
   "outputs": [],
   "source": [
    "# 1. Instantiate the class\n",
    "acct1 = Account('Jose',100)"
   ]
  },
  {
   "cell_type": "code",
   "execution_count": 54,
   "id": "6ca53ea1",
   "metadata": {},
   "outputs": [
    {
     "name": "stdout",
     "output_type": "stream",
     "text": [
      "Account Owner: Jose\n",
      "Acoount Balance: 100\n"
     ]
    }
   ],
   "source": [
    "# 2. Print the object\n",
    "print(acct1)"
   ]
  },
  {
   "cell_type": "code",
   "execution_count": 55,
   "id": "458a2e09",
   "metadata": {},
   "outputs": [
    {
     "data": {
      "text/plain": [
       "'Jose'"
      ]
     },
     "execution_count": 55,
     "metadata": {},
     "output_type": "execute_result"
    }
   ],
   "source": [
    "# 3. Show the account owner attribute\n",
    "acct1.owner"
   ]
  },
  {
   "cell_type": "code",
   "execution_count": 56,
   "id": "e3f7b5b6",
   "metadata": {},
   "outputs": [
    {
     "name": "stdout",
     "output_type": "stream",
     "text": [
      "50 is deposited and updated balance is 150\n"
     ]
    }
   ],
   "source": [
    "# 5. Make a series of deposits and withdrawals\n",
    "acct1.deposit(50)"
   ]
  },
  {
   "cell_type": "code",
   "execution_count": 57,
   "id": "987c652e",
   "metadata": {},
   "outputs": [
    {
     "name": "stdout",
     "output_type": "stream",
     "text": [
      "Withdrawal Accepted and the updated balance is 75\n"
     ]
    }
   ],
   "source": [
    "acct1.withdraw(75)"
   ]
  },
  {
   "cell_type": "code",
   "execution_count": 58,
   "id": "190034dd",
   "metadata": {},
   "outputs": [
    {
     "name": "stdout",
     "output_type": "stream",
     "text": [
      "Funds Unavailable!\n"
     ]
    }
   ],
   "source": [
    "# 6. Make a withdrawal that exceeds the available balance\n",
    "acct1.withdraw(500)"
   ]
  },
  {
   "cell_type": "markdown",
   "id": "88cf4fad",
   "metadata": {},
   "source": [
    "----------------------------------------------------------------\n",
    "\n",
    "## One More Try\n",
    "\n",
    "#### For this challenge, create a bank account class that has two attributes:\n",
    "\n",
    "* owner\n",
    "* balance\n",
    "\n",
    "#### and two methods:\n",
    "\n",
    "* deposit\n",
    "* withdraw\n",
    "\n",
    "As an added requirement, withdrawals may not exceed the available balance.\n",
    "\n",
    "Instantiate your class, make several deposits and withdrawals, and test to make sure the account can't be overdrawn. "
   ]
  },
  {
   "cell_type": "code",
   "execution_count": 68,
   "id": "e5c8cdad",
   "metadata": {},
   "outputs": [],
   "source": [
    "class Account:\n",
    "    \n",
    "    def __init__(self, owner, balance):\n",
    "        self.owner = owner\n",
    "        self.balance = balance\n",
    "        \n",
    "    def __str__(self):\n",
    "        return(f'Account Owner: {self.owner}\\nAccount Balance: {self.balance}')\n",
    "        \n",
    "    def deposit(self,amount):\n",
    "        self.balance = amount + self.balance\n",
    "        print(f'{amount} is deposited and updated balance is {self.balance}')\n",
    "        \n",
    "    def withdraw(self,amount):\n",
    "        if amount <= self.balance:\n",
    "            self.balance = self.balance - amount\n",
    "            print(f'Withdrawal Accepted and the updated balance is {self.balance}')\n",
    "        else:\n",
    "            print ('Funds Unavailable')"
   ]
  },
  {
   "cell_type": "code",
   "execution_count": 69,
   "id": "74cd5b0d",
   "metadata": {},
   "outputs": [],
   "source": [
    "# 1. Instantiate the class\n",
    "acct1 = Account('Akash',200)"
   ]
  },
  {
   "cell_type": "code",
   "execution_count": 70,
   "id": "25760f0b",
   "metadata": {},
   "outputs": [
    {
     "name": "stdout",
     "output_type": "stream",
     "text": [
      "Account Owner: Akash\n",
      "Account Balance: 200\n"
     ]
    }
   ],
   "source": [
    "# 2. Print the object\n",
    "print(acct1)"
   ]
  },
  {
   "cell_type": "code",
   "execution_count": 71,
   "id": "cb7ec4b1",
   "metadata": {},
   "outputs": [
    {
     "data": {
      "text/plain": [
       "'Akash'"
      ]
     },
     "execution_count": 71,
     "metadata": {},
     "output_type": "execute_result"
    }
   ],
   "source": [
    "# 3. Show the account owner attribute\n",
    "acct1.owner"
   ]
  },
  {
   "cell_type": "code",
   "execution_count": 72,
   "id": "f8e9623e",
   "metadata": {},
   "outputs": [
    {
     "data": {
      "text/plain": [
       "200"
      ]
     },
     "execution_count": 72,
     "metadata": {},
     "output_type": "execute_result"
    }
   ],
   "source": [
    "# 4. Show the account balance attribute\n",
    "acct1.balance"
   ]
  },
  {
   "cell_type": "code",
   "execution_count": 73,
   "id": "bde4c485",
   "metadata": {},
   "outputs": [
    {
     "name": "stdout",
     "output_type": "stream",
     "text": [
      "50 is deposited and updated balance is 250\n"
     ]
    }
   ],
   "source": [
    "# 5. Make a series of deposits and withdrawals\n",
    "acct1.deposit(50)"
   ]
  },
  {
   "cell_type": "code",
   "execution_count": 74,
   "id": "b051c714",
   "metadata": {},
   "outputs": [
    {
     "name": "stdout",
     "output_type": "stream",
     "text": [
      "Withdrawal Accepted and the updated balance is 200\n"
     ]
    }
   ],
   "source": [
    "acct1.withdraw(50)"
   ]
  },
  {
   "cell_type": "code",
   "execution_count": 75,
   "id": "594b86cb",
   "metadata": {},
   "outputs": [
    {
     "name": "stdout",
     "output_type": "stream",
     "text": [
      "Funds Unavailable\n"
     ]
    }
   ],
   "source": [
    "# 6. Make a withdrawal that exceeds the available balance\n",
    "acct1.withdraw(500)"
   ]
  },
  {
   "cell_type": "code",
   "execution_count": null,
   "id": "5bbb6049",
   "metadata": {},
   "outputs": [],
   "source": []
  }
 ],
 "metadata": {
  "kernelspec": {
   "display_name": "Python 3 (ipykernel)",
   "language": "python",
   "name": "python3"
  },
  "language_info": {
   "codemirror_mode": {
    "name": "ipython",
    "version": 3
   },
   "file_extension": ".py",
   "mimetype": "text/x-python",
   "name": "python",
   "nbconvert_exporter": "python",
   "pygments_lexer": "ipython3",
   "version": "3.9.13"
  }
 },
 "nbformat": 4,
 "nbformat_minor": 5
}
