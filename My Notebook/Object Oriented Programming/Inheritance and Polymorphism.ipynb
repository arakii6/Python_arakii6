{
 "cells": [
  {
   "cell_type": "markdown",
   "id": "fff37241",
   "metadata": {},
   "source": [
    "### Inheritance"
   ]
  },
  {
   "cell_type": "code",
   "execution_count": 4,
   "id": "9d2786bd",
   "metadata": {},
   "outputs": [],
   "source": [
    "class Animal():\n",
    "    \n",
    "    def __init__(self):\n",
    "        print(\"ANIMAL CREATED\")\n",
    "        \n",
    "    def who_am_i(self):\n",
    "        print(\"I am an animal\")\n",
    "        \n",
    "    def eat(self):\n",
    "        print(\"I am eating\")"
   ]
  },
  {
   "cell_type": "code",
   "execution_count": 5,
   "id": "4c749fe2",
   "metadata": {},
   "outputs": [
    {
     "name": "stdout",
     "output_type": "stream",
     "text": [
      "ANIMAL CREATED\n"
     ]
    }
   ],
   "source": [
    "my_animal = Animal()"
   ]
  },
  {
   "cell_type": "code",
   "execution_count": 8,
   "id": "1ff16d88",
   "metadata": {},
   "outputs": [
    {
     "name": "stdout",
     "output_type": "stream",
     "text": [
      "I am eating\n"
     ]
    }
   ],
   "source": [
    "my_animal.eat()"
   ]
  },
  {
   "cell_type": "code",
   "execution_count": 10,
   "id": "623619ff",
   "metadata": {},
   "outputs": [
    {
     "name": "stdout",
     "output_type": "stream",
     "text": [
      "I am an animal\n"
     ]
    }
   ],
   "source": [
    "my_animal.who_am_i()"
   ]
  },
  {
   "cell_type": "code",
   "execution_count": 11,
   "id": "491aff58",
   "metadata": {},
   "outputs": [],
   "source": [
    "# Derived Class\n",
    "# class Dog inherits from class Animal\n",
    "\n",
    "class Dog(Animal):\n",
    "    \n",
    "    def __init__(self):\n",
    "        Animal.__init__(self)\n",
    "        print(\"Dog Created\")"
   ]
  },
  {
   "cell_type": "code",
   "execution_count": 25,
   "id": "61c5e67f",
   "metadata": {},
   "outputs": [
    {
     "name": "stdout",
     "output_type": "stream",
     "text": [
      "ANIMAL CREATED\n",
      "Dog Created\n"
     ]
    }
   ],
   "source": [
    "my_dog = Dog()"
   ]
  },
  {
   "cell_type": "code",
   "execution_count": 16,
   "id": "0bcd601c",
   "metadata": {},
   "outputs": [
    {
     "name": "stdout",
     "output_type": "stream",
     "text": [
      "I am eating\n"
     ]
    }
   ],
   "source": [
    "my_dog.eat() # Inherited from class Animal"
   ]
  },
  {
   "cell_type": "code",
   "execution_count": 15,
   "id": "d2522dd3",
   "metadata": {},
   "outputs": [
    {
     "name": "stdout",
     "output_type": "stream",
     "text": [
      "I am an animal\n"
     ]
    }
   ],
   "source": [
    "my_dog.who_am_i() # Inherited from class Animal"
   ]
  },
  {
   "cell_type": "code",
   "execution_count": 30,
   "id": "05a62dfd",
   "metadata": {},
   "outputs": [],
   "source": [
    "# Overwrite Methods\n",
    "\n",
    "class Dog(Animal):\n",
    "    \n",
    "    def __init__(self):\n",
    "        Animal.__init__(self)\n",
    "        print(\"Dog Created\")\n",
    "     \n",
    "    # Inherited from class Animal and now overwritten\n",
    "    def who_am_i(self):\n",
    "        print(\"I am a dog\")"
   ]
  },
  {
   "cell_type": "code",
   "execution_count": 27,
   "id": "a356a248",
   "metadata": {},
   "outputs": [
    {
     "name": "stdout",
     "output_type": "stream",
     "text": [
      "ANIMAL CREATED\n",
      "Dog Created\n"
     ]
    }
   ],
   "source": [
    "my_dog = Dog()"
   ]
  },
  {
   "cell_type": "code",
   "execution_count": 29,
   "id": "d785d358",
   "metadata": {},
   "outputs": [
    {
     "name": "stdout",
     "output_type": "stream",
     "text": [
      "I am a dog\n"
     ]
    }
   ],
   "source": [
    "my_dog.who_am_i() # Inherited from class Animal and now overwritten"
   ]
  },
  {
   "cell_type": "code",
   "execution_count": 42,
   "id": "e1c1943e",
   "metadata": {},
   "outputs": [],
   "source": [
    "# Add-on Methods\n",
    "\n",
    "class Dog(Animal):\n",
    "    \n",
    "    def __init__(self):\n",
    "        Animal.__init__(self)\n",
    "        print(\"Dog Created\")\n",
    "     \n",
    "    def who_am_i(self):\n",
    "        print(\"I am a dog\")\n",
    "        \n",
    "    # Inherited from class Animal and now overwritten\n",
    "    def eat(self):\n",
    "        print(\"I am eating Chicken\")\n",
    "    \n",
    "    # Added a new method after inheritence from class Animal\n",
    "    def bark(self):\n",
    "        print(\"WOOF!\")"
   ]
  },
  {
   "cell_type": "code",
   "execution_count": 43,
   "id": "7f33f472",
   "metadata": {},
   "outputs": [
    {
     "name": "stdout",
     "output_type": "stream",
     "text": [
      "ANIMAL CREATED\n",
      "Dog Created\n"
     ]
    }
   ],
   "source": [
    "my_dog = Dog()"
   ]
  },
  {
   "cell_type": "code",
   "execution_count": 44,
   "id": "3b1a00f8",
   "metadata": {},
   "outputs": [
    {
     "name": "stdout",
     "output_type": "stream",
     "text": [
      "WOOF!\n"
     ]
    }
   ],
   "source": [
    "my_dog.bark() # Added a new method after inheritence from class Animal"
   ]
  },
  {
   "cell_type": "code",
   "execution_count": 45,
   "id": "7743f08f",
   "metadata": {},
   "outputs": [
    {
     "name": "stdout",
     "output_type": "stream",
     "text": [
      "I am eating Chicken\n"
     ]
    }
   ],
   "source": [
    "my_dog.eat() # Inherited from class Animal and now overwritten"
   ]
  },
  {
   "cell_type": "markdown",
   "id": "786ac030",
   "metadata": {},
   "source": [
    "### Polymorphism"
   ]
  },
  {
   "cell_type": "code",
   "execution_count": 1,
   "id": "15b82cab",
   "metadata": {},
   "outputs": [],
   "source": [
    "class Dog():\n",
    "    \n",
    "    def __init__(self,name):\n",
    "        \n",
    "        self.name = name\n",
    "    \n",
    "    def speak(self):\n",
    "        return self.name + ' says WOOF!'"
   ]
  },
  {
   "cell_type": "code",
   "execution_count": 2,
   "id": "d107d1ac",
   "metadata": {},
   "outputs": [],
   "source": [
    "class Cat():\n",
    "    \n",
    "    def __init__(self,name):\n",
    "        \n",
    "        self.name = name\n",
    "    \n",
    "    def speak(self):\n",
    "        return self.name + ' says MEOW!'"
   ]
  },
  {
   "cell_type": "code",
   "execution_count": 3,
   "id": "46d1e48c",
   "metadata": {},
   "outputs": [],
   "source": [
    "my_dog = Dog('Lucy')\n",
    "my_cat = Cat('Eve')"
   ]
  },
  {
   "cell_type": "code",
   "execution_count": 6,
   "id": "94ee0eaf",
   "metadata": {},
   "outputs": [
    {
     "name": "stdout",
     "output_type": "stream",
     "text": [
      "Lucy says WOOF!\n"
     ]
    }
   ],
   "source": [
    "print(my_dog.speak())"
   ]
  },
  {
   "cell_type": "code",
   "execution_count": 54,
   "id": "0e834e45",
   "metadata": {},
   "outputs": [
    {
     "name": "stdout",
     "output_type": "stream",
     "text": [
      "Eve says MEOW!\n"
     ]
    }
   ],
   "source": [
    "print(my_cat.speak())"
   ]
  },
  {
   "cell_type": "code",
   "execution_count": 56,
   "id": "569580d7",
   "metadata": {},
   "outputs": [
    {
     "name": "stdout",
     "output_type": "stream",
     "text": [
      "<class '__main__.Dog'>\n",
      "<class 'str'>\n",
      "Lucy says WOOF!\n",
      "<class '__main__.Cat'>\n",
      "<class 'str'>\n",
      "Eve says MEOW!\n"
     ]
    }
   ],
   "source": [
    "# Polymorphism Using for loop\n",
    "\n",
    "for pet in [my_dog,my_cat]:\n",
    "    \n",
    "    print(type(pet))\n",
    "    print(type(pet.speak()))\n",
    "    print(pet.speak())"
   ]
  },
  {
   "cell_type": "code",
   "execution_count": 57,
   "id": "5799e2d6",
   "metadata": {},
   "outputs": [],
   "source": [
    "# Polymorphism Using function\n",
    "\n",
    "def pet_speak(pet):\n",
    "    \n",
    "    print(pet.speak())"
   ]
  },
  {
   "cell_type": "code",
   "execution_count": 58,
   "id": "df2d542a",
   "metadata": {},
   "outputs": [
    {
     "name": "stdout",
     "output_type": "stream",
     "text": [
      "Lucy says WOOF!\n"
     ]
    }
   ],
   "source": [
    "pet_speak(my_dog)"
   ]
  },
  {
   "cell_type": "code",
   "execution_count": 59,
   "id": "e53604d8",
   "metadata": {},
   "outputs": [
    {
     "name": "stdout",
     "output_type": "stream",
     "text": [
      "Eve says MEOW!\n"
     ]
    }
   ],
   "source": [
    "pet_speak(my_cat)"
   ]
  },
  {
   "cell_type": "markdown",
   "id": "fa5499e5",
   "metadata": {},
   "source": [
    "### Abstract Class and Inheritance"
   ]
  },
  {
   "cell_type": "code",
   "execution_count": 7,
   "id": "c2b3cc67",
   "metadata": {},
   "outputs": [],
   "source": [
    "# Base Class\n",
    "# No instance of this class Animal is expected to be craeted\n",
    "\n",
    "class Animal():\n",
    "    \n",
    "    def __init__(self,name):\n",
    "        self.name = name\n",
    "    \n",
    "    # Reason speak() is an abstract method is because it doesn't do anything for the base class itself\n",
    "    # It's expecting me to inherit the class Animal and overwrite the speak method\n",
    "    def speak(self):\n",
    "        raise NotImplementedError(\"Subclass must implement this abstract method\")"
   ]
  },
  {
   "cell_type": "code",
   "execution_count": 73,
   "id": "acde1c44",
   "metadata": {},
   "outputs": [],
   "source": [
    "# Creating an instance of Class Animal\n",
    "my_animal = Animal(\"Fred\") # Not expected to do, here just as an example"
   ]
  },
  {
   "cell_type": "code",
   "execution_count": 74,
   "id": "84941a4b",
   "metadata": {},
   "outputs": [
    {
     "ename": "NotImplementedError",
     "evalue": "Subclass must implement this abstract method",
     "output_type": "error",
     "traceback": [
      "\u001b[1;31m---------------------------------------------------------------------------\u001b[0m",
      "\u001b[1;31mNotImplementedError\u001b[0m                       Traceback (most recent call last)",
      "\u001b[1;32m~\\AppData\\Local\\Temp\\ipykernel_11416\\2018941693.py\u001b[0m in \u001b[0;36m<module>\u001b[1;34m\u001b[0m\n\u001b[0;32m      1\u001b[0m \u001b[1;31m# The class Animal was created just as base class\u001b[0m\u001b[1;33m\u001b[0m\u001b[1;33m\u001b[0m\u001b[0m\n\u001b[0;32m      2\u001b[0m \u001b[1;31m# Another class was supposed to inherit from class Animal and overwrite the speak method\u001b[0m\u001b[1;33m\u001b[0m\u001b[1;33m\u001b[0m\u001b[0m\n\u001b[1;32m----> 3\u001b[1;33m \u001b[0mmy_animal\u001b[0m\u001b[1;33m.\u001b[0m\u001b[0mspeak\u001b[0m\u001b[1;33m(\u001b[0m\u001b[1;33m)\u001b[0m\u001b[1;33m\u001b[0m\u001b[1;33m\u001b[0m\u001b[0m\n\u001b[0m",
      "\u001b[1;32m~\\AppData\\Local\\Temp\\ipykernel_11416\\3406890208.py\u001b[0m in \u001b[0;36mspeak\u001b[1;34m(self)\u001b[0m\n\u001b[0;32m     10\u001b[0m     \u001b[1;31m# It's expecting me to inherit the class Animal and overwrite the speak method\u001b[0m\u001b[1;33m\u001b[0m\u001b[1;33m\u001b[0m\u001b[0m\n\u001b[0;32m     11\u001b[0m     \u001b[1;32mdef\u001b[0m \u001b[0mspeak\u001b[0m\u001b[1;33m(\u001b[0m\u001b[0mself\u001b[0m\u001b[1;33m)\u001b[0m\u001b[1;33m:\u001b[0m\u001b[1;33m\u001b[0m\u001b[1;33m\u001b[0m\u001b[0m\n\u001b[1;32m---> 12\u001b[1;33m         \u001b[1;32mraise\u001b[0m \u001b[0mNotImplementedError\u001b[0m\u001b[1;33m(\u001b[0m\u001b[1;34m\"Subclass must implement this abstract method\"\u001b[0m\u001b[1;33m)\u001b[0m\u001b[1;33m\u001b[0m\u001b[1;33m\u001b[0m\u001b[0m\n\u001b[0m",
      "\u001b[1;31mNotImplementedError\u001b[0m: Subclass must implement this abstract method"
     ]
    }
   ],
   "source": [
    "# The class Animal was created just as base class \n",
    "# Another class was supposed to inherit from class Animal and overwrite the speak method\n",
    "my_animal.speak()"
   ]
  },
  {
   "cell_type": "markdown",
   "id": "895d1888",
   "metadata": {},
   "source": [
    "##### Instead we will do this\n",
    "\n"
   ]
  },
  {
   "cell_type": "code",
   "execution_count": 75,
   "id": "8dfe61d8",
   "metadata": {},
   "outputs": [],
   "source": [
    "class  Dog(Animal):\n",
    "    \n",
    "    def speak(self):\n",
    "        return self.name + \" says WOOF!\""
   ]
  },
  {
   "cell_type": "code",
   "execution_count": 76,
   "id": "8a7785b7",
   "metadata": {},
   "outputs": [],
   "source": [
    "class  Cat(Animal):\n",
    "    \n",
    "    def speak(self):\n",
    "        return self.name + \" says Meow!\""
   ]
  },
  {
   "cell_type": "code",
   "execution_count": 77,
   "id": "693c4536",
   "metadata": {},
   "outputs": [],
   "source": [
    "my_dog = Dog('Frankie')\n",
    "my_cat = Cat('Stella')"
   ]
  },
  {
   "cell_type": "code",
   "execution_count": 78,
   "id": "6c979bf8",
   "metadata": {},
   "outputs": [
    {
     "name": "stdout",
     "output_type": "stream",
     "text": [
      "Frankie says WOOF!\n",
      "Stella says Meow!\n"
     ]
    }
   ],
   "source": [
    "print(my_dog.speak())\n",
    "print(my_cat.speak())"
   ]
  },
  {
   "cell_type": "code",
   "execution_count": null,
   "id": "dcb05279",
   "metadata": {},
   "outputs": [],
   "source": []
  }
 ],
 "metadata": {
  "kernelspec": {
   "display_name": "Python 3 (ipykernel)",
   "language": "python",
   "name": "python3"
  },
  "language_info": {
   "codemirror_mode": {
    "name": "ipython",
    "version": 3
   },
   "file_extension": ".py",
   "mimetype": "text/x-python",
   "name": "python",
   "nbconvert_exporter": "python",
   "pygments_lexer": "ipython3",
   "version": "3.9.13"
  }
 },
 "nbformat": 4,
 "nbformat_minor": 5
}
