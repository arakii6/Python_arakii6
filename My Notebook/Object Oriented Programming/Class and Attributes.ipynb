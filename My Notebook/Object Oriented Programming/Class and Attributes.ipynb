{
 "cells": [
  {
   "cell_type": "code",
   "execution_count": 1,
   "id": "c159093c",
   "metadata": {},
   "outputs": [],
   "source": [
    "mylist = [1,2,3]"
   ]
  },
  {
   "cell_type": "code",
   "execution_count": null,
   "id": "c2fd5b9f",
   "metadata": {},
   "outputs": [],
   "source": [
    "mylist."
   ]
  },
  {
   "cell_type": "code",
   "execution_count": 2,
   "id": "2c90234f",
   "metadata": {},
   "outputs": [],
   "source": [
    "myset = set()"
   ]
  },
  {
   "cell_type": "code",
   "execution_count": null,
   "id": "aed1fe70",
   "metadata": {},
   "outputs": [],
   "source": [
    "myset."
   ]
  },
  {
   "cell_type": "code",
   "execution_count": 3,
   "id": "840307a1",
   "metadata": {},
   "outputs": [
    {
     "data": {
      "text/plain": [
       "list"
      ]
     },
     "execution_count": 3,
     "metadata": {},
     "output_type": "execute_result"
    }
   ],
   "source": [
    "type(mylist)"
   ]
  },
  {
   "cell_type": "code",
   "execution_count": 4,
   "id": "efe2c352",
   "metadata": {},
   "outputs": [
    {
     "data": {
      "text/plain": [
       "set"
      ]
     },
     "execution_count": 4,
     "metadata": {},
     "output_type": "execute_result"
    }
   ],
   "source": [
    "type(myset)"
   ]
  },
  {
   "cell_type": "markdown",
   "id": "4077a590",
   "metadata": {},
   "source": [
    "### CLASS"
   ]
  },
  {
   "cell_type": "code",
   "execution_count": 5,
   "id": "f3022b86",
   "metadata": {},
   "outputs": [],
   "source": [
    "class Sample():\n",
    "    pass"
   ]
  },
  {
   "cell_type": "code",
   "execution_count": 6,
   "id": "7dca9ab7",
   "metadata": {},
   "outputs": [],
   "source": [
    "my_sample = Sample()"
   ]
  },
  {
   "cell_type": "code",
   "execution_count": 7,
   "id": "11318839",
   "metadata": {},
   "outputs": [
    {
     "data": {
      "text/plain": [
       "__main__.Sample"
      ]
     },
     "execution_count": 7,
     "metadata": {},
     "output_type": "execute_result"
    }
   ],
   "source": [
    "type(my_sample)"
   ]
  },
  {
   "cell_type": "markdown",
   "id": "2bd62da3",
   "metadata": {},
   "source": [
    "### Attributes"
   ]
  },
  {
   "cell_type": "code",
   "execution_count": 8,
   "id": "18ec8a46",
   "metadata": {},
   "outputs": [],
   "source": [
    "class Dog():\n",
    "    \n",
    "    def __init__(self,breed,name,spots):\n",
    "        \n",
    "        #It's good to have the argument/parameter and attribute name similar to keep it clean.\n",
    "        #Since it's the first time, we kept it as self.my_attribute_name instead of self.breed\n",
    "        self.my_attribute_name = breed #String\n",
    "        self.name = name #String\n",
    "        self.spots = spots #Boolean"
   ]
  },
  {
   "cell_type": "code",
   "execution_count": null,
   "id": "dfe1e98b",
   "metadata": {},
   "outputs": [],
   "source": [
    "my_dog = Dog(breed = 'Lab',name = 'Lucy',spots = False)"
   ]
  },
  {
   "cell_type": "code",
   "execution_count": null,
   "id": "ba1a9967",
   "metadata": {},
   "outputs": [],
   "source": [
    "type(my_dog)"
   ]
  },
  {
   "cell_type": "code",
   "execution_count": null,
   "id": "1a4329f5",
   "metadata": {},
   "outputs": [],
   "source": [
    "my_dog.name"
   ]
  },
  {
   "cell_type": "code",
   "execution_count": null,
   "id": "597a9af2",
   "metadata": {},
   "outputs": [],
   "source": [
    "my_dog.my_attribute_name"
   ]
  },
  {
   "cell_type": "code",
   "execution_count": null,
   "id": "643ddb4e",
   "metadata": {},
   "outputs": [],
   "source": [
    "my_dog.spots"
   ]
  }
 ],
 "metadata": {
  "kernelspec": {
   "display_name": "Python 3 (ipykernel)",
   "language": "python",
   "name": "python3"
  },
  "language_info": {
   "codemirror_mode": {
    "name": "ipython",
    "version": 3
   },
   "file_extension": ".py",
   "mimetype": "text/x-python",
   "name": "python",
   "nbconvert_exporter": "python",
   "pygments_lexer": "ipython3",
   "version": "3.9.13"
  }
 },
 "nbformat": 4,
 "nbformat_minor": 5
}
