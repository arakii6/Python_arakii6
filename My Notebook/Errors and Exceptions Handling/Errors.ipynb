{
 "cells": [
  {
   "cell_type": "code",
   "execution_count": 3,
   "id": "6040e805",
   "metadata": {},
   "outputs": [],
   "source": [
    "# Simple Function\n",
    "\n",
    "def add(n1,n2):\n",
    "    print(n1+n2)"
   ]
  },
  {
   "cell_type": "code",
   "execution_count": 4,
   "id": "e7521fb1",
   "metadata": {},
   "outputs": [
    {
     "name": "stdout",
     "output_type": "stream",
     "text": [
      "30\n"
     ]
    }
   ],
   "source": [
    "add(10,20)"
   ]
  },
  {
   "cell_type": "code",
   "execution_count": 5,
   "id": "b469fc17",
   "metadata": {},
   "outputs": [
    {
     "name": "stdout",
     "output_type": "stream",
     "text": [
      "Enter a Number: 20\n"
     ]
    }
   ],
   "source": [
    "# Let's create an error\n",
    "\n",
    "num1 = 10\n",
    "num2 = input('Enter a Number: ')"
   ]
  },
  {
   "cell_type": "code",
   "execution_count": 9,
   "id": "4be74130",
   "metadata": {},
   "outputs": [
    {
     "ename": "TypeError",
     "evalue": "unsupported operand type(s) for +: 'int' and 'str'",
     "output_type": "error",
     "traceback": [
      "\u001b[1;31m---------------------------------------------------------------------------\u001b[0m",
      "\u001b[1;31mTypeError\u001b[0m                                 Traceback (most recent call last)",
      "\u001b[1;32m~\\AppData\\Local\\Temp\\ipykernel_884\\2932052192.py\u001b[0m in \u001b[0;36m<module>\u001b[1;34m\u001b[0m\n\u001b[0;32m      1\u001b[0m \u001b[1;31m# num1 is an integer and num2 is a string, so it will give an error\u001b[0m\u001b[1;33m\u001b[0m\u001b[1;33m\u001b[0m\u001b[0m\n\u001b[1;32m----> 2\u001b[1;33m \u001b[0madd\u001b[0m\u001b[1;33m(\u001b[0m\u001b[0mnum1\u001b[0m\u001b[1;33m,\u001b[0m\u001b[0mnum2\u001b[0m\u001b[1;33m)\u001b[0m\u001b[1;33m\u001b[0m\u001b[1;33m\u001b[0m\u001b[0m\n\u001b[0m\u001b[0;32m      3\u001b[0m \u001b[1;33m\u001b[0m\u001b[0m\n\u001b[0;32m      4\u001b[0m \u001b[1;31m# The print statment won't execute as the previos code has an error\u001b[0m\u001b[1;33m\u001b[0m\u001b[1;33m\u001b[0m\u001b[0m\n\u001b[0;32m      5\u001b[0m \u001b[0mprint\u001b[0m\u001b[1;33m(\u001b[0m\u001b[1;34m'Something happened!'\u001b[0m\u001b[1;33m)\u001b[0m\u001b[1;33m\u001b[0m\u001b[1;33m\u001b[0m\u001b[0m\n",
      "\u001b[1;32m~\\AppData\\Local\\Temp\\ipykernel_884\\1124924161.py\u001b[0m in \u001b[0;36madd\u001b[1;34m(n1, n2)\u001b[0m\n\u001b[0;32m      2\u001b[0m \u001b[1;33m\u001b[0m\u001b[0m\n\u001b[0;32m      3\u001b[0m \u001b[1;32mdef\u001b[0m \u001b[0madd\u001b[0m\u001b[1;33m(\u001b[0m\u001b[0mn1\u001b[0m\u001b[1;33m,\u001b[0m\u001b[0mn2\u001b[0m\u001b[1;33m)\u001b[0m\u001b[1;33m:\u001b[0m\u001b[1;33m\u001b[0m\u001b[1;33m\u001b[0m\u001b[0m\n\u001b[1;32m----> 4\u001b[1;33m     \u001b[0mprint\u001b[0m\u001b[1;33m(\u001b[0m\u001b[0mn1\u001b[0m\u001b[1;33m+\u001b[0m\u001b[0mn2\u001b[0m\u001b[1;33m)\u001b[0m\u001b[1;33m\u001b[0m\u001b[1;33m\u001b[0m\u001b[0m\n\u001b[0m",
      "\u001b[1;31mTypeError\u001b[0m: unsupported operand type(s) for +: 'int' and 'str'"
     ]
    }
   ],
   "source": [
    "# num1 is an integer and num2 is a string, so it will give an error\n",
    "add(num1,num2)\n",
    "\n",
    "# The print statment won't execute as the previos code has an error\n",
    "print('Something happened!')"
   ]
  },
  {
   "cell_type": "code",
   "execution_count": 16,
   "id": "85aed159",
   "metadata": {},
   "outputs": [
    {
     "name": "stdout",
     "output_type": "stream",
     "text": [
      "Addition done wrong\n"
     ]
    }
   ],
   "source": [
    "# Error Handling with, try except else\n",
    "\n",
    "try:\n",
    "    # Want to attempt this code\n",
    "    # May have an error\n",
    "    result = 10 + '10'\n",
    "\n",
    "except:\n",
    "    print(\"Addition done wrong\")\n",
    "\n",
    "else:\n",
    "    print('Addition done right')\n",
    "    print(result)"
   ]
  },
  {
   "cell_type": "code",
   "execution_count": 20,
   "id": "56034c14",
   "metadata": {},
   "outputs": [
    {
     "name": "stdout",
     "output_type": "stream",
     "text": [
      "You have an OS error\n",
      "I will always run\n"
     ]
    }
   ],
   "source": [
    "# Error Handling with, try except finally\n",
    "\n",
    "try:\n",
    "    f = open('testfile','r')\n",
    "    f.write('Write a test line')\n",
    "\n",
    "except TypeError:\n",
    "    print('There was a type error')\n",
    "    \n",
    "except OSError:\n",
    "    print('You have an OS error')\n",
    "    \n",
    "finally:\n",
    "    print(\"I will always run\")"
   ]
  },
  {
   "cell_type": "markdown",
   "id": "c246ab00",
   "metadata": {},
   "source": [
    "#### Example:"
   ]
  },
  {
   "cell_type": "code",
   "execution_count": 23,
   "id": "053ea713",
   "metadata": {},
   "outputs": [],
   "source": [
    "def test_func():\n",
    "    \n",
    "    while True:\n",
    "        \n",
    "        try:\n",
    "            result = int(input('Enter a Number: '))\n",
    "        \n",
    "        except:\n",
    "            print('\\nWHOOPS! Not a number\\nI am going to ask you again')\n",
    "            continue\n",
    "        \n",
    "        else:\n",
    "            print('Thank you')\n",
    "            break\n",
    "        \n",
    "        finally:\n",
    "            print('\\nThis code gets executed no matter what')"
   ]
  },
  {
   "cell_type": "code",
   "execution_count": 24,
   "id": "33702e46",
   "metadata": {},
   "outputs": [
    {
     "name": "stdout",
     "output_type": "stream",
     "text": [
      "Enter a Number: w\n",
      "\n",
      "WHOOPS! Not a number\n",
      "I am going to ask you again\n",
      "\n",
      "This code gets executed no matter what\n",
      "Enter a Number: r\n",
      "\n",
      "WHOOPS! Not a number\n",
      "I am going to ask you again\n",
      "\n",
      "This code gets executed no matter what\n",
      "Enter a Number: 4\n",
      "Thank you\n",
      "\n",
      "This code gets executed no matter what\n"
     ]
    }
   ],
   "source": [
    "test_func()"
   ]
  },
  {
   "cell_type": "code",
   "execution_count": null,
   "id": "1a9bbd8d",
   "metadata": {},
   "outputs": [],
   "source": []
  }
 ],
 "metadata": {
  "kernelspec": {
   "display_name": "Python 3 (ipykernel)",
   "language": "python",
   "name": "python3"
  },
  "language_info": {
   "codemirror_mode": {
    "name": "ipython",
    "version": 3
   },
   "file_extension": ".py",
   "mimetype": "text/x-python",
   "name": "python",
   "nbconvert_exporter": "python",
   "pygments_lexer": "ipython3",
   "version": "3.9.13"
  }
 },
 "nbformat": 4,
 "nbformat_minor": 5
}
