{
 "cells": [
  {
   "cell_type": "markdown",
   "id": "31d572d5",
   "metadata": {},
   "source": [
    ".format() method"
   ]
  },
  {
   "cell_type": "code",
   "execution_count": 22,
   "id": "c765b58c",
   "metadata": {},
   "outputs": [
    {
     "name": "stdout",
     "output_type": "stream",
     "text": [
      "Hello\n"
     ]
    }
   ],
   "source": [
    "print ('Hello')"
   ]
  },
  {
   "cell_type": "code",
   "execution_count": 23,
   "id": "f24e6d49",
   "metadata": {},
   "outputs": [
    {
     "name": "stdout",
     "output_type": "stream",
     "text": [
      "Hello how are you?\n"
     ]
    }
   ],
   "source": [
    "print ('Hello {}'.format('how are you?')) #Normal"
   ]
  },
  {
   "cell_type": "code",
   "execution_count": 33,
   "id": "e6a08366",
   "metadata": {
    "scrolled": false
   },
   "outputs": [
    {
     "name": "stdout",
     "output_type": "stream",
     "text": [
      "Hello how are you?\n"
     ]
    }
   ],
   "source": [
    "print ('Hello {1} {0} {2}'.format('are','how','you?')) #via index position 012.."
   ]
  },
  {
   "cell_type": "code",
   "execution_count": 34,
   "id": "2bfc912c",
   "metadata": {
    "scrolled": true
   },
   "outputs": [
    {
     "name": "stdout",
     "output_type": "stream",
     "text": [
      "Hello how are you?\n"
     ]
    }
   ],
   "source": [
    "print ('Hello {x} {y} {z}'.format(x='how',y='are',z='you?')) #via assigning vriable/keyword"
   ]
  },
  {
   "cell_type": "markdown",
   "id": "fd91a96b",
   "metadata": {},
   "source": [
    "float formatting method \"{value:width.precision f}\""
   ]
  },
  {
   "cell_type": "code",
   "execution_count": 35,
   "id": "871174ec",
   "metadata": {},
   "outputs": [],
   "source": [
    "ans = 100/68"
   ]
  },
  {
   "cell_type": "code",
   "execution_count": 36,
   "id": "fe2a68ea",
   "metadata": {},
   "outputs": [
    {
     "data": {
      "text/plain": [
       "1.4705882352941178"
      ]
     },
     "execution_count": 36,
     "metadata": {},
     "output_type": "execute_result"
    }
   ],
   "source": [
    "ans"
   ]
  },
  {
   "cell_type": "code",
   "execution_count": 40,
   "id": "094f6b97",
   "metadata": {},
   "outputs": [
    {
     "name": "stdout",
     "output_type": "stream",
     "text": [
      "The result is 1.4705882352941178\n"
     ]
    }
   ],
   "source": [
    "print(\"The result is {r}\".format(r = ans))"
   ]
  },
  {
   "cell_type": "code",
   "execution_count": 44,
   "id": "10828faa",
   "metadata": {},
   "outputs": [
    {
     "name": "stdout",
     "output_type": "stream",
     "text": [
      "The result is 1.47059\n"
     ]
    }
   ],
   "source": [
    "print(\"The result is {r:1.5f}\".format(r = ans))"
   ]
  },
  {
   "cell_type": "markdown",
   "id": "9f666571",
   "metadata": {},
   "source": [
    "format strings method"
   ]
  },
  {
   "cell_type": "code",
   "execution_count": 45,
   "id": "64c47ffc",
   "metadata": {},
   "outputs": [],
   "source": [
    "name = \"akash\""
   ]
  },
  {
   "cell_type": "code",
   "execution_count": 47,
   "id": "d64c554b",
   "metadata": {},
   "outputs": [
    {
     "name": "stdout",
     "output_type": "stream",
     "text": [
      "Hello my name is akash\n"
     ]
    }
   ],
   "source": [
    "print (f'Hello my name is {name}')"
   ]
  },
  {
   "cell_type": "code",
   "execution_count": 48,
   "id": "3082842d",
   "metadata": {},
   "outputs": [],
   "source": [
    "age = '29'"
   ]
  },
  {
   "cell_type": "code",
   "execution_count": 49,
   "id": "90456653",
   "metadata": {},
   "outputs": [
    {
     "name": "stdout",
     "output_type": "stream",
     "text": [
      "my name is akash and I am 29 years old\n"
     ]
    }
   ],
   "source": [
    "print(f'my name is {name} and I am {age} years old')"
   ]
  },
  {
   "cell_type": "code",
   "execution_count": null,
   "id": "b8249283",
   "metadata": {},
   "outputs": [],
   "source": []
  }
 ],
 "metadata": {
  "kernelspec": {
   "display_name": "Python 3 (ipykernel)",
   "language": "python",
   "name": "python3"
  },
  "language_info": {
   "codemirror_mode": {
    "name": "ipython",
    "version": 3
   },
   "file_extension": ".py",
   "mimetype": "text/x-python",
   "name": "python",
   "nbconvert_exporter": "python",
   "pygments_lexer": "ipython3",
   "version": "3.9.12"
  }
 },
 "nbformat": 4,
 "nbformat_minor": 5
}
