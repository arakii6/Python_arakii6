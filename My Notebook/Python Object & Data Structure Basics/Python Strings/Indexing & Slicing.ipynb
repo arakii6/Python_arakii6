{
 "cells": [
  {
   "cell_type": "markdown",
   "id": "ffd8a4a7",
   "metadata": {},
   "source": [
    "Types Of String"
   ]
  },
  {
   "cell_type": "code",
   "execution_count": 1,
   "id": "eea9035a",
   "metadata": {},
   "outputs": [
    {
     "data": {
      "text/plain": [
       "\"Hey don't do that\""
      ]
     },
     "execution_count": 1,
     "metadata": {},
     "output_type": "execute_result"
    }
   ],
   "source": [
    "\"Hey don't do that\""
   ]
  },
  {
   "cell_type": "code",
   "execution_count": 2,
   "id": "44a736c9",
   "metadata": {},
   "outputs": [
    {
     "name": "stdout",
     "output_type": "stream",
     "text": [
      "Hey don't do that\n"
     ]
    }
   ],
   "source": [
    "print(\"Hey don't do that\")"
   ]
  },
  {
   "cell_type": "code",
   "execution_count": 3,
   "id": "0e1acdeb",
   "metadata": {},
   "outputs": [
    {
     "name": "stdout",
     "output_type": "stream",
     "text": [
      "Number One\n",
      "Number Two\n"
     ]
    }
   ],
   "source": [
    "print('Number One')\n",
    "print('Number Two')"
   ]
  },
  {
   "cell_type": "code",
   "execution_count": 4,
   "id": "fa0e86d3",
   "metadata": {},
   "outputs": [
    {
     "name": "stdout",
     "output_type": "stream",
     "text": [
      "Number\n",
      "One\n"
     ]
    }
   ],
   "source": [
    "print('Number\\nOne')"
   ]
  },
  {
   "cell_type": "code",
   "execution_count": 5,
   "id": "bd306550",
   "metadata": {},
   "outputs": [
    {
     "name": "stdout",
     "output_type": "stream",
     "text": [
      "Number\tOne\n"
     ]
    }
   ],
   "source": [
    "print('Number\\tOne')"
   ]
  },
  {
   "cell_type": "code",
   "execution_count": 6,
   "id": "f662d906",
   "metadata": {},
   "outputs": [
    {
     "data": {
      "text/plain": [
       "10"
      ]
     },
     "execution_count": 6,
     "metadata": {},
     "output_type": "execute_result"
    }
   ],
   "source": [
    "len('Number One')"
   ]
  },
  {
   "cell_type": "markdown",
   "id": "c3146afd",
   "metadata": {},
   "source": [
    "Indexing & Slicing Of Strings"
   ]
  },
  {
   "cell_type": "markdown",
   "id": "fb1019d8",
   "metadata": {},
   "source": [
    "1. Indexing"
   ]
  },
  {
   "cell_type": "code",
   "execution_count": 7,
   "id": "df8b9f73",
   "metadata": {},
   "outputs": [],
   "source": [
    "test_string = \"I'll get it done\""
   ]
  },
  {
   "cell_type": "code",
   "execution_count": 8,
   "id": "8f6fd1af",
   "metadata": {},
   "outputs": [
    {
     "data": {
      "text/plain": [
       "\"'\""
      ]
     },
     "execution_count": 8,
     "metadata": {},
     "output_type": "execute_result"
    }
   ],
   "source": [
    "test_string[1]"
   ]
  },
  {
   "cell_type": "code",
   "execution_count": 9,
   "id": "21288f14",
   "metadata": {},
   "outputs": [
    {
     "data": {
      "text/plain": [
       "' '"
      ]
     },
     "execution_count": 9,
     "metadata": {},
     "output_type": "execute_result"
    }
   ],
   "source": [
    "test_string[4]"
   ]
  },
  {
   "cell_type": "code",
   "execution_count": 10,
   "id": "a85f5ce4",
   "metadata": {},
   "outputs": [
    {
     "data": {
      "text/plain": [
       "\"I'll get it done\""
      ]
     },
     "execution_count": 10,
     "metadata": {},
     "output_type": "execute_result"
    }
   ],
   "source": [
    "test_string"
   ]
  },
  {
   "cell_type": "markdown",
   "id": "b71ec8f6",
   "metadata": {},
   "source": [
    "Reverse Indexing"
   ]
  },
  {
   "cell_type": "code",
   "execution_count": 31,
   "id": "e5d5e251",
   "metadata": {},
   "outputs": [
    {
     "data": {
      "text/plain": [
       "\"I'll get it done\""
      ]
     },
     "execution_count": 31,
     "metadata": {},
     "output_type": "execute_result"
    }
   ],
   "source": [
    "test_string"
   ]
  },
  {
   "cell_type": "code",
   "execution_count": 11,
   "id": "c13bb35a",
   "metadata": {},
   "outputs": [
    {
     "data": {
      "text/plain": [
       "'n'"
      ]
     },
     "execution_count": 11,
     "metadata": {},
     "output_type": "execute_result"
    }
   ],
   "source": [
    "test_string[-2] #Strats from behind, -1(end) till 0(start)"
   ]
  },
  {
   "cell_type": "markdown",
   "id": "62cf8e94",
   "metadata": {},
   "source": [
    "2. Slicing"
   ]
  },
  {
   "cell_type": "code",
   "execution_count": 12,
   "id": "dd32da4d",
   "metadata": {},
   "outputs": [
    {
     "data": {
      "text/plain": [
       "\"I'll get it done\""
      ]
     },
     "execution_count": 12,
     "metadata": {},
     "output_type": "execute_result"
    }
   ],
   "source": [
    "test_string"
   ]
  },
  {
   "cell_type": "markdown",
   "id": "d16601a0",
   "metadata": {},
   "source": [
    "Slice From Starting Point"
   ]
  },
  {
   "cell_type": "code",
   "execution_count": 13,
   "id": "6ae1e4b8",
   "metadata": {},
   "outputs": [
    {
     "data": {
      "text/plain": [
       "'l get it done'"
      ]
     },
     "execution_count": 13,
     "metadata": {},
     "output_type": "execute_result"
    }
   ],
   "source": [
    "test_string[3:]"
   ]
  },
  {
   "cell_type": "markdown",
   "id": "1f1c3c59",
   "metadata": {},
   "source": [
    "Slice Till Stoping Point"
   ]
  },
  {
   "cell_type": "code",
   "execution_count": 14,
   "id": "c832031a",
   "metadata": {},
   "outputs": [
    {
     "data": {
      "text/plain": [
       "\"I'll \""
      ]
     },
     "execution_count": 14,
     "metadata": {},
     "output_type": "execute_result"
    }
   ],
   "source": [
    "test_string[:5]"
   ]
  },
  {
   "cell_type": "code",
   "execution_count": 18,
   "id": "fdabc0d6",
   "metadata": {},
   "outputs": [],
   "source": [
    "new_string = \"abc xyz mno\""
   ]
  },
  {
   "cell_type": "code",
   "execution_count": 19,
   "id": "be7389e7",
   "metadata": {},
   "outputs": [
    {
     "data": {
      "text/plain": [
       "'abc'"
      ]
     },
     "execution_count": 19,
     "metadata": {},
     "output_type": "execute_result"
    }
   ],
   "source": [
    "new_string[:3]"
   ]
  },
  {
   "cell_type": "code",
   "execution_count": 20,
   "id": "e7878492",
   "metadata": {},
   "outputs": [
    {
     "data": {
      "text/plain": [
       "'abc '"
      ]
     },
     "execution_count": 20,
     "metadata": {},
     "output_type": "execute_result"
    }
   ],
   "source": [
    "new_string[:4]"
   ]
  },
  {
   "cell_type": "markdown",
   "id": "bb69c320",
   "metadata": {},
   "source": [
    "Slicing Strings in between"
   ]
  },
  {
   "cell_type": "code",
   "execution_count": 21,
   "id": "d0912608",
   "metadata": {},
   "outputs": [
    {
     "data": {
      "text/plain": [
       "\"I'll get it done\""
      ]
     },
     "execution_count": 21,
     "metadata": {},
     "output_type": "execute_result"
    }
   ],
   "source": [
    "test_string"
   ]
  },
  {
   "cell_type": "code",
   "execution_count": 15,
   "id": "88fc3354",
   "metadata": {},
   "outputs": [
    {
     "data": {
      "text/plain": [
       "'get it'"
      ]
     },
     "execution_count": 15,
     "metadata": {},
     "output_type": "execute_result"
    }
   ],
   "source": [
    "test_string[5:11]"
   ]
  },
  {
   "cell_type": "code",
   "execution_count": 16,
   "id": "56feed25",
   "metadata": {},
   "outputs": [
    {
     "data": {
      "text/plain": [
       "'ll g'"
      ]
     },
     "execution_count": 16,
     "metadata": {},
     "output_type": "execute_result"
    }
   ],
   "source": [
    "test_string[2:6]"
   ]
  },
  {
   "cell_type": "code",
   "execution_count": 22,
   "id": "384e9639",
   "metadata": {},
   "outputs": [
    {
     "data": {
      "text/plain": [
       "'abc xyz mno'"
      ]
     },
     "execution_count": 22,
     "metadata": {},
     "output_type": "execute_result"
    }
   ],
   "source": [
    "new_string"
   ]
  },
  {
   "cell_type": "code",
   "execution_count": 23,
   "id": "e5cbfad9",
   "metadata": {},
   "outputs": [
    {
     "data": {
      "text/plain": [
       "'bc x'"
      ]
     },
     "execution_count": 23,
     "metadata": {},
     "output_type": "execute_result"
    }
   ],
   "source": [
    "new_string[1:5]"
   ]
  },
  {
   "cell_type": "markdown",
   "id": "876480d5",
   "metadata": {},
   "source": [
    "Step_Size"
   ]
  },
  {
   "cell_type": "code",
   "execution_count": 24,
   "id": "d00afa74",
   "metadata": {},
   "outputs": [
    {
     "data": {
      "text/plain": [
       "'abc xyz mno'"
      ]
     },
     "execution_count": 24,
     "metadata": {},
     "output_type": "execute_result"
    }
   ],
   "source": [
    "new_string"
   ]
  },
  {
   "cell_type": "code",
   "execution_count": 25,
   "id": "573956e1",
   "metadata": {},
   "outputs": [
    {
     "data": {
      "text/plain": [
       "'abc xyz mno'"
      ]
     },
     "execution_count": 25,
     "metadata": {},
     "output_type": "execute_result"
    }
   ],
   "source": [
    "new_string[::1]"
   ]
  },
  {
   "cell_type": "code",
   "execution_count": 26,
   "id": "a395ebe2",
   "metadata": {},
   "outputs": [
    {
     "data": {
      "text/plain": [
       "'acxzmo'"
      ]
     },
     "execution_count": 26,
     "metadata": {},
     "output_type": "execute_result"
    }
   ],
   "source": [
    "new_string[::2]"
   ]
  },
  {
   "cell_type": "code",
   "execution_count": 27,
   "id": "86372f58",
   "metadata": {},
   "outputs": [
    {
     "data": {
      "text/plain": [
       "'ayo'"
      ]
     },
     "execution_count": 27,
     "metadata": {},
     "output_type": "execute_result"
    }
   ],
   "source": [
    "new_string[::5]"
   ]
  },
  {
   "cell_type": "code",
   "execution_count": 28,
   "id": "a161e07e",
   "metadata": {},
   "outputs": [
    {
     "data": {
      "text/plain": [
       "'abc xyz mno'"
      ]
     },
     "execution_count": 28,
     "metadata": {},
     "output_type": "execute_result"
    }
   ],
   "source": [
    "new_string"
   ]
  },
  {
   "cell_type": "markdown",
   "id": "9e4c41d5",
   "metadata": {},
   "source": [
    "Start:Stop:StepSize"
   ]
  },
  {
   "cell_type": "code",
   "execution_count": 29,
   "id": "abe3d953",
   "metadata": {},
   "outputs": [
    {
     "data": {
      "text/plain": [
       "'bx'"
      ]
     },
     "execution_count": 29,
     "metadata": {},
     "output_type": "execute_result"
    }
   ],
   "source": [
    "new_string[1:7:3]"
   ]
  },
  {
   "cell_type": "code",
   "execution_count": 32,
   "id": "46c9cdc1",
   "metadata": {},
   "outputs": [
    {
     "data": {
      "text/plain": [
       "'abc xyz mno'"
      ]
     },
     "execution_count": 32,
     "metadata": {},
     "output_type": "execute_result"
    }
   ],
   "source": [
    "new_string"
   ]
  },
  {
   "cell_type": "markdown",
   "id": "54d1c021",
   "metadata": {},
   "source": [
    "Reverse String Trick"
   ]
  },
  {
   "cell_type": "code",
   "execution_count": 40,
   "id": "68496b4e",
   "metadata": {},
   "outputs": [
    {
     "data": {
      "text/plain": [
       "'abc xyz mno'"
      ]
     },
     "execution_count": 40,
     "metadata": {},
     "output_type": "execute_result"
    }
   ],
   "source": [
    "new_string"
   ]
  },
  {
   "cell_type": "code",
   "execution_count": 39,
   "id": "f5da57b2",
   "metadata": {},
   "outputs": [
    {
     "data": {
      "text/plain": [
       "'onm zyx cba'"
      ]
     },
     "execution_count": 39,
     "metadata": {},
     "output_type": "execute_result"
    }
   ],
   "source": [
    "new_string[::-1]"
   ]
  },
  {
   "cell_type": "markdown",
   "id": "6b3a8e17",
   "metadata": {},
   "source": [
    "TEST"
   ]
  },
  {
   "cell_type": "markdown",
   "id": "c5612eb0",
   "metadata": {},
   "source": [
    "Single Line String Indexing"
   ]
  },
  {
   "cell_type": "code",
   "execution_count": 41,
   "id": "e97c1c11",
   "metadata": {},
   "outputs": [
    {
     "data": {
      "text/plain": [
       "'u'"
      ]
     },
     "execution_count": 41,
     "metadata": {},
     "output_type": "execute_result"
    }
   ],
   "source": [
    "\"Don't cut down the tree\"[7]"
   ]
  },
  {
   "cell_type": "markdown",
   "id": "0f6857c8",
   "metadata": {},
   "source": [
    "String Slicing"
   ]
  },
  {
   "cell_type": "code",
   "execution_count": 43,
   "id": "bbf54713",
   "metadata": {},
   "outputs": [
    {
     "data": {
      "text/plain": [
       "'ink'"
      ]
     },
     "execution_count": 43,
     "metadata": {},
     "output_type": "execute_result"
    }
   ],
   "source": [
    "'tinker'[1:4] #Grabbing 'ink' from 'tinker'"
   ]
  },
  {
   "cell_type": "code",
   "execution_count": null,
   "id": "5a6366e7",
   "metadata": {},
   "outputs": [],
   "source": []
  }
 ],
 "metadata": {
  "kernelspec": {
   "display_name": "Python 3 (ipykernel)",
   "language": "python",
   "name": "python3"
  },
  "language_info": {
   "codemirror_mode": {
    "name": "ipython",
    "version": 3
   },
   "file_extension": ".py",
   "mimetype": "text/x-python",
   "name": "python",
   "nbconvert_exporter": "python",
   "pygments_lexer": "ipython3",
   "version": "3.9.12"
  }
 },
 "nbformat": 4,
 "nbformat_minor": 5
}
