{
 "cells": [
  {
   "cell_type": "markdown",
   "id": "fb993bd5",
   "metadata": {},
   "source": [
    "Immutability = Can't change"
   ]
  },
  {
   "cell_type": "code",
   "execution_count": 1,
   "id": "fe5acf16",
   "metadata": {},
   "outputs": [],
   "source": [
    "name = \"Akash\""
   ]
  },
  {
   "cell_type": "code",
   "execution_count": 2,
   "id": "1367e18d",
   "metadata": {},
   "outputs": [
    {
     "ename": "TypeError",
     "evalue": "'str' object does not support item assignment",
     "output_type": "error",
     "traceback": [
      "\u001b[1;31m---------------------------------------------------------------------------\u001b[0m",
      "\u001b[1;31mTypeError\u001b[0m                                 Traceback (most recent call last)",
      "Input \u001b[1;32mIn [2]\u001b[0m, in \u001b[0;36m<cell line: 2>\u001b[1;34m()\u001b[0m\n\u001b[0;32m      1\u001b[0m \u001b[38;5;66;03m# For Example\u001b[39;00m\n\u001b[1;32m----> 2\u001b[0m name[\u001b[38;5;241m0\u001b[39m] \u001b[38;5;241m=\u001b[39m\u001b[38;5;124m'\u001b[39m\u001b[38;5;124mB\u001b[39m\u001b[38;5;124m'\u001b[39m\n",
      "\u001b[1;31mTypeError\u001b[0m: 'str' object does not support item assignment"
     ]
    }
   ],
   "source": [
    "# For Example\n",
    "name[0] ='B' #Since Stings are immutable, we can't change A from 'Akash' to B"
   ]
  },
  {
   "cell_type": "markdown",
   "id": "5364c220",
   "metadata": {},
   "source": [
    "String Concatenation = Connect two strings"
   ]
  },
  {
   "cell_type": "code",
   "execution_count": 3,
   "id": "8a96f6af",
   "metadata": {},
   "outputs": [
    {
     "data": {
      "text/plain": [
       "'Akash'"
      ]
     },
     "execution_count": 3,
     "metadata": {},
     "output_type": "execute_result"
    }
   ],
   "source": [
    "name"
   ]
  },
  {
   "cell_type": "code",
   "execution_count": 4,
   "id": "441cce77",
   "metadata": {},
   "outputs": [],
   "source": [
    "cut_string = name[:4]"
   ]
  },
  {
   "cell_type": "code",
   "execution_count": 5,
   "id": "74472f57",
   "metadata": {},
   "outputs": [
    {
     "data": {
      "text/plain": [
       "'Akas'"
      ]
     },
     "execution_count": 5,
     "metadata": {},
     "output_type": "execute_result"
    }
   ],
   "source": [
    "cut_string"
   ]
  },
  {
   "cell_type": "code",
   "execution_count": 6,
   "id": "43bd7682",
   "metadata": {},
   "outputs": [
    {
     "data": {
      "text/plain": [
       "'Akaso'"
      ]
     },
     "execution_count": 6,
     "metadata": {},
     "output_type": "execute_result"
    }
   ],
   "source": [
    "cut_string + 'o'"
   ]
  },
  {
   "cell_type": "code",
   "execution_count": 7,
   "id": "286aa0b9",
   "metadata": {},
   "outputs": [],
   "source": [
    "x = 'How'"
   ]
  },
  {
   "cell_type": "code",
   "execution_count": 8,
   "id": "47fc4cf9",
   "metadata": {},
   "outputs": [
    {
     "data": {
      "text/plain": [
       "'How are you?'"
      ]
     },
     "execution_count": 8,
     "metadata": {},
     "output_type": "execute_result"
    }
   ],
   "source": [
    "x + ' are you?'"
   ]
  },
  {
   "cell_type": "code",
   "execution_count": 10,
   "id": "2e07ec9d",
   "metadata": {},
   "outputs": [],
   "source": [
    "y = x + ' are you?'"
   ]
  },
  {
   "cell_type": "code",
   "execution_count": 11,
   "id": "33622cf5",
   "metadata": {},
   "outputs": [
    {
     "data": {
      "text/plain": [
       "'How are you?'"
      ]
     },
     "execution_count": 11,
     "metadata": {},
     "output_type": "execute_result"
    }
   ],
   "source": [
    "y"
   ]
  },
  {
   "cell_type": "markdown",
   "id": "dc3d0e96",
   "metadata": {},
   "source": [
    "Mulplication of Letters"
   ]
  },
  {
   "cell_type": "code",
   "execution_count": 12,
   "id": "19480b44",
   "metadata": {},
   "outputs": [],
   "source": [
    "letter = 'z'"
   ]
  },
  {
   "cell_type": "code",
   "execution_count": 13,
   "id": "448d8fbd",
   "metadata": {},
   "outputs": [
    {
     "data": {
      "text/plain": [
       "'zzzzz'"
      ]
     },
     "execution_count": 13,
     "metadata": {},
     "output_type": "execute_result"
    }
   ],
   "source": [
    "letter * 5"
   ]
  },
  {
   "cell_type": "markdown",
   "id": "e5c7d8bd",
   "metadata": {},
   "source": [
    "Numbers vs String"
   ]
  },
  {
   "cell_type": "code",
   "execution_count": 14,
   "id": "67db2fb2",
   "metadata": {},
   "outputs": [
    {
     "data": {
      "text/plain": [
       "5"
      ]
     },
     "execution_count": 14,
     "metadata": {},
     "output_type": "execute_result"
    }
   ],
   "source": [
    " 2 + 3 #Numbers"
   ]
  },
  {
   "cell_type": "code",
   "execution_count": 15,
   "id": "38f05e7c",
   "metadata": {},
   "outputs": [
    {
     "data": {
      "text/plain": [
       "'23'"
      ]
     },
     "execution_count": 15,
     "metadata": {},
     "output_type": "execute_result"
    }
   ],
   "source": [
    "'2' + '3' #Strings"
   ]
  },
  {
   "cell_type": "markdown",
   "id": "43ede3ad",
   "metadata": {},
   "source": [
    "Methods"
   ]
  },
  {
   "cell_type": "code",
   "execution_count": 16,
   "id": "8b1c3a47",
   "metadata": {},
   "outputs": [],
   "source": [
    "a = 'hello akash'"
   ]
  },
  {
   "cell_type": "code",
   "execution_count": 18,
   "id": "a90e4183",
   "metadata": {},
   "outputs": [
    {
     "data": {
      "text/plain": [
       "'HELLO AKASH'"
      ]
     },
     "execution_count": 18,
     "metadata": {},
     "output_type": "execute_result"
    }
   ],
   "source": [
    "a.upper()"
   ]
  },
  {
   "cell_type": "code",
   "execution_count": 21,
   "id": "3bf24fb6",
   "metadata": {},
   "outputs": [],
   "source": [
    "b = a.upper()"
   ]
  },
  {
   "cell_type": "code",
   "execution_count": 22,
   "id": "07e61ad0",
   "metadata": {},
   "outputs": [
    {
     "data": {
      "text/plain": [
       "'HELLO AKASH'"
      ]
     },
     "execution_count": 22,
     "metadata": {},
     "output_type": "execute_result"
    }
   ],
   "source": [
    "b"
   ]
  },
  {
   "cell_type": "code",
   "execution_count": 23,
   "id": "26d9dc0d",
   "metadata": {},
   "outputs": [],
   "source": [
    "c = a.lower()"
   ]
  },
  {
   "cell_type": "code",
   "execution_count": 24,
   "id": "bbb88366",
   "metadata": {},
   "outputs": [
    {
     "data": {
      "text/plain": [
       "'hello akash'"
      ]
     },
     "execution_count": 24,
     "metadata": {},
     "output_type": "execute_result"
    }
   ],
   "source": [
    "c"
   ]
  },
  {
   "cell_type": "code",
   "execution_count": 25,
   "id": "9ef714f9",
   "metadata": {},
   "outputs": [
    {
     "data": {
      "text/plain": [
       "'hello akash'"
      ]
     },
     "execution_count": 25,
     "metadata": {},
     "output_type": "execute_result"
    }
   ],
   "source": [
    "a"
   ]
  },
  {
   "cell_type": "code",
   "execution_count": 26,
   "id": "c758ba53",
   "metadata": {},
   "outputs": [
    {
     "data": {
      "text/plain": [
       "['hello', 'akash']"
      ]
     },
     "execution_count": 26,
     "metadata": {},
     "output_type": "execute_result"
    }
   ],
   "source": [
    "a.split()"
   ]
  },
  {
   "cell_type": "code",
   "execution_count": 6,
   "id": "3cac0053",
   "metadata": {},
   "outputs": [],
   "source": [
    "new_a = \"Hello, How are you ?\""
   ]
  },
  {
   "cell_type": "code",
   "execution_count": 19,
   "id": "b56d38da",
   "metadata": {
    "scrolled": true
   },
   "outputs": [
    {
     "data": {
      "text/plain": [
       "['Hello,', 'How', 'are', 'you', '?']"
      ]
     },
     "execution_count": 19,
     "metadata": {},
     "output_type": "execute_result"
    }
   ],
   "source": [
    "new_a.split()"
   ]
  },
  {
   "cell_type": "code",
   "execution_count": 22,
   "id": "b00329cf",
   "metadata": {},
   "outputs": [
    {
     "data": {
      "text/plain": [
       "['Hell', ', H', 'w are y', 'u ?']"
      ]
     },
     "execution_count": 22,
     "metadata": {},
     "output_type": "execute_result"
    }
   ],
   "source": [
    "new_a.split('o')"
   ]
  },
  {
   "cell_type": "code",
   "execution_count": null,
   "id": "4f47f611",
   "metadata": {},
   "outputs": [],
   "source": []
  }
 ],
 "metadata": {
  "kernelspec": {
   "display_name": "Python 3 (ipykernel)",
   "language": "python",
   "name": "python3"
  },
  "language_info": {
   "codemirror_mode": {
    "name": "ipython",
    "version": 3
   },
   "file_extension": ".py",
   "mimetype": "text/x-python",
   "name": "python",
   "nbconvert_exporter": "python",
   "pygments_lexer": "ipython3",
   "version": "3.9.12"
  }
 },
 "nbformat": 4,
 "nbformat_minor": 5
}
