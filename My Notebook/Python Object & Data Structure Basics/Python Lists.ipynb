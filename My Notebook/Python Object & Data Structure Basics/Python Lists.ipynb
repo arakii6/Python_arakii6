{
 "cells": [
  {
   "cell_type": "code",
   "execution_count": 1,
   "id": "0e7f1ba1",
   "metadata": {},
   "outputs": [],
   "source": [
    "my_list = [1,2,3]"
   ]
  },
  {
   "cell_type": "code",
   "execution_count": 2,
   "id": "f4857d3a",
   "metadata": {},
   "outputs": [],
   "source": [
    "my_list = ['yolo',29,1993]"
   ]
  },
  {
   "cell_type": "code",
   "execution_count": 4,
   "id": "d6432f37",
   "metadata": {},
   "outputs": [
    {
     "data": {
      "text/plain": [
       "3"
      ]
     },
     "execution_count": 4,
     "metadata": {},
     "output_type": "execute_result"
    }
   ],
   "source": [
    "len (my_list)"
   ]
  },
  {
   "cell_type": "code",
   "execution_count": 5,
   "id": "4522535a",
   "metadata": {},
   "outputs": [],
   "source": [
    "new_list = ['one','two','three']"
   ]
  },
  {
   "cell_type": "code",
   "execution_count": 6,
   "id": "c3c00144",
   "metadata": {},
   "outputs": [
    {
     "data": {
      "text/plain": [
       "'two'"
      ]
     },
     "execution_count": 6,
     "metadata": {},
     "output_type": "execute_result"
    }
   ],
   "source": [
    "new_list[1]"
   ]
  },
  {
   "cell_type": "code",
   "execution_count": 7,
   "id": "11200e58",
   "metadata": {},
   "outputs": [
    {
     "data": {
      "text/plain": [
       "['one', 'two', 'three', 'yolo', 29, 1993]"
      ]
     },
     "execution_count": 7,
     "metadata": {},
     "output_type": "execute_result"
    }
   ],
   "source": [
    "new_list + my_list"
   ]
  },
  {
   "cell_type": "code",
   "execution_count": 31,
   "id": "e6044e35",
   "metadata": {},
   "outputs": [],
   "source": [
    "rev_list = new_list + my_list"
   ]
  },
  {
   "cell_type": "code",
   "execution_count": 32,
   "id": "ba3a379e",
   "metadata": {},
   "outputs": [
    {
     "data": {
      "text/plain": [
       "['one', 'two', 'three', 'yolo', 29, 1993]"
      ]
     },
     "execution_count": 32,
     "metadata": {},
     "output_type": "execute_result"
    }
   ],
   "source": [
    "rev_list"
   ]
  },
  {
   "cell_type": "code",
   "execution_count": 10,
   "id": "77b56a30",
   "metadata": {},
   "outputs": [
    {
     "data": {
      "text/plain": [
       "['two', 'three', 'yolo', 29, 1993]"
      ]
     },
     "execution_count": 10,
     "metadata": {},
     "output_type": "execute_result"
    }
   ],
   "source": [
    "rev_list[1:]"
   ]
  },
  {
   "cell_type": "code",
   "execution_count": 11,
   "id": "de305df4",
   "metadata": {},
   "outputs": [
    {
     "data": {
      "text/plain": [
       "['one', 'two', 'three', 'yolo']"
      ]
     },
     "execution_count": 11,
     "metadata": {},
     "output_type": "execute_result"
    }
   ],
   "source": [
    "rev_list[0:4]"
   ]
  },
  {
   "cell_type": "code",
   "execution_count": 12,
   "id": "d3a45aa8",
   "metadata": {},
   "outputs": [
    {
     "data": {
      "text/plain": [
       "['one', 'three', 29]"
      ]
     },
     "execution_count": 12,
     "metadata": {},
     "output_type": "execute_result"
    }
   ],
   "source": [
    "rev_list[0:5:2]"
   ]
  },
  {
   "cell_type": "markdown",
   "id": "f391fe5b",
   "metadata": {},
   "source": [
    "Important: Lists are mutable #can be changed unlike strings"
   ]
  },
  {
   "cell_type": "code",
   "execution_count": 33,
   "id": "1493ae55",
   "metadata": {
    "scrolled": true
   },
   "outputs": [
    {
     "data": {
      "text/plain": [
       "['one', 'two', 'three', 'yolo', 29, 1993]"
      ]
     },
     "execution_count": 33,
     "metadata": {},
     "output_type": "execute_result"
    }
   ],
   "source": [
    "rev_list"
   ]
  },
  {
   "cell_type": "code",
   "execution_count": 34,
   "id": "d050a367",
   "metadata": {},
   "outputs": [],
   "source": [
    "rev_list[3] = 'x'"
   ]
  },
  {
   "cell_type": "code",
   "execution_count": 35,
   "id": "1d729a74",
   "metadata": {},
   "outputs": [
    {
     "data": {
      "text/plain": [
       "['one', 'two', 'three', 'x', 29, 1993]"
      ]
     },
     "execution_count": 35,
     "metadata": {},
     "output_type": "execute_result"
    }
   ],
   "source": [
    "rev_list"
   ]
  },
  {
   "cell_type": "code",
   "execution_count": 36,
   "id": "6a2b624d",
   "metadata": {},
   "outputs": [],
   "source": [
    "rev_list.append('akash, seven') #add new content to the lists"
   ]
  },
  {
   "cell_type": "code",
   "execution_count": 37,
   "id": "ad8fec39",
   "metadata": {},
   "outputs": [
    {
     "data": {
      "text/plain": [
       "['one', 'two', 'three', 'x', 29, 1993, 'akash, seven']"
      ]
     },
     "execution_count": 37,
     "metadata": {},
     "output_type": "execute_result"
    }
   ],
   "source": [
    "rev_list"
   ]
  },
  {
   "cell_type": "code",
   "execution_count": 38,
   "id": "af6ef815",
   "metadata": {},
   "outputs": [
    {
     "data": {
      "text/plain": [
       "'akash, seven'"
      ]
     },
     "execution_count": 38,
     "metadata": {},
     "output_type": "execute_result"
    }
   ],
   "source": [
    "rev_list.pop() #remove the last content from the list, as it starts from index positon -1"
   ]
  },
  {
   "cell_type": "code",
   "execution_count": 39,
   "id": "6aa18c64",
   "metadata": {},
   "outputs": [
    {
     "data": {
      "text/plain": [
       "['one', 'two', 'three', 'x', 29, 1993]"
      ]
     },
     "execution_count": 39,
     "metadata": {},
     "output_type": "execute_result"
    }
   ],
   "source": [
    "rev_list"
   ]
  },
  {
   "cell_type": "code",
   "execution_count": 40,
   "id": "b3de3388",
   "metadata": {},
   "outputs": [
    {
     "data": {
      "text/plain": [
       "1993"
      ]
     },
     "execution_count": 40,
     "metadata": {},
     "output_type": "execute_result"
    }
   ],
   "source": [
    "rev_list.pop()"
   ]
  },
  {
   "cell_type": "code",
   "execution_count": 41,
   "id": "e3096895",
   "metadata": {},
   "outputs": [],
   "source": [
    "popped_item=rev_list.pop()"
   ]
  },
  {
   "cell_type": "code",
   "execution_count": 43,
   "id": "f8c5ca22",
   "metadata": {},
   "outputs": [
    {
     "data": {
      "text/plain": [
       "29"
      ]
     },
     "execution_count": 43,
     "metadata": {},
     "output_type": "execute_result"
    }
   ],
   "source": [
    "popped_item"
   ]
  },
  {
   "cell_type": "code",
   "execution_count": 44,
   "id": "3c0cc1c6",
   "metadata": {},
   "outputs": [
    {
     "data": {
      "text/plain": [
       "['one', 'two', 'three', 'x']"
      ]
     },
     "execution_count": 44,
     "metadata": {},
     "output_type": "execute_result"
    }
   ],
   "source": [
    "rev_list"
   ]
  },
  {
   "cell_type": "code",
   "execution_count": 45,
   "id": "202db310",
   "metadata": {},
   "outputs": [
    {
     "data": {
      "text/plain": [
       "'two'"
      ]
     },
     "execution_count": 45,
     "metadata": {},
     "output_type": "execute_result"
    }
   ],
   "source": [
    "rev_list.pop(1) #remove content via index position"
   ]
  },
  {
   "cell_type": "code",
   "execution_count": 46,
   "id": "6a482704",
   "metadata": {},
   "outputs": [
    {
     "data": {
      "text/plain": [
       "['one', 'three', 'x']"
      ]
     },
     "execution_count": 46,
     "metadata": {},
     "output_type": "execute_result"
    }
   ],
   "source": [
    "rev_list"
   ]
  },
  {
   "cell_type": "markdown",
   "id": "5c1117e3",
   "metadata": {},
   "source": [
    "Sort and Reverse"
   ]
  },
  {
   "cell_type": "code",
   "execution_count": 48,
   "id": "786f36ed",
   "metadata": {},
   "outputs": [],
   "source": [
    "new_list = ['a','e','d','c','b']\n",
    "num_list = [1,6,3,5,2,4]"
   ]
  },
  {
   "cell_type": "code",
   "execution_count": 49,
   "id": "7507038c",
   "metadata": {},
   "outputs": [],
   "source": [
    "new_list.sort()"
   ]
  },
  {
   "cell_type": "code",
   "execution_count": 50,
   "id": "d877de07",
   "metadata": {},
   "outputs": [
    {
     "data": {
      "text/plain": [
       "['a', 'b', 'c', 'd', 'e']"
      ]
     },
     "execution_count": 50,
     "metadata": {},
     "output_type": "execute_result"
    }
   ],
   "source": [
    "new_list"
   ]
  },
  {
   "cell_type": "code",
   "execution_count": 53,
   "id": "abe8c3cc",
   "metadata": {},
   "outputs": [],
   "source": [
    "num_list.sort()\n",
    "sorted_num_list = num_list"
   ]
  },
  {
   "cell_type": "code",
   "execution_count": 54,
   "id": "751160ae",
   "metadata": {},
   "outputs": [
    {
     "data": {
      "text/plain": [
       "[1, 2, 3, 4, 5, 6]"
      ]
     },
     "execution_count": 54,
     "metadata": {},
     "output_type": "execute_result"
    }
   ],
   "source": [
    "num_list"
   ]
  },
  {
   "cell_type": "code",
   "execution_count": 55,
   "id": "b3bb8f03",
   "metadata": {},
   "outputs": [
    {
     "data": {
      "text/plain": [
       "[1, 2, 3, 4, 5, 6]"
      ]
     },
     "execution_count": 55,
     "metadata": {},
     "output_type": "execute_result"
    }
   ],
   "source": [
    "sorted_num_list"
   ]
  },
  {
   "cell_type": "code",
   "execution_count": 56,
   "id": "1ffcc890",
   "metadata": {},
   "outputs": [],
   "source": [
    "sorted_num_list.reverse()"
   ]
  },
  {
   "cell_type": "code",
   "execution_count": 57,
   "id": "c4617d8a",
   "metadata": {},
   "outputs": [
    {
     "data": {
      "text/plain": [
       "[6, 5, 4, 3, 2, 1]"
      ]
     },
     "execution_count": 57,
     "metadata": {},
     "output_type": "execute_result"
    }
   ],
   "source": [
    "sorted_num_list"
   ]
  },
  {
   "cell_type": "code",
   "execution_count": 6,
   "id": "ab38ca6c",
   "metadata": {},
   "outputs": [],
   "source": [
    "x = [5,9,8,4,2,7] #Wanted to check if the reverse function first sorts and reverses or just reverses"
   ]
  },
  {
   "cell_type": "code",
   "execution_count": 3,
   "id": "4c38f849",
   "metadata": {},
   "outputs": [
    {
     "data": {
      "text/plain": [
       "[5, 9, 8, 4, 2, 7]"
      ]
     },
     "execution_count": 3,
     "metadata": {},
     "output_type": "execute_result"
    }
   ],
   "source": [
    "x"
   ]
  },
  {
   "cell_type": "code",
   "execution_count": 4,
   "id": "773097d8",
   "metadata": {},
   "outputs": [],
   "source": [
    "x.reverse()"
   ]
  },
  {
   "cell_type": "code",
   "execution_count": 5,
   "id": "a7ca6324",
   "metadata": {},
   "outputs": [
    {
     "data": {
      "text/plain": [
       "[7, 2, 4, 8, 9, 5]"
      ]
     },
     "execution_count": 5,
     "metadata": {},
     "output_type": "execute_result"
    }
   ],
   "source": [
    "x"
   ]
  },
  {
   "cell_type": "markdown",
   "id": "b9105ce2",
   "metadata": {},
   "source": [
    "Change multiple elements in a list using indexing"
   ]
  },
  {
   "cell_type": "code",
   "execution_count": 1,
   "id": "9306a771",
   "metadata": {},
   "outputs": [],
   "source": [
    "mylist = ['a','b','c',1,2,3]"
   ]
  },
  {
   "cell_type": "code",
   "execution_count": 2,
   "id": "5cba745c",
   "metadata": {},
   "outputs": [
    {
     "data": {
      "text/plain": [
       "['a', 'b', 'c', 1, 2, 3]"
      ]
     },
     "execution_count": 2,
     "metadata": {},
     "output_type": "execute_result"
    }
   ],
   "source": [
    "mylist"
   ]
  },
  {
   "cell_type": "code",
   "execution_count": 4,
   "id": "c6f19136",
   "metadata": {},
   "outputs": [],
   "source": [
    "mylist[3],mylist[4],mylist[5] = 'd','e','f'"
   ]
  },
  {
   "cell_type": "code",
   "execution_count": 5,
   "id": "1f3a71fc",
   "metadata": {},
   "outputs": [
    {
     "data": {
      "text/plain": [
       "['a', 'b', 'c', 'd', 'e', 'f']"
      ]
     },
     "execution_count": 5,
     "metadata": {},
     "output_type": "execute_result"
    }
   ],
   "source": [
    "mylist"
   ]
  },
  {
   "cell_type": "markdown",
   "id": "c4c76f5f",
   "metadata": {},
   "source": [
    "Change multiple elements in a list using slicing"
   ]
  },
  {
   "cell_type": "code",
   "execution_count": 6,
   "id": "bb44d11a",
   "metadata": {},
   "outputs": [
    {
     "data": {
      "text/plain": [
       "['a', 'b', 'c', 'd', 'e', 'f']"
      ]
     },
     "execution_count": 6,
     "metadata": {},
     "output_type": "execute_result"
    }
   ],
   "source": [
    "mylist"
   ]
  },
  {
   "cell_type": "code",
   "execution_count": 7,
   "id": "1eb08c60",
   "metadata": {},
   "outputs": [],
   "source": [
    "mylist[3:5] = [1,2]"
   ]
  },
  {
   "cell_type": "code",
   "execution_count": 8,
   "id": "8852a29a",
   "metadata": {},
   "outputs": [
    {
     "data": {
      "text/plain": [
       "['a', 'b', 'c', 1, 2, 'f']"
      ]
     },
     "execution_count": 8,
     "metadata": {},
     "output_type": "execute_result"
    }
   ],
   "source": [
    "mylist"
   ]
  },
  {
   "cell_type": "code",
   "execution_count": null,
   "id": "096d0b09",
   "metadata": {},
   "outputs": [],
   "source": []
  }
 ],
 "metadata": {
  "kernelspec": {
   "display_name": "Python 3 (ipykernel)",
   "language": "python",
   "name": "python3"
  },
  "language_info": {
   "codemirror_mode": {
    "name": "ipython",
    "version": 3
   },
   "file_extension": ".py",
   "mimetype": "text/x-python",
   "name": "python",
   "nbconvert_exporter": "python",
   "pygments_lexer": "ipython3",
   "version": "3.9.13"
  }
 },
 "nbformat": 4,
 "nbformat_minor": 5
}
