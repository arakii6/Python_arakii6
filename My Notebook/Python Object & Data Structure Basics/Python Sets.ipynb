{
 "cells": [
  {
   "cell_type": "code",
   "execution_count": 1,
   "id": "f82c8858",
   "metadata": {},
   "outputs": [],
   "source": [
    "myset = set()"
   ]
  },
  {
   "cell_type": "code",
   "execution_count": 2,
   "id": "367138a6",
   "metadata": {},
   "outputs": [
    {
     "data": {
      "text/plain": [
       "set()"
      ]
     },
     "execution_count": 2,
     "metadata": {},
     "output_type": "execute_result"
    }
   ],
   "source": [
    "myset"
   ]
  },
  {
   "cell_type": "code",
   "execution_count": 3,
   "id": "da9915aa",
   "metadata": {},
   "outputs": [],
   "source": [
    "myset.add(65)"
   ]
  },
  {
   "cell_type": "code",
   "execution_count": 4,
   "id": "0dd08ac8",
   "metadata": {},
   "outputs": [
    {
     "data": {
      "text/plain": [
       "{65}"
      ]
     },
     "execution_count": 4,
     "metadata": {},
     "output_type": "execute_result"
    }
   ],
   "source": [
    "myset"
   ]
  },
  {
   "cell_type": "code",
   "execution_count": 5,
   "id": "4830272f",
   "metadata": {},
   "outputs": [],
   "source": [
    "myset.add(67)"
   ]
  },
  {
   "cell_type": "code",
   "execution_count": 6,
   "id": "82e4472f",
   "metadata": {},
   "outputs": [
    {
     "data": {
      "text/plain": [
       "{65, 67}"
      ]
     },
     "execution_count": 6,
     "metadata": {},
     "output_type": "execute_result"
    }
   ],
   "source": [
    "myset"
   ]
  },
  {
   "cell_type": "code",
   "execution_count": 7,
   "id": "79b09fc6",
   "metadata": {},
   "outputs": [],
   "source": [
    "myset.add(65)"
   ]
  },
  {
   "cell_type": "code",
   "execution_count": 8,
   "id": "5a70b60f",
   "metadata": {},
   "outputs": [
    {
     "data": {
      "text/plain": [
       "{65, 67}"
      ]
     },
     "execution_count": 8,
     "metadata": {},
     "output_type": "execute_result"
    }
   ],
   "source": [
    "myset #Since Sets contain unique values, the number 65 will only show once, even though I added it a second time"
   ]
  },
  {
   "cell_type": "markdown",
   "id": "716b5fd9",
   "metadata": {},
   "source": [
    "List & Sets"
   ]
  },
  {
   "cell_type": "code",
   "execution_count": 10,
   "id": "b95e2f91",
   "metadata": {},
   "outputs": [],
   "source": [
    "mylist = [1,1,1,1,1,1,2,2,2,2,4,3,3,3,3,4,2,2,2,4]"
   ]
  },
  {
   "cell_type": "code",
   "execution_count": 12,
   "id": "2cd78429",
   "metadata": {},
   "outputs": [
    {
     "data": {
      "text/plain": [
       "{1, 2, 3, 4}"
      ]
     },
     "execution_count": 12,
     "metadata": {},
     "output_type": "execute_result"
    }
   ],
   "source": [
    "set(mylist)"
   ]
  },
  {
   "cell_type": "code",
   "execution_count": null,
   "id": "4e925646",
   "metadata": {},
   "outputs": [],
   "source": []
  }
 ],
 "metadata": {
  "kernelspec": {
   "display_name": "Python 3 (ipykernel)",
   "language": "python",
   "name": "python3"
  },
  "language_info": {
   "codemirror_mode": {
    "name": "ipython",
    "version": 3
   },
   "file_extension": ".py",
   "mimetype": "text/x-python",
   "name": "python",
   "nbconvert_exporter": "python",
   "pygments_lexer": "ipython3",
   "version": "3.9.12"
  }
 },
 "nbformat": 4,
 "nbformat_minor": 5
}
