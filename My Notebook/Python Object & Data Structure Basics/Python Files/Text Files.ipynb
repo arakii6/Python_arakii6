{
 "cells": [
  {
   "cell_type": "code",
   "execution_count": 7,
   "id": "f1f9cbdf",
   "metadata": {},
   "outputs": [
    {
     "data": {
      "text/plain": [
       "'C:\\\\Users\\\\araki\\\\Python_arakii6\\\\My Notebook\\\\Python Files'"
      ]
     },
     "execution_count": 7,
     "metadata": {},
     "output_type": "execute_result"
    }
   ],
   "source": [
    "pwd #To print working directory"
   ]
  },
  {
   "cell_type": "markdown",
   "id": "65d51578",
   "metadata": {},
   "source": [
    "Command to write a new file"
   ]
  },
  {
   "cell_type": "code",
   "execution_count": 6,
   "id": "6d0a2594",
   "metadata": {},
   "outputs": [
    {
     "name": "stdout",
     "output_type": "stream",
     "text": [
      "Overwriting myfile.txt\n"
     ]
    }
   ],
   "source": [
    "%%writefile myfile.txt\n",
    "My Name is Akash\n",
    "This is a text file taht I have created"
   ]
  },
  {
   "cell_type": "code",
   "execution_count": 33,
   "id": "a52655f5",
   "metadata": {},
   "outputs": [],
   "source": [
    "myfile = open('myfile.txt')"
   ]
  },
  {
   "cell_type": "code",
   "execution_count": 22,
   "id": "40a6d308",
   "metadata": {},
   "outputs": [
    {
     "data": {
      "text/plain": [
       "'My Name is Akash\\nThis is a text file taht I have created\\n'"
      ]
     },
     "execution_count": 22,
     "metadata": {},
     "output_type": "execute_result"
    }
   ],
   "source": [
    "myfile.read() #Command to read the entire file in a string format"
   ]
  },
  {
   "cell_type": "code",
   "execution_count": 10,
   "id": "1cccba4e",
   "metadata": {},
   "outputs": [
    {
     "data": {
      "text/plain": [
       "''"
      ]
     },
     "execution_count": 10,
     "metadata": {},
     "output_type": "execute_result"
    }
   ],
   "source": [
    "myfile.read()"
   ]
  },
  {
   "cell_type": "code",
   "execution_count": 11,
   "id": "ff449d05",
   "metadata": {},
   "outputs": [
    {
     "data": {
      "text/plain": [
       "0"
      ]
     },
     "execution_count": 11,
     "metadata": {},
     "output_type": "execute_result"
    }
   ],
   "source": [
    "myfile.seek(0) #Command to reset the curser to the begining of the text file, in order to read the content again"
   ]
  },
  {
   "cell_type": "code",
   "execution_count": 12,
   "id": "fca31d74",
   "metadata": {
    "scrolled": true
   },
   "outputs": [
    {
     "data": {
      "text/plain": [
       "'My Name is Akash\\nThis is a text file taht I have created\\n'"
      ]
     },
     "execution_count": 12,
     "metadata": {},
     "output_type": "execute_result"
    }
   ],
   "source": [
    "myfile.read()"
   ]
  },
  {
   "cell_type": "code",
   "execution_count": 13,
   "id": "0595d621",
   "metadata": {},
   "outputs": [
    {
     "data": {
      "text/plain": [
       "0"
      ]
     },
     "execution_count": 13,
     "metadata": {},
     "output_type": "execute_result"
    }
   ],
   "source": [
    "myfile.seek(0)"
   ]
  },
  {
   "cell_type": "code",
   "execution_count": 14,
   "id": "8e8d1a3c",
   "metadata": {},
   "outputs": [],
   "source": [
    "Paragraph = myfile.read()"
   ]
  },
  {
   "cell_type": "code",
   "execution_count": 15,
   "id": "acb09cbf",
   "metadata": {},
   "outputs": [
    {
     "data": {
      "text/plain": [
       "'My Name is Akash\\nThis is a text file taht I have created\\n'"
      ]
     },
     "execution_count": 15,
     "metadata": {},
     "output_type": "execute_result"
    }
   ],
   "source": [
    "Paragraph"
   ]
  },
  {
   "cell_type": "code",
   "execution_count": 18,
   "id": "6b6f2c8b",
   "metadata": {},
   "outputs": [
    {
     "data": {
      "text/plain": [
       "0"
      ]
     },
     "execution_count": 18,
     "metadata": {},
     "output_type": "execute_result"
    }
   ],
   "source": [
    "myfile.seek(0)"
   ]
  },
  {
   "cell_type": "code",
   "execution_count": 19,
   "id": "c838bb6b",
   "metadata": {},
   "outputs": [
    {
     "data": {
      "text/plain": [
       "['My Name is Akash\\n', 'This is a text file taht I have created\\n']"
      ]
     },
     "execution_count": 19,
     "metadata": {},
     "output_type": "execute_result"
    }
   ],
   "source": [
    "myfile.readlines() #Command to read the entire file in a list format"
   ]
  },
  {
   "cell_type": "code",
   "execution_count": 26,
   "id": "f292c280",
   "metadata": {},
   "outputs": [],
   "source": [
    "myfile.close()"
   ]
  },
  {
   "cell_type": "markdown",
   "id": "0aa1281d",
   "metadata": {},
   "source": [
    "FILE LOCATIONS"
   ]
  },
  {
   "cell_type": "code",
   "execution_count": 23,
   "id": "11ded05d",
   "metadata": {},
   "outputs": [],
   "source": [
    "newfile = open('C:\\\\Users\\\\araki\\\\Python_arakii6\\\\Udemy Course Notebook\\\\00-Python Object and Data Structure Basics/test.txt')"
   ]
  },
  {
   "cell_type": "code",
   "execution_count": 24,
   "id": "0aa5cd71",
   "metadata": {},
   "outputs": [
    {
     "data": {
      "text/plain": [
       "'First Line\\nSecond Line'"
      ]
     },
     "execution_count": 24,
     "metadata": {},
     "output_type": "execute_result"
    }
   ],
   "source": [
    "newfile.read()"
   ]
  },
  {
   "cell_type": "code",
   "execution_count": 25,
   "id": "8f38dc9d",
   "metadata": {},
   "outputs": [],
   "source": [
    "newfile.close()"
   ]
  },
  {
   "cell_type": "markdown",
   "id": "fcad9f29",
   "metadata": {},
   "source": [
    "Special With Statement"
   ]
  },
  {
   "cell_type": "code",
   "execution_count": 37,
   "id": "3cb0fb5c",
   "metadata": {},
   "outputs": [],
   "source": [
    "myfile = open('myfile.txt')"
   ]
  },
  {
   "cell_type": "code",
   "execution_count": 38,
   "id": "1d176859",
   "metadata": {},
   "outputs": [
    {
     "data": {
      "text/plain": [
       "'My Name is Akash\\nThis is a text file taht I have created\\n'"
      ]
     },
     "execution_count": 38,
     "metadata": {},
     "output_type": "execute_result"
    }
   ],
   "source": [
    "myfile.read()"
   ]
  },
  {
   "cell_type": "code",
   "execution_count": 39,
   "id": "546f34df",
   "metadata": {},
   "outputs": [
    {
     "data": {
      "text/plain": [
       "0"
      ]
     },
     "execution_count": 39,
     "metadata": {},
     "output_type": "execute_result"
    }
   ],
   "source": [
    "myfile.seek(0)"
   ]
  },
  {
   "cell_type": "code",
   "execution_count": 41,
   "id": "8002e478",
   "metadata": {},
   "outputs": [],
   "source": [
    "with open('myfile.txt') as my_newfile:\n",
    "    contents = my_newfile.read()"
   ]
  },
  {
   "cell_type": "code",
   "execution_count": 42,
   "id": "91c8c8b0",
   "metadata": {},
   "outputs": [
    {
     "data": {
      "text/plain": [
       "'My Name is Akash\\nThis is a text file taht I have created\\n'"
      ]
     },
     "execution_count": 42,
     "metadata": {},
     "output_type": "execute_result"
    }
   ],
   "source": [
    "contents"
   ]
  },
  {
   "cell_type": "markdown",
   "id": "f31064ae",
   "metadata": {},
   "source": [
    "Writing and Overwriting"
   ]
  },
  {
   "cell_type": "code",
   "execution_count": 44,
   "id": "ffd3c70c",
   "metadata": {},
   "outputs": [],
   "source": [
    "with open('myfile.txt',mode='r') as myfile:\n",
    "    contents = myfile.read()"
   ]
  },
  {
   "cell_type": "code",
   "execution_count": 45,
   "id": "ea143d8a",
   "metadata": {},
   "outputs": [
    {
     "data": {
      "text/plain": [
       "'My Name is Akash\\nThis is a text file taht I have created\\n'"
      ]
     },
     "execution_count": 45,
     "metadata": {},
     "output_type": "execute_result"
    }
   ],
   "source": [
    "contents #I have selected mode = r in the above code, which mean read only, so myfile.read() works"
   ]
  },
  {
   "cell_type": "code",
   "execution_count": 46,
   "id": "5fce316b",
   "metadata": {},
   "outputs": [
    {
     "ename": "UnsupportedOperation",
     "evalue": "not readable",
     "output_type": "error",
     "traceback": [
      "\u001b[1;31m---------------------------------------------------------------------------\u001b[0m",
      "\u001b[1;31mUnsupportedOperation\u001b[0m                      Traceback (most recent call last)",
      "Input \u001b[1;32mIn [46]\u001b[0m, in \u001b[0;36m<cell line: 1>\u001b[1;34m()\u001b[0m\n\u001b[0;32m      1\u001b[0m \u001b[38;5;28;01mwith\u001b[39;00m \u001b[38;5;28mopen\u001b[39m(\u001b[38;5;124m'\u001b[39m\u001b[38;5;124mmyfile.txt\u001b[39m\u001b[38;5;124m'\u001b[39m,mode\u001b[38;5;241m=\u001b[39m\u001b[38;5;124m'\u001b[39m\u001b[38;5;124mw\u001b[39m\u001b[38;5;124m'\u001b[39m) \u001b[38;5;28;01mas\u001b[39;00m myfile:\n\u001b[1;32m----> 2\u001b[0m     contents \u001b[38;5;241m=\u001b[39m \u001b[43mmyfile\u001b[49m\u001b[38;5;241;43m.\u001b[39;49m\u001b[43mread\u001b[49m\u001b[43m(\u001b[49m\u001b[43m)\u001b[49m\n",
      "\u001b[1;31mUnsupportedOperation\u001b[0m: not readable"
     ]
    }
   ],
   "source": [
    "with open('myfile.txt',mode='w') as myfile:\n",
    "    contents = myfile.read() #This will show an error as mode is w (write-only) and I initiated myfile.read() function to read the file instead"
   ]
  },
  {
   "cell_type": "markdown",
   "id": "df077358",
   "metadata": {},
   "source": [
    "all mode types = reading: mode='r', writing: mode='w',\n",
    "appending: mode='a', reading & writing: mode='r+',\n",
    "and writing & reading: mode ='w+'"
   ]
  },
  {
   "cell_type": "code",
   "execution_count": 67,
   "id": "0cd7c927",
   "metadata": {},
   "outputs": [
    {
     "name": "stdout",
     "output_type": "stream",
     "text": [
      "Overwriting my_file_new.txt\n"
     ]
    }
   ],
   "source": [
    "%%writefile my_file_new.txt\n",
    "Hello, I am going to Test\n",
    "all mode types\n",
    "in this section"
   ]
  },
  {
   "cell_type": "code",
   "execution_count": 51,
   "id": "1e5978f9",
   "metadata": {},
   "outputs": [],
   "source": [
    "brand_new_file = open('my_file_new.txt')"
   ]
  },
  {
   "cell_type": "code",
   "execution_count": 52,
   "id": "b35d28ac",
   "metadata": {},
   "outputs": [
    {
     "data": {
      "text/plain": [
       "'Hello, I am going to Test\\nall mode types\\nin this section\\n'"
      ]
     },
     "execution_count": 52,
     "metadata": {},
     "output_type": "execute_result"
    }
   ],
   "source": [
    "brand_new_file.read()"
   ]
  },
  {
   "cell_type": "code",
   "execution_count": 53,
   "id": "559091fc",
   "metadata": {},
   "outputs": [
    {
     "data": {
      "text/plain": [
       "0"
      ]
     },
     "execution_count": 53,
     "metadata": {},
     "output_type": "execute_result"
    }
   ],
   "source": [
    "brand_new_file.seek(0)"
   ]
  },
  {
   "cell_type": "code",
   "execution_count": 68,
   "id": "c8ecac52",
   "metadata": {
    "scrolled": true
   },
   "outputs": [
    {
     "name": "stdout",
     "output_type": "stream",
     "text": [
      "Hello, I am going to Test\n",
      "all mode types\n",
      "in this section\n",
      "\n"
     ]
    }
   ],
   "source": [
    "with open('my_file_new.txt', mode='r') as f:\n",
    "    print(f.read())"
   ]
  },
  {
   "cell_type": "code",
   "execution_count": 69,
   "id": "23cfabb6",
   "metadata": {},
   "outputs": [],
   "source": [
    "with open('my_file_new.txt',mode ='a') as f:\n",
    "    f.write('test successfull')"
   ]
  },
  {
   "cell_type": "code",
   "execution_count": 70,
   "id": "39f8d327",
   "metadata": {
    "scrolled": false
   },
   "outputs": [
    {
     "name": "stdout",
     "output_type": "stream",
     "text": [
      "Hello, I am going to Test\n",
      "all mode types\n",
      "in this section\n",
      "test successfull\n"
     ]
    }
   ],
   "source": [
    "with open('my_file_new.txt', mode='r') as f:\n",
    "    print(f.read())"
   ]
  },
  {
   "cell_type": "code",
   "execution_count": 71,
   "id": "4d7aaff1",
   "metadata": {},
   "outputs": [],
   "source": [
    "with open('random.txt',mode ='w') as f:\n",
    "    f.write(\"New File Created, as random.txt didn't exist\")"
   ]
  },
  {
   "cell_type": "code",
   "execution_count": 72,
   "id": "d952e91e",
   "metadata": {},
   "outputs": [
    {
     "name": "stdout",
     "output_type": "stream",
     "text": [
      "New File Created, as random.txt didn't exist\n"
     ]
    }
   ],
   "source": [
    "with open('random.txt',mode ='r') as f:\n",
    "    print(f.read())"
   ]
  },
  {
   "cell_type": "markdown",
   "id": "feb46d60",
   "metadata": {},
   "source": [
    "File I/O Test - Example 1"
   ]
  },
  {
   "cell_type": "code",
   "execution_count": 1,
   "id": "54b419d2",
   "metadata": {},
   "outputs": [],
   "source": [
    "with open('test1.txt',mode='w') as f:\n",
    "    f.write('Hello World')"
   ]
  },
  {
   "cell_type": "code",
   "execution_count": 5,
   "id": "bd98c7c7",
   "metadata": {},
   "outputs": [
    {
     "name": "stdout",
     "output_type": "stream",
     "text": [
      "Hello World\n"
     ]
    }
   ],
   "source": [
    "with open('test1.txt', mode='r')as f:\n",
    "    print(f.read())"
   ]
  },
  {
   "cell_type": "code",
   "execution_count": 6,
   "id": "c14ca787",
   "metadata": {},
   "outputs": [],
   "source": [
    "f.close()"
   ]
  },
  {
   "cell_type": "markdown",
   "id": "bbd899f2",
   "metadata": {},
   "source": [
    "File I/O Test - Example 2"
   ]
  },
  {
   "cell_type": "code",
   "execution_count": 7,
   "id": "0365812c",
   "metadata": {},
   "outputs": [
    {
     "name": "stdout",
     "output_type": "stream",
     "text": [
      "Writing test2.txt\n"
     ]
    }
   ],
   "source": [
    "%%writefile test2.txt\n",
    "Hello World"
   ]
  },
  {
   "cell_type": "code",
   "execution_count": 8,
   "id": "2b2e9e23",
   "metadata": {},
   "outputs": [],
   "source": [
    "test2 = open('test2.txt')"
   ]
  },
  {
   "cell_type": "code",
   "execution_count": 9,
   "id": "26f51efc",
   "metadata": {},
   "outputs": [
    {
     "data": {
      "text/plain": [
       "'Hello World\\n'"
      ]
     },
     "execution_count": 9,
     "metadata": {},
     "output_type": "execute_result"
    }
   ],
   "source": [
    "test2.read()"
   ]
  },
  {
   "cell_type": "code",
   "execution_count": 10,
   "id": "88ffb4e2",
   "metadata": {},
   "outputs": [],
   "source": [
    "test2.close()"
   ]
  },
  {
   "cell_type": "markdown",
   "id": "b4620bb4",
   "metadata": {},
   "source": [
    "File I/O Test - Example 3"
   ]
  },
  {
   "cell_type": "code",
   "execution_count": 12,
   "id": "a6491d0e",
   "metadata": {},
   "outputs": [],
   "source": [
    "test3 = open('test3.txt', 'w')"
   ]
  },
  {
   "cell_type": "code",
   "execution_count": 13,
   "id": "e59ef247",
   "metadata": {},
   "outputs": [
    {
     "data": {
      "text/plain": [
       "11"
      ]
     },
     "execution_count": 13,
     "metadata": {},
     "output_type": "execute_result"
    }
   ],
   "source": [
    "test3.write('Hello World')"
   ]
  },
  {
   "cell_type": "code",
   "execution_count": 16,
   "id": "fa576b48",
   "metadata": {},
   "outputs": [],
   "source": [
    "test3.close()"
   ]
  },
  {
   "cell_type": "code",
   "execution_count": null,
   "id": "053ae741",
   "metadata": {},
   "outputs": [],
   "source": []
  }
 ],
 "metadata": {
  "kernelspec": {
   "display_name": "Python 3 (ipykernel)",
   "language": "python",
   "name": "python3"
  },
  "language_info": {
   "codemirror_mode": {
    "name": "ipython",
    "version": 3
   },
   "file_extension": ".py",
   "mimetype": "text/x-python",
   "name": "python",
   "nbconvert_exporter": "python",
   "pygments_lexer": "ipython3",
   "version": "3.9.12"
  }
 },
 "nbformat": 4,
 "nbformat_minor": 5
}
