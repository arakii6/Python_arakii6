{
 "cells": [
  {
   "cell_type": "markdown",
   "id": "1e536b4d",
   "metadata": {},
   "source": [
    "Dictionaries can hold, String, Lists, Integers, Floating Point, and other dictonaries as well"
   ]
  },
  {
   "cell_type": "code",
   "execution_count": 19,
   "id": "ffe9c12f",
   "metadata": {},
   "outputs": [],
   "source": [
    "my_dict = {'a':['x','Y','z'],'b':'2','c':'3'}"
   ]
  },
  {
   "cell_type": "code",
   "execution_count": 20,
   "id": "a28d9b38",
   "metadata": {},
   "outputs": [
    {
     "data": {
      "text/plain": [
       "{'a': ['x', 'Y', 'z'], 'b': '2', 'c': '3'}"
      ]
     },
     "execution_count": 20,
     "metadata": {},
     "output_type": "execute_result"
    }
   ],
   "source": [
    "my_dict"
   ]
  },
  {
   "cell_type": "code",
   "execution_count": 21,
   "id": "3752fda0",
   "metadata": {
    "scrolled": true
   },
   "outputs": [
    {
     "data": {
      "text/plain": [
       "['x', 'Y', 'z']"
      ]
     },
     "execution_count": 21,
     "metadata": {},
     "output_type": "execute_result"
    }
   ],
   "source": [
    "my_dict ['a']"
   ]
  },
  {
   "cell_type": "code",
   "execution_count": 22,
   "id": "91e19473",
   "metadata": {
    "scrolled": true
   },
   "outputs": [
    {
     "data": {
      "text/plain": [
       "'X'"
      ]
     },
     "execution_count": 22,
     "metadata": {},
     "output_type": "execute_result"
    }
   ],
   "source": [
    "my_dict['a'][0].upper()"
   ]
  },
  {
   "cell_type": "code",
   "execution_count": 23,
   "id": "634a0c4c",
   "metadata": {},
   "outputs": [
    {
     "data": {
      "text/plain": [
       "'x'"
      ]
     },
     "execution_count": 23,
     "metadata": {},
     "output_type": "execute_result"
    }
   ],
   "source": [
    "my_dict['a'][0]"
   ]
  },
  {
   "cell_type": "code",
   "execution_count": 25,
   "id": "a465b20b",
   "metadata": {},
   "outputs": [
    {
     "data": {
      "text/plain": [
       "'y'"
      ]
     },
     "execution_count": 25,
     "metadata": {},
     "output_type": "execute_result"
    }
   ],
   "source": [
    "my_dict['a'][1].lower()"
   ]
  },
  {
   "cell_type": "code",
   "execution_count": 26,
   "id": "16c23b6b",
   "metadata": {},
   "outputs": [],
   "source": [
    "new_dict ={'Deo':20.99,'Chips':5.49,'Socks':{'Small':1.99,'Medium':3.99,'Large':5.99},'Milk':['Fresh','About To Expire','Expired']}"
   ]
  },
  {
   "cell_type": "code",
   "execution_count": 28,
   "id": "137f128f",
   "metadata": {},
   "outputs": [
    {
     "data": {
      "text/plain": [
       "20.99"
      ]
     },
     "execution_count": 28,
     "metadata": {},
     "output_type": "execute_result"
    }
   ],
   "source": [
    "new_dict['Deo']"
   ]
  },
  {
   "cell_type": "code",
   "execution_count": 32,
   "id": "09bd3194",
   "metadata": {},
   "outputs": [
    {
     "data": {
      "text/plain": [
       "3.99"
      ]
     },
     "execution_count": 32,
     "metadata": {},
     "output_type": "execute_result"
    }
   ],
   "source": [
    "new_dict['Socks']['Medium']"
   ]
  },
  {
   "cell_type": "code",
   "execution_count": 33,
   "id": "5e4abd9b",
   "metadata": {},
   "outputs": [
    {
     "data": {
      "text/plain": [
       "'Expired'"
      ]
     },
     "execution_count": 33,
     "metadata": {},
     "output_type": "execute_result"
    }
   ],
   "source": [
    "new_dict['Milk'][2]"
   ]
  },
  {
   "cell_type": "code",
   "execution_count": 34,
   "id": "a4f54272",
   "metadata": {},
   "outputs": [
    {
     "data": {
      "text/plain": [
       "{'Small': 1.99, 'Medium': 3.99, 'Large': 5.99}"
      ]
     },
     "execution_count": 34,
     "metadata": {},
     "output_type": "execute_result"
    }
   ],
   "source": [
    "new_dict['Socks']"
   ]
  },
  {
   "cell_type": "code",
   "execution_count": 35,
   "id": "38d016de",
   "metadata": {},
   "outputs": [],
   "source": [
    "new_dict['Kids Shampoo'] = 7.99"
   ]
  },
  {
   "cell_type": "code",
   "execution_count": 36,
   "id": "8bd896b0",
   "metadata": {},
   "outputs": [
    {
     "data": {
      "text/plain": [
       "{'Deo': 20.99,\n",
       " 'Chips': 5.49,\n",
       " 'Socks': {'Small': 1.99, 'Medium': 3.99, 'Large': 5.99},\n",
       " 'Milk': ['Fresh', 'About To Expire', 'Expired'],\n",
       " 'Kids Shampoo': 7.99}"
      ]
     },
     "execution_count": 36,
     "metadata": {},
     "output_type": "execute_result"
    }
   ],
   "source": [
    "new_dict"
   ]
  },
  {
   "cell_type": "code",
   "execution_count": 37,
   "id": "4253400b",
   "metadata": {},
   "outputs": [],
   "source": [
    "new_dict['Socks']['Medium'] = 3.49"
   ]
  },
  {
   "cell_type": "code",
   "execution_count": 38,
   "id": "8448c134",
   "metadata": {},
   "outputs": [
    {
     "data": {
      "text/plain": [
       "{'Deo': 20.99,\n",
       " 'Chips': 5.49,\n",
       " 'Socks': {'Small': 1.99, 'Medium': 3.49, 'Large': 5.99},\n",
       " 'Milk': ['Fresh', 'About To Expire', 'Expired'],\n",
       " 'Kids Shampoo': 7.99}"
      ]
     },
     "execution_count": 38,
     "metadata": {},
     "output_type": "execute_result"
    }
   ],
   "source": [
    "new_dict"
   ]
  },
  {
   "cell_type": "code",
   "execution_count": 39,
   "id": "d74493bd",
   "metadata": {},
   "outputs": [
    {
     "data": {
      "text/plain": [
       "dict_keys(['Deo', 'Chips', 'Socks', 'Milk', 'Kids Shampoo'])"
      ]
     },
     "execution_count": 39,
     "metadata": {},
     "output_type": "execute_result"
    }
   ],
   "source": [
    "new_dict.keys()"
   ]
  },
  {
   "cell_type": "code",
   "execution_count": 41,
   "id": "ef948f8a",
   "metadata": {},
   "outputs": [
    {
     "data": {
      "text/plain": [
       "dict_values([20.99, 5.49, {'Small': 1.99, 'Medium': 3.49, 'Large': 5.99}, ['Fresh', 'About To Expire', 'Expired'], 7.99])"
      ]
     },
     "execution_count": 41,
     "metadata": {},
     "output_type": "execute_result"
    }
   ],
   "source": [
    "new_dict.values()"
   ]
  },
  {
   "cell_type": "code",
   "execution_count": 42,
   "id": "2da1ec95",
   "metadata": {},
   "outputs": [
    {
     "data": {
      "text/plain": [
       "dict_items([('Deo', 20.99), ('Chips', 5.49), ('Socks', {'Small': 1.99, 'Medium': 3.49, 'Large': 5.99}), ('Milk', ['Fresh', 'About To Expire', 'Expired']), ('Kids Shampoo', 7.99)])"
      ]
     },
     "execution_count": 42,
     "metadata": {},
     "output_type": "execute_result"
    }
   ],
   "source": [
    "new_dict.items()"
   ]
  },
  {
   "cell_type": "code",
   "execution_count": 44,
   "id": "8b7f4990",
   "metadata": {},
   "outputs": [],
   "source": [
    " new_dict['Deo'] = \"Empty\""
   ]
  },
  {
   "cell_type": "code",
   "execution_count": 45,
   "id": "86e9954f",
   "metadata": {},
   "outputs": [
    {
     "data": {
      "text/plain": [
       "{'Deo': 'Empty',\n",
       " 'Chips': 5.49,\n",
       " 'Socks': {'Small': 1.99, 'Medium': 3.49, 'Large': 5.99},\n",
       " 'Milk': ['Fresh', 'About To Expire', 'Expired'],\n",
       " 'Kids Shampoo': 7.99}"
      ]
     },
     "execution_count": 45,
     "metadata": {},
     "output_type": "execute_result"
    }
   ],
   "source": [
    "new_dict"
   ]
  },
  {
   "cell_type": "markdown",
   "id": "e3679f35",
   "metadata": {},
   "source": [
    "\n",
    "\n",
    "\n",
    "\n",
    "\n",
    "Assesment Test"
   ]
  },
  {
   "cell_type": "code",
   "execution_count": 1,
   "id": "4f1042ea",
   "metadata": {},
   "outputs": [],
   "source": [
    "Assessment_test = {'Name':'Akash','Age':29,'DOB':{'Day':23,'Month':3,'Year':1993}}"
   ]
  },
  {
   "cell_type": "code",
   "execution_count": 2,
   "id": "ad2db9e5",
   "metadata": {},
   "outputs": [
    {
     "data": {
      "text/plain": [
       "{'Name': 'Akash', 'Age': 29, 'DOB': {'Day': 23, 'Month': 3, 'Year': 1993}}"
      ]
     },
     "execution_count": 2,
     "metadata": {},
     "output_type": "execute_result"
    }
   ],
   "source": [
    "Assessment_test"
   ]
  },
  {
   "cell_type": "code",
   "execution_count": 4,
   "id": "0a5cbf62",
   "metadata": {},
   "outputs": [
    {
     "data": {
      "text/plain": [
       "'Akash'"
      ]
     },
     "execution_count": 4,
     "metadata": {},
     "output_type": "execute_result"
    }
   ],
   "source": [
    "Assessment_test['Name']"
   ]
  },
  {
   "cell_type": "code",
   "execution_count": 5,
   "id": "77e9810e",
   "metadata": {},
   "outputs": [
    {
     "data": {
      "text/plain": [
       "3"
      ]
     },
     "execution_count": 5,
     "metadata": {},
     "output_type": "execute_result"
    }
   ],
   "source": [
    "Assessment_test['DOB']['Month']"
   ]
  },
  {
   "cell_type": "code",
   "execution_count": null,
   "id": "88d2cfdc",
   "metadata": {},
   "outputs": [],
   "source": []
  }
 ],
 "metadata": {
  "kernelspec": {
   "display_name": "Python 3 (ipykernel)",
   "language": "python",
   "name": "python3"
  },
  "language_info": {
   "codemirror_mode": {
    "name": "ipython",
    "version": 3
   },
   "file_extension": ".py",
   "mimetype": "text/x-python",
   "name": "python",
   "nbconvert_exporter": "python",
   "pygments_lexer": "ipython3",
   "version": "3.9.12"
  }
 },
 "nbformat": 4,
 "nbformat_minor": 5
}
