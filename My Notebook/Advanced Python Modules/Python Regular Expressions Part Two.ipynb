{
 "cells": [
  {
   "cell_type": "markdown",
   "id": "ce90a4d8",
   "metadata": {},
   "source": [
    "### Regular Expressions Patterns\n",
    "\n",
    "#### Character Identifiers"
   ]
  },
  {
   "cell_type": "markdown",
   "id": "d013a471",
   "metadata": {},
   "source": [
    "<table ><tr><th>Character</th><th>Description</th><th>Example Pattern Code</th><th >Exammple Match</th></tr>\n",
    "\n",
    "<tr ><td><span >\\d</span></td><td>A digit</td><td>file_\\d\\d</td><td>file_25</td></tr>\n",
    "\n",
    "<tr ><td><span >\\w</span></td><td>Alphanumeric</td><td>\\w-\\w\\w\\w</td><td>A-b_1</td></tr>\n",
    "\n",
    "\n",
    "\n",
    "<tr ><td><span >\\s</span></td><td>White space</td><td>a\\sb\\sc</td><td>a b c</td></tr>\n",
    "\n",
    "\n",
    "\n",
    "<tr ><td><span >\\D</span></td><td>A non digit</td><td>\\D\\D\\D</td><td>ABC</td></tr>\n",
    "\n",
    "<tr ><td><span >\\W</span></td><td>Non-alphanumeric</td><td>\\W\\W\\W\\W\\W</td><td>*-+=)</td></tr>\n",
    "\n",
    "<tr ><td><span >\\S</span></td><td>Non-whitespace</td><td>\\S\\S\\S\\S</td><td>Yoyo</td></tr></table>"
   ]
  },
  {
   "cell_type": "markdown",
   "id": "707fc556",
   "metadata": {},
   "source": [
    "#### Quantifiers"
   ]
  },
  {
   "cell_type": "markdown",
   "id": "f3daae26",
   "metadata": {},
   "source": [
    "<table ><tr><th>Character</th><th>Description</th><th>Example Pattern Code</th><th >Exammple Match</th></tr>\n",
    "\n",
    "<tr ><td><span >+</span></td><td>Occurs one or more times</td><td>\tVersion \\w-\\w+</td><td>Version A-b1_1</td></tr>\n",
    "\n",
    "<tr ><td><span >{3}</span></td><td>Occurs exactly 3 times</td><td>\\D{3}</td><td>abc</td></tr>\n",
    "\n",
    "\n",
    "\n",
    "<tr ><td><span >{2,4}</span></td><td>Occurs 2 to 4 times</td><td>\\d{2,4}</td><td>123</td></tr>\n",
    "\n",
    "\n",
    "\n",
    "<tr ><td><span >{3,}</span></td><td>Occurs 3 or more</td><td>\\w{3,}</td><td>anycharacters</td></tr>\n",
    "\n",
    "<tr ><td><span >\\*</span></td><td>Occurs zero or more times</td><td>A\\*B\\*C*</td><td>AAACC</td></tr>\n",
    "\n",
    "<tr ><td><span >?</span></td><td>Once or none</td><td>plurals?</td><td>plural</td></tr></table>"
   ]
  },
  {
   "cell_type": "code",
   "execution_count": 5,
   "id": "e28ef4fc",
   "metadata": {},
   "outputs": [],
   "source": [
    "import re"
   ]
  },
  {
   "cell_type": "code",
   "execution_count": 6,
   "id": "32973f24",
   "metadata": {},
   "outputs": [],
   "source": [
    "text = \"My phone number is +91 8317-392297 Call soon!\""
   ]
  },
  {
   "cell_type": "code",
   "execution_count": 7,
   "id": "979d2439",
   "metadata": {},
   "outputs": [],
   "source": [
    "phone = re.search(r'\\W\\d{2}\\s\\d{4}-\\d{6}',text)"
   ]
  },
  {
   "cell_type": "code",
   "execution_count": 9,
   "id": "63785de6",
   "metadata": {},
   "outputs": [
    {
     "data": {
      "text/plain": [
       "<re.Match object; span=(19, 34), match='+91 8317-392297'>"
      ]
     },
     "execution_count": 9,
     "metadata": {},
     "output_type": "execute_result"
    }
   ],
   "source": [
    "phone"
   ]
  },
  {
   "cell_type": "code",
   "execution_count": 43,
   "id": "d220c25f",
   "metadata": {},
   "outputs": [],
   "source": [
    "phone_pattern = re.compile(r'(\\W\\d{2}\\s)(\\d{4})-(\\d{6})')"
   ]
  },
  {
   "cell_type": "code",
   "execution_count": 44,
   "id": "123de5d2",
   "metadata": {},
   "outputs": [],
   "source": [
    "results = re.search(phone_pattern,text)"
   ]
  },
  {
   "cell_type": "code",
   "execution_count": 46,
   "id": "8be5a7b6",
   "metadata": {},
   "outputs": [
    {
     "data": {
      "text/plain": [
       "'+91 8317-392297'"
      ]
     },
     "execution_count": 46,
     "metadata": {},
     "output_type": "execute_result"
    }
   ],
   "source": [
    "results.group()"
   ]
  },
  {
   "cell_type": "code",
   "execution_count": 47,
   "id": "5709cde8",
   "metadata": {},
   "outputs": [
    {
     "data": {
      "text/plain": [
       "'+91 '"
      ]
     },
     "execution_count": 47,
     "metadata": {},
     "output_type": "execute_result"
    }
   ],
   "source": [
    "results.group(1)"
   ]
  },
  {
   "cell_type": "code",
   "execution_count": 48,
   "id": "7e026956",
   "metadata": {},
   "outputs": [
    {
     "data": {
      "text/plain": [
       "'8317'"
      ]
     },
     "execution_count": 48,
     "metadata": {},
     "output_type": "execute_result"
    }
   ],
   "source": [
    "results.group(2)"
   ]
  },
  {
   "cell_type": "code",
   "execution_count": 49,
   "id": "9a8f7c0d",
   "metadata": {},
   "outputs": [
    {
     "data": {
      "text/plain": [
       "'392297'"
      ]
     },
     "execution_count": 49,
     "metadata": {},
     "output_type": "execute_result"
    }
   ],
   "source": [
    "results.group(3)"
   ]
  },
  {
   "cell_type": "code",
   "execution_count": null,
   "id": "09ea632b",
   "metadata": {},
   "outputs": [],
   "source": []
  }
 ],
 "metadata": {
  "kernelspec": {
   "display_name": "Python 3 (ipykernel)",
   "language": "python",
   "name": "python3"
  },
  "language_info": {
   "codemirror_mode": {
    "name": "ipython",
    "version": 3
   },
   "file_extension": ".py",
   "mimetype": "text/x-python",
   "name": "python",
   "nbconvert_exporter": "python",
   "pygments_lexer": "ipython3",
   "version": "3.9.13"
  }
 },
 "nbformat": 4,
 "nbformat_minor": 5
}
