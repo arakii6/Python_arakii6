{
 "cells": [
  {
   "cell_type": "code",
   "execution_count": null,
   "id": "fe493db8",
   "metadata": {},
   "outputs": [],
   "source": [
    "# def func_1(n):\n",
    "    return [str(num) for num in range(n)]"
   ]
  },
  {
   "cell_type": "code",
   "execution_count": 20,
   "id": "b46b1e1f",
   "metadata": {},
   "outputs": [
    {
     "data": {
      "text/plain": [
       "['0', '1', '2', '3', '4', '5', '6', '7', '8', '9']"
      ]
     },
     "execution_count": 20,
     "metadata": {},
     "output_type": "execute_result"
    }
   ],
   "source": [
    "func_1(10)"
   ]
  },
  {
   "cell_type": "code",
   "execution_count": 21,
   "id": "9230db06",
   "metadata": {},
   "outputs": [],
   "source": [
    "def func_2(n):\n",
    "    return list(map(str,range(n)))"
   ]
  },
  {
   "cell_type": "code",
   "execution_count": 22,
   "id": "4a52a2cd",
   "metadata": {},
   "outputs": [
    {
     "data": {
      "text/plain": [
       "['0', '1', '2', '3', '4', '5', '6', '7', '8', '9']"
      ]
     },
     "execution_count": 22,
     "metadata": {},
     "output_type": "execute_result"
    }
   ],
   "source": [
    "func_2(10)"
   ]
  },
  {
   "cell_type": "markdown",
   "id": "c2c059d6",
   "metadata": {},
   "source": [
    "#### 1st way"
   ]
  },
  {
   "cell_type": "code",
   "execution_count": 23,
   "id": "cfbea7ed",
   "metadata": {},
   "outputs": [],
   "source": [
    "import time"
   ]
  },
  {
   "cell_type": "code",
   "execution_count": 26,
   "id": "39a55ac2",
   "metadata": {},
   "outputs": [
    {
     "name": "stdout",
     "output_type": "stream",
     "text": [
      "0.18422222137451172\n"
     ]
    }
   ],
   "source": [
    "# CURRENT TIME BEFORE\n",
    "start_time = time.time()\n",
    "# RUN CODE\n",
    "result = func_1(1000000)\n",
    "# CURRENT TIME AFTER RUNNING CODE\n",
    "end_time = time.time()\n",
    "# ELASPED TIME\n",
    "elasped_time = end_time - start_time\n",
    "\n",
    "print(elasped_time)"
   ]
  },
  {
   "cell_type": "code",
   "execution_count": 27,
   "id": "9759b960",
   "metadata": {},
   "outputs": [
    {
     "name": "stdout",
     "output_type": "stream",
     "text": [
      "0.1610269546508789\n"
     ]
    }
   ],
   "source": [
    "# CURRENT TIME BEFORE\n",
    "start_time = time.time()\n",
    "# RUN CODE\n",
    "result = func_2(1000000)\n",
    "# CURRENT TIME AFTER RUNNING CODE\n",
    "end_time = time.time()\n",
    "# ELASPED TIME\n",
    "elasped_time = end_time - start_time\n",
    "\n",
    "print(elasped_time)"
   ]
  },
  {
   "cell_type": "markdown",
   "id": "2d5c31e8",
   "metadata": {},
   "source": [
    "#### 2nd way "
   ]
  },
  {
   "cell_type": "code",
   "execution_count": 28,
   "id": "5d07d8ac",
   "metadata": {},
   "outputs": [],
   "source": [
    "import timeit"
   ]
  },
  {
   "cell_type": "code",
   "execution_count": 38,
   "id": "07b902a8",
   "metadata": {},
   "outputs": [],
   "source": [
    "stmt = '''\n",
    "func_1(100)\n",
    "'''"
   ]
  },
  {
   "cell_type": "code",
   "execution_count": 39,
   "id": "ce606245",
   "metadata": {},
   "outputs": [],
   "source": [
    "setup = '''\n",
    "def func_1(n):\n",
    "    return [str(num) for num in range(n)]\n",
    "'''"
   ]
  },
  {
   "cell_type": "code",
   "execution_count": 44,
   "id": "e1cb72fb",
   "metadata": {},
   "outputs": [
    {
     "data": {
      "text/plain": [
       "1.4717947999999978"
      ]
     },
     "execution_count": 44,
     "metadata": {},
     "output_type": "execute_result"
    }
   ],
   "source": [
    "timeit.timeit(stmt,setup,number=100000)"
   ]
  },
  {
   "cell_type": "code",
   "execution_count": 41,
   "id": "29434e32",
   "metadata": {},
   "outputs": [],
   "source": [
    "stmt2 = '''\n",
    "func_2(100)\n",
    "'''"
   ]
  },
  {
   "cell_type": "code",
   "execution_count": 42,
   "id": "5707cb5b",
   "metadata": {},
   "outputs": [],
   "source": [
    "setup2 = '''\n",
    "def func_2(n):\n",
    "    return list(map(str,range(n)))\n",
    "'''"
   ]
  },
  {
   "cell_type": "code",
   "execution_count": 45,
   "id": "b32b1567",
   "metadata": {},
   "outputs": [
    {
     "data": {
      "text/plain": [
       "1.1956923999998708"
      ]
     },
     "execution_count": 45,
     "metadata": {},
     "output_type": "execute_result"
    }
   ],
   "source": [
    "timeit.timeit(stmt2,setup2,number=100000)"
   ]
  },
  {
   "cell_type": "markdown",
   "id": "621d99fa",
   "metadata": {},
   "source": [
    "#### 3rd way"
   ]
  },
  {
   "cell_type": "code",
   "execution_count": 46,
   "id": "d1c27513",
   "metadata": {},
   "outputs": [
    {
     "name": "stdout",
     "output_type": "stream",
     "text": [
      "14.6 µs ± 65.7 ns per loop (mean ± std. dev. of 7 runs, 100000 loops each)\n"
     ]
    }
   ],
   "source": [
    "%%timeit\n",
    "func_1(100)"
   ]
  },
  {
   "cell_type": "code",
   "execution_count": 47,
   "id": "3d4392ce",
   "metadata": {},
   "outputs": [
    {
     "name": "stdout",
     "output_type": "stream",
     "text": [
      "11.9 µs ± 85.6 ns per loop (mean ± std. dev. of 7 runs, 100000 loops each)\n"
     ]
    }
   ],
   "source": [
    "%%timeit\n",
    "func_2(100)"
   ]
  },
  {
   "cell_type": "code",
   "execution_count": null,
   "id": "2abb2631",
   "metadata": {},
   "outputs": [],
   "source": []
  }
 ],
 "metadata": {
  "kernelspec": {
   "display_name": "Python 3 (ipykernel)",
   "language": "python",
   "name": "python3"
  },
  "language_info": {
   "codemirror_mode": {
    "name": "ipython",
    "version": 3
   },
   "file_extension": ".py",
   "mimetype": "text/x-python",
   "name": "python",
   "nbconvert_exporter": "python",
   "pygments_lexer": "ipython3",
   "version": "3.9.13"
  }
 },
 "nbformat": 4,
 "nbformat_minor": 5
}
