{
 "cells": [
  {
   "cell_type": "code",
   "execution_count": 1,
   "id": "fda8eabc",
   "metadata": {},
   "outputs": [],
   "source": [
    "f = open('fileone.txt','w+')\n",
    "f.write('ONE FILE')\n",
    "f.close()"
   ]
  },
  {
   "cell_type": "code",
   "execution_count": 2,
   "id": "11f2898d",
   "metadata": {},
   "outputs": [],
   "source": [
    "f = open('filetwo.txt','w+')\n",
    "f.write('TWO FILE')\n",
    "f.close()"
   ]
  },
  {
   "cell_type": "markdown",
   "id": "550ae5d2",
   "metadata": {},
   "source": [
    "### Using Zipfile"
   ]
  },
  {
   "cell_type": "code",
   "execution_count": 3,
   "id": "e16d0722",
   "metadata": {},
   "outputs": [],
   "source": [
    "import zipfile"
   ]
  },
  {
   "cell_type": "code",
   "execution_count": 4,
   "id": "8382cef9",
   "metadata": {},
   "outputs": [],
   "source": [
    "comp_file = zipfile.ZipFile('comp_file.zip','w')"
   ]
  },
  {
   "cell_type": "code",
   "execution_count": 5,
   "id": "5852d59d",
   "metadata": {},
   "outputs": [],
   "source": [
    "comp_file.write('fileone.txt',compress_type = zipfile.ZIP_DEFLATED)"
   ]
  },
  {
   "cell_type": "code",
   "execution_count": 7,
   "id": "dbf4b24e",
   "metadata": {},
   "outputs": [],
   "source": [
    "comp_file.write('filetwo.txt',compress_type = zipfile.ZIP_DEFLATED)"
   ]
  },
  {
   "cell_type": "code",
   "execution_count": 8,
   "id": "5b639e59",
   "metadata": {},
   "outputs": [],
   "source": [
    "comp_file.close()"
   ]
  },
  {
   "cell_type": "code",
   "execution_count": 9,
   "id": "cf89b3f7",
   "metadata": {},
   "outputs": [],
   "source": [
    "zip_obj = zipfile.ZipFile('comp_file.zip','r')"
   ]
  },
  {
   "cell_type": "code",
   "execution_count": 10,
   "id": "72daeec2",
   "metadata": {},
   "outputs": [],
   "source": [
    "zip_obj.extractall('extracted_content')"
   ]
  },
  {
   "cell_type": "code",
   "execution_count": 11,
   "id": "d903b196",
   "metadata": {},
   "outputs": [
    {
     "data": {
      "text/plain": [
       "'C:\\\\Users\\\\araki\\\\Python_arakii6\\\\My Notebook\\\\Advanced Python Modules'"
      ]
     },
     "execution_count": 11,
     "metadata": {},
     "output_type": "execute_result"
    }
   ],
   "source": [
    "pwd"
   ]
  },
  {
   "cell_type": "markdown",
   "id": "7ec7f1da",
   "metadata": {},
   "source": [
    "### Using Shell Utility"
   ]
  },
  {
   "cell_type": "code",
   "execution_count": 12,
   "id": "d92217ac",
   "metadata": {},
   "outputs": [],
   "source": [
    "import shutil"
   ]
  },
  {
   "cell_type": "code",
   "execution_count": 13,
   "id": "204b9726",
   "metadata": {},
   "outputs": [],
   "source": [
    "dir_to_zip = 'C:\\\\Users\\\\araki\\\\Python_arakii6\\\\My Notebook\\\\Advanced Python Modules\\\\extracted_content'"
   ]
  },
  {
   "cell_type": "code",
   "execution_count": 14,
   "id": "2222ca6e",
   "metadata": {},
   "outputs": [],
   "source": [
    "output_filename = 'example'"
   ]
  },
  {
   "cell_type": "code",
   "execution_count": 15,
   "id": "c0cccacf",
   "metadata": {},
   "outputs": [
    {
     "data": {
      "text/plain": [
       "'C:\\\\Users\\\\araki\\\\Python_arakii6\\\\My Notebook\\\\Advanced Python Modules\\\\example.zip'"
      ]
     },
     "execution_count": 15,
     "metadata": {},
     "output_type": "execute_result"
    }
   ],
   "source": [
    "shutil.make_archive(output_filename,'zip',dir_to_zip)"
   ]
  },
  {
   "cell_type": "code",
   "execution_count": 17,
   "id": "a3048793",
   "metadata": {},
   "outputs": [],
   "source": [
    "shutil.unpack_archive('example.zip','final_unzip','zip')"
   ]
  },
  {
   "cell_type": "code",
   "execution_count": null,
   "id": "7fa52ed8",
   "metadata": {},
   "outputs": [],
   "source": []
  }
 ],
 "metadata": {
  "kernelspec": {
   "display_name": "Python 3 (ipykernel)",
   "language": "python",
   "name": "python3"
  },
  "language_info": {
   "codemirror_mode": {
    "name": "ipython",
    "version": 3
   },
   "file_extension": ".py",
   "mimetype": "text/x-python",
   "name": "python",
   "nbconvert_exporter": "python",
   "pygments_lexer": "ipython3",
   "version": "3.9.13"
  }
 },
 "nbformat": 4,
 "nbformat_minor": 5
}
