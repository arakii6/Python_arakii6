{
 "cells": [
  {
   "cell_type": "code",
   "execution_count": 1,
   "id": "9f27233f",
   "metadata": {},
   "outputs": [
    {
     "data": {
      "text/plain": [
       "'C:\\\\Users\\\\araki\\\\Python_arakii6\\\\My Notebook\\\\Advanced Python Modules'"
      ]
     },
     "execution_count": 1,
     "metadata": {},
     "output_type": "execute_result"
    }
   ],
   "source": [
    "pwd"
   ]
  },
  {
   "cell_type": "code",
   "execution_count": 2,
   "id": "7dbd4064",
   "metadata": {},
   "outputs": [],
   "source": [
    "f = open('practice.txt','w+')\n",
    "f.write('This is a test string')\n",
    "f.close()"
   ]
  },
  {
   "cell_type": "code",
   "execution_count": 3,
   "id": "ed72807d",
   "metadata": {},
   "outputs": [],
   "source": [
    "import os"
   ]
  },
  {
   "cell_type": "code",
   "execution_count": 4,
   "id": "a700dd51",
   "metadata": {},
   "outputs": [
    {
     "data": {
      "text/plain": [
       "'C:\\\\Users\\\\araki\\\\Python_arakii6\\\\My Notebook\\\\Advanced Python Modules'"
      ]
     },
     "execution_count": 4,
     "metadata": {},
     "output_type": "execute_result"
    }
   ],
   "source": [
    "os.getcwd()"
   ]
  },
  {
   "cell_type": "code",
   "execution_count": 5,
   "id": "9a8b74f9",
   "metadata": {},
   "outputs": [
    {
     "data": {
      "text/plain": [
       "['.ipynb_checkpoints',\n",
       " 'Opening and Reading Files and Folders (Python OS Module).ipynb',\n",
       " 'practice.txt',\n",
       " 'Python Collections Module.ipynb']"
      ]
     },
     "execution_count": 5,
     "metadata": {},
     "output_type": "execute_result"
    }
   ],
   "source": [
    "os.listdir()"
   ]
  },
  {
   "cell_type": "code",
   "execution_count": 6,
   "id": "7b72e456",
   "metadata": {},
   "outputs": [
    {
     "data": {
      "text/plain": [
       "['All Users', 'araki', 'Default', 'Default User', 'desktop.ini', 'Public']"
      ]
     },
     "execution_count": 6,
     "metadata": {},
     "output_type": "execute_result"
    }
   ],
   "source": [
    "os.listdir('C:\\\\Users')"
   ]
  },
  {
   "cell_type": "code",
   "execution_count": 7,
   "id": "548136c9",
   "metadata": {},
   "outputs": [],
   "source": [
    "import shutil"
   ]
  },
  {
   "cell_type": "code",
   "execution_count": 8,
   "id": "0e0915f9",
   "metadata": {},
   "outputs": [
    {
     "data": {
      "text/plain": [
       "'C:\\\\Users\\\\araki\\\\Python_arakii6\\\\My Notebook\\\\practice.txt'"
      ]
     },
     "execution_count": 8,
     "metadata": {},
     "output_type": "execute_result"
    }
   ],
   "source": [
    "shutil.move('practice.txt','C:\\\\Users\\\\araki\\\\Python_arakii6\\\\My Notebook')"
   ]
  },
  {
   "cell_type": "code",
   "execution_count": 9,
   "id": "825b6fd8",
   "metadata": {},
   "outputs": [
    {
     "data": {
      "text/plain": [
       "['.ipynb_checkpoints',\n",
       " 'Advanced Python Modules',\n",
       " 'Errors and Exceptions Handling',\n",
       " 'Methods and Functions',\n",
       " 'Milestone Projects',\n",
       " 'Modules and Packages',\n",
       " 'Object Oriented Programming',\n",
       " 'practice.txt',\n",
       " 'Python Comparison Operators',\n",
       " 'Python Decorators',\n",
       " 'Python Object & Data Structure Basics',\n",
       " 'Python Statements']"
      ]
     },
     "execution_count": 9,
     "metadata": {},
     "output_type": "execute_result"
    }
   ],
   "source": [
    "os.listdir('C:\\\\Users\\\\araki\\\\Python_arakii6\\\\My Notebook')"
   ]
  },
  {
   "cell_type": "code",
   "execution_count": 10,
   "id": "4260bda2",
   "metadata": {},
   "outputs": [],
   "source": [
    "import send2trash"
   ]
  },
  {
   "cell_type": "code",
   "execution_count": 11,
   "id": "130abe46",
   "metadata": {},
   "outputs": [
    {
     "data": {
      "text/plain": [
       "['.ipynb_checkpoints',\n",
       " 'Opening and Reading Files and Folders (Python OS Module).ipynb',\n",
       " 'Python Collections Module.ipynb']"
      ]
     },
     "execution_count": 11,
     "metadata": {},
     "output_type": "execute_result"
    }
   ],
   "source": [
    "os.listdir()"
   ]
  },
  {
   "cell_type": "code",
   "execution_count": 12,
   "id": "bb4f776a",
   "metadata": {},
   "outputs": [
    {
     "data": {
      "text/plain": [
       "'C:\\\\Users\\\\araki\\\\Python_arakii6\\\\My Notebook\\\\Advanced Python Modules\\\\practice.txt'"
      ]
     },
     "execution_count": 12,
     "metadata": {},
     "output_type": "execute_result"
    }
   ],
   "source": [
    "shutil.move('C:\\\\Users\\\\araki\\\\Python_arakii6\\\\My Notebook\\\\practice.txt',os.getcwd())"
   ]
  },
  {
   "cell_type": "code",
   "execution_count": 13,
   "id": "3addee51",
   "metadata": {},
   "outputs": [
    {
     "data": {
      "text/plain": [
       "['.ipynb_checkpoints',\n",
       " 'Opening and Reading Files and Folders (Python OS Module).ipynb',\n",
       " 'practice.txt',\n",
       " 'Python Collections Module.ipynb']"
      ]
     },
     "execution_count": 13,
     "metadata": {},
     "output_type": "execute_result"
    }
   ],
   "source": [
    "os.listdir()"
   ]
  },
  {
   "cell_type": "code",
   "execution_count": 14,
   "id": "621cd835",
   "metadata": {},
   "outputs": [],
   "source": [
    "send2trash.send2trash('practice.txt')"
   ]
  },
  {
   "cell_type": "code",
   "execution_count": 15,
   "id": "5a539a1f",
   "metadata": {},
   "outputs": [
    {
     "data": {
      "text/plain": [
       "['.ipynb_checkpoints',\n",
       " 'Opening and Reading Files and Folders (Python OS Module).ipynb',\n",
       " 'Python Collections Module.ipynb']"
      ]
     },
     "execution_count": 15,
     "metadata": {},
     "output_type": "execute_result"
    }
   ],
   "source": [
    "os.listdir()"
   ]
  },
  {
   "cell_type": "markdown",
   "id": "d2192f3b",
   "metadata": {},
   "source": [
    "### Most Important"
   ]
  },
  {
   "cell_type": "code",
   "execution_count": 17,
   "id": "73e53449",
   "metadata": {},
   "outputs": [],
   "source": [
    "file_path = 'C:\\\\Users\\\\araki\\\\Python_arakii6\\\\Udemy Course Notebook\\\\12-Advanced Python Modules\\\\Example_Top_Level'"
   ]
  },
  {
   "cell_type": "code",
   "execution_count": 20,
   "id": "b44a79b0",
   "metadata": {},
   "outputs": [
    {
     "name": "stdout",
     "output_type": "stream",
     "text": [
      "Currently looking atC:\\Users\\araki\\Python_arakii6\\Udemy Course Notebook\\12-Advanced Python Modules\\Example_Top_Level\n",
      "\n",
      "\n",
      "The sub folders are: \n",
      "\tSubfolder: Mid-Example-One\n",
      "\n",
      "\n",
      "The Files are: \n",
      "\tFile: Mid-Example.txt\n",
      "\n",
      "\n",
      "Currently looking atC:\\Users\\araki\\Python_arakii6\\Udemy Course Notebook\\12-Advanced Python Modules\\Example_Top_Level\\Mid-Example-One\n",
      "\n",
      "\n",
      "The sub folders are: \n",
      "\tSubfolder: Bottom-Level-One\n",
      "\tSubfolder: Bottom-Level-Two\n",
      "\n",
      "\n",
      "The Files are: \n",
      "\tFile: Mid-Level-Doc.txt\n",
      "\n",
      "\n",
      "Currently looking atC:\\Users\\araki\\Python_arakii6\\Udemy Course Notebook\\12-Advanced Python Modules\\Example_Top_Level\\Mid-Example-One\\Bottom-Level-One\n",
      "\n",
      "\n",
      "The sub folders are: \n",
      "\n",
      "\n",
      "The Files are: \n",
      "\tFile: One_Text.txt\n",
      "\n",
      "\n",
      "Currently looking atC:\\Users\\araki\\Python_arakii6\\Udemy Course Notebook\\12-Advanced Python Modules\\Example_Top_Level\\Mid-Example-One\\Bottom-Level-Two\n",
      "\n",
      "\n",
      "The sub folders are: \n",
      "\n",
      "\n",
      "The Files are: \n",
      "\tFile: Bottom-Text-Two.txt\n",
      "\n",
      "\n"
     ]
    }
   ],
   "source": [
    "for folder, sub_folders, files in os.walk(file_path):\n",
    "    \n",
    "    print(f\"Currently looking at{folder}\")\n",
    "    print('\\n')\n",
    "    \n",
    "    print('The sub folders are: ')\n",
    "    for sub_fold in sub_folders:\n",
    "        print(f\"\\tSubfolder: {sub_fold}\")\n",
    "    print('\\n')\n",
    "    \n",
    "    print(\"The Files are: \")\n",
    "    for f in files:\n",
    "        print(f'\\tFile: {f}')\n",
    "    print('\\n')"
   ]
  },
  {
   "cell_type": "code",
   "execution_count": null,
   "id": "d73c8492",
   "metadata": {},
   "outputs": [],
   "source": []
  }
 ],
 "metadata": {
  "kernelspec": {
   "display_name": "Python 3 (ipykernel)",
   "language": "python",
   "name": "python3"
  },
  "language_info": {
   "codemirror_mode": {
    "name": "ipython",
    "version": 3
   },
   "file_extension": ".py",
   "mimetype": "text/x-python",
   "name": "python",
   "nbconvert_exporter": "python",
   "pygments_lexer": "ipython3",
   "version": "3.9.13"
  }
 },
 "nbformat": 4,
 "nbformat_minor": 5
}
