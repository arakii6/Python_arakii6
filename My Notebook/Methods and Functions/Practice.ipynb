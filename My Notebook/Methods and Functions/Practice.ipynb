{
 "cells": [
  {
   "cell_type": "code",
   "execution_count": null,
   "id": "addbd3b0",
   "metadata": {},
   "outputs": [],
   "source": [
    "def myfunc(a,b):\n",
    "    if a > b == True:\n",
    "        return('Hello')\n",
    "    else:\n",
    "        return('Goodbye')"
   ]
  },
  {
   "cell_type": "code",
   "execution_count": null,
   "id": "e9601ce1",
   "metadata": {},
   "outputs": [],
   "source": [
    "myfunc(2,1)"
   ]
  },
  {
   "cell_type": "code",
   "execution_count": null,
   "id": "8bd0cb4c",
   "metadata": {},
   "outputs": [],
   "source": [
    "def nextq(x,y,z):\n",
    "    if z == True:\n",
    "        return x\n",
    "    elif z == False:\n",
    "        return y"
   ]
  },
  {
   "cell_type": "code",
   "execution_count": null,
   "id": "f24b16c1",
   "metadata": {},
   "outputs": [],
   "source": [
    "nextq('x','y',True)"
   ]
  },
  {
   "cell_type": "code",
   "execution_count": null,
   "id": "2f6cd7f8",
   "metadata": {},
   "outputs": [],
   "source": [
    "def nextq_1(a,b):\n",
    "    return (a + b)"
   ]
  },
  {
   "cell_type": "code",
   "execution_count": null,
   "id": "0bb5064b",
   "metadata": {},
   "outputs": [],
   "source": [
    "nextq_1(2,3)"
   ]
  },
  {
   "cell_type": "code",
   "execution_count": null,
   "id": "e924d0a4",
   "metadata": {},
   "outputs": [],
   "source": [
    "def is_even(a):\n",
    "    if a % 2 == 0:\n",
    "        return True\n",
    "    else:\n",
    "        return False"
   ]
  },
  {
   "cell_type": "code",
   "execution_count": null,
   "id": "60c7a9d0",
   "metadata": {},
   "outputs": [],
   "source": [
    "is_even(3)"
   ]
  },
  {
   "cell_type": "code",
   "execution_count": null,
   "id": "8ab79925",
   "metadata": {},
   "outputs": [],
   "source": [
    "def is_greater(a,b):\n",
    "    if a > b:\n",
    "        return True\n",
    "    else:\n",
    "        return False"
   ]
  },
  {
   "cell_type": "code",
   "execution_count": null,
   "id": "20cee401",
   "metadata": {},
   "outputs": [],
   "source": [
    "is_greater(1,2)"
   ]
  },
  {
   "cell_type": "code",
   "execution_count": null,
   "id": "62747045",
   "metadata": {},
   "outputs": [],
   "source": [
    "def myfunc(*args):\n",
    "    return sum(args)"
   ]
  },
  {
   "cell_type": "code",
   "execution_count": null,
   "id": "6d33bbb8",
   "metadata": {},
   "outputs": [],
   "source": [
    "myfunc(1,2,3,4,5,6)"
   ]
  },
  {
   "cell_type": "code",
   "execution_count": null,
   "id": "58d47d42",
   "metadata": {},
   "outputs": [],
   "source": [
    "def myfunc(*args):\n",
    "    \n",
    "    mylist = []\n",
    "    \n",
    "    for num in args:\n",
    "        if num  % 2 == 0:\n",
    "            mylist.append(num)\n",
    "    \n",
    "    return mylist"
   ]
  },
  {
   "cell_type": "code",
   "execution_count": null,
   "id": "0e3179ab",
   "metadata": {},
   "outputs": [],
   "source": [
    "myfunc(1,2,3,4,5,6,7,8,9,10)"
   ]
  },
  {
   "cell_type": "code",
   "execution_count": null,
   "id": "a01ad700",
   "metadata": {},
   "outputs": [],
   "source": [
    "mylist = [1,2,3,4,5,6,7,8,9,10]\n",
    "even_list = []\n",
    "\n",
    "for num in mylist:\n",
    "    if num % 2 == 0:\n",
    "        even_list.append(num)\n",
    "print(even_list)"
   ]
  },
  {
   "cell_type": "code",
   "execution_count": null,
   "id": "7c77e459",
   "metadata": {},
   "outputs": [],
   "source": [
    "def myfunc(a):\n",
    "    if a % 2 == 0:\n",
    "        return [a]\n",
    "    else:\n",
    "        return ('ODD')"
   ]
  },
  {
   "cell_type": "code",
   "execution_count": null,
   "id": "41f55248",
   "metadata": {},
   "outputs": [],
   "source": [
    "myfunc(2)"
   ]
  },
  {
   "cell_type": "code",
   "execution_count": null,
   "id": "4b9ad749",
   "metadata": {},
   "outputs": [],
   "source": [
    "def myfunc():\n",
    "    num = 0\n",
    "    args = []\n",
    "    \n",
    "    while True:\n",
    "        num = int(input(\"Add number: \"))\n",
    "        if num == 0:\n",
    "            break\n",
    "        else:\n",
    "            args.append(num)\n",
    "    return sum(args)"
   ]
  }
 ],
 "metadata": {
  "kernelspec": {
   "display_name": "Python 3 (ipykernel)",
   "language": "python",
   "name": "python3"
  },
  "language_info": {
   "codemirror_mode": {
    "name": "ipython",
    "version": 3
   },
   "file_extension": ".py",
   "mimetype": "text/x-python",
   "name": "python",
   "nbconvert_exporter": "python",
   "pygments_lexer": "ipython3",
   "version": "3.9.13"
  }
 },
 "nbformat": 4,
 "nbformat_minor": 5
}
