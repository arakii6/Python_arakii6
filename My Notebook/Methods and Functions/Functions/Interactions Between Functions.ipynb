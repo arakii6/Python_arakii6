{
 "cells": [
  {
   "cell_type": "code",
   "execution_count": 1,
   "id": "bfd7153c",
   "metadata": {},
   "outputs": [],
   "source": [
    "#Three Cup Monte\n",
    "\n",
    "from random import shuffle\n",
    "\n",
    "mylist = [' ','O',' '] #Create a List"
   ]
  },
  {
   "cell_type": "code",
   "execution_count": 2,
   "id": "d851bda1",
   "metadata": {},
   "outputs": [],
   "source": [
    "shuffle(mylist) #Shuffle the list"
   ]
  },
  {
   "cell_type": "code",
   "execution_count": 3,
   "id": "f1b46963",
   "metadata": {},
   "outputs": [
    {
     "data": {
      "text/plain": [
       "['O', ' ', ' ']"
      ]
     },
     "execution_count": 3,
     "metadata": {},
     "output_type": "execute_result"
    }
   ],
   "source": [
    "mylist #Check the shuffled list"
   ]
  },
  {
   "cell_type": "code",
   "execution_count": 4,
   "id": "5183bcf0",
   "metadata": {},
   "outputs": [],
   "source": [
    "#Funtion to Shuffle List\n",
    "\n",
    "def shuff_list(mylist):\n",
    "    shuffle(mylist)\n",
    "    return mylist"
   ]
  },
  {
   "cell_type": "code",
   "execution_count": 5,
   "id": "8b3b2cc5",
   "metadata": {},
   "outputs": [
    {
     "data": {
      "text/plain": [
       "[' ', ' ', 'O']"
      ]
     },
     "execution_count": 5,
     "metadata": {},
     "output_type": "execute_result"
    }
   ],
   "source": [
    "#Check Output\n",
    "shuff_list(mylist)"
   ]
  },
  {
   "cell_type": "markdown",
   "id": "3ee23f1e",
   "metadata": {},
   "source": [
    "# Function to take Player Guess as input\n",
    "\n",
    "Explanation:\n",
    "\n",
    "1. First we assign an Empty String to the variable guess.\n",
    "\n",
    "2. Then we use while loop to check if guess is not equal to 0,1,2.\n",
    "    \n",
    "    Condition 1: If guess is equal to 0,1,2 we come out of the while loop \n",
    "    and return the value of guess as an integer.\n",
    "    \n",
    "    Example 1: We execute player_guess() and we input 1, now guess = '' (default value) \n",
    "           has become guess = '1' (the value we provided as an input)\n",
    "           \n",
    "           The code executes inside player_guess() as follows -\n",
    "           \n",
    "           guess = '1'\n",
    "    \n",
    "           while guess not in ['0','1','2']: #It checks guess ='1' here and condition don't match\n",
    "               guess = input('Pick a number between 0,1,2: ')\n",
    "    \n",
    "           return int(guess) #So it breaks out of while loop and returns guess\n",
    "    \n",
    "    \n",
    "    \n",
    "    Condition 2: If guess isn't equal to 0,1,2, we exexute the input function inside the while loop\n",
    "    and ask the user for an input. This will keep on happening till the conditions match.\n",
    "    \n",
    "    Example 2: We execute player_guess() and we input 5, now guess = '' (default value) \n",
    "           has become guess = '5' (the value we provided as an input)\n",
    "           \n",
    "           The code executes inside player_guess() as follows -\n",
    "           \n",
    "           guess = '5'\n",
    "    \n",
    "           while guess not in ['0','1','2']: #It checks guess ='5' here and condition match\n",
    "               guess = input('Pick a number between 0,1,2: ') #So it asks for input again\n",
    "    \n",
    "           return int(guess)\n",
    "\n",
    "3. Since Guess has an empty string initialy, the while loop is executed, meaning\n",
    "   '' is not in ['0','1','2'].\n",
    "\n",
    "4. That's why, as soon as we run the function player_guess() it ask for user input by default\n",
    "   and as per our input the function player_guess() will execute or break-out of the while loop \n",
    "   as shown in the examples above."
   ]
  },
  {
   "cell_type": "code",
   "execution_count": 6,
   "id": "d57dca85",
   "metadata": {},
   "outputs": [],
   "source": [
    "#Code:\n",
    "\n",
    "def player_guess():\n",
    "    \n",
    "    guess = ''\n",
    "    \n",
    "    while guess not in ['0','1','2']:\n",
    "        guess = input('Pick a number between 0,1,2: ')\n",
    "    \n",
    "    return int(guess)"
   ]
  },
  {
   "cell_type": "code",
   "execution_count": 7,
   "id": "c8c0a897",
   "metadata": {},
   "outputs": [
    {
     "name": "stdout",
     "output_type": "stream",
     "text": [
      "Pick a number between 0,1,2: 1\n"
     ]
    },
    {
     "data": {
      "text/plain": [
       "1"
      ]
     },
     "execution_count": 7,
     "metadata": {},
     "output_type": "execute_result"
    }
   ],
   "source": [
    "player_guess()"
   ]
  },
  {
   "cell_type": "markdown",
   "id": "3dc2781e",
   "metadata": {},
   "source": [
    "# Function to check player guess is right or wrong\n",
    "\n",
    "Explanation:\n",
    "\n",
    "1. Here we are going to check whether the player guess is correct or wrong\n",
    "   by checking if the index position of mylist returns the value 'O'\n",
    "   \n",
    "2. We are goin to build a if condition that will check \n",
    "   if mylist[guess] is equal to 'O'\n",
    "   \n",
    "3. As we remember that 'guess' here is the user input after we ran player_guess()\n",
    "\n",
    "4. So, the value provided for 'guess' will act as the index position for mylist\n",
    "\n",
    "Exaample: If guess is equal to 1 then mylist[guess] is mylist[1], that means we\n",
    "          are going to check the index position 1 in mylist and check if the value\n",
    "          matches with '0' for our result to be correct or wrong."
   ]
  },
  {
   "cell_type": "code",
   "execution_count": 8,
   "id": "52db124c",
   "metadata": {},
   "outputs": [],
   "source": [
    "#Code:\n",
    "\n",
    "def check_guess(mylist,guess):\n",
    "    if mylist[guess] == 'O':\n",
    "        print('You Won')\n",
    "    else:\n",
    "        print('You Lost')\n",
    "    return mylist"
   ]
  },
  {
   "cell_type": "code",
   "execution_count": 9,
   "id": "1ad7db89",
   "metadata": {},
   "outputs": [
    {
     "name": "stdout",
     "output_type": "stream",
     "text": [
      "Pick a number between 0,1,2: 2\n",
      "You Won\n"
     ]
    },
    {
     "data": {
      "text/plain": [
       "[' ', ' ', 'O']"
      ]
     },
     "execution_count": 9,
     "metadata": {},
     "output_type": "execute_result"
    }
   ],
   "source": [
    "#Create Game logic\n",
    "\n",
    "#Initial List\n",
    "mylist = [' ','O',' ']\n",
    "\n",
    "#Shuffle List\n",
    "shuffled_list  = shuff_list(mylist)\n",
    "\n",
    "#Player Guess\n",
    "guess = player_guess()\n",
    "\n",
    "#Check Right/Wrong\n",
    "check_guess(mylist,guess)"
   ]
  },
  {
   "cell_type": "code",
   "execution_count": 10,
   "id": "82102687",
   "metadata": {},
   "outputs": [
    {
     "data": {
      "text/plain": [
       "2514164304960"
      ]
     },
     "execution_count": 10,
     "metadata": {},
     "output_type": "execute_result"
    }
   ],
   "source": [
    "id(mylist)"
   ]
  },
  {
   "cell_type": "code",
   "execution_count": 11,
   "id": "f21e685e",
   "metadata": {},
   "outputs": [
    {
     "data": {
      "text/plain": [
       "2514164304960"
      ]
     },
     "execution_count": 11,
     "metadata": {},
     "output_type": "execute_result"
    }
   ],
   "source": [
    "id(shuffled_list)"
   ]
  },
  {
   "cell_type": "code",
   "execution_count": null,
   "id": "7c6c3e62",
   "metadata": {},
   "outputs": [],
   "source": []
  }
 ],
 "metadata": {
  "kernelspec": {
   "display_name": "Python 3 (ipykernel)",
   "language": "python",
   "name": "python3"
  },
  "language_info": {
   "codemirror_mode": {
    "name": "ipython",
    "version": 3
   },
   "file_extension": ".py",
   "mimetype": "text/x-python",
   "name": "python",
   "nbconvert_exporter": "python",
   "pygments_lexer": "ipython3",
   "version": "3.9.13"
  }
 },
 "nbformat": 4,
 "nbformat_minor": 5
}
