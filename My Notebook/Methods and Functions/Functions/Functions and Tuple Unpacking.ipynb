{
 "cells": [
  {
   "cell_type": "code",
   "execution_count": 1,
   "id": "97c8c491",
   "metadata": {},
   "outputs": [],
   "source": [
    "stock_prices = [('Apple',200),('Google',400),('MS',100)]"
   ]
  },
  {
   "cell_type": "code",
   "execution_count": 2,
   "id": "427ec065",
   "metadata": {},
   "outputs": [
    {
     "name": "stdout",
     "output_type": "stream",
     "text": [
      "('Apple', 200)\n",
      "('Google', 400)\n",
      "('MS', 100)\n"
     ]
    }
   ],
   "source": [
    "for item in stock_prices:\n",
    "    print(item)"
   ]
  },
  {
   "cell_type": "code",
   "execution_count": 3,
   "id": "1291f310",
   "metadata": {},
   "outputs": [
    {
     "name": "stdout",
     "output_type": "stream",
     "text": [
      "200\n",
      "400\n",
      "100\n"
     ]
    }
   ],
   "source": [
    "for stock,price in stock_prices:\n",
    "    print(price)"
   ]
  },
  {
   "cell_type": "code",
   "execution_count": 4,
   "id": "7db469b2",
   "metadata": {},
   "outputs": [
    {
     "name": "stdout",
     "output_type": "stream",
     "text": [
      "220.0\n",
      "440.0\n",
      "110.0\n"
     ]
    }
   ],
   "source": [
    "for stock,price in stock_prices:\n",
    "    print(price + (0.1*price))"
   ]
  },
  {
   "cell_type": "code",
   "execution_count": 28,
   "id": "fc0fa23e",
   "metadata": {},
   "outputs": [],
   "source": [
    "work_hours = [('Abby',160),('Billy',180),('Cassie',147)]"
   ]
  },
  {
   "cell_type": "code",
   "execution_count": 29,
   "id": "9ffd9520",
   "metadata": {},
   "outputs": [],
   "source": [
    "#Find employee of the month = most work hours\n",
    "\n",
    "def emp_check(work_hours):\n",
    "    \n",
    "    hour_to_beat = 0\n",
    "    e_of_month = ''\n",
    "    \n",
    "    for emp,hours in work_hours:\n",
    "        \n",
    "        if hours > hour_to_beat:\n",
    "            hour_to_beat = hours\n",
    "            e_of_month = emp\n",
    "        \n",
    "        else:\n",
    "            pass\n",
    "    \n",
    "    return(e_of_month,hour_to_beat)"
   ]
  },
  {
   "cell_type": "code",
   "execution_count": 30,
   "id": "59abbe2a",
   "metadata": {},
   "outputs": [
    {
     "data": {
      "text/plain": [
       "('Billy', 180)"
      ]
     },
     "execution_count": 30,
     "metadata": {},
     "output_type": "execute_result"
    }
   ],
   "source": [
    "emp_check(work_hours)"
   ]
  },
  {
   "cell_type": "code",
   "execution_count": 31,
   "id": "ccef131b",
   "metadata": {},
   "outputs": [],
   "source": [
    "result = emp_check(work_hours)"
   ]
  },
  {
   "cell_type": "code",
   "execution_count": 32,
   "id": "78fef124",
   "metadata": {},
   "outputs": [
    {
     "data": {
      "text/plain": [
       "('Billy', 180)"
      ]
     },
     "execution_count": 32,
     "metadata": {},
     "output_type": "execute_result"
    }
   ],
   "source": [
    "result"
   ]
  },
  {
   "cell_type": "code",
   "execution_count": 33,
   "id": "78a824bc",
   "metadata": {},
   "outputs": [],
   "source": [
    "employee,total_hours = emp_check(work_hours)"
   ]
  },
  {
   "cell_type": "code",
   "execution_count": 34,
   "id": "283c9dc7",
   "metadata": {},
   "outputs": [
    {
     "data": {
      "text/plain": [
       "'Billy'"
      ]
     },
     "execution_count": 34,
     "metadata": {},
     "output_type": "execute_result"
    }
   ],
   "source": [
    "employee"
   ]
  },
  {
   "cell_type": "code",
   "execution_count": 35,
   "id": "e401a599",
   "metadata": {},
   "outputs": [
    {
     "data": {
      "text/plain": [
       "180"
      ]
     },
     "execution_count": 35,
     "metadata": {},
     "output_type": "execute_result"
    }
   ],
   "source": [
    "total_hours"
   ]
  },
  {
   "cell_type": "code",
   "execution_count": null,
   "id": "9b324822",
   "metadata": {},
   "outputs": [],
   "source": []
  }
 ],
 "metadata": {
  "kernelspec": {
   "display_name": "Python 3 (ipykernel)",
   "language": "python",
   "name": "python3"
  },
  "language_info": {
   "codemirror_mode": {
    "name": "ipython",
    "version": 3
   },
   "file_extension": ".py",
   "mimetype": "text/x-python",
   "name": "python",
   "nbconvert_exporter": "python",
   "pygments_lexer": "ipython3",
   "version": "3.9.13"
  }
 },
 "nbformat": 4,
 "nbformat_minor": 5
}
