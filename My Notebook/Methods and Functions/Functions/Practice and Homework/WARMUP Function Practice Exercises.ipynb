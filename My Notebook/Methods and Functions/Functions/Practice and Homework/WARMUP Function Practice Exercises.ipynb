{
 "cells": [
  {
   "cell_type": "markdown",
   "id": "e5e35bd5",
   "metadata": {},
   "source": [
    "### 1. LESSER OF TWO EVENS: \n",
    "\n",
    "#### Write a function that returns the lesser of two given numbers *if* both numbers are even, but returns the greater if one or both numbers are odd\n",
    "\n",
    "lesser_of_two_evens(2,4) --> 2\n",
    "\n",
    "lesser_of_two_evens(2,5) --> 5"
   ]
  },
  {
   "cell_type": "markdown",
   "id": "19c802e6",
   "metadata": {},
   "source": [
    "#### Explanation:\n",
    "\n",
    "#### Even\n",
    "1. If here a = 2 and b = 4, then a%2 and b%2 both are equal to 0. This meets the condition that both are even.\n",
    "\n",
    "2. Now a nested if statment will help to find lesser of two given numbers. Check a < b, so 2 < 4 then return a and output is 2.\n",
    "\n",
    "3. Else return b, here b will be the output when b < a\n",
    "\n",
    "#### Odd\n",
    "1. If here a = 2 and b = 5, then a%2 and b%2 both are not equal to 0. This meets the condition that one or both are odd.\n",
    "\n",
    "2. Now a nested if statment will help to find greater of two given numbers. Check a > b, so 2 > 5 then return a. Here we can't return a as output since a is not greater than b.\n",
    "\n",
    "3. Else return b, here b will be returned instead and output will be 5."
   ]
  },
  {
   "cell_type": "code",
   "execution_count": 1,
   "id": "91cf2333",
   "metadata": {},
   "outputs": [],
   "source": [
    "def lesser_of_two_evens(a,b):\n",
    "    \n",
    "    # If statement to check if both a,b are Even\n",
    "    if a % 2 == 0 and b % 2 == 0:\n",
    "        \n",
    "        # Nested If statement to find lesser of two given numbers\n",
    "        if a < b:\n",
    "            return a\n",
    "        else:\n",
    "            return b\n",
    "        \n",
    "      \n",
    "    # If statement to check if either a or b is Odd\n",
    "    elif a % 2 != 0 or b % 2 != 0:\n",
    "        \n",
    "        # Nested If statement to find greater of two given numbers\n",
    "        if a > b:\n",
    "            return a\n",
    "        else:\n",
    "            return b"
   ]
  },
  {
   "cell_type": "code",
   "execution_count": 2,
   "id": "361faf3f",
   "metadata": {},
   "outputs": [
    {
     "data": {
      "text/plain": [
       "2"
      ]
     },
     "execution_count": 2,
     "metadata": {},
     "output_type": "execute_result"
    }
   ],
   "source": [
    "lesser_of_two_evens(2,4)"
   ]
  },
  {
   "cell_type": "code",
   "execution_count": 3,
   "id": "b6b2baf3",
   "metadata": {},
   "outputs": [
    {
     "data": {
      "text/plain": [
       "5"
      ]
     },
     "execution_count": 3,
     "metadata": {},
     "output_type": "execute_result"
    }
   ],
   "source": [
    "lesser_of_two_evens(2,5)"
   ]
  },
  {
   "cell_type": "markdown",
   "id": "f1d8fc25",
   "metadata": {},
   "source": [
    "#### After understanding the solution, I noticed the first if statement takes care of the entire even and odd condition."
   ]
  },
  {
   "cell_type": "code",
   "execution_count": 4,
   "id": "c7c2ff2d",
   "metadata": {},
   "outputs": [],
   "source": [
    "def lesser_of_two_evens(a,b):\n",
    "    \n",
    "    # If statement to check if both a,b are Even\n",
    "    if a % 2 == 0 and b % 2 == 0:\n",
    "        \n",
    "        # Nested If statement to find lesser of two given numbers\n",
    "        if a < b:\n",
    "            return a\n",
    "        else:\n",
    "            return b\n",
    "        \n",
    "      \n",
    "    # Else a or b or both are odd\n",
    "    else:\n",
    "        \n",
    "        # Nested If statement to find greater of two given numbers\n",
    "        if a > b:\n",
    "            return a\n",
    "        else:\n",
    "            return b"
   ]
  },
  {
   "cell_type": "code",
   "execution_count": 5,
   "id": "5c8613fc",
   "metadata": {},
   "outputs": [
    {
     "data": {
      "text/plain": [
       "2"
      ]
     },
     "execution_count": 5,
     "metadata": {},
     "output_type": "execute_result"
    }
   ],
   "source": [
    "lesser_of_two_evens(2,4)"
   ]
  },
  {
   "cell_type": "code",
   "execution_count": 6,
   "id": "1c5d74b6",
   "metadata": {},
   "outputs": [
    {
     "data": {
      "text/plain": [
       "5"
      ]
     },
     "execution_count": 6,
     "metadata": {},
     "output_type": "execute_result"
    }
   ],
   "source": [
    "lesser_of_two_evens(2,5)"
   ]
  },
  {
   "cell_type": "markdown",
   "id": "16dd6477",
   "metadata": {},
   "source": [
    "#### Using the min() and max() to shorten the code even more"
   ]
  },
  {
   "cell_type": "code",
   "execution_count": 7,
   "id": "e41ee6c0",
   "metadata": {},
   "outputs": [],
   "source": [
    "def lesser_of_two_evens(a,b):\n",
    "    \n",
    "    # If statement to check if both a,b are Even\n",
    "    if a % 2 == 0 and b % 2 == 0:\n",
    "        return min(a,b)\n",
    "        \n",
    "      \n",
    "    # Else a or b or both are odd\n",
    "    else:\n",
    "        return max(a,b)"
   ]
  },
  {
   "cell_type": "code",
   "execution_count": 8,
   "id": "2088d610",
   "metadata": {},
   "outputs": [
    {
     "data": {
      "text/plain": [
       "2"
      ]
     },
     "execution_count": 8,
     "metadata": {},
     "output_type": "execute_result"
    }
   ],
   "source": [
    "lesser_of_two_evens(2,4)"
   ]
  },
  {
   "cell_type": "code",
   "execution_count": 9,
   "id": "c747f64e",
   "metadata": {},
   "outputs": [
    {
     "data": {
      "text/plain": [
       "5"
      ]
     },
     "execution_count": 9,
     "metadata": {},
     "output_type": "execute_result"
    }
   ],
   "source": [
    "lesser_of_two_evens(2,5)"
   ]
  },
  {
   "cell_type": "markdown",
   "id": "d67cc831",
   "metadata": {},
   "source": [
    "### 2. ANIMAL CRACKERS: \n",
    "\n",
    "#### Write a function takes a two-word string and returns True if both words begin with same letter\n",
    "\n",
    "animal_crackers('Levelheaded Llama') --> True\n",
    "\n",
    "animal_crackers('Crazy Kangaroo') --> False"
   ]
  },
  {
   "cell_type": "code",
   "execution_count": 10,
   "id": "c6b167c4",
   "metadata": {},
   "outputs": [],
   "source": [
    "def animal_crackers(mytext):\n",
    "    \n",
    "    x = mytext.split()\n",
    "    \n",
    "    if x[0][0] == x[1][0]:\n",
    "        return (True)\n",
    "    \n",
    "    else:\n",
    "        return (False)\n",
    "    "
   ]
  },
  {
   "cell_type": "code",
   "execution_count": 11,
   "id": "2eccc4e9",
   "metadata": {},
   "outputs": [
    {
     "data": {
      "text/plain": [
       "True"
      ]
     },
     "execution_count": 11,
     "metadata": {},
     "output_type": "execute_result"
    }
   ],
   "source": [
    "animal_crackers('Levelheaded Llama')"
   ]
  },
  {
   "cell_type": "code",
   "execution_count": 12,
   "id": "6bd85cfa",
   "metadata": {},
   "outputs": [
    {
     "data": {
      "text/plain": [
       "False"
      ]
     },
     "execution_count": 12,
     "metadata": {},
     "output_type": "execute_result"
    }
   ],
   "source": [
    "animal_crackers('Crazy Kangaroo')"
   ]
  },
  {
   "cell_type": "markdown",
   "id": "339c2a10",
   "metadata": {},
   "source": [
    "#### Shorter Version"
   ]
  },
  {
   "cell_type": "code",
   "execution_count": 13,
   "id": "53f471a1",
   "metadata": {},
   "outputs": [],
   "source": [
    "def animal_crackers(mytext):\n",
    "    \n",
    "    x = mytext.split()\n",
    "    \n",
    "    return x[0][0] == x[1][0]"
   ]
  },
  {
   "cell_type": "code",
   "execution_count": 14,
   "id": "fa2b1b5f",
   "metadata": {},
   "outputs": [
    {
     "data": {
      "text/plain": [
       "True"
      ]
     },
     "execution_count": 14,
     "metadata": {},
     "output_type": "execute_result"
    }
   ],
   "source": [
    "animal_crackers('Levelheaded Llama')"
   ]
  },
  {
   "cell_type": "code",
   "execution_count": 15,
   "id": "15685a30",
   "metadata": {},
   "outputs": [
    {
     "data": {
      "text/plain": [
       "False"
      ]
     },
     "execution_count": 15,
     "metadata": {},
     "output_type": "execute_result"
    }
   ],
   "source": [
    "animal_crackers('Crazy Kangaroo')"
   ]
  },
  {
   "cell_type": "code",
   "execution_count": 16,
   "id": "edab5cfe",
   "metadata": {},
   "outputs": [],
   "source": [
    "#Version to Check the same but incase of lettercase mismatch\n",
    "\n",
    "def animal_crackers(mytext):\n",
    "    \n",
    "    x = mytext.lower().split()\n",
    "    \n",
    "    return x[0][0] == x[1][0]"
   ]
  },
  {
   "cell_type": "code",
   "execution_count": 17,
   "id": "e8bd0d2c",
   "metadata": {},
   "outputs": [
    {
     "data": {
      "text/plain": [
       "True"
      ]
     },
     "execution_count": 17,
     "metadata": {},
     "output_type": "execute_result"
    }
   ],
   "source": [
    "animal_crackers('Levelheaded llama')"
   ]
  },
  {
   "cell_type": "code",
   "execution_count": 18,
   "id": "49e9a58f",
   "metadata": {},
   "outputs": [
    {
     "data": {
      "text/plain": [
       "True"
      ]
     },
     "execution_count": 18,
     "metadata": {},
     "output_type": "execute_result"
    }
   ],
   "source": [
    "animal_crackers('crazy Cat')"
   ]
  },
  {
   "cell_type": "markdown",
   "id": "a079c0fb",
   "metadata": {},
   "source": [
    "### 3. MAKES TWENTY: \n",
    "\n",
    "#### Given two integers, return True if the sum of the integers is 20 *or* if one of the integers is 20. If not, return False\n",
    "\n",
    "    makes_twenty(20,10) --> True\n",
    "    makes_twenty(12,8) --> True\n",
    "    makes_twenty(2,3) --> False"
   ]
  },
  {
   "cell_type": "code",
   "execution_count": 19,
   "id": "5ab46dc6",
   "metadata": {},
   "outputs": [],
   "source": [
    "def makes_twenty(n1,n2):\n",
    "    \n",
    "    if n1 == 20 or n2 == 20:\n",
    "        return True\n",
    "    \n",
    "    elif n1 + n2 == 20:\n",
    "        return True\n",
    "    \n",
    "    else:\n",
    "        return False"
   ]
  },
  {
   "cell_type": "code",
   "execution_count": 20,
   "id": "0beebcb6",
   "metadata": {},
   "outputs": [
    {
     "data": {
      "text/plain": [
       "True"
      ]
     },
     "execution_count": 20,
     "metadata": {},
     "output_type": "execute_result"
    }
   ],
   "source": [
    "makes_twenty(20,10)"
   ]
  },
  {
   "cell_type": "code",
   "execution_count": 21,
   "id": "ec6bb03a",
   "metadata": {},
   "outputs": [
    {
     "data": {
      "text/plain": [
       "True"
      ]
     },
     "execution_count": 21,
     "metadata": {},
     "output_type": "execute_result"
    }
   ],
   "source": [
    "makes_twenty(12,8)"
   ]
  },
  {
   "cell_type": "code",
   "execution_count": 22,
   "id": "14b45aab",
   "metadata": {},
   "outputs": [
    {
     "data": {
      "text/plain": [
       "False"
      ]
     },
     "execution_count": 22,
     "metadata": {},
     "output_type": "execute_result"
    }
   ],
   "source": [
    "makes_twenty(2,3)"
   ]
  },
  {
   "cell_type": "markdown",
   "id": "c9eade58",
   "metadata": {},
   "source": [
    "#### Shorter Version"
   ]
  },
  {
   "cell_type": "code",
   "execution_count": 23,
   "id": "94e9f4c2",
   "metadata": {},
   "outputs": [],
   "source": [
    "def makes_twenty(n1,n2):\n",
    "    \n",
    "    return n1 + n2 == 20 or n1 == 20 or n2 == 20"
   ]
  },
  {
   "cell_type": "code",
   "execution_count": 24,
   "id": "ed8f49aa",
   "metadata": {},
   "outputs": [
    {
     "data": {
      "text/plain": [
       "True"
      ]
     },
     "execution_count": 24,
     "metadata": {},
     "output_type": "execute_result"
    }
   ],
   "source": [
    "makes_twenty(20,10)"
   ]
  },
  {
   "cell_type": "code",
   "execution_count": 25,
   "id": "f0298698",
   "metadata": {},
   "outputs": [
    {
     "data": {
      "text/plain": [
       "True"
      ]
     },
     "execution_count": 25,
     "metadata": {},
     "output_type": "execute_result"
    }
   ],
   "source": [
    "makes_twenty(12,8)"
   ]
  },
  {
   "cell_type": "code",
   "execution_count": 26,
   "id": "1630a2f6",
   "metadata": {},
   "outputs": [
    {
     "data": {
      "text/plain": [
       "False"
      ]
     },
     "execution_count": 26,
     "metadata": {},
     "output_type": "execute_result"
    }
   ],
   "source": [
    "makes_twenty(2,3)"
   ]
  }
 ],
 "metadata": {
  "kernelspec": {
   "display_name": "Python 3 (ipykernel)",
   "language": "python",
   "name": "python3"
  },
  "language_info": {
   "codemirror_mode": {
    "name": "ipython",
    "version": 3
   },
   "file_extension": ".py",
   "mimetype": "text/x-python",
   "name": "python",
   "nbconvert_exporter": "python",
   "pygments_lexer": "ipython3",
   "version": "3.9.13"
  }
 },
 "nbformat": 4,
 "nbformat_minor": 5
}
