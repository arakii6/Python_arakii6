{
 "cells": [
  {
   "cell_type": "markdown",
   "id": "e5078c46",
   "metadata": {},
   "source": [
    "### 1. OLD MACDONALD: \n",
    "\n",
    "#### Write a function that capitalizes the first and fourth letters of a name\n",
    "\n",
    "old_macdonald('macdonald') --> MacDonald\n",
    "\n",
    "Note: 'macdonald'.capitalize() returns 'Macdonald'"
   ]
  },
  {
   "cell_type": "code",
   "execution_count": 15,
   "id": "224c3efc",
   "metadata": {},
   "outputs": [],
   "source": [
    "# Wrong Output\n",
    "\n",
    "def old_macdonald(name):\n",
    "    \n",
    "    x = ([*name])\n",
    "    print (x)\n",
    "    \n",
    "    for i in x:\n",
    "        x[0] = i.upper()\n",
    "        x[3] = i.upper()\n",
    "        \n",
    "    return ''.join(x)"
   ]
  },
  {
   "cell_type": "code",
   "execution_count": 16,
   "id": "6207bd32",
   "metadata": {},
   "outputs": [
    {
     "name": "stdout",
     "output_type": "stream",
     "text": [
      "['m', 'a', 'c', 'd', 'o', 'n', 'a', 'l', 'd']\n"
     ]
    },
    {
     "data": {
      "text/plain": [
       "'DacDonald'"
      ]
     },
     "execution_count": 16,
     "metadata": {},
     "output_type": "execute_result"
    }
   ],
   "source": [
    "old_macdonald('macdonald')"
   ]
  },
  {
   "cell_type": "markdown",
   "id": "9b453a96",
   "metadata": {},
   "source": [
    "#### Solution Using Indexing Slicing and Concatenation"
   ]
  },
  {
   "cell_type": "code",
   "execution_count": 22,
   "id": "5deb0f68",
   "metadata": {},
   "outputs": [],
   "source": [
    "#.upper()\n",
    "\n",
    "def old_macdonald(name):\n",
    "    \n",
    "    first_l = name[0]\n",
    "    fourth_l = name[3]\n",
    "    middle_l = name[1:3]\n",
    "    rest_l = name [4:]\n",
    "    \n",
    "    return first_l.upper() + middle_l + fourth_l.upper() + rest_l"
   ]
  },
  {
   "cell_type": "code",
   "execution_count": 23,
   "id": "1598f72e",
   "metadata": {},
   "outputs": [
    {
     "data": {
      "text/plain": [
       "'MacDonald'"
      ]
     },
     "execution_count": 23,
     "metadata": {},
     "output_type": "execute_result"
    }
   ],
   "source": [
    "old_macdonald('macdonald')"
   ]
  },
  {
   "cell_type": "code",
   "execution_count": 28,
   "id": "3d89a621",
   "metadata": {},
   "outputs": [],
   "source": [
    "#.capitalize()\n",
    "\n",
    "def old_macdonald(name):\n",
    "    \n",
    "    first_p = name[:3]\n",
    "    sencond_p = name[3:]\n",
    "    \n",
    "    return first_p.capitalize() + sencond_p.capitalize()"
   ]
  },
  {
   "cell_type": "code",
   "execution_count": 29,
   "id": "a7397e85",
   "metadata": {},
   "outputs": [
    {
     "data": {
      "text/plain": [
       "'MacDonald'"
      ]
     },
     "execution_count": 29,
     "metadata": {},
     "output_type": "execute_result"
    }
   ],
   "source": [
    "old_macdonald('macdonald')"
   ]
  },
  {
   "cell_type": "markdown",
   "id": "0aa09a60",
   "metadata": {},
   "source": [
    "### 2. MASTER YODA: \n",
    "\n",
    "#### Given a sentence, return a sentence with the words reversed\n",
    "\n",
    "    master_yoda('I am home') --> 'home am I'\n",
    "    master_yoda('We are ready') --> 'ready are We'\n",
    "    \n",
    "Note: The .join() method may be useful here. The .join() method allows you to join together strings in a list with some connector string. For example, some uses of the .join() method:\n",
    "\n",
    "    >>> \"--\".join(['a','b','c'])\n",
    "    >>> 'a--b--c'\n",
    "\n",
    "This means if you had a list of words you wanted to turn back into a sentence, you could just join them with a single space string:\n",
    "\n",
    "    >>> \" \".join(['Hello','world'])\n",
    "    >>> \"Hello world\""
   ]
  },
  {
   "cell_type": "code",
   "execution_count": 81,
   "id": "aa04a53b",
   "metadata": {},
   "outputs": [],
   "source": [
    "def master_yoda(text):\n",
    "    \n",
    "    mylist = []\n",
    "    x = text.split()[::-1]\n",
    "    \n",
    "    for word in x:\n",
    "        mylist.append(word)\n",
    "    \n",
    "    return ' '.join(mylist)"
   ]
  },
  {
   "cell_type": "code",
   "execution_count": 82,
   "id": "51467422",
   "metadata": {},
   "outputs": [
    {
     "data": {
      "text/plain": [
       "'home am I'"
      ]
     },
     "execution_count": 82,
     "metadata": {},
     "output_type": "execute_result"
    }
   ],
   "source": [
    "master_yoda('I am home')"
   ]
  },
  {
   "cell_type": "markdown",
   "id": "664624e1",
   "metadata": {},
   "source": [
    "#### Shorter Version"
   ]
  },
  {
   "cell_type": "code",
   "execution_count": 83,
   "id": "a79a5fc0",
   "metadata": {},
   "outputs": [],
   "source": [
    "def master_yoda(text):\n",
    "    \n",
    "    x = text.split()\n",
    "    y = x[::-1]\n",
    "    \n",
    "    return ' '.join(y)"
   ]
  },
  {
   "cell_type": "code",
   "execution_count": 84,
   "id": "c2ce0a68",
   "metadata": {},
   "outputs": [
    {
     "data": {
      "text/plain": [
       "'home am I'"
      ]
     },
     "execution_count": 84,
     "metadata": {},
     "output_type": "execute_result"
    }
   ],
   "source": [
    "master_yoda('I am home')"
   ]
  },
  {
   "cell_type": "code",
   "execution_count": 85,
   "id": "dd4390d1",
   "metadata": {},
   "outputs": [
    {
     "data": {
      "text/plain": [
       "'ready are We'"
      ]
     },
     "execution_count": 85,
     "metadata": {},
     "output_type": "execute_result"
    }
   ],
   "source": [
    "master_yoda('We are ready')"
   ]
  },
  {
   "cell_type": "markdown",
   "id": "51fbe9ba",
   "metadata": {},
   "source": [
    "### 3. ALMOST THERE: \n",
    "\n",
    "#### Given an integer n, return True if n is within 10 of either 100 or 200\n",
    "\n",
    "    almost_there(90) --> True\n",
    "    almost_there(104) --> True\n",
    "    almost_there(150) --> False\n",
    "    almost_there(209) --> True\n",
    "    \n",
    "NOTE: `abs(num)` returns the absolute value of a number"
   ]
  },
  {
   "cell_type": "code",
   "execution_count": 143,
   "id": "085a63de",
   "metadata": {},
   "outputs": [],
   "source": [
    "def almost_there(n):\n",
    "    \n",
    "    return abs(100-n) <= 10 or abs(200-n) <= 10"
   ]
  },
  {
   "cell_type": "code",
   "execution_count": 144,
   "id": "4377d0d6",
   "metadata": {},
   "outputs": [
    {
     "data": {
      "text/plain": [
       "True"
      ]
     },
     "execution_count": 144,
     "metadata": {},
     "output_type": "execute_result"
    }
   ],
   "source": [
    "almost_there(91)"
   ]
  },
  {
   "cell_type": "code",
   "execution_count": 145,
   "id": "4416cb2b",
   "metadata": {},
   "outputs": [
    {
     "data": {
      "text/plain": [
       "True"
      ]
     },
     "execution_count": 145,
     "metadata": {},
     "output_type": "execute_result"
    }
   ],
   "source": [
    "almost_there(104)"
   ]
  },
  {
   "cell_type": "code",
   "execution_count": 146,
   "id": "2561dde6",
   "metadata": {},
   "outputs": [
    {
     "data": {
      "text/plain": [
       "False"
      ]
     },
     "execution_count": 146,
     "metadata": {},
     "output_type": "execute_result"
    }
   ],
   "source": [
    "almost_there(150)"
   ]
  },
  {
   "cell_type": "code",
   "execution_count": 147,
   "id": "c2e1fdbf",
   "metadata": {},
   "outputs": [
    {
     "data": {
      "text/plain": [
       "True"
      ]
     },
     "execution_count": 147,
     "metadata": {},
     "output_type": "execute_result"
    }
   ],
   "source": [
    "almost_there(209)"
   ]
  }
 ],
 "metadata": {
  "kernelspec": {
   "display_name": "Python 3 (ipykernel)",
   "language": "python",
   "name": "python3"
  },
  "language_info": {
   "codemirror_mode": {
    "name": "ipython",
    "version": 3
   },
   "file_extension": ".py",
   "mimetype": "text/x-python",
   "name": "python",
   "nbconvert_exporter": "python",
   "pygments_lexer": "ipython3",
   "version": "3.9.13"
  }
 },
 "nbformat": 4,
 "nbformat_minor": 5
}
