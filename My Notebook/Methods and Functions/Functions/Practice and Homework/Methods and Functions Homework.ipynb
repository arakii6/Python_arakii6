{
 "cells": [
  {
   "cell_type": "markdown",
   "id": "92ad220c",
   "metadata": {},
   "source": [
    "### **1. Write a function that computes the volume of a sphere given its radius.**\n",
    "<p>The volume of a sphere is given as $$\\frac{4}{3} πr^3$$</p>"
   ]
  },
  {
   "cell_type": "code",
   "execution_count": 5,
   "id": "4e21dea1",
   "metadata": {},
   "outputs": [],
   "source": [
    "def vol(rad):\n",
    "    return (((4/3)*3.14)*rad*rad*rad)"
   ]
  },
  {
   "cell_type": "code",
   "execution_count": 6,
   "id": "f183d34b",
   "metadata": {},
   "outputs": [
    {
     "data": {
      "text/plain": [
       "33.49333333333333"
      ]
     },
     "execution_count": 6,
     "metadata": {},
     "output_type": "execute_result"
    }
   ],
   "source": [
    "vol(2)"
   ]
  },
  {
   "cell_type": "markdown",
   "id": "849e0e8d",
   "metadata": {},
   "source": [
    "#### Shorter Version"
   ]
  },
  {
   "cell_type": "code",
   "execution_count": 7,
   "id": "cfcdab94",
   "metadata": {},
   "outputs": [],
   "source": [
    "def vol(rad):\n",
    "    return (4/3)*(3.14)*(rad**3)"
   ]
  },
  {
   "cell_type": "code",
   "execution_count": 8,
   "id": "f1ebc17d",
   "metadata": {},
   "outputs": [
    {
     "data": {
      "text/plain": [
       "33.49333333333333"
      ]
     },
     "execution_count": 8,
     "metadata": {},
     "output_type": "execute_result"
    }
   ],
   "source": [
    "vol(2)"
   ]
  },
  {
   "cell_type": "markdown",
   "id": "99f17dba",
   "metadata": {},
   "source": [
    "#### Version using pi"
   ]
  },
  {
   "cell_type": "code",
   "execution_count": 9,
   "id": "e604f06d",
   "metadata": {},
   "outputs": [],
   "source": [
    "from math import pi\n",
    "\n",
    "def vol(rad):\n",
    "    return (4/3)*pi*(rad**3)"
   ]
  },
  {
   "cell_type": "code",
   "execution_count": 10,
   "id": "274b50cd",
   "metadata": {},
   "outputs": [
    {
     "data": {
      "text/plain": [
       "33.510321638291124"
      ]
     },
     "execution_count": 10,
     "metadata": {},
     "output_type": "execute_result"
    }
   ],
   "source": [
    "vol(2)"
   ]
  },
  {
   "cell_type": "markdown",
   "id": "888425d9",
   "metadata": {},
   "source": [
    "___\n",
    "### **2. Write a function that checks whether a number is in a given range (inclusive of high and low)**"
   ]
  },
  {
   "cell_type": "markdown",
   "id": "3bd357b1",
   "metadata": {},
   "source": [
    "#### Return String as Output"
   ]
  },
  {
   "cell_type": "code",
   "execution_count": 39,
   "id": "6e4152d7",
   "metadata": {},
   "outputs": [],
   "source": [
    "def ran_check(num,low,high):\n",
    "    \n",
    "    if num > low and num < high:\n",
    "        return (f'{num} is in the range between {low} and {high}')\n",
    "\n",
    "    else:\n",
    "        return (f'{num} is outside the range of {low} and {high}')"
   ]
  },
  {
   "cell_type": "code",
   "execution_count": 40,
   "id": "26b06ab5",
   "metadata": {},
   "outputs": [
    {
     "data": {
      "text/plain": [
       "'5 is in the range between 2 and 7'"
      ]
     },
     "execution_count": 40,
     "metadata": {},
     "output_type": "execute_result"
    }
   ],
   "source": [
    "ran_check(5,2,7)"
   ]
  },
  {
   "cell_type": "code",
   "execution_count": 34,
   "id": "f392a542",
   "metadata": {},
   "outputs": [
    {
     "data": {
      "text/plain": [
       "'10 is outside the range of 2 and 7'"
      ]
     },
     "execution_count": 34,
     "metadata": {},
     "output_type": "execute_result"
    }
   ],
   "source": [
    "ran_check(10,2,7)"
   ]
  },
  {
   "cell_type": "markdown",
   "id": "4b8b1a90",
   "metadata": {},
   "source": [
    "#### Return Boolean as Output"
   ]
  },
  {
   "cell_type": "code",
   "execution_count": 41,
   "id": "afe27ab0",
   "metadata": {},
   "outputs": [],
   "source": [
    "def ran_bool(num,low,high):\n",
    "    \n",
    "    return num > low and num < high"
   ]
  },
  {
   "cell_type": "code",
   "execution_count": 36,
   "id": "2a9293da",
   "metadata": {},
   "outputs": [
    {
     "data": {
      "text/plain": [
       "False"
      ]
     },
     "execution_count": 36,
     "metadata": {},
     "output_type": "execute_result"
    }
   ],
   "source": [
    "ran_bool(10,2,7)"
   ]
  },
  {
   "cell_type": "code",
   "execution_count": 37,
   "id": "00c1ff07",
   "metadata": {},
   "outputs": [
    {
     "data": {
      "text/plain": [
       "True"
      ]
     },
     "execution_count": 37,
     "metadata": {},
     "output_type": "execute_result"
    }
   ],
   "source": [
    "ran_bool(5,2,7)"
   ]
  },
  {
   "cell_type": "markdown",
   "id": "4313c45e",
   "metadata": {},
   "source": [
    "#### Using range()"
   ]
  },
  {
   "cell_type": "code",
   "execution_count": null,
   "id": "5aaea7b4",
   "metadata": {},
   "outputs": [],
   "source": [
    "def ran_check(num,low,high):\n",
    "    \n",
    "    if num in range(low,high+1):\n",
    "        return (f'{num} is in the range between {low} and {high}')\n",
    "\n",
    "    else:\n",
    "        return (f'{num} is outside the range of {low} and {high}')\n"
   ]
  },
  {
   "cell_type": "code",
   "execution_count": 45,
   "id": "fb571b14",
   "metadata": {},
   "outputs": [
    {
     "data": {
      "text/plain": [
       "'5 is in the range between 2 and 7'"
      ]
     },
     "execution_count": 45,
     "metadata": {},
     "output_type": "execute_result"
    }
   ],
   "source": [
    "ran_check(5,2,7)"
   ]
  },
  {
   "cell_type": "code",
   "execution_count": 46,
   "id": "10b1b474",
   "metadata": {},
   "outputs": [
    {
     "data": {
      "text/plain": [
       "'10 is outside the range of 2 and 7'"
      ]
     },
     "execution_count": 46,
     "metadata": {},
     "output_type": "execute_result"
    }
   ],
   "source": [
    "ran_check(10,2,7)"
   ]
  },
  {
   "cell_type": "markdown",
   "id": "8d201fec",
   "metadata": {},
   "source": [
    "#### Using range() for Boolean Output"
   ]
  },
  {
   "cell_type": "code",
   "execution_count": 48,
   "id": "99f1983e",
   "metadata": {},
   "outputs": [],
   "source": [
    "def ran_bool(num,low,high):\n",
    "    \n",
    "    return num in range(low,high+1)"
   ]
  },
  {
   "cell_type": "code",
   "execution_count": 49,
   "id": "ce11f4aa",
   "metadata": {},
   "outputs": [
    {
     "data": {
      "text/plain": [
       "True"
      ]
     },
     "execution_count": 49,
     "metadata": {},
     "output_type": "execute_result"
    }
   ],
   "source": [
    "ran_bool(5,2,7)"
   ]
  },
  {
   "cell_type": "code",
   "execution_count": 50,
   "id": "40fa3337",
   "metadata": {},
   "outputs": [
    {
     "data": {
      "text/plain": [
       "False"
      ]
     },
     "execution_count": 50,
     "metadata": {},
     "output_type": "execute_result"
    }
   ],
   "source": [
    "ran_bool(10,2,7)"
   ]
  },
  {
   "cell_type": "markdown",
   "id": "419894bf",
   "metadata": {},
   "source": [
    "____\n",
    "### **3. Write a Python function that accepts a string and calculates the number of upper case letters and lower case letters.**\n",
    "\n",
    "    Sample String : 'Hello Mr. Rogers, how are you this fine Tuesday?'\n",
    "    Expected Output : \n",
    "    No. of Upper case characters : 4\n",
    "    No. of Lower case Characters : 33\n",
    "\n",
    "HINT: Two string methods that might prove useful: **.isupper()** and **.islower()**\n",
    "\n",
    "If you feel ambitious, explore the Collections module to solve this problem!"
   ]
  },
  {
   "cell_type": "code",
   "execution_count": 102,
   "id": "7401c1dc",
   "metadata": {},
   "outputs": [],
   "source": [
    "def up_low(s):\n",
    "    \n",
    "    ucc = []\n",
    "    lcc = []\n",
    "\n",
    "\n",
    "    for i in s:\n",
    "        if i.isupper() == True:\n",
    "            ucc.append(i)\n",
    "        \n",
    "        elif i.islower() == True:\n",
    "            lcc.append(i)\n",
    "            \n",
    "        else:\n",
    "            pass\n",
    "        \n",
    "    print (f'Original String : {s}') \n",
    "    print (f'\\n No. of Upper case characters : {len(ucc)}')\n",
    "    print (f'\\n No. of Lower case characters : {len(lcc)}')"
   ]
  },
  {
   "cell_type": "code",
   "execution_count": 103,
   "id": "3149cc9d",
   "metadata": {},
   "outputs": [
    {
     "name": "stdout",
     "output_type": "stream",
     "text": [
      "Original String : Hello Mr. Rogers, how are you this fine Tuesday?\n",
      "\n",
      " No. of Upper case characters : 4\n",
      "\n",
      " No. of Lower case characters : 33\n"
     ]
    }
   ],
   "source": [
    "up_low(s)"
   ]
  },
  {
   "cell_type": "markdown",
   "id": "df4ded31",
   "metadata": {},
   "source": [
    "#### Shorter Version"
   ]
  },
  {
   "cell_type": "code",
   "execution_count": 104,
   "id": "6b9af1d5",
   "metadata": {},
   "outputs": [],
   "source": [
    "def up_low(s):\n",
    "    \n",
    "    ucc = 0\n",
    "    lcc = 0\n",
    "\n",
    "    for i in s:\n",
    "        \n",
    "        if i.isupper():\n",
    "            ucc += 1\n",
    "            \n",
    "        elif i.islower():\n",
    "            lcc += 1\n",
    "            \n",
    "        else:\n",
    "            pass\n",
    "            \n",
    "    print (f'Original String : {s}')        \n",
    "    print (f'\\n No. of Upper case characters : {ucc}')\n",
    "    print (f'\\n No. of Lower case characters : {lcc}')"
   ]
  },
  {
   "cell_type": "code",
   "execution_count": 105,
   "id": "3c0f5981",
   "metadata": {},
   "outputs": [
    {
     "name": "stdout",
     "output_type": "stream",
     "text": [
      "Original String : Hello Mr. Rogers, how are you this fine Tuesday?\n",
      "\n",
      " No. of Upper case characters : 4\n",
      "\n",
      " No. of Lower case characters : 33\n"
     ]
    }
   ],
   "source": [
    "up_low(s)"
   ]
  },
  {
   "cell_type": "markdown",
   "id": "d7069989",
   "metadata": {},
   "source": [
    "#### Using Dictionaries - Best Method"
   ]
  },
  {
   "cell_type": "code",
   "execution_count": 106,
   "id": "b6e3c84f",
   "metadata": {},
   "outputs": [],
   "source": [
    "def up_low(s):\n",
    "    \n",
    "    d = {'upper':0,'lower':0}\n",
    "\n",
    "    for i in s:\n",
    "        \n",
    "        if i.isupper():\n",
    "            d['upper'] += 1\n",
    "            \n",
    "        elif i.islower():\n",
    "            d['lower'] += 1\n",
    "            \n",
    "        else:\n",
    "            pass\n",
    "            \n",
    "    print (f'Original String : {s}')        \n",
    "    print (f'\\n No. of Upper case characters : {d[\"upper\"]}')\n",
    "    print (f'\\n No. of Lower case characters : {d[\"lower\"]}')"
   ]
  },
  {
   "cell_type": "code",
   "execution_count": 107,
   "id": "084595b8",
   "metadata": {},
   "outputs": [
    {
     "name": "stdout",
     "output_type": "stream",
     "text": [
      "Original String : Hello Mr. Rogers, how are you this fine Tuesday?\n",
      "\n",
      " No. of Upper case characters : 4\n",
      "\n",
      " No. of Lower case characters : 33\n"
     ]
    }
   ],
   "source": [
    "up_low(s)"
   ]
  },
  {
   "cell_type": "markdown",
   "id": "bafb0370",
   "metadata": {},
   "source": [
    "____\n",
    "### **4. Write a Python function that takes a list and returns a new list with unique elements of the first list.**\n",
    "\n",
    "    Sample List : [1,1,1,1,2,2,3,3,3,3,4,5]\n",
    "    Unique List : [1, 2, 3, 4, 5]"
   ]
  },
  {
   "cell_type": "code",
   "execution_count": 122,
   "id": "0e57f71d",
   "metadata": {},
   "outputs": [],
   "source": [
    "def unique_list(lst):\n",
    "    \n",
    "    return list(set(lst))"
   ]
  },
  {
   "cell_type": "code",
   "execution_count": 123,
   "id": "fa3607d7",
   "metadata": {},
   "outputs": [
    {
     "data": {
      "text/plain": [
       "[1, 2, 3, 4, 5]"
      ]
     },
     "execution_count": 123,
     "metadata": {},
     "output_type": "execute_result"
    }
   ],
   "source": [
    "unique_list([1,1,1,1,2,2,3,3,3,3,4,5])"
   ]
  },
  {
   "cell_type": "markdown",
   "id": "f289f7c1",
   "metadata": {},
   "source": [
    "#### Another way"
   ]
  },
  {
   "cell_type": "code",
   "execution_count": 126,
   "id": "c401d220",
   "metadata": {},
   "outputs": [],
   "source": [
    "def unique_list(lst):\n",
    "    \n",
    "    x = []\n",
    "    \n",
    "    for num in lst:\n",
    "        if num not in x:\n",
    "            x.append(num)\n",
    "        \n",
    "    return x"
   ]
  },
  {
   "cell_type": "code",
   "execution_count": 127,
   "id": "e707ffef",
   "metadata": {},
   "outputs": [
    {
     "data": {
      "text/plain": [
       "[1, 2, 3, 4, 5]"
      ]
     },
     "execution_count": 127,
     "metadata": {},
     "output_type": "execute_result"
    }
   ],
   "source": [
    "unique_list([1,1,1,1,2,2,3,3,3,3,4,5])"
   ]
  },
  {
   "cell_type": "markdown",
   "id": "5970857e",
   "metadata": {},
   "source": [
    "____\n",
    "### **5. Write a Python function to multiply all the numbers in a list.**\n",
    "\n",
    "    Sample List : [1, 2, 3, -4]\n",
    "    Expected Output : -24"
   ]
  },
  {
   "cell_type": "code",
   "execution_count": 154,
   "id": "4274f707",
   "metadata": {},
   "outputs": [],
   "source": [
    "def multiply(numbers):\n",
    "    \n",
    "    result = 1\n",
    "    \n",
    "    for x in numbers:\n",
    "        result = result * x\n",
    "        \n",
    "    return result\n",
    "        \n",
    "        "
   ]
  },
  {
   "cell_type": "code",
   "execution_count": 155,
   "id": "13207d2d",
   "metadata": {},
   "outputs": [
    {
     "data": {
      "text/plain": [
       "-24"
      ]
     },
     "execution_count": 155,
     "metadata": {},
     "output_type": "execute_result"
    }
   ],
   "source": [
    "multiply([1,2,3,-4])"
   ]
  },
  {
   "cell_type": "markdown",
   "id": "83f0c205",
   "metadata": {},
   "source": [
    "____\n",
    "### **6. Write a Python function that checks whether a word or phrase is palindrome or not.**\n",
    "\n",
    "Note: A palindrome is word, phrase, or sequence that reads the same backward as forward, e.g., madam,kayak,racecar, or a phrase \"nurses run\". Hint: You may want to check out the .replace() method in a string to help out with dealing with spaces. Also google search how to reverse a string in Python, there are some clever ways to do it with slicing notation."
   ]
  },
  {
   "cell_type": "code",
   "execution_count": 222,
   "id": "e1d6f294",
   "metadata": {},
   "outputs": [],
   "source": [
    "def palindrome(s):\n",
    "    \n",
    "    s = s.replace(\" \",\"\")\n",
    "    return s == s[::-1]"
   ]
  },
  {
   "cell_type": "code",
   "execution_count": 223,
   "id": "5157fce3",
   "metadata": {},
   "outputs": [
    {
     "data": {
      "text/plain": [
       "True"
      ]
     },
     "execution_count": 223,
     "metadata": {},
     "output_type": "execute_result"
    }
   ],
   "source": [
    "palindrome('helleh')"
   ]
  },
  {
   "cell_type": "code",
   "execution_count": 224,
   "id": "72ee9822",
   "metadata": {},
   "outputs": [
    {
     "data": {
      "text/plain": [
       "True"
      ]
     },
     "execution_count": 224,
     "metadata": {},
     "output_type": "execute_result"
    }
   ],
   "source": [
    "palindrome('madam')"
   ]
  },
  {
   "cell_type": "code",
   "execution_count": 225,
   "id": "42a4a695",
   "metadata": {},
   "outputs": [
    {
     "data": {
      "text/plain": [
       "True"
      ]
     },
     "execution_count": 225,
     "metadata": {},
     "output_type": "execute_result"
    }
   ],
   "source": [
    "palindrome('kayak')"
   ]
  },
  {
   "cell_type": "code",
   "execution_count": 226,
   "id": "38c67521",
   "metadata": {},
   "outputs": [
    {
     "data": {
      "text/plain": [
       "True"
      ]
     },
     "execution_count": 226,
     "metadata": {},
     "output_type": "execute_result"
    }
   ],
   "source": [
    "palindrome('racecar')"
   ]
  },
  {
   "cell_type": "code",
   "execution_count": 227,
   "id": "44fd699f",
   "metadata": {},
   "outputs": [
    {
     "data": {
      "text/plain": [
       "True"
      ]
     },
     "execution_count": 227,
     "metadata": {},
     "output_type": "execute_result"
    }
   ],
   "source": [
    "palindrome('nurses run')"
   ]
  },
  {
   "cell_type": "markdown",
   "id": "336d731a",
   "metadata": {},
   "source": [
    "____\n",
    "### **7. Write a Python function to check whether a string is pangram or not. (Assume the string passed in does not have any punctuation)**\n",
    "\n",
    "    Note : Pangrams are words or sentences containing every letter of the alphabet at least once.\n",
    "    For example : \"The quick brown fox jumps over the lazy dog\"\n",
    "\n",
    "Hint: You may want to use .replace() method to get rid of spaces.\n",
    "\n",
    "Hint: Look at the [string module](https://stackoverflow.com/questions/16060899/alphabet-range-in-python)\n",
    "\n",
    "Hint: In case you want to use [set comparisons](https://medium.com/better-programming/a-visual-guide-to-set-comparisons-in-python-6ab7edb9ec41)"
   ]
  },
  {
   "cell_type": "code",
   "execution_count": 263,
   "id": "f6141775",
   "metadata": {},
   "outputs": [],
   "source": [
    "import string\n",
    "\n",
    "def ispangram(str1, alphabet=string.ascii_lowercase):\n",
    "    \n",
    "    str1 = set(str1.replace(\" \",\"\").lower())\n",
    "    alphabet = set(alphabet)          \n",
    "               \n",
    "    return str1 == alphabet"
   ]
  },
  {
   "cell_type": "code",
   "execution_count": 264,
   "id": "ec25644f",
   "metadata": {},
   "outputs": [
    {
     "data": {
      "text/plain": [
       "True"
      ]
     },
     "execution_count": 264,
     "metadata": {},
     "output_type": "execute_result"
    }
   ],
   "source": [
    "ispangram(\"The quick brown fox jumps over the lazy dog\")"
   ]
  }
 ],
 "metadata": {
  "kernelspec": {
   "display_name": "Python 3 (ipykernel)",
   "language": "python",
   "name": "python3"
  },
  "language_info": {
   "codemirror_mode": {
    "name": "ipython",
    "version": 3
   },
   "file_extension": ".py",
   "mimetype": "text/x-python",
   "name": "python",
   "nbconvert_exporter": "python",
   "pygments_lexer": "ipython3",
   "version": "3.9.13"
  }
 },
 "nbformat": 4,
 "nbformat_minor": 5
}
