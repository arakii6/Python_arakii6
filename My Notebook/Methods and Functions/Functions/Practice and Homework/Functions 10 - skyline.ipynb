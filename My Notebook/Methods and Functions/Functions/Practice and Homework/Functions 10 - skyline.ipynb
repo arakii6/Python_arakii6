{
 "cells": [
  {
   "cell_type": "markdown",
   "id": "46c0a052",
   "metadata": {},
   "source": [
    "# Breaking down Functions 10: Skyline\n",
    "\n",
    "Define a function called myfunc that takes in a string, and returns a matching string where every even letter is uppercase, and every odd letter is lowercase. Assume that the incoming string only contains letters, and don't worry about numbers, spaces or punctuation. The output string can start with either an uppercase or lowercase letter, so long as letters alternate throughout the string.\n",
    "\n",
    "To give an idea what the function would look like when tested:\n",
    "\n",
    "myfunc('Anthropomorphism')\n",
    "Output: 'aNtHrOpOmOrPhIsM'\n",
    "\n",
    "\n",
    "# Explanation:\n",
    "\n",
    "def myfunc(x):\n",
    "    out = []\n",
    "    \n",
    "1. Let me understand why I will use the range(). I know that range() provides me the total range with a start and an end. For ex: (0, 10), which means the range starts from 0 uptill 10 but not including 10. Here the range will be 0,1,2,3,4,5,6,7,8,9.\n",
    "\n",
    "\n",
    "2. The len() gives us the length of a string. For ex: len('Akash'), the output will be 5.\n",
    "\n",
    "\n",
    "3. If we combine the range() and len(), we can get the range of a string. For ex: range(len('Akash')), the output will be (0,5). Which means it's 0,1,2,3,4 where 0 = A, 1 = k, 2 = a, 3 = s and 4 = h.\n",
    "\n",
    "\n",
    "4. Now the for loop, for i in range(len(x)). Here i will iterarte through the entire range of the len of x. For ex: if x = 'Akash' then the range(len('Akash')), will be (0,5) as shown earlier. Here i will iterate from 0 till 5, which means i will carry the value 0 then 1, then 2, then 3, and finally 4.\n",
    "\n",
    "\n",
    "5. Now with the if condition, i % 2 == 0, I am checking wether i is even or odd. When i carries the value 0, 0 % 2 == 0, here i is even. Similarly, I will test if i is even when it carries the value 1,2,3,4. So when i is 1,3 then i % 2 == 1, here i is odd and when i is 2,4 then i % 2 == 0, here i is even. \n",
    "\n",
    "\n",
    "6. So, when i % 2 == 0 and the value of i is even, out.append(x[i].lower()). Here x is 'Akash' and x[i] is x[0] = A, x[2] = a, x[4] = h. Then the letters A,a,h will be changed to lowercase and the letters a,h which are already in lowercase will remain the same. The output will be a,a,h.\n",
    "\n",
    "\n",
    "7. And, when i % 2 == 1 and the value of i is odd, out.append(x[i].upper()). Here x[i] is x[1] = k, x[3] = s. Then the letters k,s will be changed to uppercase, and the output will be K,S.\n",
    "\n",
    "\n",
    "8. Finally we will return ''.join(out). Here it will return the contents of out using the '' as a seperator and the join() which coverts the list into a string.\n",
    "\n",
    "\n",
    "# Most Important\n",
    "\n",
    "1. Although I have understood the solution of the problem understanding the logic is quite as important.\n",
    "\n",
    "2. Though the question asked to retun every even letter as uppercase and odd as lowercase, while using the if condition I wrote when i is even return lowercase and when i is odd return uppercase.\n",
    "\n",
    "3. This is because we used indexing on the string, which starts from 0 but in reality the user will count the first letter in the word from 1."
   ]
  },
  {
   "cell_type": "code",
   "execution_count": 1,
   "id": "8468402c",
   "metadata": {},
   "outputs": [],
   "source": [
    "#Code\n",
    "\n",
    "def myfunc(x):\n",
    "    out = []\n",
    "    for i in range(len(x)):\n",
    "        if i%2==0:\n",
    "            out.append(x[i].lower())\n",
    "        else:\n",
    "            out.append(x[i].upper())\n",
    "    return ''.join(out)"
   ]
  },
  {
   "cell_type": "code",
   "execution_count": 2,
   "id": "ce672435",
   "metadata": {},
   "outputs": [
    {
     "data": {
      "text/plain": [
       "'aKaSh'"
      ]
     },
     "execution_count": 2,
     "metadata": {},
     "output_type": "execute_result"
    }
   ],
   "source": [
    "myfunc('Akash')"
   ]
  },
  {
   "cell_type": "code",
   "execution_count": 3,
   "id": "47882b35",
   "metadata": {},
   "outputs": [
    {
     "data": {
      "text/plain": [
       "'aNtHrOpOmOrPhIsM'"
      ]
     },
     "execution_count": 3,
     "metadata": {},
     "output_type": "execute_result"
    }
   ],
   "source": [
    "myfunc('Anthropomorphism')"
   ]
  },
  {
   "cell_type": "code",
   "execution_count": null,
   "id": "57ae9a3c",
   "metadata": {},
   "outputs": [],
   "source": []
  }
 ],
 "metadata": {
  "kernelspec": {
   "display_name": "Python 3 (ipykernel)",
   "language": "python",
   "name": "python3"
  },
  "language_info": {
   "codemirror_mode": {
    "name": "ipython",
    "version": 3
   },
   "file_extension": ".py",
   "mimetype": "text/x-python",
   "name": "python",
   "nbconvert_exporter": "python",
   "pygments_lexer": "ipython3",
   "version": "3.9.13"
  }
 },
 "nbformat": 4,
 "nbformat_minor": 5
}
