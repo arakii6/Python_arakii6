{
 "cells": [
  {
   "cell_type": "markdown",
   "id": "4381d88b",
   "metadata": {},
   "source": [
    "#### **1. Write a function that computes the volume of a sphere given its radius.**\n",
    "<p>The volume of a sphere is given as $$\\frac{4}{3} πr^3$$</p>"
   ]
  },
  {
   "cell_type": "code",
   "execution_count": 5,
   "id": "969b09de",
   "metadata": {},
   "outputs": [],
   "source": [
    "def vol(rad):\n",
    "    return (((4/3)*3.14)*rad*rad*rad)"
   ]
  },
  {
   "cell_type": "code",
   "execution_count": 6,
   "id": "049a9fd8",
   "metadata": {},
   "outputs": [
    {
     "data": {
      "text/plain": [
       "33.49333333333333"
      ]
     },
     "execution_count": 6,
     "metadata": {},
     "output_type": "execute_result"
    }
   ],
   "source": [
    "vol(2)"
   ]
  },
  {
   "cell_type": "code",
   "execution_count": 7,
   "id": "dbc26c96",
   "metadata": {},
   "outputs": [],
   "source": [
    "#Shorter Version\n",
    "\n",
    "def vol(rad):\n",
    "    return (4/3)*(3.14)*(rad**3)"
   ]
  },
  {
   "cell_type": "code",
   "execution_count": 8,
   "id": "9f60eee4",
   "metadata": {},
   "outputs": [
    {
     "data": {
      "text/plain": [
       "33.49333333333333"
      ]
     },
     "execution_count": 8,
     "metadata": {},
     "output_type": "execute_result"
    }
   ],
   "source": [
    "vol(2)"
   ]
  },
  {
   "cell_type": "code",
   "execution_count": 9,
   "id": "b1cfa8d7",
   "metadata": {},
   "outputs": [],
   "source": [
    "#Version using pi\n",
    "\n",
    "from math import pi\n",
    "\n",
    "def vol(rad):\n",
    "    return (4/3)*pi*(rad**3)"
   ]
  },
  {
   "cell_type": "code",
   "execution_count": 10,
   "id": "06dc9088",
   "metadata": {},
   "outputs": [
    {
     "data": {
      "text/plain": [
       "33.510321638291124"
      ]
     },
     "execution_count": 10,
     "metadata": {},
     "output_type": "execute_result"
    }
   ],
   "source": [
    "vol(2)"
   ]
  },
  {
   "cell_type": "markdown",
   "id": "63aeb3dc",
   "metadata": {},
   "source": [
    "___\n",
    "**2. Write a function that checks whether a number is in a given range (inclusive of high and low)**"
   ]
  },
  {
   "cell_type": "code",
   "execution_count": 39,
   "id": "9524d5cb",
   "metadata": {},
   "outputs": [],
   "source": [
    "# Return String as Output\n",
    "\n",
    "def ran_check(num,low,high):\n",
    "    \n",
    "    if num > low and num < high:\n",
    "        return (f'{num} is in the range between {low} and {high}')\n",
    "\n",
    "    else:\n",
    "        return (f'{num} is outside the range of {low} and {high}')"
   ]
  },
  {
   "cell_type": "code",
   "execution_count": 40,
   "id": "fadc1368",
   "metadata": {},
   "outputs": [
    {
     "data": {
      "text/plain": [
       "'5 is in the range between 2 and 7'"
      ]
     },
     "execution_count": 40,
     "metadata": {},
     "output_type": "execute_result"
    }
   ],
   "source": [
    "ran_check(5,2,7)"
   ]
  },
  {
   "cell_type": "code",
   "execution_count": 34,
   "id": "cec510ce",
   "metadata": {},
   "outputs": [
    {
     "data": {
      "text/plain": [
       "'10 is outside the range of 2 and 7'"
      ]
     },
     "execution_count": 34,
     "metadata": {},
     "output_type": "execute_result"
    }
   ],
   "source": [
    "ran_check(10,2,7)"
   ]
  },
  {
   "cell_type": "code",
   "execution_count": 41,
   "id": "7832aabc",
   "metadata": {},
   "outputs": [],
   "source": [
    "# Return Boolean as Output\n",
    "\n",
    "def ran_check(num,low,high):\n",
    "    \n",
    "    return num > low and num < high"
   ]
  },
  {
   "cell_type": "code",
   "execution_count": 36,
   "id": "1f05489b",
   "metadata": {},
   "outputs": [
    {
     "data": {
      "text/plain": [
       "False"
      ]
     },
     "execution_count": 36,
     "metadata": {},
     "output_type": "execute_result"
    }
   ],
   "source": [
    "ran_check(10,2,7)"
   ]
  },
  {
   "cell_type": "code",
   "execution_count": 37,
   "id": "6722c276",
   "metadata": {},
   "outputs": [
    {
     "data": {
      "text/plain": [
       "True"
      ]
     },
     "execution_count": 37,
     "metadata": {},
     "output_type": "execute_result"
    }
   ],
   "source": [
    "ran_check(5,2,7)"
   ]
  },
  {
   "cell_type": "code",
   "execution_count": null,
   "id": "fb87ffec",
   "metadata": {},
   "outputs": [],
   "source": [
    "#Using range()\n",
    "\n",
    "def ran_check(num,low,high):\n",
    "    \n",
    "    if num in range(low,high+1):\n",
    "        return (f'{num} is in the range between {low} and {high}')\n",
    "\n",
    "    else:\n",
    "        return (f'{num} is outside the range of {low} and {high}')\n"
   ]
  },
  {
   "cell_type": "code",
   "execution_count": 42,
   "id": "585a5c4e",
   "metadata": {},
   "outputs": [],
   "source": []
  },
  {
   "cell_type": "code",
   "execution_count": null,
   "id": "18028a4a",
   "metadata": {},
   "outputs": [],
   "source": []
  },
  {
   "cell_type": "code",
   "execution_count": 45,
   "id": "1cbbde12",
   "metadata": {},
   "outputs": [
    {
     "data": {
      "text/plain": [
       "'5 is in the range between 2 and 7'"
      ]
     },
     "execution_count": 45,
     "metadata": {},
     "output_type": "execute_result"
    }
   ],
   "source": [
    "ran_check(5,2,7)"
   ]
  },
  {
   "cell_type": "code",
   "execution_count": null,
   "id": "95054c2c",
   "metadata": {},
   "outputs": [],
   "source": []
  }
 ],
 "metadata": {
  "kernelspec": {
   "display_name": "Python 3 (ipykernel)",
   "language": "python",
   "name": "python3"
  },
  "language_info": {
   "codemirror_mode": {
    "name": "ipython",
    "version": 3
   },
   "file_extension": ".py",
   "mimetype": "text/x-python",
   "name": "python",
   "nbconvert_exporter": "python",
   "pygments_lexer": "ipython3",
   "version": "3.9.13"
  }
 },
 "nbformat": 4,
 "nbformat_minor": 5
}
