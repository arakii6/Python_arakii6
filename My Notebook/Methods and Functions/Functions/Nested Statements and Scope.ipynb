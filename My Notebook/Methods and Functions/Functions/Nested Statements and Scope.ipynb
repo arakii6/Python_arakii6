{
 "cells": [
  {
   "cell_type": "markdown",
   "id": "ae34fd3d",
   "metadata": {},
   "source": [
    "### LEGB Rule:\n",
    "\n",
    "L - Local : Non-global names within a function (def or lambda)\n",
    "\n",
    "E - Enclosing function locals : names enclosed within functions\n",
    "\n",
    "G - GLobal : names defined outside functions at a top level or names inside a function that's has been declared global.\n",
    "\n",
    "B - Built-in(Python) : Pre-assigned names within Python like, range,str,list e.t.c"
   ]
  },
  {
   "cell_type": "code",
   "execution_count": null,
   "id": "82c3b420",
   "metadata": {},
   "outputs": [],
   "source": [
    "#Example of Local\n",
    "\n",
    "lambda num:num**2 # Here num is local to this lamdba expresiion"
   ]
  },
  {
   "cell_type": "code",
   "execution_count": 6,
   "id": "5b6d1a33",
   "metadata": {},
   "outputs": [],
   "source": [
    "#Example of Enclosing Function Local\n",
    "\n",
    "name = 'This is a global string' #Name is Global\n",
    "\n",
    "def greet():\n",
    "    name = 'Akash' #Name is Enclosing function local\n",
    "    \n",
    "    def hello():\n",
    "        print('Hello '+name) #Name is Local\n",
    "        \n",
    "    hello()"
   ]
  },
  {
   "cell_type": "code",
   "execution_count": 5,
   "id": "6e1ebdbb",
   "metadata": {},
   "outputs": [
    {
     "name": "stdout",
     "output_type": "stream",
     "text": [
      "Hello Akash\n"
     ]
    }
   ],
   "source": [
    "greet()"
   ]
  },
  {
   "cell_type": "code",
   "execution_count": 7,
   "id": "2a28ef7e",
   "metadata": {},
   "outputs": [],
   "source": [
    "name = 'This is a global string' #Name is Global\n",
    "\n",
    "def greet():\n",
    "    #name = 'Akash' #Name is Enclosing function local and is commented out\n",
    "    \n",
    "    def hello():\n",
    "        print('Hello '+name) #Name is Local\n",
    "        \n",
    "    hello()"
   ]
  },
  {
   "cell_type": "code",
   "execution_count": 10,
   "id": "70741ce9",
   "metadata": {},
   "outputs": [
    {
     "name": "stdout",
     "output_type": "stream",
     "text": [
      "Hello This is a global string\n"
     ]
    }
   ],
   "source": [
    "#Following the LEGB rule: \n",
    "#Name is not defined locally\n",
    "#And the name in Enclosing function local is commented out\n",
    "#So the name which is defined gloabl is called\n",
    "\n",
    "greet()"
   ]
  },
  {
   "cell_type": "code",
   "execution_count": 13,
   "id": "6d92f393",
   "metadata": {},
   "outputs": [],
   "source": [
    "#GlOBAL\n",
    "name = 'Global'\n",
    "\n",
    "def greet():\n",
    "    \n",
    "    #ENCLOSING\n",
    "    name = 'Enclosing'\n",
    "    \n",
    "    def hello():\n",
    "        \n",
    "        #LOCAL\n",
    "        name = 'Local'\n",
    "        print('I am '+name) #Name is Local\n",
    "        \n",
    "    hello()"
   ]
  },
  {
   "cell_type": "code",
   "execution_count": 14,
   "id": "39514649",
   "metadata": {},
   "outputs": [
    {
     "name": "stdout",
     "output_type": "stream",
     "text": [
      "I am Local\n"
     ]
    }
   ],
   "source": [
    "#Comment out L,E or G in the code to test out the output\n",
    "\n",
    "greet()"
   ]
  },
  {
   "cell_type": "code",
   "execution_count": 15,
   "id": "52037e6c",
   "metadata": {},
   "outputs": [
    {
     "name": "stdout",
     "output_type": "stream",
     "text": [
      "Help on built-in function len in module builtins:\n",
      "\n",
      "len(obj, /)\n",
      "    Return the number of items in a container.\n",
      "\n"
     ]
    }
   ],
   "source": [
    "#Built-In Function has green color\n",
    "\n",
    "help(len)"
   ]
  },
  {
   "cell_type": "code",
   "execution_count": 18,
   "id": "862d40e1",
   "metadata": {},
   "outputs": [],
   "source": [
    "#Exp:\n",
    "\n",
    "#Global\n",
    "x = 50\n",
    "\n",
    "def func(x):\n",
    "    print(f'X is {x}')\n",
    "    \n",
    "    #Local\n",
    "    x = 200\n",
    "    print(f'I locally changed X to {x}')"
   ]
  },
  {
   "cell_type": "code",
   "execution_count": 19,
   "id": "e6abbba3",
   "metadata": {},
   "outputs": [
    {
     "name": "stdout",
     "output_type": "stream",
     "text": [
      "X is 50\n",
      "I locally changed X to 200\n"
     ]
    }
   ],
   "source": [
    "func(x)"
   ]
  },
  {
   "cell_type": "code",
   "execution_count": 20,
   "id": "8aa9f37d",
   "metadata": {},
   "outputs": [
    {
     "name": "stdout",
     "output_type": "stream",
     "text": [
      "50\n"
     ]
    }
   ],
   "source": [
    "#local ressignment doesn't effect anything at a global level\n",
    "#Instead it will only work when used within the function\n",
    "\n",
    "print(x)"
   ]
  },
  {
   "cell_type": "code",
   "execution_count": 26,
   "id": "c2b0cf16",
   "metadata": {},
   "outputs": [],
   "source": [
    "#Exp: Like here in this code\n",
    "\n",
    "x = 50\n",
    "\n",
    "def func():\n",
    "    global x #x here is declared Global\n",
    "    print(f'X is {x}')\n",
    "    \n",
    "    #Local ressingment on a global variable\n",
    "    x = 'New Value'\n",
    "    print(f'I locally changed global X to {x}')"
   ]
  },
  {
   "cell_type": "code",
   "execution_count": 23,
   "id": "f6ac1a08",
   "metadata": {},
   "outputs": [
    {
     "name": "stdout",
     "output_type": "stream",
     "text": [
      "50\n"
     ]
    }
   ],
   "source": [
    "print(x)"
   ]
  },
  {
   "cell_type": "code",
   "execution_count": 24,
   "id": "e42dd178",
   "metadata": {},
   "outputs": [
    {
     "name": "stdout",
     "output_type": "stream",
     "text": [
      "X is 50\n",
      "I locally changed global X to New Value\n"
     ]
    }
   ],
   "source": [
    "func()"
   ]
  },
  {
   "cell_type": "code",
   "execution_count": 25,
   "id": "e76d422c",
   "metadata": {},
   "outputs": [
    {
     "name": "stdout",
     "output_type": "stream",
     "text": [
      "New Value\n"
     ]
    }
   ],
   "source": [
    "print(x)"
   ]
  },
  {
   "cell_type": "code",
   "execution_count": 27,
   "id": "9216dc3d",
   "metadata": {},
   "outputs": [],
   "source": [
    "#Exp: Another way\n",
    "\n",
    "#Global\n",
    "x = 50\n",
    "\n",
    "def func(x):\n",
    "    \n",
    "    print(f'X is {x}')\n",
    "    \n",
    "    #Local\n",
    "    x = 'New Value'\n",
    "    print(f'I locally changed global X to {x}')\n",
    "    return x"
   ]
  },
  {
   "cell_type": "code",
   "execution_count": 28,
   "id": "90865942",
   "metadata": {},
   "outputs": [
    {
     "name": "stdout",
     "output_type": "stream",
     "text": [
      "50\n"
     ]
    }
   ],
   "source": [
    "print(x)"
   ]
  },
  {
   "cell_type": "code",
   "execution_count": 29,
   "id": "e01c962c",
   "metadata": {},
   "outputs": [
    {
     "name": "stdout",
     "output_type": "stream",
     "text": [
      "X is 50\n",
      "I locally changed global X to New Value\n"
     ]
    }
   ],
   "source": [
    "x = func(x)"
   ]
  },
  {
   "cell_type": "code",
   "execution_count": 30,
   "id": "b5e8e0f6",
   "metadata": {},
   "outputs": [
    {
     "name": "stdout",
     "output_type": "stream",
     "text": [
      "New Value\n"
     ]
    }
   ],
   "source": [
    "print(x)"
   ]
  },
  {
   "cell_type": "code",
   "execution_count": null,
   "id": "c82ad3b3",
   "metadata": {},
   "outputs": [],
   "source": []
  }
 ],
 "metadata": {
  "kernelspec": {
   "display_name": "Python 3 (ipykernel)",
   "language": "python",
   "name": "python3"
  },
  "language_info": {
   "codemirror_mode": {
    "name": "ipython",
    "version": 3
   },
   "file_extension": ".py",
   "mimetype": "text/x-python",
   "name": "python",
   "nbconvert_exporter": "python",
   "pygments_lexer": "ipython3",
   "version": "3.9.13"
  }
 },
 "nbformat": 4,
 "nbformat_minor": 5
}
