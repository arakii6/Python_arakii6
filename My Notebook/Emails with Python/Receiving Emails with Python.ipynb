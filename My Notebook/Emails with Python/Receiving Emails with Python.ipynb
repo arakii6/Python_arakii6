{
 "cells": [
  {
   "cell_type": "markdown",
   "id": "87c375d1",
   "metadata": {},
   "source": [
    "#### Viewing Emails"
   ]
  },
  {
   "cell_type": "code",
   "execution_count": 1,
   "id": "901e53b2",
   "metadata": {},
   "outputs": [],
   "source": [
    "import imaplib"
   ]
  },
  {
   "cell_type": "code",
   "execution_count": 2,
   "id": "95790edd",
   "metadata": {},
   "outputs": [],
   "source": [
    "M = imaplib.IMAP4_SSL('imap.gmail.com')"
   ]
  },
  {
   "cell_type": "code",
   "execution_count": 4,
   "id": "de03d59b",
   "metadata": {},
   "outputs": [
    {
     "name": "stdout",
     "output_type": "stream",
     "text": [
      "Email: ········\n",
      "Password: ········\n"
     ]
    }
   ],
   "source": [
    "import getpass\n",
    "email = getpass.getpass('Email: ')\n",
    "password = getpass.getpass(\"Password: \")"
   ]
  },
  {
   "cell_type": "code",
   "execution_count": 5,
   "id": "24127c34",
   "metadata": {},
   "outputs": [
    {
     "data": {
      "text/plain": [
       "('OK', [b'arakii6@gmail.com authenticated (Success)'])"
      ]
     },
     "execution_count": 5,
     "metadata": {},
     "output_type": "execute_result"
    }
   ],
   "source": [
    "M.login(email,password)"
   ]
  },
  {
   "cell_type": "code",
   "execution_count": 6,
   "id": "9772b8eb",
   "metadata": {},
   "outputs": [
    {
     "data": {
      "text/plain": [
       "('OK',\n",
       " [b'(\\\\HasNoChildren) \"/\" \"Deleted Items\"',\n",
       "  b'(\\\\HasNoChildren) \"/\" \"INBOX\"',\n",
       "  b'(\\\\HasNoChildren) \"/\" \"Notes\"',\n",
       "  b'(\\\\HasNoChildren) \"/\" \"Personal\"',\n",
       "  b'(\\\\HasNoChildren) \"/\" \"Receipts\"',\n",
       "  b'(\\\\HasNoChildren) \"/\" \"Sent Items\"',\n",
       "  b'(\\\\HasChildren) \"/\" \"Work\"',\n",
       "  b'(\\\\HasNoChildren) \"/\" \"Work/Alex - Inonda\"',\n",
       "  b'(\\\\HasNoChildren) \"/\" \"Work/Ramesh - Softsuave\"',\n",
       "  b'(\\\\HasChildren \\\\Noselect) \"/\" \"[Gmail]\"',\n",
       "  b'(\\\\All \\\\HasNoChildren) \"/\" \"[Gmail]/All Mail\"',\n",
       "  b'(\\\\HasNoChildren \\\\Trash) \"/\" \"[Gmail]/Bin\"',\n",
       "  b'(\\\\Drafts \\\\HasNoChildren) \"/\" \"[Gmail]/Drafts\"',\n",
       "  b'(\\\\HasNoChildren \\\\Important) \"/\" \"[Gmail]/Important\"',\n",
       "  b'(\\\\HasNoChildren \\\\Sent) \"/\" \"[Gmail]/Sent Mail\"',\n",
       "  b'(\\\\HasNoChildren \\\\Junk) \"/\" \"[Gmail]/Spam\"',\n",
       "  b'(\\\\Flagged \\\\HasNoChildren) \"/\" \"[Gmail]/Starred\"'])"
      ]
     },
     "execution_count": 6,
     "metadata": {},
     "output_type": "execute_result"
    }
   ],
   "source": [
    "M.list()"
   ]
  },
  {
   "cell_type": "code",
   "execution_count": 7,
   "id": "0d1f80d6",
   "metadata": {},
   "outputs": [
    {
     "data": {
      "text/plain": [
       "('OK', [b'66'])"
      ]
     },
     "execution_count": 7,
     "metadata": {},
     "output_type": "execute_result"
    }
   ],
   "source": [
    "M.select('inbox')"
   ]
  },
  {
   "cell_type": "code",
   "execution_count": 8,
   "id": "48386e38",
   "metadata": {},
   "outputs": [],
   "source": [
    "# Tuple Unpacking\n",
    "\n",
    "typ, data = M.search(None,'SUBJECT \"Test Email from Python\"')"
   ]
  },
  {
   "cell_type": "code",
   "execution_count": 9,
   "id": "cdf651af",
   "metadata": {},
   "outputs": [
    {
     "data": {
      "text/plain": [
       "'OK'"
      ]
     },
     "execution_count": 9,
     "metadata": {},
     "output_type": "execute_result"
    }
   ],
   "source": [
    "typ"
   ]
  },
  {
   "cell_type": "code",
   "execution_count": 10,
   "id": "696868e0",
   "metadata": {},
   "outputs": [
    {
     "data": {
      "text/plain": [
       "[b'66']"
      ]
     },
     "execution_count": 10,
     "metadata": {},
     "output_type": "execute_result"
    }
   ],
   "source": [
    "data"
   ]
  },
  {
   "cell_type": "code",
   "execution_count": 11,
   "id": "40b16352",
   "metadata": {},
   "outputs": [
    {
     "data": {
      "text/plain": [
       "b'66'"
      ]
     },
     "execution_count": 11,
     "metadata": {},
     "output_type": "execute_result"
    }
   ],
   "source": [
    "data[0]"
   ]
  },
  {
   "cell_type": "code",
   "execution_count": 12,
   "id": "ee09dfa6",
   "metadata": {},
   "outputs": [],
   "source": [
    "email_id = data[0]"
   ]
  },
  {
   "cell_type": "code",
   "execution_count": 13,
   "id": "3be66654",
   "metadata": {},
   "outputs": [],
   "source": [
    "result, email_data = M.fetch(email_id,'(RFC822)')"
   ]
  },
  {
   "cell_type": "code",
   "execution_count": 14,
   "id": "1e4b8892",
   "metadata": {},
   "outputs": [
    {
     "data": {
      "text/plain": [
       "[(b'66 (RFC822 {587}',\n",
       "  b'Bcc: arakii6@gmail.com\\r\\nReturn-Path: <arakii6@gmail.com>\\r\\nReceived: from [192.168.29.27] ([2405:201:ac00:810e:2435:df93:4706:d7f5])\\r\\n        by smtp.gmail.com with ESMTPSA id v6-20020a1709028d8600b0019906c4c9dcsm7930684plo.98.2023.02.13.03.16.15\\r\\n        for <arakii6@gmail.com>\\r\\n        (version=TLS1_3 cipher=TLS_AES_256_GCM_SHA384 bits=256/256);\\r\\n        Mon, 13 Feb 2023 03:16:16 -0800 (PST)\\r\\nMessage-ID: <63ea1c00.170a0220.0b49.e1a6@mx.google.com>\\r\\nDate: Mon, 13 Feb 2023 03:16:16 -0800 (PST)\\r\\nFrom: arakii6@gmail.com\\r\\nSubject: Test Email from Python\\r\\n\\r\\nHopefully it was a success\\r\\n'),\n",
       " b')']"
      ]
     },
     "execution_count": 14,
     "metadata": {},
     "output_type": "execute_result"
    }
   ],
   "source": [
    "email_data"
   ]
  },
  {
   "cell_type": "code",
   "execution_count": 15,
   "id": "10ce4824",
   "metadata": {},
   "outputs": [],
   "source": [
    "raw_email = email_data[0][1]"
   ]
  },
  {
   "cell_type": "code",
   "execution_count": 16,
   "id": "66ab487a",
   "metadata": {},
   "outputs": [],
   "source": [
    "raw_email_string = raw_email.decode('utf-8')"
   ]
  },
  {
   "cell_type": "code",
   "execution_count": 17,
   "id": "6006c905",
   "metadata": {},
   "outputs": [],
   "source": [
    "import email"
   ]
  },
  {
   "cell_type": "code",
   "execution_count": 18,
   "id": "7d72a808",
   "metadata": {},
   "outputs": [],
   "source": [
    "email_message = email.message_from_string(raw_email_string)"
   ]
  },
  {
   "cell_type": "code",
   "execution_count": 20,
   "id": "978e3b15",
   "metadata": {},
   "outputs": [
    {
     "name": "stdout",
     "output_type": "stream",
     "text": [
      "b'Hopefully it was a success\\r\\n'\n"
     ]
    }
   ],
   "source": [
    "for part in email_message.walk():\n",
    "    \n",
    "    if part.get_content_type() == 'text/plain':\n",
    "        body = part.get_payload(decode = True)\n",
    "        print(body)"
   ]
  },
  {
   "cell_type": "code",
   "execution_count": null,
   "id": "780fb104",
   "metadata": {},
   "outputs": [],
   "source": []
  }
 ],
 "metadata": {
  "kernelspec": {
   "display_name": "Python 3 (ipykernel)",
   "language": "python",
   "name": "python3"
  },
  "language_info": {
   "codemirror_mode": {
    "name": "ipython",
    "version": 3
   },
   "file_extension": ".py",
   "mimetype": "text/x-python",
   "name": "python",
   "nbconvert_exporter": "python",
   "pygments_lexer": "ipython3",
   "version": "3.9.13"
  }
 },
 "nbformat": 4,
 "nbformat_minor": 5
}
