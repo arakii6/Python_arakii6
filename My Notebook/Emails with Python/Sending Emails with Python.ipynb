{
 "cells": [
  {
   "cell_type": "code",
   "execution_count": 1,
   "id": "dc9b93b8",
   "metadata": {},
   "outputs": [],
   "source": [
    "import smtplib"
   ]
  },
  {
   "cell_type": "code",
   "execution_count": 2,
   "id": "febf7eb1",
   "metadata": {},
   "outputs": [],
   "source": [
    "smtp_object = smtplib.SMTP('smtp.gmail.com',587)"
   ]
  },
  {
   "cell_type": "code",
   "execution_count": 3,
   "id": "4dc4430d",
   "metadata": {},
   "outputs": [
    {
     "data": {
      "text/plain": [
       "(250,\n",
       " b'smtp.gmail.com at your service, [2405:201:ac00:810e:2435:df93:4706:d7f5]\\nSIZE 35882577\\n8BITMIME\\nSTARTTLS\\nENHANCEDSTATUSCODES\\nPIPELINING\\nCHUNKING\\nSMTPUTF8')"
      ]
     },
     "execution_count": 3,
     "metadata": {},
     "output_type": "execute_result"
    }
   ],
   "source": [
    "smtp_object.ehlo()"
   ]
  },
  {
   "cell_type": "code",
   "execution_count": 4,
   "id": "985cd56f",
   "metadata": {},
   "outputs": [
    {
     "data": {
      "text/plain": [
       "(220, b'2.0.0 Ready to start TLS')"
      ]
     },
     "execution_count": 4,
     "metadata": {},
     "output_type": "execute_result"
    }
   ],
   "source": [
    "smtp_object.starttls()"
   ]
  },
  {
   "cell_type": "markdown",
   "id": "0e4789ed",
   "metadata": {},
   "source": [
    "------------\n",
    "#### Setup Email and Password"
   ]
  },
  {
   "cell_type": "code",
   "execution_count": 5,
   "id": "07e0b149",
   "metadata": {},
   "outputs": [
    {
     "name": "stdout",
     "output_type": "stream",
     "text": [
      "Email: ········\n",
      "Password: ········\n"
     ]
    },
    {
     "data": {
      "text/plain": [
       "(235, b'2.7.0 Accepted')"
      ]
     },
     "execution_count": 5,
     "metadata": {},
     "output_type": "execute_result"
    }
   ],
   "source": [
    "import getpass\n",
    "\n",
    "email = getpass.getpass('Email: ')\n",
    "password = getpass.getpass(\"Password: \")\n",
    "smtp_object.login(email,password)"
   ]
  },
  {
   "cell_type": "markdown",
   "id": "cf074338",
   "metadata": {},
   "source": [
    "------------\n",
    "#### Sending Email"
   ]
  },
  {
   "cell_type": "code",
   "execution_count": 6,
   "id": "7969f043",
   "metadata": {},
   "outputs": [
    {
     "name": "stdout",
     "output_type": "stream",
     "text": [
      "Subject: Test Email from Python\n",
      "Body: Hopefully it was a success\n"
     ]
    },
    {
     "data": {
      "text/plain": [
       "{}"
      ]
     },
     "execution_count": 6,
     "metadata": {},
     "output_type": "execute_result"
    }
   ],
   "source": [
    "# Sending an email to myself for test\n",
    "from_address = email\n",
    "to_address = email\n",
    "\n",
    "subject = input(\"Subject: \")\n",
    "body = input(\"Body: \")\n",
    "message = \"Subject: \" + subject + '\\n' + body\n",
    "\n",
    "smtp_object.sendmail(from_address,to_address,message)"
   ]
  },
  {
   "cell_type": "code",
   "execution_count": 7,
   "id": "f1a5076c",
   "metadata": {},
   "outputs": [
    {
     "data": {
      "text/plain": [
       "(221,\n",
       " b'2.0.0 closing connection v6-20020a1709028d8600b0019906c4c9dcsm7930684plo.98 - gsmtp')"
      ]
     },
     "execution_count": 7,
     "metadata": {},
     "output_type": "execute_result"
    }
   ],
   "source": [
    "smtp_object.quit()"
   ]
  },
  {
   "cell_type": "code",
   "execution_count": null,
   "id": "9dd0a4a0",
   "metadata": {},
   "outputs": [],
   "source": []
  }
 ],
 "metadata": {
  "kernelspec": {
   "display_name": "Python 3 (ipykernel)",
   "language": "python",
   "name": "python3"
  },
  "language_info": {
   "codemirror_mode": {
    "name": "ipython",
    "version": 3
   },
   "file_extension": ".py",
   "mimetype": "text/x-python",
   "name": "python",
   "nbconvert_exporter": "python",
   "pygments_lexer": "ipython3",
   "version": "3.9.13"
  }
 },
 "nbformat": 4,
 "nbformat_minor": 5
}
